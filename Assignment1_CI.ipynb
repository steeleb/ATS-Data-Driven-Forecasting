{
  "cells": [
    {
      "cell_type": "raw",
      "metadata": {},
      "source": [
        "---\n",
        "title: Assignment 1 Check In\n",
        "author: B Steele\n",
        "format: html\n",
        "editor: visual\n",
        "---"
      ],
      "id": "2deb4bff"
    },
    {
      "cell_type": "markdown",
      "metadata": {},
      "source": [
        "Progress:\n",
        "\n",
        "-   well-defined problem\n",
        "\n",
        "-   functional and reliable NN to predict tomorrow's temperature\n",
        "\n",
        "Challenges:\n",
        "\n",
        "-   \n",
        "\n",
        "## Scientific Motivation and Problem Statement\n",
        "\n",
        "Water temperature is often an indicator of water quality, as it governs much of the biological activity in freshwater systems. While temperature is an important parameter to monitor in freshwater lakes, manual monitoring of waterbodies (by physically visiting a site) and sensor network deployment to monitor water temperature, are costly endeavors. Northern Water, the municipal subdistrict that delivers drinking water to approximately 1 million people in northern Colorado and irrigation water for \\~600,000 acres of land, has had recurring issues with water clarity in Grand Lake, the deepest natural lake in Colorado. They believe that the clarity issues in Grand Lake are primarily due to algal and diatom growth in Shadow Mountain reservoir which are pushed into Grand when they initiate pumping operations. The regulatory period for clarity in Grand Lake is July 1 - September 11.\n",
        "\n",
        "Water in the Three Lakes System naturally flows from Grand into Shadow Mountain into Granby, but pumping operations reverse that by pumping cold water from Granby reservoir into Shadow Mountain and then into Grand and into the tunnel to serve the Front Range (Figure 1). Northern suspects there is a biological \"sweet spot\" for water temperature in Shadow Mountain Reservoir that may reduce algal and diatom growth and therefore mitigate clarity impacts during pumping operations.\n",
        "\n",
        "![Fig 1. Cartoon schematic of water flow in the Three Lakes System](images/Screenshot 2024-09-09 at 4.39.00 PM-01.png){fig-align=\"center\" width=\"400\"}\n",
        "\n",
        "Turns out the optimal temperature for reducing algal growth is to keep the upper 1m of water less than 15°C and to reduce diatom growth is to keep the average temp of 0-5m greater than 14°C, which is a bit of a \"Goldilocks\" problem. We know that operational pumping has an impact on temperature in our initial data-driven model to predict tomorrow's temperature based on SHAP analysis (Figure 2, 3), though the impact pumping on the 0-5m horizon is stronger than 0-1m.\n",
        "\n",
        "![Figure 2. SHAP analysis for predicting the top 1m water temperature at Shadow Mountain from a fully-connected, auto-regressive neural network. Note \"sum_pump_q_p7\" (sum of pumping volume over the previous seven days), which indicates some sensitivity of near-surface temperature to pumping operations.](images/clipboard-447659643.png){fig-align=\"center\" width=\"400\"}\n",
        "\n",
        "![Figure 3. SHAP analysis for predicting the average water temperature (0-5m) at Shadow Mountain from a fully-connected, auto-regressive neural network. Note \"sum_pump_q_p7\" (sum of pumping volume over the previous seven days), which indicates a relatively strong response in predicted integrated depth water temperature to pumping operations.](images/clipboard-1031348737.png){fig-align=\"center\" width=\"400\"}\n",
        "\n",
        "The overarching goal is to create a decision support system that forecasts water temperature in Shadow Mountain Reservoir on a daily timestep to a horizon of seven days, since the operations of the pump over the previous seven days are the most influential variable from this preliminary model. Initially, this application will assume a constant operational pumping regime (where the previous day's pumping is continued throughout the forecast horizon), but the intention is to eventually add a 'knob' that would alter pumping operations as a mechanism to mitigate water temperature and attempt to reach the \"Goldilocks\" zone during the regulatory period. Adding this knob is likely out of scope for this class.\n",
        "\n",
        "## Description of the Data\n",
        "\n",
        "The autoregressive Neural Network described is built from data\n",
        "\n",
        "In this example, I will use a fully-connected neural network to estimate water surface temperature for reservoirs with long manual monitoring data from The features that I will be using to estimate surface temperature include summary NLDAS meteorological data (air temperature, precipitation, solar radiation, and wind) as well as static values for each of the reservoirs (elevation, surface area, maximum depth, volume, and shoreline distance). The NLDAS data have been summarized for the previous day's weather, 3 days prior, and 5 days prior - meaning, the model does not use *today's* weather for prediction. To capture annual warming and seasonal warm-up/cool-down, which are not always consistent between annual cycles, I've implemented an annual cumulative sum for both temperature and solar radiation and the day of year within the feature set.\n",
        "\n",
        "## Description of pre-processing\n",
        "\n",
        "\\- description of any data pre-processing performed and why you did it\n",
        "\n",
        "## Data split\n",
        "\n",
        "\\- training/validation/testing split\n",
        "\n",
        "## Description of the forecast approach\n",
        "\n",
        "\\- detailed description of the data-driven forecast approach (e.g. the method)"
      ],
      "id": "5889d1b5"
    }
  ],
  "metadata": {
    "kernelspec": {
      "name": "python3",
      "language": "python",
      "display_name": "Python 3 (ipykernel)"
    }
  },
  "nbformat": 4,
  "nbformat_minor": 5
}