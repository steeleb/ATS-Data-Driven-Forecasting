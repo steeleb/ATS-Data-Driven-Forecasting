{
 "cells": [
  {
   "cell_type": "markdown",
   "metadata": {},
   "source": [
    "This script walks through a forecast for SMR using the NN-operational model developed in the NASA-NW repo. Using just observed data to forecast the next 7 days with only autoregressive temperature being updated for each forecast day."
   ]
  },
  {
   "cell_type": "markdown",
   "metadata": {},
   "source": [
    "# Import Modules"
   ]
  },
  {
   "cell_type": "code",
   "execution_count": 2,
   "metadata": {},
   "outputs": [
    {
     "name": "stderr",
     "output_type": "stream",
     "text": [
      "/var/folders/x8/v7bmckc139v2dqcm04jgfjlr0000gn/T/ipykernel_3636/3126687933.py:3: DeprecationWarning: the imp module is deprecated in favour of importlib and slated for removal in Python 3.12; see the module's documentation for alternative uses\n",
      "  import imp\n"
     ]
    }
   ],
   "source": [
    "#high level modules\n",
    "import os\n",
    "import imp\n",
    "import numpy as np\n",
    "import pandas as pd\n",
    "import matplotlib.pyplot as plt"
   ]
  },
  {
   "cell_type": "code",
   "execution_count": 3,
   "metadata": {},
   "outputs": [],
   "source": [
    "# custom modules\n",
    "this_dir = \"/Users/steeleb/Documents/GitHub/ATS-data-driven-forecasting/NN-operational/\"\n",
    "\n",
    "imp.load_source(\"universals\", os.path.join(this_dir, \"universal_functions.py\"))\n",
    "from universals import load_pickle_file, calculate_vals\n"
   ]
  },
  {
   "cell_type": "markdown",
   "metadata": {},
   "source": [
    "# Import models"
   ]
  },
  {
   "cell_type": "code",
   "execution_count": 4,
   "metadata": {},
   "outputs": [],
   "source": [
    "model_dir = \"/Users/steeleb/Documents/GitHub/ats-data-driven-forecasting/data/NN_train_val_test/SMR_forecast/models/leaky_5_summary_t2023/\"\n",
    "\n",
    "model_1 = load_pickle_file(\"model_1.pkl\", model_dir)\n",
    "model_2 = load_pickle_file(\"model_2.pkl\", model_dir)\n",
    "model_3 = load_pickle_file(\"model_3.pkl\", model_dir)\n",
    "model_4 = load_pickle_file(\"model_4.pkl\", model_dir)\n",
    "model_5 = load_pickle_file(\"model_5.pkl\", model_dir)\n",
    "model_6 = load_pickle_file(\"model_6.pkl\", model_dir)\n",
    "model_7 = load_pickle_file(\"model_7.pkl\", model_dir)\n",
    "model_8 = load_pickle_file(\"model_8.pkl\", model_dir)\n",
    "model_9 = load_pickle_file(\"model_9.pkl\", model_dir)\n"
   ]
  },
  {
   "cell_type": "markdown",
   "metadata": {},
   "source": [
    "# Import data"
   ]
  },
  {
   "cell_type": "code",
   "execution_count": 5,
   "metadata": {},
   "outputs": [],
   "source": [
    "data_dir = \"/Users/steeleb/Documents/GitHub/ats-data-driven-forecasting/data/NN_train_val_test/SMR_forecast/met_summary/\"\n",
    "\n",
    "test = pd.read_csv(os.path.join(data_dir, \"t2023_standardized_summary_v2024-11-29.csv\"))\n",
    "\n",
    "test[\"date\"] = pd.to_datetime(test[\"date\"])\n",
    "\n",
    "# we need the test columns to be the same as the forecast columns at the end of this, so grab the names for now\n",
    "forecast_cols = test.columns\n",
    "\n",
    "# and let's drop the observed temp data from the forecast columns, too\n",
    "forecast_cols_less = forecast_cols.drop([\"mean_1m_temp_degC\", \"mean_0_5m_temp_degC\", \"date\"])"
   ]
  },
  {
   "cell_type": "markdown",
   "metadata": {},
   "source": [
    "# Create function to roll out forecast\n",
    "\n",
    "This implementation just checks to see if, with observed data, we have any accuracy on a 7-day rollout."
   ]
  },
  {
   "cell_type": "code",
   "execution_count": 6,
   "metadata": {},
   "outputs": [],
   "source": [
    "def make_forecast(features, models, valid_date):\n",
    "    predictions = pd.DataFrame(columns=['mean_1m_temp_degC', 'mean_0_5m_temp_degC', 'model', 'valid_date'])\n",
    "    for i, model in enumerate(models, start=1):\n",
    "        preds = {}\n",
    "        preds = model.predict(features)\n",
    "        temp_df = pd.DataFrame(preds, columns=['mean_1m_temp_degC', 'mean_0_5m_temp_degC'])\n",
    "        for col in temp_df.columns:\n",
    "            temp_df[col] = (temp_df[col])\n",
    "        temp_df['model'] = i\n",
    "        temp_df['valid_date'] = valid_date\n",
    "        predictions = pd.concat([predictions, temp_df], ignore_index=True)\n",
    "    return predictions\n",
    "\n",
    "def make_forecast_by_model(features, models, valid_date):\n",
    "    predictions = pd.DataFrame(columns=['mean_1m_temp_degC', 'mean_0_5m_temp_degC', 'model', 'valid_date'])\n",
    "    for i, model in enumerate(models, start=1):\n",
    "        preds = {}\n",
    "        model_features = features.iloc[[i-1]]\n",
    "        preds = model.predict(model_features)\n",
    "        temp_df = pd.DataFrame(preds, columns=['mean_1m_temp_degC', 'mean_0_5m_temp_degC'])\n",
    "        temp_df['model'] = i\n",
    "        temp_df['valid_date'] = valid_date\n",
    "        predictions = pd.concat([predictions, temp_df], ignore_index=True)\n",
    "    return predictions"
   ]
  },
  {
   "cell_type": "code",
   "execution_count": 7,
   "metadata": {},
   "outputs": [],
   "source": [
    "\n",
    "def make_seven_day_forecast_control(date):\n",
    "\n",
    "    print(f\"Beginning forecast for {date}\")\n",
    "    date = pd.to_datetime(date)\n",
    "\n",
    "    # create a dataframe to store the forecasted data\n",
    "    all_forecasts = pd.DataFrame(columns=['valid_date', 'model', 'mean_1m_temp_degC', 'mean_0_5m_temp_degC'])\n",
    "\n",
    "    # we'll run a forecast for each day, since the following day's forecast will be based on the previous day's forecast\n",
    "    for d in range(0, 7):\n",
    "        \n",
    "        # Setup for the iteration\n",
    "        #print(\"Forecasting day: \", d+1)\n",
    "        \n",
    "        # set the forecast date\n",
    "        valid_date = pd.to_datetime(date, utc=True) + pd.DateOffset(days=d)\n",
    "        # subset the data for the day we're forecasting (this has been offset during the preprocessing steps)\n",
    "        obs = test[test[\"date\"] == valid_date].copy()\n",
    "        \n",
    "        # the first day will be a bit different from subsequent days\n",
    "        if d == 0:\n",
    "\n",
    "            # preprocess the data into labels and features\n",
    "            features = obs.drop(columns = [\"date\", \"mean_1m_temp_degC\", \"mean_0_5m_temp_degC\"])\n",
    "\n",
    "            forecasted_temp = (make_forecast(features, \n",
    "                                            [model_1, model_2, model_3, model_4, model_5, model_6, model_7, model_8, model_9], \n",
    "                                            valid_date))\n",
    "\n",
    "        elif d >= 1:\n",
    "            # remove the labels and observed temperature data from yesterday and today (we'll replaced these with forecasted data)\n",
    "            obs_less = obs.drop(columns=[\"mean_1m_temp_degC\", \"mean_0_5m_temp_degC\", \n",
    "                                            \"mean_1m_temp_degC_m1\", \"mean_0_5m_temp_degC_m1\"])\n",
    "            # this should be one row of data\n",
    "            \n",
    "            # join the observed data with the forecasted data from the previous day by date\n",
    "            yesterday = all_forecasts.copy()\n",
    "            # get yesterday's forecasted data (valid date minus 1 day)\n",
    "            yesterday = yesterday[yesterday[\"valid_date\"] == valid_date - pd.DateOffset(days=1)]\n",
    "            # relabel yesterday's forecasted data as today's m1 data\n",
    "            yesterday = yesterday.rename(columns={\"valid_date\": \"date\",\n",
    "                                                    \"mean_1m_temp_degC\": \"mean_1m_temp_degC_m1\", \n",
    "                                                    \"mean_0_5m_temp_degC\": \"mean_0_5m_temp_degC_m1\"})\n",
    "            \n",
    "            # now, set the date to today to join\n",
    "            yesterday[\"date\"] = pd.to_datetime(yesterday[\"date\"], utc=True) + pd.DateOffset(days=1)\n",
    "            yesterday = yesterday.set_index([\"date\"])\n",
    "            \n",
    "            # join the observed data with the forecasted data from the previous day by date\n",
    "            to_forecast = obs_less.join(yesterday, on=[\"date\"])\n",
    "            \n",
    "            # now we need to reorganize the columns to match the input columns, plus the model and peturbation colums\n",
    "            to_forecast = to_forecast.reset_index()\n",
    "            # now change model and date to the index\n",
    "            to_forecast = to_forecast.set_index([\"date\", \"model\"])\n",
    "            # and now reorganize the columns to match the input columns\n",
    "            to_forecast = to_forecast[forecast_cols_less]\n",
    "\n",
    "            # and now forecast on that data\n",
    "            forecasted_temp = (make_forecast_by_model(to_forecast, \n",
    "                                                     [model_1, model_2, model_3, model_4, model_5, model_6, model_7, model_8, model_9], \n",
    "                                                     valid_date))\n",
    "\n",
    "        # append the forecasted data to the all_forecasts dataframe\n",
    "        all_forecasts = pd.concat([all_forecasts, forecasted_temp])\n",
    "    \n",
    "    return all_forecasts\n"
   ]
  },
  {
   "cell_type": "markdown",
   "metadata": {},
   "source": [
    "# Make forecasts"
   ]
  },
  {
   "cell_type": "code",
   "execution_count": 8,
   "metadata": {},
   "outputs": [
    {
     "name": "stdout",
     "output_type": "stream",
     "text": [
      "Beginning forecast for 2023-06-01 00:00:00\n",
      "WARNING:tensorflow:5 out of the last 5 calls to <function Model.make_predict_function.<locals>.predict_function at 0x30bcd5870> triggered tf.function retracing. Tracing is expensive and the excessive number of tracings could be due to (1) creating @tf.function repeatedly in a loop, (2) passing tensors with different shapes, (3) passing Python objects instead of tensors. For (1), please define your @tf.function outside of the loop. For (2), @tf.function has experimental_relax_shapes=True option that relaxes argument shapes that can avoid unnecessary retracing. For (3), please refer to https://www.tensorflow.org/guide/function#controlling_retracing and https://www.tensorflow.org/api_docs/python/tf/function for  more details.\n",
      "WARNING:tensorflow:6 out of the last 6 calls to <function Model.make_predict_function.<locals>.predict_function at 0x30bcd6290> triggered tf.function retracing. Tracing is expensive and the excessive number of tracings could be due to (1) creating @tf.function repeatedly in a loop, (2) passing tensors with different shapes, (3) passing Python objects instead of tensors. For (1), please define your @tf.function outside of the loop. For (2), @tf.function has experimental_relax_shapes=True option that relaxes argument shapes that can avoid unnecessary retracing. For (3), please refer to https://www.tensorflow.org/guide/function#controlling_retracing and https://www.tensorflow.org/api_docs/python/tf/function for  more details.\n"
     ]
    },
    {
     "name": "stderr",
     "output_type": "stream",
     "text": [
      "2024-12-01 20:46:54.594250: W tensorflow/core/platform/profile_utils/cpu_utils.cc:128] Failed to get CPU frequency: 0 Hz\n",
      "/var/folders/x8/v7bmckc139v2dqcm04jgfjlr0000gn/T/ipykernel_3636/3196941531.py:11: FutureWarning: The behavior of DataFrame concatenation with empty or all-NA entries is deprecated. In a future version, this will no longer exclude empty or all-NA columns when determining the result dtypes. To retain the old behavior, exclude the relevant entries before the concat operation.\n",
      "  predictions = pd.concat([predictions, temp_df], ignore_index=True)\n",
      "/var/folders/x8/v7bmckc139v2dqcm04jgfjlr0000gn/T/ipykernel_3636/2637449371.py:65: FutureWarning: The behavior of DataFrame concatenation with empty or all-NA entries is deprecated. In a future version, this will no longer exclude empty or all-NA columns when determining the result dtypes. To retain the old behavior, exclude the relevant entries before the concat operation.\n",
      "  all_forecasts = pd.concat([all_forecasts, forecasted_temp])\n",
      "/var/folders/x8/v7bmckc139v2dqcm04jgfjlr0000gn/T/ipykernel_3636/3196941531.py:23: FutureWarning: The behavior of DataFrame concatenation with empty or all-NA entries is deprecated. In a future version, this will no longer exclude empty or all-NA columns when determining the result dtypes. To retain the old behavior, exclude the relevant entries before the concat operation.\n",
      "  predictions = pd.concat([predictions, temp_df], ignore_index=True)\n",
      "/var/folders/x8/v7bmckc139v2dqcm04jgfjlr0000gn/T/ipykernel_3636/3196941531.py:23: FutureWarning: The behavior of DataFrame concatenation with empty or all-NA entries is deprecated. In a future version, this will no longer exclude empty or all-NA columns when determining the result dtypes. To retain the old behavior, exclude the relevant entries before the concat operation.\n",
      "  predictions = pd.concat([predictions, temp_df], ignore_index=True)\n",
      "/var/folders/x8/v7bmckc139v2dqcm04jgfjlr0000gn/T/ipykernel_3636/3196941531.py:23: FutureWarning: The behavior of DataFrame concatenation with empty or all-NA entries is deprecated. In a future version, this will no longer exclude empty or all-NA columns when determining the result dtypes. To retain the old behavior, exclude the relevant entries before the concat operation.\n",
      "  predictions = pd.concat([predictions, temp_df], ignore_index=True)\n",
      "/var/folders/x8/v7bmckc139v2dqcm04jgfjlr0000gn/T/ipykernel_3636/3196941531.py:23: FutureWarning: The behavior of DataFrame concatenation with empty or all-NA entries is deprecated. In a future version, this will no longer exclude empty or all-NA columns when determining the result dtypes. To retain the old behavior, exclude the relevant entries before the concat operation.\n",
      "  predictions = pd.concat([predictions, temp_df], ignore_index=True)\n",
      "/var/folders/x8/v7bmckc139v2dqcm04jgfjlr0000gn/T/ipykernel_3636/3196941531.py:23: FutureWarning: The behavior of DataFrame concatenation with empty or all-NA entries is deprecated. In a future version, this will no longer exclude empty or all-NA columns when determining the result dtypes. To retain the old behavior, exclude the relevant entries before the concat operation.\n",
      "  predictions = pd.concat([predictions, temp_df], ignore_index=True)\n",
      "/var/folders/x8/v7bmckc139v2dqcm04jgfjlr0000gn/T/ipykernel_3636/3196941531.py:23: FutureWarning: The behavior of DataFrame concatenation with empty or all-NA entries is deprecated. In a future version, this will no longer exclude empty or all-NA columns when determining the result dtypes. To retain the old behavior, exclude the relevant entries before the concat operation.\n",
      "  predictions = pd.concat([predictions, temp_df], ignore_index=True)\n"
     ]
    },
    {
     "name": "stdout",
     "output_type": "stream",
     "text": [
      "Beginning forecast for 2023-06-02 00:00:00\n"
     ]
    },
    {
     "name": "stderr",
     "output_type": "stream",
     "text": [
      "/var/folders/x8/v7bmckc139v2dqcm04jgfjlr0000gn/T/ipykernel_3636/3196941531.py:11: FutureWarning: The behavior of DataFrame concatenation with empty or all-NA entries is deprecated. In a future version, this will no longer exclude empty or all-NA columns when determining the result dtypes. To retain the old behavior, exclude the relevant entries before the concat operation.\n",
      "  predictions = pd.concat([predictions, temp_df], ignore_index=True)\n",
      "/var/folders/x8/v7bmckc139v2dqcm04jgfjlr0000gn/T/ipykernel_3636/2637449371.py:65: FutureWarning: The behavior of DataFrame concatenation with empty or all-NA entries is deprecated. In a future version, this will no longer exclude empty or all-NA columns when determining the result dtypes. To retain the old behavior, exclude the relevant entries before the concat operation.\n",
      "  all_forecasts = pd.concat([all_forecasts, forecasted_temp])\n",
      "/var/folders/x8/v7bmckc139v2dqcm04jgfjlr0000gn/T/ipykernel_3636/3196941531.py:23: FutureWarning: The behavior of DataFrame concatenation with empty or all-NA entries is deprecated. In a future version, this will no longer exclude empty or all-NA columns when determining the result dtypes. To retain the old behavior, exclude the relevant entries before the concat operation.\n",
      "  predictions = pd.concat([predictions, temp_df], ignore_index=True)\n",
      "/var/folders/x8/v7bmckc139v2dqcm04jgfjlr0000gn/T/ipykernel_3636/3196941531.py:23: FutureWarning: The behavior of DataFrame concatenation with empty or all-NA entries is deprecated. In a future version, this will no longer exclude empty or all-NA columns when determining the result dtypes. To retain the old behavior, exclude the relevant entries before the concat operation.\n",
      "  predictions = pd.concat([predictions, temp_df], ignore_index=True)\n",
      "/var/folders/x8/v7bmckc139v2dqcm04jgfjlr0000gn/T/ipykernel_3636/3196941531.py:23: FutureWarning: The behavior of DataFrame concatenation with empty or all-NA entries is deprecated. In a future version, this will no longer exclude empty or all-NA columns when determining the result dtypes. To retain the old behavior, exclude the relevant entries before the concat operation.\n",
      "  predictions = pd.concat([predictions, temp_df], ignore_index=True)\n",
      "/var/folders/x8/v7bmckc139v2dqcm04jgfjlr0000gn/T/ipykernel_3636/3196941531.py:23: FutureWarning: The behavior of DataFrame concatenation with empty or all-NA entries is deprecated. In a future version, this will no longer exclude empty or all-NA columns when determining the result dtypes. To retain the old behavior, exclude the relevant entries before the concat operation.\n",
      "  predictions = pd.concat([predictions, temp_df], ignore_index=True)\n",
      "/var/folders/x8/v7bmckc139v2dqcm04jgfjlr0000gn/T/ipykernel_3636/3196941531.py:23: FutureWarning: The behavior of DataFrame concatenation with empty or all-NA entries is deprecated. In a future version, this will no longer exclude empty or all-NA columns when determining the result dtypes. To retain the old behavior, exclude the relevant entries before the concat operation.\n",
      "  predictions = pd.concat([predictions, temp_df], ignore_index=True)\n",
      "/var/folders/x8/v7bmckc139v2dqcm04jgfjlr0000gn/T/ipykernel_3636/3196941531.py:23: FutureWarning: The behavior of DataFrame concatenation with empty or all-NA entries is deprecated. In a future version, this will no longer exclude empty or all-NA columns when determining the result dtypes. To retain the old behavior, exclude the relevant entries before the concat operation.\n",
      "  predictions = pd.concat([predictions, temp_df], ignore_index=True)\n",
      "/var/folders/x8/v7bmckc139v2dqcm04jgfjlr0000gn/T/ipykernel_3636/3196941531.py:11: FutureWarning: The behavior of DataFrame concatenation with empty or all-NA entries is deprecated. In a future version, this will no longer exclude empty or all-NA columns when determining the result dtypes. To retain the old behavior, exclude the relevant entries before the concat operation.\n",
      "  predictions = pd.concat([predictions, temp_df], ignore_index=True)\n"
     ]
    },
    {
     "name": "stdout",
     "output_type": "stream",
     "text": [
      "Beginning forecast for 2023-06-03 00:00:00\n"
     ]
    },
    {
     "name": "stderr",
     "output_type": "stream",
     "text": [
      "/var/folders/x8/v7bmckc139v2dqcm04jgfjlr0000gn/T/ipykernel_3636/2637449371.py:65: FutureWarning: The behavior of DataFrame concatenation with empty or all-NA entries is deprecated. In a future version, this will no longer exclude empty or all-NA columns when determining the result dtypes. To retain the old behavior, exclude the relevant entries before the concat operation.\n",
      "  all_forecasts = pd.concat([all_forecasts, forecasted_temp])\n",
      "/var/folders/x8/v7bmckc139v2dqcm04jgfjlr0000gn/T/ipykernel_3636/3196941531.py:23: FutureWarning: The behavior of DataFrame concatenation with empty or all-NA entries is deprecated. In a future version, this will no longer exclude empty or all-NA columns when determining the result dtypes. To retain the old behavior, exclude the relevant entries before the concat operation.\n",
      "  predictions = pd.concat([predictions, temp_df], ignore_index=True)\n",
      "/var/folders/x8/v7bmckc139v2dqcm04jgfjlr0000gn/T/ipykernel_3636/3196941531.py:23: FutureWarning: The behavior of DataFrame concatenation with empty or all-NA entries is deprecated. In a future version, this will no longer exclude empty or all-NA columns when determining the result dtypes. To retain the old behavior, exclude the relevant entries before the concat operation.\n",
      "  predictions = pd.concat([predictions, temp_df], ignore_index=True)\n",
      "/var/folders/x8/v7bmckc139v2dqcm04jgfjlr0000gn/T/ipykernel_3636/3196941531.py:23: FutureWarning: The behavior of DataFrame concatenation with empty or all-NA entries is deprecated. In a future version, this will no longer exclude empty or all-NA columns when determining the result dtypes. To retain the old behavior, exclude the relevant entries before the concat operation.\n",
      "  predictions = pd.concat([predictions, temp_df], ignore_index=True)\n",
      "/var/folders/x8/v7bmckc139v2dqcm04jgfjlr0000gn/T/ipykernel_3636/3196941531.py:23: FutureWarning: The behavior of DataFrame concatenation with empty or all-NA entries is deprecated. In a future version, this will no longer exclude empty or all-NA columns when determining the result dtypes. To retain the old behavior, exclude the relevant entries before the concat operation.\n",
      "  predictions = pd.concat([predictions, temp_df], ignore_index=True)\n",
      "/var/folders/x8/v7bmckc139v2dqcm04jgfjlr0000gn/T/ipykernel_3636/3196941531.py:23: FutureWarning: The behavior of DataFrame concatenation with empty or all-NA entries is deprecated. In a future version, this will no longer exclude empty or all-NA columns when determining the result dtypes. To retain the old behavior, exclude the relevant entries before the concat operation.\n",
      "  predictions = pd.concat([predictions, temp_df], ignore_index=True)\n",
      "/var/folders/x8/v7bmckc139v2dqcm04jgfjlr0000gn/T/ipykernel_3636/3196941531.py:23: FutureWarning: The behavior of DataFrame concatenation with empty or all-NA entries is deprecated. In a future version, this will no longer exclude empty or all-NA columns when determining the result dtypes. To retain the old behavior, exclude the relevant entries before the concat operation.\n",
      "  predictions = pd.concat([predictions, temp_df], ignore_index=True)\n"
     ]
    },
    {
     "name": "stdout",
     "output_type": "stream",
     "text": [
      "Beginning forecast for 2023-06-04 00:00:00\n"
     ]
    },
    {
     "name": "stderr",
     "output_type": "stream",
     "text": [
      "/var/folders/x8/v7bmckc139v2dqcm04jgfjlr0000gn/T/ipykernel_3636/3196941531.py:11: FutureWarning: The behavior of DataFrame concatenation with empty or all-NA entries is deprecated. In a future version, this will no longer exclude empty or all-NA columns when determining the result dtypes. To retain the old behavior, exclude the relevant entries before the concat operation.\n",
      "  predictions = pd.concat([predictions, temp_df], ignore_index=True)\n",
      "/var/folders/x8/v7bmckc139v2dqcm04jgfjlr0000gn/T/ipykernel_3636/2637449371.py:65: FutureWarning: The behavior of DataFrame concatenation with empty or all-NA entries is deprecated. In a future version, this will no longer exclude empty or all-NA columns when determining the result dtypes. To retain the old behavior, exclude the relevant entries before the concat operation.\n",
      "  all_forecasts = pd.concat([all_forecasts, forecasted_temp])\n",
      "/var/folders/x8/v7bmckc139v2dqcm04jgfjlr0000gn/T/ipykernel_3636/3196941531.py:23: FutureWarning: The behavior of DataFrame concatenation with empty or all-NA entries is deprecated. In a future version, this will no longer exclude empty or all-NA columns when determining the result dtypes. To retain the old behavior, exclude the relevant entries before the concat operation.\n",
      "  predictions = pd.concat([predictions, temp_df], ignore_index=True)\n",
      "/var/folders/x8/v7bmckc139v2dqcm04jgfjlr0000gn/T/ipykernel_3636/3196941531.py:23: FutureWarning: The behavior of DataFrame concatenation with empty or all-NA entries is deprecated. In a future version, this will no longer exclude empty or all-NA columns when determining the result dtypes. To retain the old behavior, exclude the relevant entries before the concat operation.\n",
      "  predictions = pd.concat([predictions, temp_df], ignore_index=True)\n",
      "/var/folders/x8/v7bmckc139v2dqcm04jgfjlr0000gn/T/ipykernel_3636/3196941531.py:23: FutureWarning: The behavior of DataFrame concatenation with empty or all-NA entries is deprecated. In a future version, this will no longer exclude empty or all-NA columns when determining the result dtypes. To retain the old behavior, exclude the relevant entries before the concat operation.\n",
      "  predictions = pd.concat([predictions, temp_df], ignore_index=True)\n",
      "/var/folders/x8/v7bmckc139v2dqcm04jgfjlr0000gn/T/ipykernel_3636/3196941531.py:23: FutureWarning: The behavior of DataFrame concatenation with empty or all-NA entries is deprecated. In a future version, this will no longer exclude empty or all-NA columns when determining the result dtypes. To retain the old behavior, exclude the relevant entries before the concat operation.\n",
      "  predictions = pd.concat([predictions, temp_df], ignore_index=True)\n",
      "/var/folders/x8/v7bmckc139v2dqcm04jgfjlr0000gn/T/ipykernel_3636/3196941531.py:23: FutureWarning: The behavior of DataFrame concatenation with empty or all-NA entries is deprecated. In a future version, this will no longer exclude empty or all-NA columns when determining the result dtypes. To retain the old behavior, exclude the relevant entries before the concat operation.\n",
      "  predictions = pd.concat([predictions, temp_df], ignore_index=True)\n",
      "/var/folders/x8/v7bmckc139v2dqcm04jgfjlr0000gn/T/ipykernel_3636/3196941531.py:23: FutureWarning: The behavior of DataFrame concatenation with empty or all-NA entries is deprecated. In a future version, this will no longer exclude empty or all-NA columns when determining the result dtypes. To retain the old behavior, exclude the relevant entries before the concat operation.\n",
      "  predictions = pd.concat([predictions, temp_df], ignore_index=True)\n",
      "/var/folders/x8/v7bmckc139v2dqcm04jgfjlr0000gn/T/ipykernel_3636/3196941531.py:11: FutureWarning: The behavior of DataFrame concatenation with empty or all-NA entries is deprecated. In a future version, this will no longer exclude empty or all-NA columns when determining the result dtypes. To retain the old behavior, exclude the relevant entries before the concat operation.\n",
      "  predictions = pd.concat([predictions, temp_df], ignore_index=True)\n"
     ]
    },
    {
     "name": "stdout",
     "output_type": "stream",
     "text": [
      "Beginning forecast for 2023-06-05 00:00:00\n"
     ]
    },
    {
     "name": "stderr",
     "output_type": "stream",
     "text": [
      "/var/folders/x8/v7bmckc139v2dqcm04jgfjlr0000gn/T/ipykernel_3636/2637449371.py:65: FutureWarning: The behavior of DataFrame concatenation with empty or all-NA entries is deprecated. In a future version, this will no longer exclude empty or all-NA columns when determining the result dtypes. To retain the old behavior, exclude the relevant entries before the concat operation.\n",
      "  all_forecasts = pd.concat([all_forecasts, forecasted_temp])\n",
      "/var/folders/x8/v7bmckc139v2dqcm04jgfjlr0000gn/T/ipykernel_3636/3196941531.py:23: FutureWarning: The behavior of DataFrame concatenation with empty or all-NA entries is deprecated. In a future version, this will no longer exclude empty or all-NA columns when determining the result dtypes. To retain the old behavior, exclude the relevant entries before the concat operation.\n",
      "  predictions = pd.concat([predictions, temp_df], ignore_index=True)\n",
      "/var/folders/x8/v7bmckc139v2dqcm04jgfjlr0000gn/T/ipykernel_3636/3196941531.py:23: FutureWarning: The behavior of DataFrame concatenation with empty or all-NA entries is deprecated. In a future version, this will no longer exclude empty or all-NA columns when determining the result dtypes. To retain the old behavior, exclude the relevant entries before the concat operation.\n",
      "  predictions = pd.concat([predictions, temp_df], ignore_index=True)\n",
      "/var/folders/x8/v7bmckc139v2dqcm04jgfjlr0000gn/T/ipykernel_3636/3196941531.py:23: FutureWarning: The behavior of DataFrame concatenation with empty or all-NA entries is deprecated. In a future version, this will no longer exclude empty or all-NA columns when determining the result dtypes. To retain the old behavior, exclude the relevant entries before the concat operation.\n",
      "  predictions = pd.concat([predictions, temp_df], ignore_index=True)\n",
      "/var/folders/x8/v7bmckc139v2dqcm04jgfjlr0000gn/T/ipykernel_3636/3196941531.py:23: FutureWarning: The behavior of DataFrame concatenation with empty or all-NA entries is deprecated. In a future version, this will no longer exclude empty or all-NA columns when determining the result dtypes. To retain the old behavior, exclude the relevant entries before the concat operation.\n",
      "  predictions = pd.concat([predictions, temp_df], ignore_index=True)\n",
      "/var/folders/x8/v7bmckc139v2dqcm04jgfjlr0000gn/T/ipykernel_3636/3196941531.py:23: FutureWarning: The behavior of DataFrame concatenation with empty or all-NA entries is deprecated. In a future version, this will no longer exclude empty or all-NA columns when determining the result dtypes. To retain the old behavior, exclude the relevant entries before the concat operation.\n",
      "  predictions = pd.concat([predictions, temp_df], ignore_index=True)\n",
      "/var/folders/x8/v7bmckc139v2dqcm04jgfjlr0000gn/T/ipykernel_3636/3196941531.py:23: FutureWarning: The behavior of DataFrame concatenation with empty or all-NA entries is deprecated. In a future version, this will no longer exclude empty or all-NA columns when determining the result dtypes. To retain the old behavior, exclude the relevant entries before the concat operation.\n",
      "  predictions = pd.concat([predictions, temp_df], ignore_index=True)\n"
     ]
    },
    {
     "name": "stdout",
     "output_type": "stream",
     "text": [
      "Beginning forecast for 2023-06-06 00:00:00\n"
     ]
    },
    {
     "name": "stderr",
     "output_type": "stream",
     "text": [
      "/var/folders/x8/v7bmckc139v2dqcm04jgfjlr0000gn/T/ipykernel_3636/3196941531.py:11: FutureWarning: The behavior of DataFrame concatenation with empty or all-NA entries is deprecated. In a future version, this will no longer exclude empty or all-NA columns when determining the result dtypes. To retain the old behavior, exclude the relevant entries before the concat operation.\n",
      "  predictions = pd.concat([predictions, temp_df], ignore_index=True)\n",
      "/var/folders/x8/v7bmckc139v2dqcm04jgfjlr0000gn/T/ipykernel_3636/2637449371.py:65: FutureWarning: The behavior of DataFrame concatenation with empty or all-NA entries is deprecated. In a future version, this will no longer exclude empty or all-NA columns when determining the result dtypes. To retain the old behavior, exclude the relevant entries before the concat operation.\n",
      "  all_forecasts = pd.concat([all_forecasts, forecasted_temp])\n",
      "/var/folders/x8/v7bmckc139v2dqcm04jgfjlr0000gn/T/ipykernel_3636/3196941531.py:23: FutureWarning: The behavior of DataFrame concatenation with empty or all-NA entries is deprecated. In a future version, this will no longer exclude empty or all-NA columns when determining the result dtypes. To retain the old behavior, exclude the relevant entries before the concat operation.\n",
      "  predictions = pd.concat([predictions, temp_df], ignore_index=True)\n",
      "/var/folders/x8/v7bmckc139v2dqcm04jgfjlr0000gn/T/ipykernel_3636/3196941531.py:23: FutureWarning: The behavior of DataFrame concatenation with empty or all-NA entries is deprecated. In a future version, this will no longer exclude empty or all-NA columns when determining the result dtypes. To retain the old behavior, exclude the relevant entries before the concat operation.\n",
      "  predictions = pd.concat([predictions, temp_df], ignore_index=True)\n",
      "/var/folders/x8/v7bmckc139v2dqcm04jgfjlr0000gn/T/ipykernel_3636/3196941531.py:23: FutureWarning: The behavior of DataFrame concatenation with empty or all-NA entries is deprecated. In a future version, this will no longer exclude empty or all-NA columns when determining the result dtypes. To retain the old behavior, exclude the relevant entries before the concat operation.\n",
      "  predictions = pd.concat([predictions, temp_df], ignore_index=True)\n",
      "/var/folders/x8/v7bmckc139v2dqcm04jgfjlr0000gn/T/ipykernel_3636/3196941531.py:23: FutureWarning: The behavior of DataFrame concatenation with empty or all-NA entries is deprecated. In a future version, this will no longer exclude empty or all-NA columns when determining the result dtypes. To retain the old behavior, exclude the relevant entries before the concat operation.\n",
      "  predictions = pd.concat([predictions, temp_df], ignore_index=True)\n",
      "/var/folders/x8/v7bmckc139v2dqcm04jgfjlr0000gn/T/ipykernel_3636/3196941531.py:23: FutureWarning: The behavior of DataFrame concatenation with empty or all-NA entries is deprecated. In a future version, this will no longer exclude empty or all-NA columns when determining the result dtypes. To retain the old behavior, exclude the relevant entries before the concat operation.\n",
      "  predictions = pd.concat([predictions, temp_df], ignore_index=True)\n",
      "/var/folders/x8/v7bmckc139v2dqcm04jgfjlr0000gn/T/ipykernel_3636/3196941531.py:23: FutureWarning: The behavior of DataFrame concatenation with empty or all-NA entries is deprecated. In a future version, this will no longer exclude empty or all-NA columns when determining the result dtypes. To retain the old behavior, exclude the relevant entries before the concat operation.\n",
      "  predictions = pd.concat([predictions, temp_df], ignore_index=True)\n",
      "/var/folders/x8/v7bmckc139v2dqcm04jgfjlr0000gn/T/ipykernel_3636/3196941531.py:11: FutureWarning: The behavior of DataFrame concatenation with empty or all-NA entries is deprecated. In a future version, this will no longer exclude empty or all-NA columns when determining the result dtypes. To retain the old behavior, exclude the relevant entries before the concat operation.\n",
      "  predictions = pd.concat([predictions, temp_df], ignore_index=True)\n"
     ]
    },
    {
     "name": "stdout",
     "output_type": "stream",
     "text": [
      "Beginning forecast for 2023-06-07 00:00:00\n"
     ]
    },
    {
     "name": "stderr",
     "output_type": "stream",
     "text": [
      "/var/folders/x8/v7bmckc139v2dqcm04jgfjlr0000gn/T/ipykernel_3636/2637449371.py:65: FutureWarning: The behavior of DataFrame concatenation with empty or all-NA entries is deprecated. In a future version, this will no longer exclude empty or all-NA columns when determining the result dtypes. To retain the old behavior, exclude the relevant entries before the concat operation.\n",
      "  all_forecasts = pd.concat([all_forecasts, forecasted_temp])\n",
      "/var/folders/x8/v7bmckc139v2dqcm04jgfjlr0000gn/T/ipykernel_3636/3196941531.py:23: FutureWarning: The behavior of DataFrame concatenation with empty or all-NA entries is deprecated. In a future version, this will no longer exclude empty or all-NA columns when determining the result dtypes. To retain the old behavior, exclude the relevant entries before the concat operation.\n",
      "  predictions = pd.concat([predictions, temp_df], ignore_index=True)\n",
      "/var/folders/x8/v7bmckc139v2dqcm04jgfjlr0000gn/T/ipykernel_3636/3196941531.py:23: FutureWarning: The behavior of DataFrame concatenation with empty or all-NA entries is deprecated. In a future version, this will no longer exclude empty or all-NA columns when determining the result dtypes. To retain the old behavior, exclude the relevant entries before the concat operation.\n",
      "  predictions = pd.concat([predictions, temp_df], ignore_index=True)\n",
      "/var/folders/x8/v7bmckc139v2dqcm04jgfjlr0000gn/T/ipykernel_3636/3196941531.py:23: FutureWarning: The behavior of DataFrame concatenation with empty or all-NA entries is deprecated. In a future version, this will no longer exclude empty or all-NA columns when determining the result dtypes. To retain the old behavior, exclude the relevant entries before the concat operation.\n",
      "  predictions = pd.concat([predictions, temp_df], ignore_index=True)\n",
      "/var/folders/x8/v7bmckc139v2dqcm04jgfjlr0000gn/T/ipykernel_3636/3196941531.py:23: FutureWarning: The behavior of DataFrame concatenation with empty or all-NA entries is deprecated. In a future version, this will no longer exclude empty or all-NA columns when determining the result dtypes. To retain the old behavior, exclude the relevant entries before the concat operation.\n",
      "  predictions = pd.concat([predictions, temp_df], ignore_index=True)\n",
      "/var/folders/x8/v7bmckc139v2dqcm04jgfjlr0000gn/T/ipykernel_3636/3196941531.py:23: FutureWarning: The behavior of DataFrame concatenation with empty or all-NA entries is deprecated. In a future version, this will no longer exclude empty or all-NA columns when determining the result dtypes. To retain the old behavior, exclude the relevant entries before the concat operation.\n",
      "  predictions = pd.concat([predictions, temp_df], ignore_index=True)\n",
      "/var/folders/x8/v7bmckc139v2dqcm04jgfjlr0000gn/T/ipykernel_3636/3196941531.py:23: FutureWarning: The behavior of DataFrame concatenation with empty or all-NA entries is deprecated. In a future version, this will no longer exclude empty or all-NA columns when determining the result dtypes. To retain the old behavior, exclude the relevant entries before the concat operation.\n",
      "  predictions = pd.concat([predictions, temp_df], ignore_index=True)\n"
     ]
    },
    {
     "name": "stdout",
     "output_type": "stream",
     "text": [
      "Beginning forecast for 2023-06-08 00:00:00\n"
     ]
    },
    {
     "name": "stderr",
     "output_type": "stream",
     "text": [
      "/var/folders/x8/v7bmckc139v2dqcm04jgfjlr0000gn/T/ipykernel_3636/3196941531.py:11: FutureWarning: The behavior of DataFrame concatenation with empty or all-NA entries is deprecated. In a future version, this will no longer exclude empty or all-NA columns when determining the result dtypes. To retain the old behavior, exclude the relevant entries before the concat operation.\n",
      "  predictions = pd.concat([predictions, temp_df], ignore_index=True)\n",
      "/var/folders/x8/v7bmckc139v2dqcm04jgfjlr0000gn/T/ipykernel_3636/2637449371.py:65: FutureWarning: The behavior of DataFrame concatenation with empty or all-NA entries is deprecated. In a future version, this will no longer exclude empty or all-NA columns when determining the result dtypes. To retain the old behavior, exclude the relevant entries before the concat operation.\n",
      "  all_forecasts = pd.concat([all_forecasts, forecasted_temp])\n",
      "/var/folders/x8/v7bmckc139v2dqcm04jgfjlr0000gn/T/ipykernel_3636/3196941531.py:23: FutureWarning: The behavior of DataFrame concatenation with empty or all-NA entries is deprecated. In a future version, this will no longer exclude empty or all-NA columns when determining the result dtypes. To retain the old behavior, exclude the relevant entries before the concat operation.\n",
      "  predictions = pd.concat([predictions, temp_df], ignore_index=True)\n",
      "/var/folders/x8/v7bmckc139v2dqcm04jgfjlr0000gn/T/ipykernel_3636/3196941531.py:23: FutureWarning: The behavior of DataFrame concatenation with empty or all-NA entries is deprecated. In a future version, this will no longer exclude empty or all-NA columns when determining the result dtypes. To retain the old behavior, exclude the relevant entries before the concat operation.\n",
      "  predictions = pd.concat([predictions, temp_df], ignore_index=True)\n",
      "/var/folders/x8/v7bmckc139v2dqcm04jgfjlr0000gn/T/ipykernel_3636/3196941531.py:23: FutureWarning: The behavior of DataFrame concatenation with empty or all-NA entries is deprecated. In a future version, this will no longer exclude empty or all-NA columns when determining the result dtypes. To retain the old behavior, exclude the relevant entries before the concat operation.\n",
      "  predictions = pd.concat([predictions, temp_df], ignore_index=True)\n",
      "/var/folders/x8/v7bmckc139v2dqcm04jgfjlr0000gn/T/ipykernel_3636/3196941531.py:23: FutureWarning: The behavior of DataFrame concatenation with empty or all-NA entries is deprecated. In a future version, this will no longer exclude empty or all-NA columns when determining the result dtypes. To retain the old behavior, exclude the relevant entries before the concat operation.\n",
      "  predictions = pd.concat([predictions, temp_df], ignore_index=True)\n",
      "/var/folders/x8/v7bmckc139v2dqcm04jgfjlr0000gn/T/ipykernel_3636/3196941531.py:23: FutureWarning: The behavior of DataFrame concatenation with empty or all-NA entries is deprecated. In a future version, this will no longer exclude empty or all-NA columns when determining the result dtypes. To retain the old behavior, exclude the relevant entries before the concat operation.\n",
      "  predictions = pd.concat([predictions, temp_df], ignore_index=True)\n",
      "/var/folders/x8/v7bmckc139v2dqcm04jgfjlr0000gn/T/ipykernel_3636/3196941531.py:23: FutureWarning: The behavior of DataFrame concatenation with empty or all-NA entries is deprecated. In a future version, this will no longer exclude empty or all-NA columns when determining the result dtypes. To retain the old behavior, exclude the relevant entries before the concat operation.\n",
      "  predictions = pd.concat([predictions, temp_df], ignore_index=True)\n",
      "/var/folders/x8/v7bmckc139v2dqcm04jgfjlr0000gn/T/ipykernel_3636/3196941531.py:11: FutureWarning: The behavior of DataFrame concatenation with empty or all-NA entries is deprecated. In a future version, this will no longer exclude empty or all-NA columns when determining the result dtypes. To retain the old behavior, exclude the relevant entries before the concat operation.\n",
      "  predictions = pd.concat([predictions, temp_df], ignore_index=True)\n"
     ]
    },
    {
     "name": "stdout",
     "output_type": "stream",
     "text": [
      "Beginning forecast for 2023-06-09 00:00:00\n"
     ]
    },
    {
     "name": "stderr",
     "output_type": "stream",
     "text": [
      "/var/folders/x8/v7bmckc139v2dqcm04jgfjlr0000gn/T/ipykernel_3636/2637449371.py:65: FutureWarning: The behavior of DataFrame concatenation with empty or all-NA entries is deprecated. In a future version, this will no longer exclude empty or all-NA columns when determining the result dtypes. To retain the old behavior, exclude the relevant entries before the concat operation.\n",
      "  all_forecasts = pd.concat([all_forecasts, forecasted_temp])\n",
      "/var/folders/x8/v7bmckc139v2dqcm04jgfjlr0000gn/T/ipykernel_3636/3196941531.py:23: FutureWarning: The behavior of DataFrame concatenation with empty or all-NA entries is deprecated. In a future version, this will no longer exclude empty or all-NA columns when determining the result dtypes. To retain the old behavior, exclude the relevant entries before the concat operation.\n",
      "  predictions = pd.concat([predictions, temp_df], ignore_index=True)\n",
      "/var/folders/x8/v7bmckc139v2dqcm04jgfjlr0000gn/T/ipykernel_3636/3196941531.py:23: FutureWarning: The behavior of DataFrame concatenation with empty or all-NA entries is deprecated. In a future version, this will no longer exclude empty or all-NA columns when determining the result dtypes. To retain the old behavior, exclude the relevant entries before the concat operation.\n",
      "  predictions = pd.concat([predictions, temp_df], ignore_index=True)\n",
      "/var/folders/x8/v7bmckc139v2dqcm04jgfjlr0000gn/T/ipykernel_3636/3196941531.py:23: FutureWarning: The behavior of DataFrame concatenation with empty or all-NA entries is deprecated. In a future version, this will no longer exclude empty or all-NA columns when determining the result dtypes. To retain the old behavior, exclude the relevant entries before the concat operation.\n",
      "  predictions = pd.concat([predictions, temp_df], ignore_index=True)\n",
      "/var/folders/x8/v7bmckc139v2dqcm04jgfjlr0000gn/T/ipykernel_3636/3196941531.py:23: FutureWarning: The behavior of DataFrame concatenation with empty or all-NA entries is deprecated. In a future version, this will no longer exclude empty or all-NA columns when determining the result dtypes. To retain the old behavior, exclude the relevant entries before the concat operation.\n",
      "  predictions = pd.concat([predictions, temp_df], ignore_index=True)\n",
      "/var/folders/x8/v7bmckc139v2dqcm04jgfjlr0000gn/T/ipykernel_3636/3196941531.py:23: FutureWarning: The behavior of DataFrame concatenation with empty or all-NA entries is deprecated. In a future version, this will no longer exclude empty or all-NA columns when determining the result dtypes. To retain the old behavior, exclude the relevant entries before the concat operation.\n",
      "  predictions = pd.concat([predictions, temp_df], ignore_index=True)\n",
      "/var/folders/x8/v7bmckc139v2dqcm04jgfjlr0000gn/T/ipykernel_3636/3196941531.py:23: FutureWarning: The behavior of DataFrame concatenation with empty or all-NA entries is deprecated. In a future version, this will no longer exclude empty or all-NA columns when determining the result dtypes. To retain the old behavior, exclude the relevant entries before the concat operation.\n",
      "  predictions = pd.concat([predictions, temp_df], ignore_index=True)\n"
     ]
    },
    {
     "name": "stdout",
     "output_type": "stream",
     "text": [
      "Beginning forecast for 2023-06-10 00:00:00\n"
     ]
    },
    {
     "name": "stderr",
     "output_type": "stream",
     "text": [
      "/var/folders/x8/v7bmckc139v2dqcm04jgfjlr0000gn/T/ipykernel_3636/3196941531.py:11: FutureWarning: The behavior of DataFrame concatenation with empty or all-NA entries is deprecated. In a future version, this will no longer exclude empty or all-NA columns when determining the result dtypes. To retain the old behavior, exclude the relevant entries before the concat operation.\n",
      "  predictions = pd.concat([predictions, temp_df], ignore_index=True)\n",
      "/var/folders/x8/v7bmckc139v2dqcm04jgfjlr0000gn/T/ipykernel_3636/2637449371.py:65: FutureWarning: The behavior of DataFrame concatenation with empty or all-NA entries is deprecated. In a future version, this will no longer exclude empty or all-NA columns when determining the result dtypes. To retain the old behavior, exclude the relevant entries before the concat operation.\n",
      "  all_forecasts = pd.concat([all_forecasts, forecasted_temp])\n",
      "/var/folders/x8/v7bmckc139v2dqcm04jgfjlr0000gn/T/ipykernel_3636/3196941531.py:23: FutureWarning: The behavior of DataFrame concatenation with empty or all-NA entries is deprecated. In a future version, this will no longer exclude empty or all-NA columns when determining the result dtypes. To retain the old behavior, exclude the relevant entries before the concat operation.\n",
      "  predictions = pd.concat([predictions, temp_df], ignore_index=True)\n",
      "/var/folders/x8/v7bmckc139v2dqcm04jgfjlr0000gn/T/ipykernel_3636/3196941531.py:23: FutureWarning: The behavior of DataFrame concatenation with empty or all-NA entries is deprecated. In a future version, this will no longer exclude empty or all-NA columns when determining the result dtypes. To retain the old behavior, exclude the relevant entries before the concat operation.\n",
      "  predictions = pd.concat([predictions, temp_df], ignore_index=True)\n",
      "/var/folders/x8/v7bmckc139v2dqcm04jgfjlr0000gn/T/ipykernel_3636/3196941531.py:23: FutureWarning: The behavior of DataFrame concatenation with empty or all-NA entries is deprecated. In a future version, this will no longer exclude empty or all-NA columns when determining the result dtypes. To retain the old behavior, exclude the relevant entries before the concat operation.\n",
      "  predictions = pd.concat([predictions, temp_df], ignore_index=True)\n",
      "/var/folders/x8/v7bmckc139v2dqcm04jgfjlr0000gn/T/ipykernel_3636/3196941531.py:23: FutureWarning: The behavior of DataFrame concatenation with empty or all-NA entries is deprecated. In a future version, this will no longer exclude empty or all-NA columns when determining the result dtypes. To retain the old behavior, exclude the relevant entries before the concat operation.\n",
      "  predictions = pd.concat([predictions, temp_df], ignore_index=True)\n",
      "/var/folders/x8/v7bmckc139v2dqcm04jgfjlr0000gn/T/ipykernel_3636/3196941531.py:23: FutureWarning: The behavior of DataFrame concatenation with empty or all-NA entries is deprecated. In a future version, this will no longer exclude empty or all-NA columns when determining the result dtypes. To retain the old behavior, exclude the relevant entries before the concat operation.\n",
      "  predictions = pd.concat([predictions, temp_df], ignore_index=True)\n",
      "/var/folders/x8/v7bmckc139v2dqcm04jgfjlr0000gn/T/ipykernel_3636/3196941531.py:23: FutureWarning: The behavior of DataFrame concatenation with empty or all-NA entries is deprecated. In a future version, this will no longer exclude empty or all-NA columns when determining the result dtypes. To retain the old behavior, exclude the relevant entries before the concat operation.\n",
      "  predictions = pd.concat([predictions, temp_df], ignore_index=True)\n"
     ]
    },
    {
     "name": "stdout",
     "output_type": "stream",
     "text": [
      "Beginning forecast for 2023-06-11 00:00:00\n"
     ]
    },
    {
     "name": "stderr",
     "output_type": "stream",
     "text": [
      "/var/folders/x8/v7bmckc139v2dqcm04jgfjlr0000gn/T/ipykernel_3636/3196941531.py:11: FutureWarning: The behavior of DataFrame concatenation with empty or all-NA entries is deprecated. In a future version, this will no longer exclude empty or all-NA columns when determining the result dtypes. To retain the old behavior, exclude the relevant entries before the concat operation.\n",
      "  predictions = pd.concat([predictions, temp_df], ignore_index=True)\n",
      "/var/folders/x8/v7bmckc139v2dqcm04jgfjlr0000gn/T/ipykernel_3636/2637449371.py:65: FutureWarning: The behavior of DataFrame concatenation with empty or all-NA entries is deprecated. In a future version, this will no longer exclude empty or all-NA columns when determining the result dtypes. To retain the old behavior, exclude the relevant entries before the concat operation.\n",
      "  all_forecasts = pd.concat([all_forecasts, forecasted_temp])\n",
      "/var/folders/x8/v7bmckc139v2dqcm04jgfjlr0000gn/T/ipykernel_3636/3196941531.py:23: FutureWarning: The behavior of DataFrame concatenation with empty or all-NA entries is deprecated. In a future version, this will no longer exclude empty or all-NA columns when determining the result dtypes. To retain the old behavior, exclude the relevant entries before the concat operation.\n",
      "  predictions = pd.concat([predictions, temp_df], ignore_index=True)\n",
      "/var/folders/x8/v7bmckc139v2dqcm04jgfjlr0000gn/T/ipykernel_3636/3196941531.py:23: FutureWarning: The behavior of DataFrame concatenation with empty or all-NA entries is deprecated. In a future version, this will no longer exclude empty or all-NA columns when determining the result dtypes. To retain the old behavior, exclude the relevant entries before the concat operation.\n",
      "  predictions = pd.concat([predictions, temp_df], ignore_index=True)\n",
      "/var/folders/x8/v7bmckc139v2dqcm04jgfjlr0000gn/T/ipykernel_3636/3196941531.py:23: FutureWarning: The behavior of DataFrame concatenation with empty or all-NA entries is deprecated. In a future version, this will no longer exclude empty or all-NA columns when determining the result dtypes. To retain the old behavior, exclude the relevant entries before the concat operation.\n",
      "  predictions = pd.concat([predictions, temp_df], ignore_index=True)\n",
      "/var/folders/x8/v7bmckc139v2dqcm04jgfjlr0000gn/T/ipykernel_3636/3196941531.py:23: FutureWarning: The behavior of DataFrame concatenation with empty or all-NA entries is deprecated. In a future version, this will no longer exclude empty or all-NA columns when determining the result dtypes. To retain the old behavior, exclude the relevant entries before the concat operation.\n",
      "  predictions = pd.concat([predictions, temp_df], ignore_index=True)\n",
      "/var/folders/x8/v7bmckc139v2dqcm04jgfjlr0000gn/T/ipykernel_3636/3196941531.py:23: FutureWarning: The behavior of DataFrame concatenation with empty or all-NA entries is deprecated. In a future version, this will no longer exclude empty or all-NA columns when determining the result dtypes. To retain the old behavior, exclude the relevant entries before the concat operation.\n",
      "  predictions = pd.concat([predictions, temp_df], ignore_index=True)\n",
      "/var/folders/x8/v7bmckc139v2dqcm04jgfjlr0000gn/T/ipykernel_3636/3196941531.py:23: FutureWarning: The behavior of DataFrame concatenation with empty or all-NA entries is deprecated. In a future version, this will no longer exclude empty or all-NA columns when determining the result dtypes. To retain the old behavior, exclude the relevant entries before the concat operation.\n",
      "  predictions = pd.concat([predictions, temp_df], ignore_index=True)\n",
      "/var/folders/x8/v7bmckc139v2dqcm04jgfjlr0000gn/T/ipykernel_3636/3196941531.py:11: FutureWarning: The behavior of DataFrame concatenation with empty or all-NA entries is deprecated. In a future version, this will no longer exclude empty or all-NA columns when determining the result dtypes. To retain the old behavior, exclude the relevant entries before the concat operation.\n",
      "  predictions = pd.concat([predictions, temp_df], ignore_index=True)\n"
     ]
    },
    {
     "name": "stdout",
     "output_type": "stream",
     "text": [
      "Beginning forecast for 2023-06-12 00:00:00\n"
     ]
    },
    {
     "name": "stderr",
     "output_type": "stream",
     "text": [
      "/var/folders/x8/v7bmckc139v2dqcm04jgfjlr0000gn/T/ipykernel_3636/2637449371.py:65: FutureWarning: The behavior of DataFrame concatenation with empty or all-NA entries is deprecated. In a future version, this will no longer exclude empty or all-NA columns when determining the result dtypes. To retain the old behavior, exclude the relevant entries before the concat operation.\n",
      "  all_forecasts = pd.concat([all_forecasts, forecasted_temp])\n",
      "/var/folders/x8/v7bmckc139v2dqcm04jgfjlr0000gn/T/ipykernel_3636/3196941531.py:23: FutureWarning: The behavior of DataFrame concatenation with empty or all-NA entries is deprecated. In a future version, this will no longer exclude empty or all-NA columns when determining the result dtypes. To retain the old behavior, exclude the relevant entries before the concat operation.\n",
      "  predictions = pd.concat([predictions, temp_df], ignore_index=True)\n",
      "/var/folders/x8/v7bmckc139v2dqcm04jgfjlr0000gn/T/ipykernel_3636/3196941531.py:23: FutureWarning: The behavior of DataFrame concatenation with empty or all-NA entries is deprecated. In a future version, this will no longer exclude empty or all-NA columns when determining the result dtypes. To retain the old behavior, exclude the relevant entries before the concat operation.\n",
      "  predictions = pd.concat([predictions, temp_df], ignore_index=True)\n",
      "/var/folders/x8/v7bmckc139v2dqcm04jgfjlr0000gn/T/ipykernel_3636/3196941531.py:23: FutureWarning: The behavior of DataFrame concatenation with empty or all-NA entries is deprecated. In a future version, this will no longer exclude empty or all-NA columns when determining the result dtypes. To retain the old behavior, exclude the relevant entries before the concat operation.\n",
      "  predictions = pd.concat([predictions, temp_df], ignore_index=True)\n",
      "/var/folders/x8/v7bmckc139v2dqcm04jgfjlr0000gn/T/ipykernel_3636/3196941531.py:23: FutureWarning: The behavior of DataFrame concatenation with empty or all-NA entries is deprecated. In a future version, this will no longer exclude empty or all-NA columns when determining the result dtypes. To retain the old behavior, exclude the relevant entries before the concat operation.\n",
      "  predictions = pd.concat([predictions, temp_df], ignore_index=True)\n",
      "/var/folders/x8/v7bmckc139v2dqcm04jgfjlr0000gn/T/ipykernel_3636/3196941531.py:23: FutureWarning: The behavior of DataFrame concatenation with empty or all-NA entries is deprecated. In a future version, this will no longer exclude empty or all-NA columns when determining the result dtypes. To retain the old behavior, exclude the relevant entries before the concat operation.\n",
      "  predictions = pd.concat([predictions, temp_df], ignore_index=True)\n",
      "/var/folders/x8/v7bmckc139v2dqcm04jgfjlr0000gn/T/ipykernel_3636/3196941531.py:23: FutureWarning: The behavior of DataFrame concatenation with empty or all-NA entries is deprecated. In a future version, this will no longer exclude empty or all-NA columns when determining the result dtypes. To retain the old behavior, exclude the relevant entries before the concat operation.\n",
      "  predictions = pd.concat([predictions, temp_df], ignore_index=True)\n"
     ]
    },
    {
     "name": "stdout",
     "output_type": "stream",
     "text": [
      "Beginning forecast for 2023-06-13 00:00:00\n"
     ]
    },
    {
     "name": "stderr",
     "output_type": "stream",
     "text": [
      "/var/folders/x8/v7bmckc139v2dqcm04jgfjlr0000gn/T/ipykernel_3636/3196941531.py:11: FutureWarning: The behavior of DataFrame concatenation with empty or all-NA entries is deprecated. In a future version, this will no longer exclude empty or all-NA columns when determining the result dtypes. To retain the old behavior, exclude the relevant entries before the concat operation.\n",
      "  predictions = pd.concat([predictions, temp_df], ignore_index=True)\n",
      "/var/folders/x8/v7bmckc139v2dqcm04jgfjlr0000gn/T/ipykernel_3636/2637449371.py:65: FutureWarning: The behavior of DataFrame concatenation with empty or all-NA entries is deprecated. In a future version, this will no longer exclude empty or all-NA columns when determining the result dtypes. To retain the old behavior, exclude the relevant entries before the concat operation.\n",
      "  all_forecasts = pd.concat([all_forecasts, forecasted_temp])\n",
      "/var/folders/x8/v7bmckc139v2dqcm04jgfjlr0000gn/T/ipykernel_3636/3196941531.py:23: FutureWarning: The behavior of DataFrame concatenation with empty or all-NA entries is deprecated. In a future version, this will no longer exclude empty or all-NA columns when determining the result dtypes. To retain the old behavior, exclude the relevant entries before the concat operation.\n",
      "  predictions = pd.concat([predictions, temp_df], ignore_index=True)\n",
      "/var/folders/x8/v7bmckc139v2dqcm04jgfjlr0000gn/T/ipykernel_3636/3196941531.py:23: FutureWarning: The behavior of DataFrame concatenation with empty or all-NA entries is deprecated. In a future version, this will no longer exclude empty or all-NA columns when determining the result dtypes. To retain the old behavior, exclude the relevant entries before the concat operation.\n",
      "  predictions = pd.concat([predictions, temp_df], ignore_index=True)\n",
      "/var/folders/x8/v7bmckc139v2dqcm04jgfjlr0000gn/T/ipykernel_3636/3196941531.py:23: FutureWarning: The behavior of DataFrame concatenation with empty or all-NA entries is deprecated. In a future version, this will no longer exclude empty or all-NA columns when determining the result dtypes. To retain the old behavior, exclude the relevant entries before the concat operation.\n",
      "  predictions = pd.concat([predictions, temp_df], ignore_index=True)\n",
      "/var/folders/x8/v7bmckc139v2dqcm04jgfjlr0000gn/T/ipykernel_3636/3196941531.py:23: FutureWarning: The behavior of DataFrame concatenation with empty or all-NA entries is deprecated. In a future version, this will no longer exclude empty or all-NA columns when determining the result dtypes. To retain the old behavior, exclude the relevant entries before the concat operation.\n",
      "  predictions = pd.concat([predictions, temp_df], ignore_index=True)\n",
      "/var/folders/x8/v7bmckc139v2dqcm04jgfjlr0000gn/T/ipykernel_3636/3196941531.py:23: FutureWarning: The behavior of DataFrame concatenation with empty or all-NA entries is deprecated. In a future version, this will no longer exclude empty or all-NA columns when determining the result dtypes. To retain the old behavior, exclude the relevant entries before the concat operation.\n",
      "  predictions = pd.concat([predictions, temp_df], ignore_index=True)\n",
      "/var/folders/x8/v7bmckc139v2dqcm04jgfjlr0000gn/T/ipykernel_3636/3196941531.py:23: FutureWarning: The behavior of DataFrame concatenation with empty or all-NA entries is deprecated. In a future version, this will no longer exclude empty or all-NA columns when determining the result dtypes. To retain the old behavior, exclude the relevant entries before the concat operation.\n",
      "  predictions = pd.concat([predictions, temp_df], ignore_index=True)\n",
      "/var/folders/x8/v7bmckc139v2dqcm04jgfjlr0000gn/T/ipykernel_3636/3196941531.py:11: FutureWarning: The behavior of DataFrame concatenation with empty or all-NA entries is deprecated. In a future version, this will no longer exclude empty or all-NA columns when determining the result dtypes. To retain the old behavior, exclude the relevant entries before the concat operation.\n",
      "  predictions = pd.concat([predictions, temp_df], ignore_index=True)\n"
     ]
    },
    {
     "name": "stdout",
     "output_type": "stream",
     "text": [
      "Beginning forecast for 2023-06-14 00:00:00\n"
     ]
    },
    {
     "name": "stderr",
     "output_type": "stream",
     "text": [
      "/var/folders/x8/v7bmckc139v2dqcm04jgfjlr0000gn/T/ipykernel_3636/2637449371.py:65: FutureWarning: The behavior of DataFrame concatenation with empty or all-NA entries is deprecated. In a future version, this will no longer exclude empty or all-NA columns when determining the result dtypes. To retain the old behavior, exclude the relevant entries before the concat operation.\n",
      "  all_forecasts = pd.concat([all_forecasts, forecasted_temp])\n",
      "/var/folders/x8/v7bmckc139v2dqcm04jgfjlr0000gn/T/ipykernel_3636/3196941531.py:23: FutureWarning: The behavior of DataFrame concatenation with empty or all-NA entries is deprecated. In a future version, this will no longer exclude empty or all-NA columns when determining the result dtypes. To retain the old behavior, exclude the relevant entries before the concat operation.\n",
      "  predictions = pd.concat([predictions, temp_df], ignore_index=True)\n",
      "/var/folders/x8/v7bmckc139v2dqcm04jgfjlr0000gn/T/ipykernel_3636/3196941531.py:23: FutureWarning: The behavior of DataFrame concatenation with empty or all-NA entries is deprecated. In a future version, this will no longer exclude empty or all-NA columns when determining the result dtypes. To retain the old behavior, exclude the relevant entries before the concat operation.\n",
      "  predictions = pd.concat([predictions, temp_df], ignore_index=True)\n",
      "/var/folders/x8/v7bmckc139v2dqcm04jgfjlr0000gn/T/ipykernel_3636/3196941531.py:23: FutureWarning: The behavior of DataFrame concatenation with empty or all-NA entries is deprecated. In a future version, this will no longer exclude empty or all-NA columns when determining the result dtypes. To retain the old behavior, exclude the relevant entries before the concat operation.\n",
      "  predictions = pd.concat([predictions, temp_df], ignore_index=True)\n",
      "/var/folders/x8/v7bmckc139v2dqcm04jgfjlr0000gn/T/ipykernel_3636/3196941531.py:23: FutureWarning: The behavior of DataFrame concatenation with empty or all-NA entries is deprecated. In a future version, this will no longer exclude empty or all-NA columns when determining the result dtypes. To retain the old behavior, exclude the relevant entries before the concat operation.\n",
      "  predictions = pd.concat([predictions, temp_df], ignore_index=True)\n",
      "/var/folders/x8/v7bmckc139v2dqcm04jgfjlr0000gn/T/ipykernel_3636/3196941531.py:23: FutureWarning: The behavior of DataFrame concatenation with empty or all-NA entries is deprecated. In a future version, this will no longer exclude empty or all-NA columns when determining the result dtypes. To retain the old behavior, exclude the relevant entries before the concat operation.\n",
      "  predictions = pd.concat([predictions, temp_df], ignore_index=True)\n",
      "/var/folders/x8/v7bmckc139v2dqcm04jgfjlr0000gn/T/ipykernel_3636/3196941531.py:23: FutureWarning: The behavior of DataFrame concatenation with empty or all-NA entries is deprecated. In a future version, this will no longer exclude empty or all-NA columns when determining the result dtypes. To retain the old behavior, exclude the relevant entries before the concat operation.\n",
      "  predictions = pd.concat([predictions, temp_df], ignore_index=True)\n"
     ]
    },
    {
     "name": "stdout",
     "output_type": "stream",
     "text": [
      "Beginning forecast for 2023-06-15 00:00:00\n"
     ]
    },
    {
     "name": "stderr",
     "output_type": "stream",
     "text": [
      "/var/folders/x8/v7bmckc139v2dqcm04jgfjlr0000gn/T/ipykernel_3636/3196941531.py:11: FutureWarning: The behavior of DataFrame concatenation with empty or all-NA entries is deprecated. In a future version, this will no longer exclude empty or all-NA columns when determining the result dtypes. To retain the old behavior, exclude the relevant entries before the concat operation.\n",
      "  predictions = pd.concat([predictions, temp_df], ignore_index=True)\n",
      "/var/folders/x8/v7bmckc139v2dqcm04jgfjlr0000gn/T/ipykernel_3636/2637449371.py:65: FutureWarning: The behavior of DataFrame concatenation with empty or all-NA entries is deprecated. In a future version, this will no longer exclude empty or all-NA columns when determining the result dtypes. To retain the old behavior, exclude the relevant entries before the concat operation.\n",
      "  all_forecasts = pd.concat([all_forecasts, forecasted_temp])\n",
      "/var/folders/x8/v7bmckc139v2dqcm04jgfjlr0000gn/T/ipykernel_3636/3196941531.py:23: FutureWarning: The behavior of DataFrame concatenation with empty or all-NA entries is deprecated. In a future version, this will no longer exclude empty or all-NA columns when determining the result dtypes. To retain the old behavior, exclude the relevant entries before the concat operation.\n",
      "  predictions = pd.concat([predictions, temp_df], ignore_index=True)\n",
      "/var/folders/x8/v7bmckc139v2dqcm04jgfjlr0000gn/T/ipykernel_3636/3196941531.py:23: FutureWarning: The behavior of DataFrame concatenation with empty or all-NA entries is deprecated. In a future version, this will no longer exclude empty or all-NA columns when determining the result dtypes. To retain the old behavior, exclude the relevant entries before the concat operation.\n",
      "  predictions = pd.concat([predictions, temp_df], ignore_index=True)\n",
      "/var/folders/x8/v7bmckc139v2dqcm04jgfjlr0000gn/T/ipykernel_3636/3196941531.py:23: FutureWarning: The behavior of DataFrame concatenation with empty or all-NA entries is deprecated. In a future version, this will no longer exclude empty or all-NA columns when determining the result dtypes. To retain the old behavior, exclude the relevant entries before the concat operation.\n",
      "  predictions = pd.concat([predictions, temp_df], ignore_index=True)\n",
      "/var/folders/x8/v7bmckc139v2dqcm04jgfjlr0000gn/T/ipykernel_3636/3196941531.py:23: FutureWarning: The behavior of DataFrame concatenation with empty or all-NA entries is deprecated. In a future version, this will no longer exclude empty or all-NA columns when determining the result dtypes. To retain the old behavior, exclude the relevant entries before the concat operation.\n",
      "  predictions = pd.concat([predictions, temp_df], ignore_index=True)\n",
      "/var/folders/x8/v7bmckc139v2dqcm04jgfjlr0000gn/T/ipykernel_3636/3196941531.py:23: FutureWarning: The behavior of DataFrame concatenation with empty or all-NA entries is deprecated. In a future version, this will no longer exclude empty or all-NA columns when determining the result dtypes. To retain the old behavior, exclude the relevant entries before the concat operation.\n",
      "  predictions = pd.concat([predictions, temp_df], ignore_index=True)\n",
      "/var/folders/x8/v7bmckc139v2dqcm04jgfjlr0000gn/T/ipykernel_3636/3196941531.py:23: FutureWarning: The behavior of DataFrame concatenation with empty or all-NA entries is deprecated. In a future version, this will no longer exclude empty or all-NA columns when determining the result dtypes. To retain the old behavior, exclude the relevant entries before the concat operation.\n",
      "  predictions = pd.concat([predictions, temp_df], ignore_index=True)\n",
      "/var/folders/x8/v7bmckc139v2dqcm04jgfjlr0000gn/T/ipykernel_3636/3196941531.py:11: FutureWarning: The behavior of DataFrame concatenation with empty or all-NA entries is deprecated. In a future version, this will no longer exclude empty or all-NA columns when determining the result dtypes. To retain the old behavior, exclude the relevant entries before the concat operation.\n",
      "  predictions = pd.concat([predictions, temp_df], ignore_index=True)\n"
     ]
    },
    {
     "name": "stdout",
     "output_type": "stream",
     "text": [
      "Beginning forecast for 2023-06-16 00:00:00\n"
     ]
    },
    {
     "name": "stderr",
     "output_type": "stream",
     "text": [
      "/var/folders/x8/v7bmckc139v2dqcm04jgfjlr0000gn/T/ipykernel_3636/2637449371.py:65: FutureWarning: The behavior of DataFrame concatenation with empty or all-NA entries is deprecated. In a future version, this will no longer exclude empty or all-NA columns when determining the result dtypes. To retain the old behavior, exclude the relevant entries before the concat operation.\n",
      "  all_forecasts = pd.concat([all_forecasts, forecasted_temp])\n",
      "/var/folders/x8/v7bmckc139v2dqcm04jgfjlr0000gn/T/ipykernel_3636/3196941531.py:23: FutureWarning: The behavior of DataFrame concatenation with empty or all-NA entries is deprecated. In a future version, this will no longer exclude empty or all-NA columns when determining the result dtypes. To retain the old behavior, exclude the relevant entries before the concat operation.\n",
      "  predictions = pd.concat([predictions, temp_df], ignore_index=True)\n",
      "/var/folders/x8/v7bmckc139v2dqcm04jgfjlr0000gn/T/ipykernel_3636/3196941531.py:23: FutureWarning: The behavior of DataFrame concatenation with empty or all-NA entries is deprecated. In a future version, this will no longer exclude empty or all-NA columns when determining the result dtypes. To retain the old behavior, exclude the relevant entries before the concat operation.\n",
      "  predictions = pd.concat([predictions, temp_df], ignore_index=True)\n",
      "/var/folders/x8/v7bmckc139v2dqcm04jgfjlr0000gn/T/ipykernel_3636/3196941531.py:23: FutureWarning: The behavior of DataFrame concatenation with empty or all-NA entries is deprecated. In a future version, this will no longer exclude empty or all-NA columns when determining the result dtypes. To retain the old behavior, exclude the relevant entries before the concat operation.\n",
      "  predictions = pd.concat([predictions, temp_df], ignore_index=True)\n",
      "/var/folders/x8/v7bmckc139v2dqcm04jgfjlr0000gn/T/ipykernel_3636/3196941531.py:23: FutureWarning: The behavior of DataFrame concatenation with empty or all-NA entries is deprecated. In a future version, this will no longer exclude empty or all-NA columns when determining the result dtypes. To retain the old behavior, exclude the relevant entries before the concat operation.\n",
      "  predictions = pd.concat([predictions, temp_df], ignore_index=True)\n",
      "/var/folders/x8/v7bmckc139v2dqcm04jgfjlr0000gn/T/ipykernel_3636/3196941531.py:23: FutureWarning: The behavior of DataFrame concatenation with empty or all-NA entries is deprecated. In a future version, this will no longer exclude empty or all-NA columns when determining the result dtypes. To retain the old behavior, exclude the relevant entries before the concat operation.\n",
      "  predictions = pd.concat([predictions, temp_df], ignore_index=True)\n",
      "/var/folders/x8/v7bmckc139v2dqcm04jgfjlr0000gn/T/ipykernel_3636/3196941531.py:23: FutureWarning: The behavior of DataFrame concatenation with empty or all-NA entries is deprecated. In a future version, this will no longer exclude empty or all-NA columns when determining the result dtypes. To retain the old behavior, exclude the relevant entries before the concat operation.\n",
      "  predictions = pd.concat([predictions, temp_df], ignore_index=True)\n"
     ]
    },
    {
     "name": "stdout",
     "output_type": "stream",
     "text": [
      "Beginning forecast for 2023-06-17 00:00:00\n"
     ]
    },
    {
     "name": "stderr",
     "output_type": "stream",
     "text": [
      "/var/folders/x8/v7bmckc139v2dqcm04jgfjlr0000gn/T/ipykernel_3636/3196941531.py:11: FutureWarning: The behavior of DataFrame concatenation with empty or all-NA entries is deprecated. In a future version, this will no longer exclude empty or all-NA columns when determining the result dtypes. To retain the old behavior, exclude the relevant entries before the concat operation.\n",
      "  predictions = pd.concat([predictions, temp_df], ignore_index=True)\n",
      "/var/folders/x8/v7bmckc139v2dqcm04jgfjlr0000gn/T/ipykernel_3636/2637449371.py:65: FutureWarning: The behavior of DataFrame concatenation with empty or all-NA entries is deprecated. In a future version, this will no longer exclude empty or all-NA columns when determining the result dtypes. To retain the old behavior, exclude the relevant entries before the concat operation.\n",
      "  all_forecasts = pd.concat([all_forecasts, forecasted_temp])\n",
      "/var/folders/x8/v7bmckc139v2dqcm04jgfjlr0000gn/T/ipykernel_3636/3196941531.py:23: FutureWarning: The behavior of DataFrame concatenation with empty or all-NA entries is deprecated. In a future version, this will no longer exclude empty or all-NA columns when determining the result dtypes. To retain the old behavior, exclude the relevant entries before the concat operation.\n",
      "  predictions = pd.concat([predictions, temp_df], ignore_index=True)\n",
      "/var/folders/x8/v7bmckc139v2dqcm04jgfjlr0000gn/T/ipykernel_3636/3196941531.py:23: FutureWarning: The behavior of DataFrame concatenation with empty or all-NA entries is deprecated. In a future version, this will no longer exclude empty or all-NA columns when determining the result dtypes. To retain the old behavior, exclude the relevant entries before the concat operation.\n",
      "  predictions = pd.concat([predictions, temp_df], ignore_index=True)\n",
      "/var/folders/x8/v7bmckc139v2dqcm04jgfjlr0000gn/T/ipykernel_3636/3196941531.py:23: FutureWarning: The behavior of DataFrame concatenation with empty or all-NA entries is deprecated. In a future version, this will no longer exclude empty or all-NA columns when determining the result dtypes. To retain the old behavior, exclude the relevant entries before the concat operation.\n",
      "  predictions = pd.concat([predictions, temp_df], ignore_index=True)\n",
      "/var/folders/x8/v7bmckc139v2dqcm04jgfjlr0000gn/T/ipykernel_3636/3196941531.py:23: FutureWarning: The behavior of DataFrame concatenation with empty or all-NA entries is deprecated. In a future version, this will no longer exclude empty or all-NA columns when determining the result dtypes. To retain the old behavior, exclude the relevant entries before the concat operation.\n",
      "  predictions = pd.concat([predictions, temp_df], ignore_index=True)\n",
      "/var/folders/x8/v7bmckc139v2dqcm04jgfjlr0000gn/T/ipykernel_3636/3196941531.py:23: FutureWarning: The behavior of DataFrame concatenation with empty or all-NA entries is deprecated. In a future version, this will no longer exclude empty or all-NA columns when determining the result dtypes. To retain the old behavior, exclude the relevant entries before the concat operation.\n",
      "  predictions = pd.concat([predictions, temp_df], ignore_index=True)\n",
      "/var/folders/x8/v7bmckc139v2dqcm04jgfjlr0000gn/T/ipykernel_3636/3196941531.py:23: FutureWarning: The behavior of DataFrame concatenation with empty or all-NA entries is deprecated. In a future version, this will no longer exclude empty or all-NA columns when determining the result dtypes. To retain the old behavior, exclude the relevant entries before the concat operation.\n",
      "  predictions = pd.concat([predictions, temp_df], ignore_index=True)\n",
      "/var/folders/x8/v7bmckc139v2dqcm04jgfjlr0000gn/T/ipykernel_3636/3196941531.py:11: FutureWarning: The behavior of DataFrame concatenation with empty or all-NA entries is deprecated. In a future version, this will no longer exclude empty or all-NA columns when determining the result dtypes. To retain the old behavior, exclude the relevant entries before the concat operation.\n",
      "  predictions = pd.concat([predictions, temp_df], ignore_index=True)\n"
     ]
    },
    {
     "name": "stdout",
     "output_type": "stream",
     "text": [
      "Beginning forecast for 2023-06-18 00:00:00\n"
     ]
    },
    {
     "name": "stderr",
     "output_type": "stream",
     "text": [
      "/var/folders/x8/v7bmckc139v2dqcm04jgfjlr0000gn/T/ipykernel_3636/2637449371.py:65: FutureWarning: The behavior of DataFrame concatenation with empty or all-NA entries is deprecated. In a future version, this will no longer exclude empty or all-NA columns when determining the result dtypes. To retain the old behavior, exclude the relevant entries before the concat operation.\n",
      "  all_forecasts = pd.concat([all_forecasts, forecasted_temp])\n",
      "/var/folders/x8/v7bmckc139v2dqcm04jgfjlr0000gn/T/ipykernel_3636/3196941531.py:23: FutureWarning: The behavior of DataFrame concatenation with empty or all-NA entries is deprecated. In a future version, this will no longer exclude empty or all-NA columns when determining the result dtypes. To retain the old behavior, exclude the relevant entries before the concat operation.\n",
      "  predictions = pd.concat([predictions, temp_df], ignore_index=True)\n",
      "/var/folders/x8/v7bmckc139v2dqcm04jgfjlr0000gn/T/ipykernel_3636/3196941531.py:23: FutureWarning: The behavior of DataFrame concatenation with empty or all-NA entries is deprecated. In a future version, this will no longer exclude empty or all-NA columns when determining the result dtypes. To retain the old behavior, exclude the relevant entries before the concat operation.\n",
      "  predictions = pd.concat([predictions, temp_df], ignore_index=True)\n",
      "/var/folders/x8/v7bmckc139v2dqcm04jgfjlr0000gn/T/ipykernel_3636/3196941531.py:23: FutureWarning: The behavior of DataFrame concatenation with empty or all-NA entries is deprecated. In a future version, this will no longer exclude empty or all-NA columns when determining the result dtypes. To retain the old behavior, exclude the relevant entries before the concat operation.\n",
      "  predictions = pd.concat([predictions, temp_df], ignore_index=True)\n",
      "/var/folders/x8/v7bmckc139v2dqcm04jgfjlr0000gn/T/ipykernel_3636/3196941531.py:23: FutureWarning: The behavior of DataFrame concatenation with empty or all-NA entries is deprecated. In a future version, this will no longer exclude empty or all-NA columns when determining the result dtypes. To retain the old behavior, exclude the relevant entries before the concat operation.\n",
      "  predictions = pd.concat([predictions, temp_df], ignore_index=True)\n",
      "/var/folders/x8/v7bmckc139v2dqcm04jgfjlr0000gn/T/ipykernel_3636/3196941531.py:23: FutureWarning: The behavior of DataFrame concatenation with empty or all-NA entries is deprecated. In a future version, this will no longer exclude empty or all-NA columns when determining the result dtypes. To retain the old behavior, exclude the relevant entries before the concat operation.\n",
      "  predictions = pd.concat([predictions, temp_df], ignore_index=True)\n",
      "/var/folders/x8/v7bmckc139v2dqcm04jgfjlr0000gn/T/ipykernel_3636/3196941531.py:23: FutureWarning: The behavior of DataFrame concatenation with empty or all-NA entries is deprecated. In a future version, this will no longer exclude empty or all-NA columns when determining the result dtypes. To retain the old behavior, exclude the relevant entries before the concat operation.\n",
      "  predictions = pd.concat([predictions, temp_df], ignore_index=True)\n"
     ]
    },
    {
     "name": "stdout",
     "output_type": "stream",
     "text": [
      "Beginning forecast for 2023-06-19 00:00:00\n"
     ]
    },
    {
     "name": "stderr",
     "output_type": "stream",
     "text": [
      "/var/folders/x8/v7bmckc139v2dqcm04jgfjlr0000gn/T/ipykernel_3636/3196941531.py:11: FutureWarning: The behavior of DataFrame concatenation with empty or all-NA entries is deprecated. In a future version, this will no longer exclude empty or all-NA columns when determining the result dtypes. To retain the old behavior, exclude the relevant entries before the concat operation.\n",
      "  predictions = pd.concat([predictions, temp_df], ignore_index=True)\n",
      "/var/folders/x8/v7bmckc139v2dqcm04jgfjlr0000gn/T/ipykernel_3636/2637449371.py:65: FutureWarning: The behavior of DataFrame concatenation with empty or all-NA entries is deprecated. In a future version, this will no longer exclude empty or all-NA columns when determining the result dtypes. To retain the old behavior, exclude the relevant entries before the concat operation.\n",
      "  all_forecasts = pd.concat([all_forecasts, forecasted_temp])\n",
      "/var/folders/x8/v7bmckc139v2dqcm04jgfjlr0000gn/T/ipykernel_3636/3196941531.py:23: FutureWarning: The behavior of DataFrame concatenation with empty or all-NA entries is deprecated. In a future version, this will no longer exclude empty or all-NA columns when determining the result dtypes. To retain the old behavior, exclude the relevant entries before the concat operation.\n",
      "  predictions = pd.concat([predictions, temp_df], ignore_index=True)\n",
      "/var/folders/x8/v7bmckc139v2dqcm04jgfjlr0000gn/T/ipykernel_3636/3196941531.py:23: FutureWarning: The behavior of DataFrame concatenation with empty or all-NA entries is deprecated. In a future version, this will no longer exclude empty or all-NA columns when determining the result dtypes. To retain the old behavior, exclude the relevant entries before the concat operation.\n",
      "  predictions = pd.concat([predictions, temp_df], ignore_index=True)\n",
      "/var/folders/x8/v7bmckc139v2dqcm04jgfjlr0000gn/T/ipykernel_3636/3196941531.py:23: FutureWarning: The behavior of DataFrame concatenation with empty or all-NA entries is deprecated. In a future version, this will no longer exclude empty or all-NA columns when determining the result dtypes. To retain the old behavior, exclude the relevant entries before the concat operation.\n",
      "  predictions = pd.concat([predictions, temp_df], ignore_index=True)\n",
      "/var/folders/x8/v7bmckc139v2dqcm04jgfjlr0000gn/T/ipykernel_3636/3196941531.py:23: FutureWarning: The behavior of DataFrame concatenation with empty or all-NA entries is deprecated. In a future version, this will no longer exclude empty or all-NA columns when determining the result dtypes. To retain the old behavior, exclude the relevant entries before the concat operation.\n",
      "  predictions = pd.concat([predictions, temp_df], ignore_index=True)\n",
      "/var/folders/x8/v7bmckc139v2dqcm04jgfjlr0000gn/T/ipykernel_3636/3196941531.py:23: FutureWarning: The behavior of DataFrame concatenation with empty or all-NA entries is deprecated. In a future version, this will no longer exclude empty or all-NA columns when determining the result dtypes. To retain the old behavior, exclude the relevant entries before the concat operation.\n",
      "  predictions = pd.concat([predictions, temp_df], ignore_index=True)\n",
      "/var/folders/x8/v7bmckc139v2dqcm04jgfjlr0000gn/T/ipykernel_3636/3196941531.py:23: FutureWarning: The behavior of DataFrame concatenation with empty or all-NA entries is deprecated. In a future version, this will no longer exclude empty or all-NA columns when determining the result dtypes. To retain the old behavior, exclude the relevant entries before the concat operation.\n",
      "  predictions = pd.concat([predictions, temp_df], ignore_index=True)\n",
      "/var/folders/x8/v7bmckc139v2dqcm04jgfjlr0000gn/T/ipykernel_3636/3196941531.py:11: FutureWarning: The behavior of DataFrame concatenation with empty or all-NA entries is deprecated. In a future version, this will no longer exclude empty or all-NA columns when determining the result dtypes. To retain the old behavior, exclude the relevant entries before the concat operation.\n",
      "  predictions = pd.concat([predictions, temp_df], ignore_index=True)\n"
     ]
    },
    {
     "name": "stdout",
     "output_type": "stream",
     "text": [
      "Beginning forecast for 2023-06-20 00:00:00\n"
     ]
    },
    {
     "name": "stderr",
     "output_type": "stream",
     "text": [
      "/var/folders/x8/v7bmckc139v2dqcm04jgfjlr0000gn/T/ipykernel_3636/2637449371.py:65: FutureWarning: The behavior of DataFrame concatenation with empty or all-NA entries is deprecated. In a future version, this will no longer exclude empty or all-NA columns when determining the result dtypes. To retain the old behavior, exclude the relevant entries before the concat operation.\n",
      "  all_forecasts = pd.concat([all_forecasts, forecasted_temp])\n",
      "/var/folders/x8/v7bmckc139v2dqcm04jgfjlr0000gn/T/ipykernel_3636/3196941531.py:23: FutureWarning: The behavior of DataFrame concatenation with empty or all-NA entries is deprecated. In a future version, this will no longer exclude empty or all-NA columns when determining the result dtypes. To retain the old behavior, exclude the relevant entries before the concat operation.\n",
      "  predictions = pd.concat([predictions, temp_df], ignore_index=True)\n",
      "/var/folders/x8/v7bmckc139v2dqcm04jgfjlr0000gn/T/ipykernel_3636/3196941531.py:23: FutureWarning: The behavior of DataFrame concatenation with empty or all-NA entries is deprecated. In a future version, this will no longer exclude empty or all-NA columns when determining the result dtypes. To retain the old behavior, exclude the relevant entries before the concat operation.\n",
      "  predictions = pd.concat([predictions, temp_df], ignore_index=True)\n",
      "/var/folders/x8/v7bmckc139v2dqcm04jgfjlr0000gn/T/ipykernel_3636/3196941531.py:23: FutureWarning: The behavior of DataFrame concatenation with empty or all-NA entries is deprecated. In a future version, this will no longer exclude empty or all-NA columns when determining the result dtypes. To retain the old behavior, exclude the relevant entries before the concat operation.\n",
      "  predictions = pd.concat([predictions, temp_df], ignore_index=True)\n",
      "/var/folders/x8/v7bmckc139v2dqcm04jgfjlr0000gn/T/ipykernel_3636/3196941531.py:23: FutureWarning: The behavior of DataFrame concatenation with empty or all-NA entries is deprecated. In a future version, this will no longer exclude empty or all-NA columns when determining the result dtypes. To retain the old behavior, exclude the relevant entries before the concat operation.\n",
      "  predictions = pd.concat([predictions, temp_df], ignore_index=True)\n",
      "/var/folders/x8/v7bmckc139v2dqcm04jgfjlr0000gn/T/ipykernel_3636/3196941531.py:23: FutureWarning: The behavior of DataFrame concatenation with empty or all-NA entries is deprecated. In a future version, this will no longer exclude empty or all-NA columns when determining the result dtypes. To retain the old behavior, exclude the relevant entries before the concat operation.\n",
      "  predictions = pd.concat([predictions, temp_df], ignore_index=True)\n",
      "/var/folders/x8/v7bmckc139v2dqcm04jgfjlr0000gn/T/ipykernel_3636/3196941531.py:23: FutureWarning: The behavior of DataFrame concatenation with empty or all-NA entries is deprecated. In a future version, this will no longer exclude empty or all-NA columns when determining the result dtypes. To retain the old behavior, exclude the relevant entries before the concat operation.\n",
      "  predictions = pd.concat([predictions, temp_df], ignore_index=True)\n"
     ]
    },
    {
     "name": "stdout",
     "output_type": "stream",
     "text": [
      "Beginning forecast for 2023-06-21 00:00:00\n"
     ]
    },
    {
     "name": "stderr",
     "output_type": "stream",
     "text": [
      "/var/folders/x8/v7bmckc139v2dqcm04jgfjlr0000gn/T/ipykernel_3636/3196941531.py:11: FutureWarning: The behavior of DataFrame concatenation with empty or all-NA entries is deprecated. In a future version, this will no longer exclude empty or all-NA columns when determining the result dtypes. To retain the old behavior, exclude the relevant entries before the concat operation.\n",
      "  predictions = pd.concat([predictions, temp_df], ignore_index=True)\n",
      "/var/folders/x8/v7bmckc139v2dqcm04jgfjlr0000gn/T/ipykernel_3636/2637449371.py:65: FutureWarning: The behavior of DataFrame concatenation with empty or all-NA entries is deprecated. In a future version, this will no longer exclude empty or all-NA columns when determining the result dtypes. To retain the old behavior, exclude the relevant entries before the concat operation.\n",
      "  all_forecasts = pd.concat([all_forecasts, forecasted_temp])\n",
      "/var/folders/x8/v7bmckc139v2dqcm04jgfjlr0000gn/T/ipykernel_3636/3196941531.py:23: FutureWarning: The behavior of DataFrame concatenation with empty or all-NA entries is deprecated. In a future version, this will no longer exclude empty or all-NA columns when determining the result dtypes. To retain the old behavior, exclude the relevant entries before the concat operation.\n",
      "  predictions = pd.concat([predictions, temp_df], ignore_index=True)\n",
      "/var/folders/x8/v7bmckc139v2dqcm04jgfjlr0000gn/T/ipykernel_3636/3196941531.py:23: FutureWarning: The behavior of DataFrame concatenation with empty or all-NA entries is deprecated. In a future version, this will no longer exclude empty or all-NA columns when determining the result dtypes. To retain the old behavior, exclude the relevant entries before the concat operation.\n",
      "  predictions = pd.concat([predictions, temp_df], ignore_index=True)\n",
      "/var/folders/x8/v7bmckc139v2dqcm04jgfjlr0000gn/T/ipykernel_3636/3196941531.py:23: FutureWarning: The behavior of DataFrame concatenation with empty or all-NA entries is deprecated. In a future version, this will no longer exclude empty or all-NA columns when determining the result dtypes. To retain the old behavior, exclude the relevant entries before the concat operation.\n",
      "  predictions = pd.concat([predictions, temp_df], ignore_index=True)\n",
      "/var/folders/x8/v7bmckc139v2dqcm04jgfjlr0000gn/T/ipykernel_3636/3196941531.py:23: FutureWarning: The behavior of DataFrame concatenation with empty or all-NA entries is deprecated. In a future version, this will no longer exclude empty or all-NA columns when determining the result dtypes. To retain the old behavior, exclude the relevant entries before the concat operation.\n",
      "  predictions = pd.concat([predictions, temp_df], ignore_index=True)\n",
      "/var/folders/x8/v7bmckc139v2dqcm04jgfjlr0000gn/T/ipykernel_3636/3196941531.py:23: FutureWarning: The behavior of DataFrame concatenation with empty or all-NA entries is deprecated. In a future version, this will no longer exclude empty or all-NA columns when determining the result dtypes. To retain the old behavior, exclude the relevant entries before the concat operation.\n",
      "  predictions = pd.concat([predictions, temp_df], ignore_index=True)\n",
      "/var/folders/x8/v7bmckc139v2dqcm04jgfjlr0000gn/T/ipykernel_3636/3196941531.py:23: FutureWarning: The behavior of DataFrame concatenation with empty or all-NA entries is deprecated. In a future version, this will no longer exclude empty or all-NA columns when determining the result dtypes. To retain the old behavior, exclude the relevant entries before the concat operation.\n",
      "  predictions = pd.concat([predictions, temp_df], ignore_index=True)\n",
      "/var/folders/x8/v7bmckc139v2dqcm04jgfjlr0000gn/T/ipykernel_3636/3196941531.py:11: FutureWarning: The behavior of DataFrame concatenation with empty or all-NA entries is deprecated. In a future version, this will no longer exclude empty or all-NA columns when determining the result dtypes. To retain the old behavior, exclude the relevant entries before the concat operation.\n",
      "  predictions = pd.concat([predictions, temp_df], ignore_index=True)\n"
     ]
    },
    {
     "name": "stdout",
     "output_type": "stream",
     "text": [
      "Beginning forecast for 2023-06-22 00:00:00\n"
     ]
    },
    {
     "name": "stderr",
     "output_type": "stream",
     "text": [
      "/var/folders/x8/v7bmckc139v2dqcm04jgfjlr0000gn/T/ipykernel_3636/2637449371.py:65: FutureWarning: The behavior of DataFrame concatenation with empty or all-NA entries is deprecated. In a future version, this will no longer exclude empty or all-NA columns when determining the result dtypes. To retain the old behavior, exclude the relevant entries before the concat operation.\n",
      "  all_forecasts = pd.concat([all_forecasts, forecasted_temp])\n",
      "/var/folders/x8/v7bmckc139v2dqcm04jgfjlr0000gn/T/ipykernel_3636/3196941531.py:23: FutureWarning: The behavior of DataFrame concatenation with empty or all-NA entries is deprecated. In a future version, this will no longer exclude empty or all-NA columns when determining the result dtypes. To retain the old behavior, exclude the relevant entries before the concat operation.\n",
      "  predictions = pd.concat([predictions, temp_df], ignore_index=True)\n",
      "/var/folders/x8/v7bmckc139v2dqcm04jgfjlr0000gn/T/ipykernel_3636/3196941531.py:23: FutureWarning: The behavior of DataFrame concatenation with empty or all-NA entries is deprecated. In a future version, this will no longer exclude empty or all-NA columns when determining the result dtypes. To retain the old behavior, exclude the relevant entries before the concat operation.\n",
      "  predictions = pd.concat([predictions, temp_df], ignore_index=True)\n",
      "/var/folders/x8/v7bmckc139v2dqcm04jgfjlr0000gn/T/ipykernel_3636/3196941531.py:23: FutureWarning: The behavior of DataFrame concatenation with empty or all-NA entries is deprecated. In a future version, this will no longer exclude empty or all-NA columns when determining the result dtypes. To retain the old behavior, exclude the relevant entries before the concat operation.\n",
      "  predictions = pd.concat([predictions, temp_df], ignore_index=True)\n",
      "/var/folders/x8/v7bmckc139v2dqcm04jgfjlr0000gn/T/ipykernel_3636/3196941531.py:23: FutureWarning: The behavior of DataFrame concatenation with empty or all-NA entries is deprecated. In a future version, this will no longer exclude empty or all-NA columns when determining the result dtypes. To retain the old behavior, exclude the relevant entries before the concat operation.\n",
      "  predictions = pd.concat([predictions, temp_df], ignore_index=True)\n",
      "/var/folders/x8/v7bmckc139v2dqcm04jgfjlr0000gn/T/ipykernel_3636/3196941531.py:23: FutureWarning: The behavior of DataFrame concatenation with empty or all-NA entries is deprecated. In a future version, this will no longer exclude empty or all-NA columns when determining the result dtypes. To retain the old behavior, exclude the relevant entries before the concat operation.\n",
      "  predictions = pd.concat([predictions, temp_df], ignore_index=True)\n",
      "/var/folders/x8/v7bmckc139v2dqcm04jgfjlr0000gn/T/ipykernel_3636/3196941531.py:23: FutureWarning: The behavior of DataFrame concatenation with empty or all-NA entries is deprecated. In a future version, this will no longer exclude empty or all-NA columns when determining the result dtypes. To retain the old behavior, exclude the relevant entries before the concat operation.\n",
      "  predictions = pd.concat([predictions, temp_df], ignore_index=True)\n",
      "/var/folders/x8/v7bmckc139v2dqcm04jgfjlr0000gn/T/ipykernel_3636/3196941531.py:11: FutureWarning: The behavior of DataFrame concatenation with empty or all-NA entries is deprecated. In a future version, this will no longer exclude empty or all-NA columns when determining the result dtypes. To retain the old behavior, exclude the relevant entries before the concat operation.\n",
      "  predictions = pd.concat([predictions, temp_df], ignore_index=True)\n"
     ]
    },
    {
     "name": "stdout",
     "output_type": "stream",
     "text": [
      "Beginning forecast for 2023-06-23 00:00:00\n"
     ]
    },
    {
     "name": "stderr",
     "output_type": "stream",
     "text": [
      "/var/folders/x8/v7bmckc139v2dqcm04jgfjlr0000gn/T/ipykernel_3636/2637449371.py:65: FutureWarning: The behavior of DataFrame concatenation with empty or all-NA entries is deprecated. In a future version, this will no longer exclude empty or all-NA columns when determining the result dtypes. To retain the old behavior, exclude the relevant entries before the concat operation.\n",
      "  all_forecasts = pd.concat([all_forecasts, forecasted_temp])\n",
      "/var/folders/x8/v7bmckc139v2dqcm04jgfjlr0000gn/T/ipykernel_3636/3196941531.py:23: FutureWarning: The behavior of DataFrame concatenation with empty or all-NA entries is deprecated. In a future version, this will no longer exclude empty or all-NA columns when determining the result dtypes. To retain the old behavior, exclude the relevant entries before the concat operation.\n",
      "  predictions = pd.concat([predictions, temp_df], ignore_index=True)\n",
      "/var/folders/x8/v7bmckc139v2dqcm04jgfjlr0000gn/T/ipykernel_3636/3196941531.py:23: FutureWarning: The behavior of DataFrame concatenation with empty or all-NA entries is deprecated. In a future version, this will no longer exclude empty or all-NA columns when determining the result dtypes. To retain the old behavior, exclude the relevant entries before the concat operation.\n",
      "  predictions = pd.concat([predictions, temp_df], ignore_index=True)\n",
      "/var/folders/x8/v7bmckc139v2dqcm04jgfjlr0000gn/T/ipykernel_3636/3196941531.py:23: FutureWarning: The behavior of DataFrame concatenation with empty or all-NA entries is deprecated. In a future version, this will no longer exclude empty or all-NA columns when determining the result dtypes. To retain the old behavior, exclude the relevant entries before the concat operation.\n",
      "  predictions = pd.concat([predictions, temp_df], ignore_index=True)\n",
      "/var/folders/x8/v7bmckc139v2dqcm04jgfjlr0000gn/T/ipykernel_3636/3196941531.py:23: FutureWarning: The behavior of DataFrame concatenation with empty or all-NA entries is deprecated. In a future version, this will no longer exclude empty or all-NA columns when determining the result dtypes. To retain the old behavior, exclude the relevant entries before the concat operation.\n",
      "  predictions = pd.concat([predictions, temp_df], ignore_index=True)\n",
      "/var/folders/x8/v7bmckc139v2dqcm04jgfjlr0000gn/T/ipykernel_3636/3196941531.py:23: FutureWarning: The behavior of DataFrame concatenation with empty or all-NA entries is deprecated. In a future version, this will no longer exclude empty or all-NA columns when determining the result dtypes. To retain the old behavior, exclude the relevant entries before the concat operation.\n",
      "  predictions = pd.concat([predictions, temp_df], ignore_index=True)\n",
      "/var/folders/x8/v7bmckc139v2dqcm04jgfjlr0000gn/T/ipykernel_3636/3196941531.py:23: FutureWarning: The behavior of DataFrame concatenation with empty or all-NA entries is deprecated. In a future version, this will no longer exclude empty or all-NA columns when determining the result dtypes. To retain the old behavior, exclude the relevant entries before the concat operation.\n",
      "  predictions = pd.concat([predictions, temp_df], ignore_index=True)\n"
     ]
    },
    {
     "name": "stdout",
     "output_type": "stream",
     "text": [
      "Beginning forecast for 2023-06-24 00:00:00\n"
     ]
    },
    {
     "name": "stderr",
     "output_type": "stream",
     "text": [
      "/var/folders/x8/v7bmckc139v2dqcm04jgfjlr0000gn/T/ipykernel_3636/3196941531.py:11: FutureWarning: The behavior of DataFrame concatenation with empty or all-NA entries is deprecated. In a future version, this will no longer exclude empty or all-NA columns when determining the result dtypes. To retain the old behavior, exclude the relevant entries before the concat operation.\n",
      "  predictions = pd.concat([predictions, temp_df], ignore_index=True)\n",
      "/var/folders/x8/v7bmckc139v2dqcm04jgfjlr0000gn/T/ipykernel_3636/2637449371.py:65: FutureWarning: The behavior of DataFrame concatenation with empty or all-NA entries is deprecated. In a future version, this will no longer exclude empty or all-NA columns when determining the result dtypes. To retain the old behavior, exclude the relevant entries before the concat operation.\n",
      "  all_forecasts = pd.concat([all_forecasts, forecasted_temp])\n",
      "/var/folders/x8/v7bmckc139v2dqcm04jgfjlr0000gn/T/ipykernel_3636/3196941531.py:23: FutureWarning: The behavior of DataFrame concatenation with empty or all-NA entries is deprecated. In a future version, this will no longer exclude empty or all-NA columns when determining the result dtypes. To retain the old behavior, exclude the relevant entries before the concat operation.\n",
      "  predictions = pd.concat([predictions, temp_df], ignore_index=True)\n",
      "/var/folders/x8/v7bmckc139v2dqcm04jgfjlr0000gn/T/ipykernel_3636/3196941531.py:23: FutureWarning: The behavior of DataFrame concatenation with empty or all-NA entries is deprecated. In a future version, this will no longer exclude empty or all-NA columns when determining the result dtypes. To retain the old behavior, exclude the relevant entries before the concat operation.\n",
      "  predictions = pd.concat([predictions, temp_df], ignore_index=True)\n",
      "/var/folders/x8/v7bmckc139v2dqcm04jgfjlr0000gn/T/ipykernel_3636/3196941531.py:23: FutureWarning: The behavior of DataFrame concatenation with empty or all-NA entries is deprecated. In a future version, this will no longer exclude empty or all-NA columns when determining the result dtypes. To retain the old behavior, exclude the relevant entries before the concat operation.\n",
      "  predictions = pd.concat([predictions, temp_df], ignore_index=True)\n",
      "/var/folders/x8/v7bmckc139v2dqcm04jgfjlr0000gn/T/ipykernel_3636/3196941531.py:23: FutureWarning: The behavior of DataFrame concatenation with empty or all-NA entries is deprecated. In a future version, this will no longer exclude empty or all-NA columns when determining the result dtypes. To retain the old behavior, exclude the relevant entries before the concat operation.\n",
      "  predictions = pd.concat([predictions, temp_df], ignore_index=True)\n",
      "/var/folders/x8/v7bmckc139v2dqcm04jgfjlr0000gn/T/ipykernel_3636/3196941531.py:23: FutureWarning: The behavior of DataFrame concatenation with empty or all-NA entries is deprecated. In a future version, this will no longer exclude empty or all-NA columns when determining the result dtypes. To retain the old behavior, exclude the relevant entries before the concat operation.\n",
      "  predictions = pd.concat([predictions, temp_df], ignore_index=True)\n",
      "/var/folders/x8/v7bmckc139v2dqcm04jgfjlr0000gn/T/ipykernel_3636/3196941531.py:23: FutureWarning: The behavior of DataFrame concatenation with empty or all-NA entries is deprecated. In a future version, this will no longer exclude empty or all-NA columns when determining the result dtypes. To retain the old behavior, exclude the relevant entries before the concat operation.\n",
      "  predictions = pd.concat([predictions, temp_df], ignore_index=True)\n",
      "/var/folders/x8/v7bmckc139v2dqcm04jgfjlr0000gn/T/ipykernel_3636/3196941531.py:11: FutureWarning: The behavior of DataFrame concatenation with empty or all-NA entries is deprecated. In a future version, this will no longer exclude empty or all-NA columns when determining the result dtypes. To retain the old behavior, exclude the relevant entries before the concat operation.\n",
      "  predictions = pd.concat([predictions, temp_df], ignore_index=True)\n"
     ]
    },
    {
     "name": "stdout",
     "output_type": "stream",
     "text": [
      "Beginning forecast for 2023-06-25 00:00:00\n"
     ]
    },
    {
     "name": "stderr",
     "output_type": "stream",
     "text": [
      "/var/folders/x8/v7bmckc139v2dqcm04jgfjlr0000gn/T/ipykernel_3636/2637449371.py:65: FutureWarning: The behavior of DataFrame concatenation with empty or all-NA entries is deprecated. In a future version, this will no longer exclude empty or all-NA columns when determining the result dtypes. To retain the old behavior, exclude the relevant entries before the concat operation.\n",
      "  all_forecasts = pd.concat([all_forecasts, forecasted_temp])\n",
      "/var/folders/x8/v7bmckc139v2dqcm04jgfjlr0000gn/T/ipykernel_3636/3196941531.py:23: FutureWarning: The behavior of DataFrame concatenation with empty or all-NA entries is deprecated. In a future version, this will no longer exclude empty or all-NA columns when determining the result dtypes. To retain the old behavior, exclude the relevant entries before the concat operation.\n",
      "  predictions = pd.concat([predictions, temp_df], ignore_index=True)\n",
      "/var/folders/x8/v7bmckc139v2dqcm04jgfjlr0000gn/T/ipykernel_3636/3196941531.py:23: FutureWarning: The behavior of DataFrame concatenation with empty or all-NA entries is deprecated. In a future version, this will no longer exclude empty or all-NA columns when determining the result dtypes. To retain the old behavior, exclude the relevant entries before the concat operation.\n",
      "  predictions = pd.concat([predictions, temp_df], ignore_index=True)\n",
      "/var/folders/x8/v7bmckc139v2dqcm04jgfjlr0000gn/T/ipykernel_3636/3196941531.py:23: FutureWarning: The behavior of DataFrame concatenation with empty or all-NA entries is deprecated. In a future version, this will no longer exclude empty or all-NA columns when determining the result dtypes. To retain the old behavior, exclude the relevant entries before the concat operation.\n",
      "  predictions = pd.concat([predictions, temp_df], ignore_index=True)\n",
      "/var/folders/x8/v7bmckc139v2dqcm04jgfjlr0000gn/T/ipykernel_3636/3196941531.py:23: FutureWarning: The behavior of DataFrame concatenation with empty or all-NA entries is deprecated. In a future version, this will no longer exclude empty or all-NA columns when determining the result dtypes. To retain the old behavior, exclude the relevant entries before the concat operation.\n",
      "  predictions = pd.concat([predictions, temp_df], ignore_index=True)\n",
      "/var/folders/x8/v7bmckc139v2dqcm04jgfjlr0000gn/T/ipykernel_3636/3196941531.py:23: FutureWarning: The behavior of DataFrame concatenation with empty or all-NA entries is deprecated. In a future version, this will no longer exclude empty or all-NA columns when determining the result dtypes. To retain the old behavior, exclude the relevant entries before the concat operation.\n",
      "  predictions = pd.concat([predictions, temp_df], ignore_index=True)\n",
      "/var/folders/x8/v7bmckc139v2dqcm04jgfjlr0000gn/T/ipykernel_3636/3196941531.py:23: FutureWarning: The behavior of DataFrame concatenation with empty or all-NA entries is deprecated. In a future version, this will no longer exclude empty or all-NA columns when determining the result dtypes. To retain the old behavior, exclude the relevant entries before the concat operation.\n",
      "  predictions = pd.concat([predictions, temp_df], ignore_index=True)\n"
     ]
    },
    {
     "name": "stdout",
     "output_type": "stream",
     "text": [
      "Beginning forecast for 2023-06-26 00:00:00\n"
     ]
    },
    {
     "name": "stderr",
     "output_type": "stream",
     "text": [
      "/var/folders/x8/v7bmckc139v2dqcm04jgfjlr0000gn/T/ipykernel_3636/3196941531.py:11: FutureWarning: The behavior of DataFrame concatenation with empty or all-NA entries is deprecated. In a future version, this will no longer exclude empty or all-NA columns when determining the result dtypes. To retain the old behavior, exclude the relevant entries before the concat operation.\n",
      "  predictions = pd.concat([predictions, temp_df], ignore_index=True)\n",
      "/var/folders/x8/v7bmckc139v2dqcm04jgfjlr0000gn/T/ipykernel_3636/2637449371.py:65: FutureWarning: The behavior of DataFrame concatenation with empty or all-NA entries is deprecated. In a future version, this will no longer exclude empty or all-NA columns when determining the result dtypes. To retain the old behavior, exclude the relevant entries before the concat operation.\n",
      "  all_forecasts = pd.concat([all_forecasts, forecasted_temp])\n",
      "/var/folders/x8/v7bmckc139v2dqcm04jgfjlr0000gn/T/ipykernel_3636/3196941531.py:23: FutureWarning: The behavior of DataFrame concatenation with empty or all-NA entries is deprecated. In a future version, this will no longer exclude empty or all-NA columns when determining the result dtypes. To retain the old behavior, exclude the relevant entries before the concat operation.\n",
      "  predictions = pd.concat([predictions, temp_df], ignore_index=True)\n",
      "/var/folders/x8/v7bmckc139v2dqcm04jgfjlr0000gn/T/ipykernel_3636/3196941531.py:23: FutureWarning: The behavior of DataFrame concatenation with empty or all-NA entries is deprecated. In a future version, this will no longer exclude empty or all-NA columns when determining the result dtypes. To retain the old behavior, exclude the relevant entries before the concat operation.\n",
      "  predictions = pd.concat([predictions, temp_df], ignore_index=True)\n",
      "/var/folders/x8/v7bmckc139v2dqcm04jgfjlr0000gn/T/ipykernel_3636/3196941531.py:23: FutureWarning: The behavior of DataFrame concatenation with empty or all-NA entries is deprecated. In a future version, this will no longer exclude empty or all-NA columns when determining the result dtypes. To retain the old behavior, exclude the relevant entries before the concat operation.\n",
      "  predictions = pd.concat([predictions, temp_df], ignore_index=True)\n",
      "/var/folders/x8/v7bmckc139v2dqcm04jgfjlr0000gn/T/ipykernel_3636/3196941531.py:23: FutureWarning: The behavior of DataFrame concatenation with empty or all-NA entries is deprecated. In a future version, this will no longer exclude empty or all-NA columns when determining the result dtypes. To retain the old behavior, exclude the relevant entries before the concat operation.\n",
      "  predictions = pd.concat([predictions, temp_df], ignore_index=True)\n",
      "/var/folders/x8/v7bmckc139v2dqcm04jgfjlr0000gn/T/ipykernel_3636/3196941531.py:23: FutureWarning: The behavior of DataFrame concatenation with empty or all-NA entries is deprecated. In a future version, this will no longer exclude empty or all-NA columns when determining the result dtypes. To retain the old behavior, exclude the relevant entries before the concat operation.\n",
      "  predictions = pd.concat([predictions, temp_df], ignore_index=True)\n",
      "/var/folders/x8/v7bmckc139v2dqcm04jgfjlr0000gn/T/ipykernel_3636/3196941531.py:23: FutureWarning: The behavior of DataFrame concatenation with empty or all-NA entries is deprecated. In a future version, this will no longer exclude empty or all-NA columns when determining the result dtypes. To retain the old behavior, exclude the relevant entries before the concat operation.\n",
      "  predictions = pd.concat([predictions, temp_df], ignore_index=True)\n",
      "/var/folders/x8/v7bmckc139v2dqcm04jgfjlr0000gn/T/ipykernel_3636/3196941531.py:11: FutureWarning: The behavior of DataFrame concatenation with empty or all-NA entries is deprecated. In a future version, this will no longer exclude empty or all-NA columns when determining the result dtypes. To retain the old behavior, exclude the relevant entries before the concat operation.\n",
      "  predictions = pd.concat([predictions, temp_df], ignore_index=True)\n"
     ]
    },
    {
     "name": "stdout",
     "output_type": "stream",
     "text": [
      "Beginning forecast for 2023-06-27 00:00:00\n"
     ]
    },
    {
     "name": "stderr",
     "output_type": "stream",
     "text": [
      "/var/folders/x8/v7bmckc139v2dqcm04jgfjlr0000gn/T/ipykernel_3636/2637449371.py:65: FutureWarning: The behavior of DataFrame concatenation with empty or all-NA entries is deprecated. In a future version, this will no longer exclude empty or all-NA columns when determining the result dtypes. To retain the old behavior, exclude the relevant entries before the concat operation.\n",
      "  all_forecasts = pd.concat([all_forecasts, forecasted_temp])\n",
      "/var/folders/x8/v7bmckc139v2dqcm04jgfjlr0000gn/T/ipykernel_3636/3196941531.py:23: FutureWarning: The behavior of DataFrame concatenation with empty or all-NA entries is deprecated. In a future version, this will no longer exclude empty or all-NA columns when determining the result dtypes. To retain the old behavior, exclude the relevant entries before the concat operation.\n",
      "  predictions = pd.concat([predictions, temp_df], ignore_index=True)\n",
      "/var/folders/x8/v7bmckc139v2dqcm04jgfjlr0000gn/T/ipykernel_3636/3196941531.py:23: FutureWarning: The behavior of DataFrame concatenation with empty or all-NA entries is deprecated. In a future version, this will no longer exclude empty or all-NA columns when determining the result dtypes. To retain the old behavior, exclude the relevant entries before the concat operation.\n",
      "  predictions = pd.concat([predictions, temp_df], ignore_index=True)\n",
      "/var/folders/x8/v7bmckc139v2dqcm04jgfjlr0000gn/T/ipykernel_3636/3196941531.py:23: FutureWarning: The behavior of DataFrame concatenation with empty or all-NA entries is deprecated. In a future version, this will no longer exclude empty or all-NA columns when determining the result dtypes. To retain the old behavior, exclude the relevant entries before the concat operation.\n",
      "  predictions = pd.concat([predictions, temp_df], ignore_index=True)\n",
      "/var/folders/x8/v7bmckc139v2dqcm04jgfjlr0000gn/T/ipykernel_3636/3196941531.py:23: FutureWarning: The behavior of DataFrame concatenation with empty or all-NA entries is deprecated. In a future version, this will no longer exclude empty or all-NA columns when determining the result dtypes. To retain the old behavior, exclude the relevant entries before the concat operation.\n",
      "  predictions = pd.concat([predictions, temp_df], ignore_index=True)\n",
      "/var/folders/x8/v7bmckc139v2dqcm04jgfjlr0000gn/T/ipykernel_3636/3196941531.py:23: FutureWarning: The behavior of DataFrame concatenation with empty or all-NA entries is deprecated. In a future version, this will no longer exclude empty or all-NA columns when determining the result dtypes. To retain the old behavior, exclude the relevant entries before the concat operation.\n",
      "  predictions = pd.concat([predictions, temp_df], ignore_index=True)\n",
      "/var/folders/x8/v7bmckc139v2dqcm04jgfjlr0000gn/T/ipykernel_3636/3196941531.py:23: FutureWarning: The behavior of DataFrame concatenation with empty or all-NA entries is deprecated. In a future version, this will no longer exclude empty or all-NA columns when determining the result dtypes. To retain the old behavior, exclude the relevant entries before the concat operation.\n",
      "  predictions = pd.concat([predictions, temp_df], ignore_index=True)\n"
     ]
    },
    {
     "name": "stdout",
     "output_type": "stream",
     "text": [
      "Beginning forecast for 2023-06-28 00:00:00\n"
     ]
    },
    {
     "name": "stderr",
     "output_type": "stream",
     "text": [
      "/var/folders/x8/v7bmckc139v2dqcm04jgfjlr0000gn/T/ipykernel_3636/3196941531.py:11: FutureWarning: The behavior of DataFrame concatenation with empty or all-NA entries is deprecated. In a future version, this will no longer exclude empty or all-NA columns when determining the result dtypes. To retain the old behavior, exclude the relevant entries before the concat operation.\n",
      "  predictions = pd.concat([predictions, temp_df], ignore_index=True)\n",
      "/var/folders/x8/v7bmckc139v2dqcm04jgfjlr0000gn/T/ipykernel_3636/2637449371.py:65: FutureWarning: The behavior of DataFrame concatenation with empty or all-NA entries is deprecated. In a future version, this will no longer exclude empty or all-NA columns when determining the result dtypes. To retain the old behavior, exclude the relevant entries before the concat operation.\n",
      "  all_forecasts = pd.concat([all_forecasts, forecasted_temp])\n",
      "/var/folders/x8/v7bmckc139v2dqcm04jgfjlr0000gn/T/ipykernel_3636/3196941531.py:23: FutureWarning: The behavior of DataFrame concatenation with empty or all-NA entries is deprecated. In a future version, this will no longer exclude empty or all-NA columns when determining the result dtypes. To retain the old behavior, exclude the relevant entries before the concat operation.\n",
      "  predictions = pd.concat([predictions, temp_df], ignore_index=True)\n",
      "/var/folders/x8/v7bmckc139v2dqcm04jgfjlr0000gn/T/ipykernel_3636/3196941531.py:23: FutureWarning: The behavior of DataFrame concatenation with empty or all-NA entries is deprecated. In a future version, this will no longer exclude empty or all-NA columns when determining the result dtypes. To retain the old behavior, exclude the relevant entries before the concat operation.\n",
      "  predictions = pd.concat([predictions, temp_df], ignore_index=True)\n",
      "/var/folders/x8/v7bmckc139v2dqcm04jgfjlr0000gn/T/ipykernel_3636/3196941531.py:23: FutureWarning: The behavior of DataFrame concatenation with empty or all-NA entries is deprecated. In a future version, this will no longer exclude empty or all-NA columns when determining the result dtypes. To retain the old behavior, exclude the relevant entries before the concat operation.\n",
      "  predictions = pd.concat([predictions, temp_df], ignore_index=True)\n",
      "/var/folders/x8/v7bmckc139v2dqcm04jgfjlr0000gn/T/ipykernel_3636/3196941531.py:23: FutureWarning: The behavior of DataFrame concatenation with empty or all-NA entries is deprecated. In a future version, this will no longer exclude empty or all-NA columns when determining the result dtypes. To retain the old behavior, exclude the relevant entries before the concat operation.\n",
      "  predictions = pd.concat([predictions, temp_df], ignore_index=True)\n",
      "/var/folders/x8/v7bmckc139v2dqcm04jgfjlr0000gn/T/ipykernel_3636/3196941531.py:23: FutureWarning: The behavior of DataFrame concatenation with empty or all-NA entries is deprecated. In a future version, this will no longer exclude empty or all-NA columns when determining the result dtypes. To retain the old behavior, exclude the relevant entries before the concat operation.\n",
      "  predictions = pd.concat([predictions, temp_df], ignore_index=True)\n",
      "/var/folders/x8/v7bmckc139v2dqcm04jgfjlr0000gn/T/ipykernel_3636/3196941531.py:23: FutureWarning: The behavior of DataFrame concatenation with empty or all-NA entries is deprecated. In a future version, this will no longer exclude empty or all-NA columns when determining the result dtypes. To retain the old behavior, exclude the relevant entries before the concat operation.\n",
      "  predictions = pd.concat([predictions, temp_df], ignore_index=True)\n",
      "/var/folders/x8/v7bmckc139v2dqcm04jgfjlr0000gn/T/ipykernel_3636/3196941531.py:11: FutureWarning: The behavior of DataFrame concatenation with empty or all-NA entries is deprecated. In a future version, this will no longer exclude empty or all-NA columns when determining the result dtypes. To retain the old behavior, exclude the relevant entries before the concat operation.\n",
      "  predictions = pd.concat([predictions, temp_df], ignore_index=True)\n"
     ]
    },
    {
     "name": "stdout",
     "output_type": "stream",
     "text": [
      "Beginning forecast for 2023-06-29 00:00:00\n"
     ]
    },
    {
     "name": "stderr",
     "output_type": "stream",
     "text": [
      "/var/folders/x8/v7bmckc139v2dqcm04jgfjlr0000gn/T/ipykernel_3636/2637449371.py:65: FutureWarning: The behavior of DataFrame concatenation with empty or all-NA entries is deprecated. In a future version, this will no longer exclude empty or all-NA columns when determining the result dtypes. To retain the old behavior, exclude the relevant entries before the concat operation.\n",
      "  all_forecasts = pd.concat([all_forecasts, forecasted_temp])\n",
      "/var/folders/x8/v7bmckc139v2dqcm04jgfjlr0000gn/T/ipykernel_3636/3196941531.py:23: FutureWarning: The behavior of DataFrame concatenation with empty or all-NA entries is deprecated. In a future version, this will no longer exclude empty or all-NA columns when determining the result dtypes. To retain the old behavior, exclude the relevant entries before the concat operation.\n",
      "  predictions = pd.concat([predictions, temp_df], ignore_index=True)\n",
      "/var/folders/x8/v7bmckc139v2dqcm04jgfjlr0000gn/T/ipykernel_3636/3196941531.py:23: FutureWarning: The behavior of DataFrame concatenation with empty or all-NA entries is deprecated. In a future version, this will no longer exclude empty or all-NA columns when determining the result dtypes. To retain the old behavior, exclude the relevant entries before the concat operation.\n",
      "  predictions = pd.concat([predictions, temp_df], ignore_index=True)\n",
      "/var/folders/x8/v7bmckc139v2dqcm04jgfjlr0000gn/T/ipykernel_3636/3196941531.py:23: FutureWarning: The behavior of DataFrame concatenation with empty or all-NA entries is deprecated. In a future version, this will no longer exclude empty or all-NA columns when determining the result dtypes. To retain the old behavior, exclude the relevant entries before the concat operation.\n",
      "  predictions = pd.concat([predictions, temp_df], ignore_index=True)\n",
      "/var/folders/x8/v7bmckc139v2dqcm04jgfjlr0000gn/T/ipykernel_3636/3196941531.py:23: FutureWarning: The behavior of DataFrame concatenation with empty or all-NA entries is deprecated. In a future version, this will no longer exclude empty or all-NA columns when determining the result dtypes. To retain the old behavior, exclude the relevant entries before the concat operation.\n",
      "  predictions = pd.concat([predictions, temp_df], ignore_index=True)\n",
      "/var/folders/x8/v7bmckc139v2dqcm04jgfjlr0000gn/T/ipykernel_3636/3196941531.py:23: FutureWarning: The behavior of DataFrame concatenation with empty or all-NA entries is deprecated. In a future version, this will no longer exclude empty or all-NA columns when determining the result dtypes. To retain the old behavior, exclude the relevant entries before the concat operation.\n",
      "  predictions = pd.concat([predictions, temp_df], ignore_index=True)\n",
      "/var/folders/x8/v7bmckc139v2dqcm04jgfjlr0000gn/T/ipykernel_3636/3196941531.py:23: FutureWarning: The behavior of DataFrame concatenation with empty or all-NA entries is deprecated. In a future version, this will no longer exclude empty or all-NA columns when determining the result dtypes. To retain the old behavior, exclude the relevant entries before the concat operation.\n",
      "  predictions = pd.concat([predictions, temp_df], ignore_index=True)\n"
     ]
    },
    {
     "name": "stdout",
     "output_type": "stream",
     "text": [
      "Beginning forecast for 2023-06-30 00:00:00\n"
     ]
    },
    {
     "name": "stderr",
     "output_type": "stream",
     "text": [
      "/var/folders/x8/v7bmckc139v2dqcm04jgfjlr0000gn/T/ipykernel_3636/3196941531.py:11: FutureWarning: The behavior of DataFrame concatenation with empty or all-NA entries is deprecated. In a future version, this will no longer exclude empty or all-NA columns when determining the result dtypes. To retain the old behavior, exclude the relevant entries before the concat operation.\n",
      "  predictions = pd.concat([predictions, temp_df], ignore_index=True)\n",
      "/var/folders/x8/v7bmckc139v2dqcm04jgfjlr0000gn/T/ipykernel_3636/2637449371.py:65: FutureWarning: The behavior of DataFrame concatenation with empty or all-NA entries is deprecated. In a future version, this will no longer exclude empty or all-NA columns when determining the result dtypes. To retain the old behavior, exclude the relevant entries before the concat operation.\n",
      "  all_forecasts = pd.concat([all_forecasts, forecasted_temp])\n",
      "/var/folders/x8/v7bmckc139v2dqcm04jgfjlr0000gn/T/ipykernel_3636/3196941531.py:23: FutureWarning: The behavior of DataFrame concatenation with empty or all-NA entries is deprecated. In a future version, this will no longer exclude empty or all-NA columns when determining the result dtypes. To retain the old behavior, exclude the relevant entries before the concat operation.\n",
      "  predictions = pd.concat([predictions, temp_df], ignore_index=True)\n",
      "/var/folders/x8/v7bmckc139v2dqcm04jgfjlr0000gn/T/ipykernel_3636/3196941531.py:23: FutureWarning: The behavior of DataFrame concatenation with empty or all-NA entries is deprecated. In a future version, this will no longer exclude empty or all-NA columns when determining the result dtypes. To retain the old behavior, exclude the relevant entries before the concat operation.\n",
      "  predictions = pd.concat([predictions, temp_df], ignore_index=True)\n",
      "/var/folders/x8/v7bmckc139v2dqcm04jgfjlr0000gn/T/ipykernel_3636/3196941531.py:23: FutureWarning: The behavior of DataFrame concatenation with empty or all-NA entries is deprecated. In a future version, this will no longer exclude empty or all-NA columns when determining the result dtypes. To retain the old behavior, exclude the relevant entries before the concat operation.\n",
      "  predictions = pd.concat([predictions, temp_df], ignore_index=True)\n",
      "/var/folders/x8/v7bmckc139v2dqcm04jgfjlr0000gn/T/ipykernel_3636/3196941531.py:23: FutureWarning: The behavior of DataFrame concatenation with empty or all-NA entries is deprecated. In a future version, this will no longer exclude empty or all-NA columns when determining the result dtypes. To retain the old behavior, exclude the relevant entries before the concat operation.\n",
      "  predictions = pd.concat([predictions, temp_df], ignore_index=True)\n",
      "/var/folders/x8/v7bmckc139v2dqcm04jgfjlr0000gn/T/ipykernel_3636/3196941531.py:23: FutureWarning: The behavior of DataFrame concatenation with empty or all-NA entries is deprecated. In a future version, this will no longer exclude empty or all-NA columns when determining the result dtypes. To retain the old behavior, exclude the relevant entries before the concat operation.\n",
      "  predictions = pd.concat([predictions, temp_df], ignore_index=True)\n",
      "/var/folders/x8/v7bmckc139v2dqcm04jgfjlr0000gn/T/ipykernel_3636/3196941531.py:23: FutureWarning: The behavior of DataFrame concatenation with empty or all-NA entries is deprecated. In a future version, this will no longer exclude empty or all-NA columns when determining the result dtypes. To retain the old behavior, exclude the relevant entries before the concat operation.\n",
      "  predictions = pd.concat([predictions, temp_df], ignore_index=True)\n",
      "/var/folders/x8/v7bmckc139v2dqcm04jgfjlr0000gn/T/ipykernel_3636/3196941531.py:11: FutureWarning: The behavior of DataFrame concatenation with empty or all-NA entries is deprecated. In a future version, this will no longer exclude empty or all-NA columns when determining the result dtypes. To retain the old behavior, exclude the relevant entries before the concat operation.\n",
      "  predictions = pd.concat([predictions, temp_df], ignore_index=True)\n"
     ]
    },
    {
     "name": "stdout",
     "output_type": "stream",
     "text": [
      "Beginning forecast for 2023-07-01 00:00:00\n"
     ]
    },
    {
     "name": "stderr",
     "output_type": "stream",
     "text": [
      "/var/folders/x8/v7bmckc139v2dqcm04jgfjlr0000gn/T/ipykernel_3636/2637449371.py:65: FutureWarning: The behavior of DataFrame concatenation with empty or all-NA entries is deprecated. In a future version, this will no longer exclude empty or all-NA columns when determining the result dtypes. To retain the old behavior, exclude the relevant entries before the concat operation.\n",
      "  all_forecasts = pd.concat([all_forecasts, forecasted_temp])\n",
      "/var/folders/x8/v7bmckc139v2dqcm04jgfjlr0000gn/T/ipykernel_3636/3196941531.py:23: FutureWarning: The behavior of DataFrame concatenation with empty or all-NA entries is deprecated. In a future version, this will no longer exclude empty or all-NA columns when determining the result dtypes. To retain the old behavior, exclude the relevant entries before the concat operation.\n",
      "  predictions = pd.concat([predictions, temp_df], ignore_index=True)\n",
      "/var/folders/x8/v7bmckc139v2dqcm04jgfjlr0000gn/T/ipykernel_3636/3196941531.py:23: FutureWarning: The behavior of DataFrame concatenation with empty or all-NA entries is deprecated. In a future version, this will no longer exclude empty or all-NA columns when determining the result dtypes. To retain the old behavior, exclude the relevant entries before the concat operation.\n",
      "  predictions = pd.concat([predictions, temp_df], ignore_index=True)\n",
      "/var/folders/x8/v7bmckc139v2dqcm04jgfjlr0000gn/T/ipykernel_3636/3196941531.py:23: FutureWarning: The behavior of DataFrame concatenation with empty or all-NA entries is deprecated. In a future version, this will no longer exclude empty or all-NA columns when determining the result dtypes. To retain the old behavior, exclude the relevant entries before the concat operation.\n",
      "  predictions = pd.concat([predictions, temp_df], ignore_index=True)\n",
      "/var/folders/x8/v7bmckc139v2dqcm04jgfjlr0000gn/T/ipykernel_3636/3196941531.py:23: FutureWarning: The behavior of DataFrame concatenation with empty or all-NA entries is deprecated. In a future version, this will no longer exclude empty or all-NA columns when determining the result dtypes. To retain the old behavior, exclude the relevant entries before the concat operation.\n",
      "  predictions = pd.concat([predictions, temp_df], ignore_index=True)\n",
      "/var/folders/x8/v7bmckc139v2dqcm04jgfjlr0000gn/T/ipykernel_3636/3196941531.py:23: FutureWarning: The behavior of DataFrame concatenation with empty or all-NA entries is deprecated. In a future version, this will no longer exclude empty or all-NA columns when determining the result dtypes. To retain the old behavior, exclude the relevant entries before the concat operation.\n",
      "  predictions = pd.concat([predictions, temp_df], ignore_index=True)\n",
      "/var/folders/x8/v7bmckc139v2dqcm04jgfjlr0000gn/T/ipykernel_3636/3196941531.py:23: FutureWarning: The behavior of DataFrame concatenation with empty or all-NA entries is deprecated. In a future version, this will no longer exclude empty or all-NA columns when determining the result dtypes. To retain the old behavior, exclude the relevant entries before the concat operation.\n",
      "  predictions = pd.concat([predictions, temp_df], ignore_index=True)\n"
     ]
    },
    {
     "name": "stdout",
     "output_type": "stream",
     "text": [
      "Beginning forecast for 2023-07-02 00:00:00\n"
     ]
    },
    {
     "name": "stderr",
     "output_type": "stream",
     "text": [
      "/var/folders/x8/v7bmckc139v2dqcm04jgfjlr0000gn/T/ipykernel_3636/3196941531.py:11: FutureWarning: The behavior of DataFrame concatenation with empty or all-NA entries is deprecated. In a future version, this will no longer exclude empty or all-NA columns when determining the result dtypes. To retain the old behavior, exclude the relevant entries before the concat operation.\n",
      "  predictions = pd.concat([predictions, temp_df], ignore_index=True)\n",
      "/var/folders/x8/v7bmckc139v2dqcm04jgfjlr0000gn/T/ipykernel_3636/2637449371.py:65: FutureWarning: The behavior of DataFrame concatenation with empty or all-NA entries is deprecated. In a future version, this will no longer exclude empty or all-NA columns when determining the result dtypes. To retain the old behavior, exclude the relevant entries before the concat operation.\n",
      "  all_forecasts = pd.concat([all_forecasts, forecasted_temp])\n",
      "/var/folders/x8/v7bmckc139v2dqcm04jgfjlr0000gn/T/ipykernel_3636/3196941531.py:23: FutureWarning: The behavior of DataFrame concatenation with empty or all-NA entries is deprecated. In a future version, this will no longer exclude empty or all-NA columns when determining the result dtypes. To retain the old behavior, exclude the relevant entries before the concat operation.\n",
      "  predictions = pd.concat([predictions, temp_df], ignore_index=True)\n",
      "/var/folders/x8/v7bmckc139v2dqcm04jgfjlr0000gn/T/ipykernel_3636/3196941531.py:23: FutureWarning: The behavior of DataFrame concatenation with empty or all-NA entries is deprecated. In a future version, this will no longer exclude empty or all-NA columns when determining the result dtypes. To retain the old behavior, exclude the relevant entries before the concat operation.\n",
      "  predictions = pd.concat([predictions, temp_df], ignore_index=True)\n",
      "/var/folders/x8/v7bmckc139v2dqcm04jgfjlr0000gn/T/ipykernel_3636/3196941531.py:23: FutureWarning: The behavior of DataFrame concatenation with empty or all-NA entries is deprecated. In a future version, this will no longer exclude empty or all-NA columns when determining the result dtypes. To retain the old behavior, exclude the relevant entries before the concat operation.\n",
      "  predictions = pd.concat([predictions, temp_df], ignore_index=True)\n",
      "/var/folders/x8/v7bmckc139v2dqcm04jgfjlr0000gn/T/ipykernel_3636/3196941531.py:23: FutureWarning: The behavior of DataFrame concatenation with empty or all-NA entries is deprecated. In a future version, this will no longer exclude empty or all-NA columns when determining the result dtypes. To retain the old behavior, exclude the relevant entries before the concat operation.\n",
      "  predictions = pd.concat([predictions, temp_df], ignore_index=True)\n",
      "/var/folders/x8/v7bmckc139v2dqcm04jgfjlr0000gn/T/ipykernel_3636/3196941531.py:23: FutureWarning: The behavior of DataFrame concatenation with empty or all-NA entries is deprecated. In a future version, this will no longer exclude empty or all-NA columns when determining the result dtypes. To retain the old behavior, exclude the relevant entries before the concat operation.\n",
      "  predictions = pd.concat([predictions, temp_df], ignore_index=True)\n",
      "/var/folders/x8/v7bmckc139v2dqcm04jgfjlr0000gn/T/ipykernel_3636/3196941531.py:23: FutureWarning: The behavior of DataFrame concatenation with empty or all-NA entries is deprecated. In a future version, this will no longer exclude empty or all-NA columns when determining the result dtypes. To retain the old behavior, exclude the relevant entries before the concat operation.\n",
      "  predictions = pd.concat([predictions, temp_df], ignore_index=True)\n"
     ]
    },
    {
     "name": "stdout",
     "output_type": "stream",
     "text": [
      "Beginning forecast for 2023-07-03 00:00:00\n"
     ]
    },
    {
     "name": "stderr",
     "output_type": "stream",
     "text": [
      "/var/folders/x8/v7bmckc139v2dqcm04jgfjlr0000gn/T/ipykernel_3636/3196941531.py:11: FutureWarning: The behavior of DataFrame concatenation with empty or all-NA entries is deprecated. In a future version, this will no longer exclude empty or all-NA columns when determining the result dtypes. To retain the old behavior, exclude the relevant entries before the concat operation.\n",
      "  predictions = pd.concat([predictions, temp_df], ignore_index=True)\n",
      "/var/folders/x8/v7bmckc139v2dqcm04jgfjlr0000gn/T/ipykernel_3636/2637449371.py:65: FutureWarning: The behavior of DataFrame concatenation with empty or all-NA entries is deprecated. In a future version, this will no longer exclude empty or all-NA columns when determining the result dtypes. To retain the old behavior, exclude the relevant entries before the concat operation.\n",
      "  all_forecasts = pd.concat([all_forecasts, forecasted_temp])\n",
      "/var/folders/x8/v7bmckc139v2dqcm04jgfjlr0000gn/T/ipykernel_3636/3196941531.py:23: FutureWarning: The behavior of DataFrame concatenation with empty or all-NA entries is deprecated. In a future version, this will no longer exclude empty or all-NA columns when determining the result dtypes. To retain the old behavior, exclude the relevant entries before the concat operation.\n",
      "  predictions = pd.concat([predictions, temp_df], ignore_index=True)\n",
      "/var/folders/x8/v7bmckc139v2dqcm04jgfjlr0000gn/T/ipykernel_3636/3196941531.py:23: FutureWarning: The behavior of DataFrame concatenation with empty or all-NA entries is deprecated. In a future version, this will no longer exclude empty or all-NA columns when determining the result dtypes. To retain the old behavior, exclude the relevant entries before the concat operation.\n",
      "  predictions = pd.concat([predictions, temp_df], ignore_index=True)\n",
      "/var/folders/x8/v7bmckc139v2dqcm04jgfjlr0000gn/T/ipykernel_3636/3196941531.py:23: FutureWarning: The behavior of DataFrame concatenation with empty or all-NA entries is deprecated. In a future version, this will no longer exclude empty or all-NA columns when determining the result dtypes. To retain the old behavior, exclude the relevant entries before the concat operation.\n",
      "  predictions = pd.concat([predictions, temp_df], ignore_index=True)\n",
      "/var/folders/x8/v7bmckc139v2dqcm04jgfjlr0000gn/T/ipykernel_3636/3196941531.py:23: FutureWarning: The behavior of DataFrame concatenation with empty or all-NA entries is deprecated. In a future version, this will no longer exclude empty or all-NA columns when determining the result dtypes. To retain the old behavior, exclude the relevant entries before the concat operation.\n",
      "  predictions = pd.concat([predictions, temp_df], ignore_index=True)\n",
      "/var/folders/x8/v7bmckc139v2dqcm04jgfjlr0000gn/T/ipykernel_3636/3196941531.py:23: FutureWarning: The behavior of DataFrame concatenation with empty or all-NA entries is deprecated. In a future version, this will no longer exclude empty or all-NA columns when determining the result dtypes. To retain the old behavior, exclude the relevant entries before the concat operation.\n",
      "  predictions = pd.concat([predictions, temp_df], ignore_index=True)\n",
      "/var/folders/x8/v7bmckc139v2dqcm04jgfjlr0000gn/T/ipykernel_3636/3196941531.py:23: FutureWarning: The behavior of DataFrame concatenation with empty or all-NA entries is deprecated. In a future version, this will no longer exclude empty or all-NA columns when determining the result dtypes. To retain the old behavior, exclude the relevant entries before the concat operation.\n",
      "  predictions = pd.concat([predictions, temp_df], ignore_index=True)\n",
      "/var/folders/x8/v7bmckc139v2dqcm04jgfjlr0000gn/T/ipykernel_3636/3196941531.py:11: FutureWarning: The behavior of DataFrame concatenation with empty or all-NA entries is deprecated. In a future version, this will no longer exclude empty or all-NA columns when determining the result dtypes. To retain the old behavior, exclude the relevant entries before the concat operation.\n",
      "  predictions = pd.concat([predictions, temp_df], ignore_index=True)\n"
     ]
    },
    {
     "name": "stdout",
     "output_type": "stream",
     "text": [
      "Beginning forecast for 2023-07-04 00:00:00\n"
     ]
    },
    {
     "name": "stderr",
     "output_type": "stream",
     "text": [
      "/var/folders/x8/v7bmckc139v2dqcm04jgfjlr0000gn/T/ipykernel_3636/2637449371.py:65: FutureWarning: The behavior of DataFrame concatenation with empty or all-NA entries is deprecated. In a future version, this will no longer exclude empty or all-NA columns when determining the result dtypes. To retain the old behavior, exclude the relevant entries before the concat operation.\n",
      "  all_forecasts = pd.concat([all_forecasts, forecasted_temp])\n",
      "/var/folders/x8/v7bmckc139v2dqcm04jgfjlr0000gn/T/ipykernel_3636/3196941531.py:23: FutureWarning: The behavior of DataFrame concatenation with empty or all-NA entries is deprecated. In a future version, this will no longer exclude empty or all-NA columns when determining the result dtypes. To retain the old behavior, exclude the relevant entries before the concat operation.\n",
      "  predictions = pd.concat([predictions, temp_df], ignore_index=True)\n",
      "/var/folders/x8/v7bmckc139v2dqcm04jgfjlr0000gn/T/ipykernel_3636/3196941531.py:23: FutureWarning: The behavior of DataFrame concatenation with empty or all-NA entries is deprecated. In a future version, this will no longer exclude empty or all-NA columns when determining the result dtypes. To retain the old behavior, exclude the relevant entries before the concat operation.\n",
      "  predictions = pd.concat([predictions, temp_df], ignore_index=True)\n",
      "/var/folders/x8/v7bmckc139v2dqcm04jgfjlr0000gn/T/ipykernel_3636/3196941531.py:23: FutureWarning: The behavior of DataFrame concatenation with empty or all-NA entries is deprecated. In a future version, this will no longer exclude empty or all-NA columns when determining the result dtypes. To retain the old behavior, exclude the relevant entries before the concat operation.\n",
      "  predictions = pd.concat([predictions, temp_df], ignore_index=True)\n",
      "/var/folders/x8/v7bmckc139v2dqcm04jgfjlr0000gn/T/ipykernel_3636/3196941531.py:23: FutureWarning: The behavior of DataFrame concatenation with empty or all-NA entries is deprecated. In a future version, this will no longer exclude empty or all-NA columns when determining the result dtypes. To retain the old behavior, exclude the relevant entries before the concat operation.\n",
      "  predictions = pd.concat([predictions, temp_df], ignore_index=True)\n",
      "/var/folders/x8/v7bmckc139v2dqcm04jgfjlr0000gn/T/ipykernel_3636/3196941531.py:23: FutureWarning: The behavior of DataFrame concatenation with empty or all-NA entries is deprecated. In a future version, this will no longer exclude empty or all-NA columns when determining the result dtypes. To retain the old behavior, exclude the relevant entries before the concat operation.\n",
      "  predictions = pd.concat([predictions, temp_df], ignore_index=True)\n",
      "/var/folders/x8/v7bmckc139v2dqcm04jgfjlr0000gn/T/ipykernel_3636/3196941531.py:23: FutureWarning: The behavior of DataFrame concatenation with empty or all-NA entries is deprecated. In a future version, this will no longer exclude empty or all-NA columns when determining the result dtypes. To retain the old behavior, exclude the relevant entries before the concat operation.\n",
      "  predictions = pd.concat([predictions, temp_df], ignore_index=True)\n"
     ]
    },
    {
     "name": "stdout",
     "output_type": "stream",
     "text": [
      "Beginning forecast for 2023-07-05 00:00:00\n"
     ]
    },
    {
     "name": "stderr",
     "output_type": "stream",
     "text": [
      "/var/folders/x8/v7bmckc139v2dqcm04jgfjlr0000gn/T/ipykernel_3636/3196941531.py:11: FutureWarning: The behavior of DataFrame concatenation with empty or all-NA entries is deprecated. In a future version, this will no longer exclude empty or all-NA columns when determining the result dtypes. To retain the old behavior, exclude the relevant entries before the concat operation.\n",
      "  predictions = pd.concat([predictions, temp_df], ignore_index=True)\n",
      "/var/folders/x8/v7bmckc139v2dqcm04jgfjlr0000gn/T/ipykernel_3636/2637449371.py:65: FutureWarning: The behavior of DataFrame concatenation with empty or all-NA entries is deprecated. In a future version, this will no longer exclude empty or all-NA columns when determining the result dtypes. To retain the old behavior, exclude the relevant entries before the concat operation.\n",
      "  all_forecasts = pd.concat([all_forecasts, forecasted_temp])\n",
      "/var/folders/x8/v7bmckc139v2dqcm04jgfjlr0000gn/T/ipykernel_3636/3196941531.py:23: FutureWarning: The behavior of DataFrame concatenation with empty or all-NA entries is deprecated. In a future version, this will no longer exclude empty or all-NA columns when determining the result dtypes. To retain the old behavior, exclude the relevant entries before the concat operation.\n",
      "  predictions = pd.concat([predictions, temp_df], ignore_index=True)\n",
      "/var/folders/x8/v7bmckc139v2dqcm04jgfjlr0000gn/T/ipykernel_3636/3196941531.py:23: FutureWarning: The behavior of DataFrame concatenation with empty or all-NA entries is deprecated. In a future version, this will no longer exclude empty or all-NA columns when determining the result dtypes. To retain the old behavior, exclude the relevant entries before the concat operation.\n",
      "  predictions = pd.concat([predictions, temp_df], ignore_index=True)\n",
      "/var/folders/x8/v7bmckc139v2dqcm04jgfjlr0000gn/T/ipykernel_3636/3196941531.py:23: FutureWarning: The behavior of DataFrame concatenation with empty or all-NA entries is deprecated. In a future version, this will no longer exclude empty or all-NA columns when determining the result dtypes. To retain the old behavior, exclude the relevant entries before the concat operation.\n",
      "  predictions = pd.concat([predictions, temp_df], ignore_index=True)\n",
      "/var/folders/x8/v7bmckc139v2dqcm04jgfjlr0000gn/T/ipykernel_3636/3196941531.py:23: FutureWarning: The behavior of DataFrame concatenation with empty or all-NA entries is deprecated. In a future version, this will no longer exclude empty or all-NA columns when determining the result dtypes. To retain the old behavior, exclude the relevant entries before the concat operation.\n",
      "  predictions = pd.concat([predictions, temp_df], ignore_index=True)\n",
      "/var/folders/x8/v7bmckc139v2dqcm04jgfjlr0000gn/T/ipykernel_3636/3196941531.py:23: FutureWarning: The behavior of DataFrame concatenation with empty or all-NA entries is deprecated. In a future version, this will no longer exclude empty or all-NA columns when determining the result dtypes. To retain the old behavior, exclude the relevant entries before the concat operation.\n",
      "  predictions = pd.concat([predictions, temp_df], ignore_index=True)\n",
      "/var/folders/x8/v7bmckc139v2dqcm04jgfjlr0000gn/T/ipykernel_3636/3196941531.py:23: FutureWarning: The behavior of DataFrame concatenation with empty or all-NA entries is deprecated. In a future version, this will no longer exclude empty or all-NA columns when determining the result dtypes. To retain the old behavior, exclude the relevant entries before the concat operation.\n",
      "  predictions = pd.concat([predictions, temp_df], ignore_index=True)\n"
     ]
    },
    {
     "name": "stdout",
     "output_type": "stream",
     "text": [
      "Beginning forecast for 2023-07-06 00:00:00\n"
     ]
    },
    {
     "name": "stderr",
     "output_type": "stream",
     "text": [
      "/var/folders/x8/v7bmckc139v2dqcm04jgfjlr0000gn/T/ipykernel_3636/3196941531.py:11: FutureWarning: The behavior of DataFrame concatenation with empty or all-NA entries is deprecated. In a future version, this will no longer exclude empty or all-NA columns when determining the result dtypes. To retain the old behavior, exclude the relevant entries before the concat operation.\n",
      "  predictions = pd.concat([predictions, temp_df], ignore_index=True)\n",
      "/var/folders/x8/v7bmckc139v2dqcm04jgfjlr0000gn/T/ipykernel_3636/2637449371.py:65: FutureWarning: The behavior of DataFrame concatenation with empty or all-NA entries is deprecated. In a future version, this will no longer exclude empty or all-NA columns when determining the result dtypes. To retain the old behavior, exclude the relevant entries before the concat operation.\n",
      "  all_forecasts = pd.concat([all_forecasts, forecasted_temp])\n",
      "/var/folders/x8/v7bmckc139v2dqcm04jgfjlr0000gn/T/ipykernel_3636/3196941531.py:23: FutureWarning: The behavior of DataFrame concatenation with empty or all-NA entries is deprecated. In a future version, this will no longer exclude empty or all-NA columns when determining the result dtypes. To retain the old behavior, exclude the relevant entries before the concat operation.\n",
      "  predictions = pd.concat([predictions, temp_df], ignore_index=True)\n",
      "/var/folders/x8/v7bmckc139v2dqcm04jgfjlr0000gn/T/ipykernel_3636/3196941531.py:23: FutureWarning: The behavior of DataFrame concatenation with empty or all-NA entries is deprecated. In a future version, this will no longer exclude empty or all-NA columns when determining the result dtypes. To retain the old behavior, exclude the relevant entries before the concat operation.\n",
      "  predictions = pd.concat([predictions, temp_df], ignore_index=True)\n",
      "/var/folders/x8/v7bmckc139v2dqcm04jgfjlr0000gn/T/ipykernel_3636/3196941531.py:23: FutureWarning: The behavior of DataFrame concatenation with empty or all-NA entries is deprecated. In a future version, this will no longer exclude empty or all-NA columns when determining the result dtypes. To retain the old behavior, exclude the relevant entries before the concat operation.\n",
      "  predictions = pd.concat([predictions, temp_df], ignore_index=True)\n",
      "/var/folders/x8/v7bmckc139v2dqcm04jgfjlr0000gn/T/ipykernel_3636/3196941531.py:23: FutureWarning: The behavior of DataFrame concatenation with empty or all-NA entries is deprecated. In a future version, this will no longer exclude empty or all-NA columns when determining the result dtypes. To retain the old behavior, exclude the relevant entries before the concat operation.\n",
      "  predictions = pd.concat([predictions, temp_df], ignore_index=True)\n",
      "/var/folders/x8/v7bmckc139v2dqcm04jgfjlr0000gn/T/ipykernel_3636/3196941531.py:23: FutureWarning: The behavior of DataFrame concatenation with empty or all-NA entries is deprecated. In a future version, this will no longer exclude empty or all-NA columns when determining the result dtypes. To retain the old behavior, exclude the relevant entries before the concat operation.\n",
      "  predictions = pd.concat([predictions, temp_df], ignore_index=True)\n",
      "/var/folders/x8/v7bmckc139v2dqcm04jgfjlr0000gn/T/ipykernel_3636/3196941531.py:23: FutureWarning: The behavior of DataFrame concatenation with empty or all-NA entries is deprecated. In a future version, this will no longer exclude empty or all-NA columns when determining the result dtypes. To retain the old behavior, exclude the relevant entries before the concat operation.\n",
      "  predictions = pd.concat([predictions, temp_df], ignore_index=True)\n",
      "/var/folders/x8/v7bmckc139v2dqcm04jgfjlr0000gn/T/ipykernel_3636/3196941531.py:11: FutureWarning: The behavior of DataFrame concatenation with empty or all-NA entries is deprecated. In a future version, this will no longer exclude empty or all-NA columns when determining the result dtypes. To retain the old behavior, exclude the relevant entries before the concat operation.\n",
      "  predictions = pd.concat([predictions, temp_df], ignore_index=True)\n"
     ]
    },
    {
     "name": "stdout",
     "output_type": "stream",
     "text": [
      "Beginning forecast for 2023-07-07 00:00:00\n"
     ]
    },
    {
     "name": "stderr",
     "output_type": "stream",
     "text": [
      "/var/folders/x8/v7bmckc139v2dqcm04jgfjlr0000gn/T/ipykernel_3636/2637449371.py:65: FutureWarning: The behavior of DataFrame concatenation with empty or all-NA entries is deprecated. In a future version, this will no longer exclude empty or all-NA columns when determining the result dtypes. To retain the old behavior, exclude the relevant entries before the concat operation.\n",
      "  all_forecasts = pd.concat([all_forecasts, forecasted_temp])\n",
      "/var/folders/x8/v7bmckc139v2dqcm04jgfjlr0000gn/T/ipykernel_3636/3196941531.py:23: FutureWarning: The behavior of DataFrame concatenation with empty or all-NA entries is deprecated. In a future version, this will no longer exclude empty or all-NA columns when determining the result dtypes. To retain the old behavior, exclude the relevant entries before the concat operation.\n",
      "  predictions = pd.concat([predictions, temp_df], ignore_index=True)\n",
      "/var/folders/x8/v7bmckc139v2dqcm04jgfjlr0000gn/T/ipykernel_3636/3196941531.py:23: FutureWarning: The behavior of DataFrame concatenation with empty or all-NA entries is deprecated. In a future version, this will no longer exclude empty or all-NA columns when determining the result dtypes. To retain the old behavior, exclude the relevant entries before the concat operation.\n",
      "  predictions = pd.concat([predictions, temp_df], ignore_index=True)\n",
      "/var/folders/x8/v7bmckc139v2dqcm04jgfjlr0000gn/T/ipykernel_3636/3196941531.py:23: FutureWarning: The behavior of DataFrame concatenation with empty or all-NA entries is deprecated. In a future version, this will no longer exclude empty or all-NA columns when determining the result dtypes. To retain the old behavior, exclude the relevant entries before the concat operation.\n",
      "  predictions = pd.concat([predictions, temp_df], ignore_index=True)\n",
      "/var/folders/x8/v7bmckc139v2dqcm04jgfjlr0000gn/T/ipykernel_3636/3196941531.py:23: FutureWarning: The behavior of DataFrame concatenation with empty or all-NA entries is deprecated. In a future version, this will no longer exclude empty or all-NA columns when determining the result dtypes. To retain the old behavior, exclude the relevant entries before the concat operation.\n",
      "  predictions = pd.concat([predictions, temp_df], ignore_index=True)\n",
      "/var/folders/x8/v7bmckc139v2dqcm04jgfjlr0000gn/T/ipykernel_3636/3196941531.py:23: FutureWarning: The behavior of DataFrame concatenation with empty or all-NA entries is deprecated. In a future version, this will no longer exclude empty or all-NA columns when determining the result dtypes. To retain the old behavior, exclude the relevant entries before the concat operation.\n",
      "  predictions = pd.concat([predictions, temp_df], ignore_index=True)\n",
      "/var/folders/x8/v7bmckc139v2dqcm04jgfjlr0000gn/T/ipykernel_3636/3196941531.py:23: FutureWarning: The behavior of DataFrame concatenation with empty or all-NA entries is deprecated. In a future version, this will no longer exclude empty or all-NA columns when determining the result dtypes. To retain the old behavior, exclude the relevant entries before the concat operation.\n",
      "  predictions = pd.concat([predictions, temp_df], ignore_index=True)\n"
     ]
    },
    {
     "name": "stdout",
     "output_type": "stream",
     "text": [
      "Beginning forecast for 2023-07-08 00:00:00\n"
     ]
    },
    {
     "name": "stderr",
     "output_type": "stream",
     "text": [
      "/var/folders/x8/v7bmckc139v2dqcm04jgfjlr0000gn/T/ipykernel_3636/3196941531.py:11: FutureWarning: The behavior of DataFrame concatenation with empty or all-NA entries is deprecated. In a future version, this will no longer exclude empty or all-NA columns when determining the result dtypes. To retain the old behavior, exclude the relevant entries before the concat operation.\n",
      "  predictions = pd.concat([predictions, temp_df], ignore_index=True)\n",
      "/var/folders/x8/v7bmckc139v2dqcm04jgfjlr0000gn/T/ipykernel_3636/2637449371.py:65: FutureWarning: The behavior of DataFrame concatenation with empty or all-NA entries is deprecated. In a future version, this will no longer exclude empty or all-NA columns when determining the result dtypes. To retain the old behavior, exclude the relevant entries before the concat operation.\n",
      "  all_forecasts = pd.concat([all_forecasts, forecasted_temp])\n",
      "/var/folders/x8/v7bmckc139v2dqcm04jgfjlr0000gn/T/ipykernel_3636/3196941531.py:23: FutureWarning: The behavior of DataFrame concatenation with empty or all-NA entries is deprecated. In a future version, this will no longer exclude empty or all-NA columns when determining the result dtypes. To retain the old behavior, exclude the relevant entries before the concat operation.\n",
      "  predictions = pd.concat([predictions, temp_df], ignore_index=True)\n",
      "/var/folders/x8/v7bmckc139v2dqcm04jgfjlr0000gn/T/ipykernel_3636/3196941531.py:23: FutureWarning: The behavior of DataFrame concatenation with empty or all-NA entries is deprecated. In a future version, this will no longer exclude empty or all-NA columns when determining the result dtypes. To retain the old behavior, exclude the relevant entries before the concat operation.\n",
      "  predictions = pd.concat([predictions, temp_df], ignore_index=True)\n",
      "/var/folders/x8/v7bmckc139v2dqcm04jgfjlr0000gn/T/ipykernel_3636/3196941531.py:23: FutureWarning: The behavior of DataFrame concatenation with empty or all-NA entries is deprecated. In a future version, this will no longer exclude empty or all-NA columns when determining the result dtypes. To retain the old behavior, exclude the relevant entries before the concat operation.\n",
      "  predictions = pd.concat([predictions, temp_df], ignore_index=True)\n",
      "/var/folders/x8/v7bmckc139v2dqcm04jgfjlr0000gn/T/ipykernel_3636/3196941531.py:23: FutureWarning: The behavior of DataFrame concatenation with empty or all-NA entries is deprecated. In a future version, this will no longer exclude empty or all-NA columns when determining the result dtypes. To retain the old behavior, exclude the relevant entries before the concat operation.\n",
      "  predictions = pd.concat([predictions, temp_df], ignore_index=True)\n",
      "/var/folders/x8/v7bmckc139v2dqcm04jgfjlr0000gn/T/ipykernel_3636/3196941531.py:23: FutureWarning: The behavior of DataFrame concatenation with empty or all-NA entries is deprecated. In a future version, this will no longer exclude empty or all-NA columns when determining the result dtypes. To retain the old behavior, exclude the relevant entries before the concat operation.\n",
      "  predictions = pd.concat([predictions, temp_df], ignore_index=True)\n",
      "/var/folders/x8/v7bmckc139v2dqcm04jgfjlr0000gn/T/ipykernel_3636/3196941531.py:23: FutureWarning: The behavior of DataFrame concatenation with empty or all-NA entries is deprecated. In a future version, this will no longer exclude empty or all-NA columns when determining the result dtypes. To retain the old behavior, exclude the relevant entries before the concat operation.\n",
      "  predictions = pd.concat([predictions, temp_df], ignore_index=True)\n",
      "/var/folders/x8/v7bmckc139v2dqcm04jgfjlr0000gn/T/ipykernel_3636/3196941531.py:11: FutureWarning: The behavior of DataFrame concatenation with empty or all-NA entries is deprecated. In a future version, this will no longer exclude empty or all-NA columns when determining the result dtypes. To retain the old behavior, exclude the relevant entries before the concat operation.\n",
      "  predictions = pd.concat([predictions, temp_df], ignore_index=True)\n"
     ]
    },
    {
     "name": "stdout",
     "output_type": "stream",
     "text": [
      "Beginning forecast for 2023-07-09 00:00:00\n"
     ]
    },
    {
     "name": "stderr",
     "output_type": "stream",
     "text": [
      "/var/folders/x8/v7bmckc139v2dqcm04jgfjlr0000gn/T/ipykernel_3636/2637449371.py:65: FutureWarning: The behavior of DataFrame concatenation with empty or all-NA entries is deprecated. In a future version, this will no longer exclude empty or all-NA columns when determining the result dtypes. To retain the old behavior, exclude the relevant entries before the concat operation.\n",
      "  all_forecasts = pd.concat([all_forecasts, forecasted_temp])\n",
      "/var/folders/x8/v7bmckc139v2dqcm04jgfjlr0000gn/T/ipykernel_3636/3196941531.py:23: FutureWarning: The behavior of DataFrame concatenation with empty or all-NA entries is deprecated. In a future version, this will no longer exclude empty or all-NA columns when determining the result dtypes. To retain the old behavior, exclude the relevant entries before the concat operation.\n",
      "  predictions = pd.concat([predictions, temp_df], ignore_index=True)\n",
      "/var/folders/x8/v7bmckc139v2dqcm04jgfjlr0000gn/T/ipykernel_3636/3196941531.py:23: FutureWarning: The behavior of DataFrame concatenation with empty or all-NA entries is deprecated. In a future version, this will no longer exclude empty or all-NA columns when determining the result dtypes. To retain the old behavior, exclude the relevant entries before the concat operation.\n",
      "  predictions = pd.concat([predictions, temp_df], ignore_index=True)\n",
      "/var/folders/x8/v7bmckc139v2dqcm04jgfjlr0000gn/T/ipykernel_3636/3196941531.py:23: FutureWarning: The behavior of DataFrame concatenation with empty or all-NA entries is deprecated. In a future version, this will no longer exclude empty or all-NA columns when determining the result dtypes. To retain the old behavior, exclude the relevant entries before the concat operation.\n",
      "  predictions = pd.concat([predictions, temp_df], ignore_index=True)\n",
      "/var/folders/x8/v7bmckc139v2dqcm04jgfjlr0000gn/T/ipykernel_3636/3196941531.py:23: FutureWarning: The behavior of DataFrame concatenation with empty or all-NA entries is deprecated. In a future version, this will no longer exclude empty or all-NA columns when determining the result dtypes. To retain the old behavior, exclude the relevant entries before the concat operation.\n",
      "  predictions = pd.concat([predictions, temp_df], ignore_index=True)\n",
      "/var/folders/x8/v7bmckc139v2dqcm04jgfjlr0000gn/T/ipykernel_3636/3196941531.py:23: FutureWarning: The behavior of DataFrame concatenation with empty or all-NA entries is deprecated. In a future version, this will no longer exclude empty or all-NA columns when determining the result dtypes. To retain the old behavior, exclude the relevant entries before the concat operation.\n",
      "  predictions = pd.concat([predictions, temp_df], ignore_index=True)\n",
      "/var/folders/x8/v7bmckc139v2dqcm04jgfjlr0000gn/T/ipykernel_3636/3196941531.py:23: FutureWarning: The behavior of DataFrame concatenation with empty or all-NA entries is deprecated. In a future version, this will no longer exclude empty or all-NA columns when determining the result dtypes. To retain the old behavior, exclude the relevant entries before the concat operation.\n",
      "  predictions = pd.concat([predictions, temp_df], ignore_index=True)\n"
     ]
    },
    {
     "name": "stdout",
     "output_type": "stream",
     "text": [
      "Beginning forecast for 2023-07-10 00:00:00\n"
     ]
    },
    {
     "name": "stderr",
     "output_type": "stream",
     "text": [
      "/var/folders/x8/v7bmckc139v2dqcm04jgfjlr0000gn/T/ipykernel_3636/3196941531.py:11: FutureWarning: The behavior of DataFrame concatenation with empty or all-NA entries is deprecated. In a future version, this will no longer exclude empty or all-NA columns when determining the result dtypes. To retain the old behavior, exclude the relevant entries before the concat operation.\n",
      "  predictions = pd.concat([predictions, temp_df], ignore_index=True)\n",
      "/var/folders/x8/v7bmckc139v2dqcm04jgfjlr0000gn/T/ipykernel_3636/2637449371.py:65: FutureWarning: The behavior of DataFrame concatenation with empty or all-NA entries is deprecated. In a future version, this will no longer exclude empty or all-NA columns when determining the result dtypes. To retain the old behavior, exclude the relevant entries before the concat operation.\n",
      "  all_forecasts = pd.concat([all_forecasts, forecasted_temp])\n",
      "/var/folders/x8/v7bmckc139v2dqcm04jgfjlr0000gn/T/ipykernel_3636/3196941531.py:23: FutureWarning: The behavior of DataFrame concatenation with empty or all-NA entries is deprecated. In a future version, this will no longer exclude empty or all-NA columns when determining the result dtypes. To retain the old behavior, exclude the relevant entries before the concat operation.\n",
      "  predictions = pd.concat([predictions, temp_df], ignore_index=True)\n",
      "/var/folders/x8/v7bmckc139v2dqcm04jgfjlr0000gn/T/ipykernel_3636/3196941531.py:23: FutureWarning: The behavior of DataFrame concatenation with empty or all-NA entries is deprecated. In a future version, this will no longer exclude empty or all-NA columns when determining the result dtypes. To retain the old behavior, exclude the relevant entries before the concat operation.\n",
      "  predictions = pd.concat([predictions, temp_df], ignore_index=True)\n",
      "/var/folders/x8/v7bmckc139v2dqcm04jgfjlr0000gn/T/ipykernel_3636/3196941531.py:23: FutureWarning: The behavior of DataFrame concatenation with empty or all-NA entries is deprecated. In a future version, this will no longer exclude empty or all-NA columns when determining the result dtypes. To retain the old behavior, exclude the relevant entries before the concat operation.\n",
      "  predictions = pd.concat([predictions, temp_df], ignore_index=True)\n",
      "/var/folders/x8/v7bmckc139v2dqcm04jgfjlr0000gn/T/ipykernel_3636/3196941531.py:23: FutureWarning: The behavior of DataFrame concatenation with empty or all-NA entries is deprecated. In a future version, this will no longer exclude empty or all-NA columns when determining the result dtypes. To retain the old behavior, exclude the relevant entries before the concat operation.\n",
      "  predictions = pd.concat([predictions, temp_df], ignore_index=True)\n",
      "/var/folders/x8/v7bmckc139v2dqcm04jgfjlr0000gn/T/ipykernel_3636/3196941531.py:23: FutureWarning: The behavior of DataFrame concatenation with empty or all-NA entries is deprecated. In a future version, this will no longer exclude empty or all-NA columns when determining the result dtypes. To retain the old behavior, exclude the relevant entries before the concat operation.\n",
      "  predictions = pd.concat([predictions, temp_df], ignore_index=True)\n",
      "/var/folders/x8/v7bmckc139v2dqcm04jgfjlr0000gn/T/ipykernel_3636/3196941531.py:23: FutureWarning: The behavior of DataFrame concatenation with empty or all-NA entries is deprecated. In a future version, this will no longer exclude empty or all-NA columns when determining the result dtypes. To retain the old behavior, exclude the relevant entries before the concat operation.\n",
      "  predictions = pd.concat([predictions, temp_df], ignore_index=True)\n",
      "/var/folders/x8/v7bmckc139v2dqcm04jgfjlr0000gn/T/ipykernel_3636/3196941531.py:11: FutureWarning: The behavior of DataFrame concatenation with empty or all-NA entries is deprecated. In a future version, this will no longer exclude empty or all-NA columns when determining the result dtypes. To retain the old behavior, exclude the relevant entries before the concat operation.\n",
      "  predictions = pd.concat([predictions, temp_df], ignore_index=True)\n"
     ]
    },
    {
     "name": "stdout",
     "output_type": "stream",
     "text": [
      "Beginning forecast for 2023-07-11 00:00:00\n"
     ]
    },
    {
     "name": "stderr",
     "output_type": "stream",
     "text": [
      "/var/folders/x8/v7bmckc139v2dqcm04jgfjlr0000gn/T/ipykernel_3636/2637449371.py:65: FutureWarning: The behavior of DataFrame concatenation with empty or all-NA entries is deprecated. In a future version, this will no longer exclude empty or all-NA columns when determining the result dtypes. To retain the old behavior, exclude the relevant entries before the concat operation.\n",
      "  all_forecasts = pd.concat([all_forecasts, forecasted_temp])\n",
      "/var/folders/x8/v7bmckc139v2dqcm04jgfjlr0000gn/T/ipykernel_3636/3196941531.py:23: FutureWarning: The behavior of DataFrame concatenation with empty or all-NA entries is deprecated. In a future version, this will no longer exclude empty or all-NA columns when determining the result dtypes. To retain the old behavior, exclude the relevant entries before the concat operation.\n",
      "  predictions = pd.concat([predictions, temp_df], ignore_index=True)\n",
      "/var/folders/x8/v7bmckc139v2dqcm04jgfjlr0000gn/T/ipykernel_3636/3196941531.py:23: FutureWarning: The behavior of DataFrame concatenation with empty or all-NA entries is deprecated. In a future version, this will no longer exclude empty or all-NA columns when determining the result dtypes. To retain the old behavior, exclude the relevant entries before the concat operation.\n",
      "  predictions = pd.concat([predictions, temp_df], ignore_index=True)\n",
      "/var/folders/x8/v7bmckc139v2dqcm04jgfjlr0000gn/T/ipykernel_3636/3196941531.py:23: FutureWarning: The behavior of DataFrame concatenation with empty or all-NA entries is deprecated. In a future version, this will no longer exclude empty or all-NA columns when determining the result dtypes. To retain the old behavior, exclude the relevant entries before the concat operation.\n",
      "  predictions = pd.concat([predictions, temp_df], ignore_index=True)\n",
      "/var/folders/x8/v7bmckc139v2dqcm04jgfjlr0000gn/T/ipykernel_3636/3196941531.py:23: FutureWarning: The behavior of DataFrame concatenation with empty or all-NA entries is deprecated. In a future version, this will no longer exclude empty or all-NA columns when determining the result dtypes. To retain the old behavior, exclude the relevant entries before the concat operation.\n",
      "  predictions = pd.concat([predictions, temp_df], ignore_index=True)\n",
      "/var/folders/x8/v7bmckc139v2dqcm04jgfjlr0000gn/T/ipykernel_3636/3196941531.py:23: FutureWarning: The behavior of DataFrame concatenation with empty or all-NA entries is deprecated. In a future version, this will no longer exclude empty or all-NA columns when determining the result dtypes. To retain the old behavior, exclude the relevant entries before the concat operation.\n",
      "  predictions = pd.concat([predictions, temp_df], ignore_index=True)\n",
      "/var/folders/x8/v7bmckc139v2dqcm04jgfjlr0000gn/T/ipykernel_3636/3196941531.py:23: FutureWarning: The behavior of DataFrame concatenation with empty or all-NA entries is deprecated. In a future version, this will no longer exclude empty or all-NA columns when determining the result dtypes. To retain the old behavior, exclude the relevant entries before the concat operation.\n",
      "  predictions = pd.concat([predictions, temp_df], ignore_index=True)\n"
     ]
    },
    {
     "name": "stdout",
     "output_type": "stream",
     "text": [
      "Beginning forecast for 2023-07-12 00:00:00\n"
     ]
    },
    {
     "name": "stderr",
     "output_type": "stream",
     "text": [
      "/var/folders/x8/v7bmckc139v2dqcm04jgfjlr0000gn/T/ipykernel_3636/3196941531.py:11: FutureWarning: The behavior of DataFrame concatenation with empty or all-NA entries is deprecated. In a future version, this will no longer exclude empty or all-NA columns when determining the result dtypes. To retain the old behavior, exclude the relevant entries before the concat operation.\n",
      "  predictions = pd.concat([predictions, temp_df], ignore_index=True)\n",
      "/var/folders/x8/v7bmckc139v2dqcm04jgfjlr0000gn/T/ipykernel_3636/2637449371.py:65: FutureWarning: The behavior of DataFrame concatenation with empty or all-NA entries is deprecated. In a future version, this will no longer exclude empty or all-NA columns when determining the result dtypes. To retain the old behavior, exclude the relevant entries before the concat operation.\n",
      "  all_forecasts = pd.concat([all_forecasts, forecasted_temp])\n",
      "/var/folders/x8/v7bmckc139v2dqcm04jgfjlr0000gn/T/ipykernel_3636/3196941531.py:23: FutureWarning: The behavior of DataFrame concatenation with empty or all-NA entries is deprecated. In a future version, this will no longer exclude empty or all-NA columns when determining the result dtypes. To retain the old behavior, exclude the relevant entries before the concat operation.\n",
      "  predictions = pd.concat([predictions, temp_df], ignore_index=True)\n",
      "/var/folders/x8/v7bmckc139v2dqcm04jgfjlr0000gn/T/ipykernel_3636/3196941531.py:23: FutureWarning: The behavior of DataFrame concatenation with empty or all-NA entries is deprecated. In a future version, this will no longer exclude empty or all-NA columns when determining the result dtypes. To retain the old behavior, exclude the relevant entries before the concat operation.\n",
      "  predictions = pd.concat([predictions, temp_df], ignore_index=True)\n",
      "/var/folders/x8/v7bmckc139v2dqcm04jgfjlr0000gn/T/ipykernel_3636/3196941531.py:23: FutureWarning: The behavior of DataFrame concatenation with empty or all-NA entries is deprecated. In a future version, this will no longer exclude empty or all-NA columns when determining the result dtypes. To retain the old behavior, exclude the relevant entries before the concat operation.\n",
      "  predictions = pd.concat([predictions, temp_df], ignore_index=True)\n",
      "/var/folders/x8/v7bmckc139v2dqcm04jgfjlr0000gn/T/ipykernel_3636/3196941531.py:23: FutureWarning: The behavior of DataFrame concatenation with empty or all-NA entries is deprecated. In a future version, this will no longer exclude empty or all-NA columns when determining the result dtypes. To retain the old behavior, exclude the relevant entries before the concat operation.\n",
      "  predictions = pd.concat([predictions, temp_df], ignore_index=True)\n",
      "/var/folders/x8/v7bmckc139v2dqcm04jgfjlr0000gn/T/ipykernel_3636/3196941531.py:23: FutureWarning: The behavior of DataFrame concatenation with empty or all-NA entries is deprecated. In a future version, this will no longer exclude empty or all-NA columns when determining the result dtypes. To retain the old behavior, exclude the relevant entries before the concat operation.\n",
      "  predictions = pd.concat([predictions, temp_df], ignore_index=True)\n",
      "/var/folders/x8/v7bmckc139v2dqcm04jgfjlr0000gn/T/ipykernel_3636/3196941531.py:23: FutureWarning: The behavior of DataFrame concatenation with empty or all-NA entries is deprecated. In a future version, this will no longer exclude empty or all-NA columns when determining the result dtypes. To retain the old behavior, exclude the relevant entries before the concat operation.\n",
      "  predictions = pd.concat([predictions, temp_df], ignore_index=True)\n",
      "/var/folders/x8/v7bmckc139v2dqcm04jgfjlr0000gn/T/ipykernel_3636/3196941531.py:11: FutureWarning: The behavior of DataFrame concatenation with empty or all-NA entries is deprecated. In a future version, this will no longer exclude empty or all-NA columns when determining the result dtypes. To retain the old behavior, exclude the relevant entries before the concat operation.\n",
      "  predictions = pd.concat([predictions, temp_df], ignore_index=True)\n"
     ]
    },
    {
     "name": "stdout",
     "output_type": "stream",
     "text": [
      "Beginning forecast for 2023-07-13 00:00:00\n"
     ]
    },
    {
     "name": "stderr",
     "output_type": "stream",
     "text": [
      "/var/folders/x8/v7bmckc139v2dqcm04jgfjlr0000gn/T/ipykernel_3636/2637449371.py:65: FutureWarning: The behavior of DataFrame concatenation with empty or all-NA entries is deprecated. In a future version, this will no longer exclude empty or all-NA columns when determining the result dtypes. To retain the old behavior, exclude the relevant entries before the concat operation.\n",
      "  all_forecasts = pd.concat([all_forecasts, forecasted_temp])\n",
      "/var/folders/x8/v7bmckc139v2dqcm04jgfjlr0000gn/T/ipykernel_3636/3196941531.py:23: FutureWarning: The behavior of DataFrame concatenation with empty or all-NA entries is deprecated. In a future version, this will no longer exclude empty or all-NA columns when determining the result dtypes. To retain the old behavior, exclude the relevant entries before the concat operation.\n",
      "  predictions = pd.concat([predictions, temp_df], ignore_index=True)\n",
      "/var/folders/x8/v7bmckc139v2dqcm04jgfjlr0000gn/T/ipykernel_3636/3196941531.py:23: FutureWarning: The behavior of DataFrame concatenation with empty or all-NA entries is deprecated. In a future version, this will no longer exclude empty or all-NA columns when determining the result dtypes. To retain the old behavior, exclude the relevant entries before the concat operation.\n",
      "  predictions = pd.concat([predictions, temp_df], ignore_index=True)\n",
      "/var/folders/x8/v7bmckc139v2dqcm04jgfjlr0000gn/T/ipykernel_3636/3196941531.py:23: FutureWarning: The behavior of DataFrame concatenation with empty or all-NA entries is deprecated. In a future version, this will no longer exclude empty or all-NA columns when determining the result dtypes. To retain the old behavior, exclude the relevant entries before the concat operation.\n",
      "  predictions = pd.concat([predictions, temp_df], ignore_index=True)\n",
      "/var/folders/x8/v7bmckc139v2dqcm04jgfjlr0000gn/T/ipykernel_3636/3196941531.py:23: FutureWarning: The behavior of DataFrame concatenation with empty or all-NA entries is deprecated. In a future version, this will no longer exclude empty or all-NA columns when determining the result dtypes. To retain the old behavior, exclude the relevant entries before the concat operation.\n",
      "  predictions = pd.concat([predictions, temp_df], ignore_index=True)\n",
      "/var/folders/x8/v7bmckc139v2dqcm04jgfjlr0000gn/T/ipykernel_3636/3196941531.py:23: FutureWarning: The behavior of DataFrame concatenation with empty or all-NA entries is deprecated. In a future version, this will no longer exclude empty or all-NA columns when determining the result dtypes. To retain the old behavior, exclude the relevant entries before the concat operation.\n",
      "  predictions = pd.concat([predictions, temp_df], ignore_index=True)\n",
      "/var/folders/x8/v7bmckc139v2dqcm04jgfjlr0000gn/T/ipykernel_3636/3196941531.py:23: FutureWarning: The behavior of DataFrame concatenation with empty or all-NA entries is deprecated. In a future version, this will no longer exclude empty or all-NA columns when determining the result dtypes. To retain the old behavior, exclude the relevant entries before the concat operation.\n",
      "  predictions = pd.concat([predictions, temp_df], ignore_index=True)\n"
     ]
    },
    {
     "name": "stdout",
     "output_type": "stream",
     "text": [
      "Beginning forecast for 2023-07-14 00:00:00\n"
     ]
    },
    {
     "name": "stderr",
     "output_type": "stream",
     "text": [
      "/var/folders/x8/v7bmckc139v2dqcm04jgfjlr0000gn/T/ipykernel_3636/3196941531.py:11: FutureWarning: The behavior of DataFrame concatenation with empty or all-NA entries is deprecated. In a future version, this will no longer exclude empty or all-NA columns when determining the result dtypes. To retain the old behavior, exclude the relevant entries before the concat operation.\n",
      "  predictions = pd.concat([predictions, temp_df], ignore_index=True)\n",
      "/var/folders/x8/v7bmckc139v2dqcm04jgfjlr0000gn/T/ipykernel_3636/2637449371.py:65: FutureWarning: The behavior of DataFrame concatenation with empty or all-NA entries is deprecated. In a future version, this will no longer exclude empty or all-NA columns when determining the result dtypes. To retain the old behavior, exclude the relevant entries before the concat operation.\n",
      "  all_forecasts = pd.concat([all_forecasts, forecasted_temp])\n",
      "/var/folders/x8/v7bmckc139v2dqcm04jgfjlr0000gn/T/ipykernel_3636/3196941531.py:23: FutureWarning: The behavior of DataFrame concatenation with empty or all-NA entries is deprecated. In a future version, this will no longer exclude empty or all-NA columns when determining the result dtypes. To retain the old behavior, exclude the relevant entries before the concat operation.\n",
      "  predictions = pd.concat([predictions, temp_df], ignore_index=True)\n",
      "/var/folders/x8/v7bmckc139v2dqcm04jgfjlr0000gn/T/ipykernel_3636/3196941531.py:23: FutureWarning: The behavior of DataFrame concatenation with empty or all-NA entries is deprecated. In a future version, this will no longer exclude empty or all-NA columns when determining the result dtypes. To retain the old behavior, exclude the relevant entries before the concat operation.\n",
      "  predictions = pd.concat([predictions, temp_df], ignore_index=True)\n",
      "/var/folders/x8/v7bmckc139v2dqcm04jgfjlr0000gn/T/ipykernel_3636/3196941531.py:23: FutureWarning: The behavior of DataFrame concatenation with empty or all-NA entries is deprecated. In a future version, this will no longer exclude empty or all-NA columns when determining the result dtypes. To retain the old behavior, exclude the relevant entries before the concat operation.\n",
      "  predictions = pd.concat([predictions, temp_df], ignore_index=True)\n",
      "/var/folders/x8/v7bmckc139v2dqcm04jgfjlr0000gn/T/ipykernel_3636/3196941531.py:23: FutureWarning: The behavior of DataFrame concatenation with empty or all-NA entries is deprecated. In a future version, this will no longer exclude empty or all-NA columns when determining the result dtypes. To retain the old behavior, exclude the relevant entries before the concat operation.\n",
      "  predictions = pd.concat([predictions, temp_df], ignore_index=True)\n",
      "/var/folders/x8/v7bmckc139v2dqcm04jgfjlr0000gn/T/ipykernel_3636/3196941531.py:23: FutureWarning: The behavior of DataFrame concatenation with empty or all-NA entries is deprecated. In a future version, this will no longer exclude empty or all-NA columns when determining the result dtypes. To retain the old behavior, exclude the relevant entries before the concat operation.\n",
      "  predictions = pd.concat([predictions, temp_df], ignore_index=True)\n",
      "/var/folders/x8/v7bmckc139v2dqcm04jgfjlr0000gn/T/ipykernel_3636/3196941531.py:23: FutureWarning: The behavior of DataFrame concatenation with empty or all-NA entries is deprecated. In a future version, this will no longer exclude empty or all-NA columns when determining the result dtypes. To retain the old behavior, exclude the relevant entries before the concat operation.\n",
      "  predictions = pd.concat([predictions, temp_df], ignore_index=True)\n",
      "/var/folders/x8/v7bmckc139v2dqcm04jgfjlr0000gn/T/ipykernel_3636/3196941531.py:11: FutureWarning: The behavior of DataFrame concatenation with empty or all-NA entries is deprecated. In a future version, this will no longer exclude empty or all-NA columns when determining the result dtypes. To retain the old behavior, exclude the relevant entries before the concat operation.\n",
      "  predictions = pd.concat([predictions, temp_df], ignore_index=True)\n"
     ]
    },
    {
     "name": "stdout",
     "output_type": "stream",
     "text": [
      "Beginning forecast for 2023-07-15 00:00:00\n"
     ]
    },
    {
     "name": "stderr",
     "output_type": "stream",
     "text": [
      "/var/folders/x8/v7bmckc139v2dqcm04jgfjlr0000gn/T/ipykernel_3636/2637449371.py:65: FutureWarning: The behavior of DataFrame concatenation with empty or all-NA entries is deprecated. In a future version, this will no longer exclude empty or all-NA columns when determining the result dtypes. To retain the old behavior, exclude the relevant entries before the concat operation.\n",
      "  all_forecasts = pd.concat([all_forecasts, forecasted_temp])\n",
      "/var/folders/x8/v7bmckc139v2dqcm04jgfjlr0000gn/T/ipykernel_3636/3196941531.py:23: FutureWarning: The behavior of DataFrame concatenation with empty or all-NA entries is deprecated. In a future version, this will no longer exclude empty or all-NA columns when determining the result dtypes. To retain the old behavior, exclude the relevant entries before the concat operation.\n",
      "  predictions = pd.concat([predictions, temp_df], ignore_index=True)\n",
      "/var/folders/x8/v7bmckc139v2dqcm04jgfjlr0000gn/T/ipykernel_3636/3196941531.py:23: FutureWarning: The behavior of DataFrame concatenation with empty or all-NA entries is deprecated. In a future version, this will no longer exclude empty or all-NA columns when determining the result dtypes. To retain the old behavior, exclude the relevant entries before the concat operation.\n",
      "  predictions = pd.concat([predictions, temp_df], ignore_index=True)\n",
      "/var/folders/x8/v7bmckc139v2dqcm04jgfjlr0000gn/T/ipykernel_3636/3196941531.py:23: FutureWarning: The behavior of DataFrame concatenation with empty or all-NA entries is deprecated. In a future version, this will no longer exclude empty or all-NA columns when determining the result dtypes. To retain the old behavior, exclude the relevant entries before the concat operation.\n",
      "  predictions = pd.concat([predictions, temp_df], ignore_index=True)\n",
      "/var/folders/x8/v7bmckc139v2dqcm04jgfjlr0000gn/T/ipykernel_3636/3196941531.py:23: FutureWarning: The behavior of DataFrame concatenation with empty or all-NA entries is deprecated. In a future version, this will no longer exclude empty or all-NA columns when determining the result dtypes. To retain the old behavior, exclude the relevant entries before the concat operation.\n",
      "  predictions = pd.concat([predictions, temp_df], ignore_index=True)\n",
      "/var/folders/x8/v7bmckc139v2dqcm04jgfjlr0000gn/T/ipykernel_3636/3196941531.py:23: FutureWarning: The behavior of DataFrame concatenation with empty or all-NA entries is deprecated. In a future version, this will no longer exclude empty or all-NA columns when determining the result dtypes. To retain the old behavior, exclude the relevant entries before the concat operation.\n",
      "  predictions = pd.concat([predictions, temp_df], ignore_index=True)\n",
      "/var/folders/x8/v7bmckc139v2dqcm04jgfjlr0000gn/T/ipykernel_3636/3196941531.py:23: FutureWarning: The behavior of DataFrame concatenation with empty or all-NA entries is deprecated. In a future version, this will no longer exclude empty or all-NA columns when determining the result dtypes. To retain the old behavior, exclude the relevant entries before the concat operation.\n",
      "  predictions = pd.concat([predictions, temp_df], ignore_index=True)\n"
     ]
    },
    {
     "name": "stdout",
     "output_type": "stream",
     "text": [
      "Beginning forecast for 2023-07-16 00:00:00\n"
     ]
    },
    {
     "name": "stderr",
     "output_type": "stream",
     "text": [
      "/var/folders/x8/v7bmckc139v2dqcm04jgfjlr0000gn/T/ipykernel_3636/3196941531.py:11: FutureWarning: The behavior of DataFrame concatenation with empty or all-NA entries is deprecated. In a future version, this will no longer exclude empty or all-NA columns when determining the result dtypes. To retain the old behavior, exclude the relevant entries before the concat operation.\n",
      "  predictions = pd.concat([predictions, temp_df], ignore_index=True)\n",
      "/var/folders/x8/v7bmckc139v2dqcm04jgfjlr0000gn/T/ipykernel_3636/2637449371.py:65: FutureWarning: The behavior of DataFrame concatenation with empty or all-NA entries is deprecated. In a future version, this will no longer exclude empty or all-NA columns when determining the result dtypes. To retain the old behavior, exclude the relevant entries before the concat operation.\n",
      "  all_forecasts = pd.concat([all_forecasts, forecasted_temp])\n",
      "/var/folders/x8/v7bmckc139v2dqcm04jgfjlr0000gn/T/ipykernel_3636/3196941531.py:23: FutureWarning: The behavior of DataFrame concatenation with empty or all-NA entries is deprecated. In a future version, this will no longer exclude empty or all-NA columns when determining the result dtypes. To retain the old behavior, exclude the relevant entries before the concat operation.\n",
      "  predictions = pd.concat([predictions, temp_df], ignore_index=True)\n",
      "/var/folders/x8/v7bmckc139v2dqcm04jgfjlr0000gn/T/ipykernel_3636/3196941531.py:23: FutureWarning: The behavior of DataFrame concatenation with empty or all-NA entries is deprecated. In a future version, this will no longer exclude empty or all-NA columns when determining the result dtypes. To retain the old behavior, exclude the relevant entries before the concat operation.\n",
      "  predictions = pd.concat([predictions, temp_df], ignore_index=True)\n",
      "/var/folders/x8/v7bmckc139v2dqcm04jgfjlr0000gn/T/ipykernel_3636/3196941531.py:23: FutureWarning: The behavior of DataFrame concatenation with empty or all-NA entries is deprecated. In a future version, this will no longer exclude empty or all-NA columns when determining the result dtypes. To retain the old behavior, exclude the relevant entries before the concat operation.\n",
      "  predictions = pd.concat([predictions, temp_df], ignore_index=True)\n",
      "/var/folders/x8/v7bmckc139v2dqcm04jgfjlr0000gn/T/ipykernel_3636/3196941531.py:23: FutureWarning: The behavior of DataFrame concatenation with empty or all-NA entries is deprecated. In a future version, this will no longer exclude empty or all-NA columns when determining the result dtypes. To retain the old behavior, exclude the relevant entries before the concat operation.\n",
      "  predictions = pd.concat([predictions, temp_df], ignore_index=True)\n",
      "/var/folders/x8/v7bmckc139v2dqcm04jgfjlr0000gn/T/ipykernel_3636/3196941531.py:23: FutureWarning: The behavior of DataFrame concatenation with empty or all-NA entries is deprecated. In a future version, this will no longer exclude empty or all-NA columns when determining the result dtypes. To retain the old behavior, exclude the relevant entries before the concat operation.\n",
      "  predictions = pd.concat([predictions, temp_df], ignore_index=True)\n",
      "/var/folders/x8/v7bmckc139v2dqcm04jgfjlr0000gn/T/ipykernel_3636/3196941531.py:23: FutureWarning: The behavior of DataFrame concatenation with empty or all-NA entries is deprecated. In a future version, this will no longer exclude empty or all-NA columns when determining the result dtypes. To retain the old behavior, exclude the relevant entries before the concat operation.\n",
      "  predictions = pd.concat([predictions, temp_df], ignore_index=True)\n",
      "/var/folders/x8/v7bmckc139v2dqcm04jgfjlr0000gn/T/ipykernel_3636/3196941531.py:11: FutureWarning: The behavior of DataFrame concatenation with empty or all-NA entries is deprecated. In a future version, this will no longer exclude empty or all-NA columns when determining the result dtypes. To retain the old behavior, exclude the relevant entries before the concat operation.\n",
      "  predictions = pd.concat([predictions, temp_df], ignore_index=True)\n"
     ]
    },
    {
     "name": "stdout",
     "output_type": "stream",
     "text": [
      "Beginning forecast for 2023-07-17 00:00:00\n"
     ]
    },
    {
     "name": "stderr",
     "output_type": "stream",
     "text": [
      "/var/folders/x8/v7bmckc139v2dqcm04jgfjlr0000gn/T/ipykernel_3636/2637449371.py:65: FutureWarning: The behavior of DataFrame concatenation with empty or all-NA entries is deprecated. In a future version, this will no longer exclude empty or all-NA columns when determining the result dtypes. To retain the old behavior, exclude the relevant entries before the concat operation.\n",
      "  all_forecasts = pd.concat([all_forecasts, forecasted_temp])\n",
      "/var/folders/x8/v7bmckc139v2dqcm04jgfjlr0000gn/T/ipykernel_3636/3196941531.py:23: FutureWarning: The behavior of DataFrame concatenation with empty or all-NA entries is deprecated. In a future version, this will no longer exclude empty or all-NA columns when determining the result dtypes. To retain the old behavior, exclude the relevant entries before the concat operation.\n",
      "  predictions = pd.concat([predictions, temp_df], ignore_index=True)\n",
      "/var/folders/x8/v7bmckc139v2dqcm04jgfjlr0000gn/T/ipykernel_3636/3196941531.py:23: FutureWarning: The behavior of DataFrame concatenation with empty or all-NA entries is deprecated. In a future version, this will no longer exclude empty or all-NA columns when determining the result dtypes. To retain the old behavior, exclude the relevant entries before the concat operation.\n",
      "  predictions = pd.concat([predictions, temp_df], ignore_index=True)\n",
      "/var/folders/x8/v7bmckc139v2dqcm04jgfjlr0000gn/T/ipykernel_3636/3196941531.py:23: FutureWarning: The behavior of DataFrame concatenation with empty or all-NA entries is deprecated. In a future version, this will no longer exclude empty or all-NA columns when determining the result dtypes. To retain the old behavior, exclude the relevant entries before the concat operation.\n",
      "  predictions = pd.concat([predictions, temp_df], ignore_index=True)\n",
      "/var/folders/x8/v7bmckc139v2dqcm04jgfjlr0000gn/T/ipykernel_3636/3196941531.py:23: FutureWarning: The behavior of DataFrame concatenation with empty or all-NA entries is deprecated. In a future version, this will no longer exclude empty or all-NA columns when determining the result dtypes. To retain the old behavior, exclude the relevant entries before the concat operation.\n",
      "  predictions = pd.concat([predictions, temp_df], ignore_index=True)\n",
      "/var/folders/x8/v7bmckc139v2dqcm04jgfjlr0000gn/T/ipykernel_3636/3196941531.py:23: FutureWarning: The behavior of DataFrame concatenation with empty or all-NA entries is deprecated. In a future version, this will no longer exclude empty or all-NA columns when determining the result dtypes. To retain the old behavior, exclude the relevant entries before the concat operation.\n",
      "  predictions = pd.concat([predictions, temp_df], ignore_index=True)\n",
      "/var/folders/x8/v7bmckc139v2dqcm04jgfjlr0000gn/T/ipykernel_3636/3196941531.py:23: FutureWarning: The behavior of DataFrame concatenation with empty or all-NA entries is deprecated. In a future version, this will no longer exclude empty or all-NA columns when determining the result dtypes. To retain the old behavior, exclude the relevant entries before the concat operation.\n",
      "  predictions = pd.concat([predictions, temp_df], ignore_index=True)\n"
     ]
    },
    {
     "name": "stdout",
     "output_type": "stream",
     "text": [
      "Beginning forecast for 2023-07-18 00:00:00\n"
     ]
    },
    {
     "name": "stderr",
     "output_type": "stream",
     "text": [
      "/var/folders/x8/v7bmckc139v2dqcm04jgfjlr0000gn/T/ipykernel_3636/3196941531.py:11: FutureWarning: The behavior of DataFrame concatenation with empty or all-NA entries is deprecated. In a future version, this will no longer exclude empty or all-NA columns when determining the result dtypes. To retain the old behavior, exclude the relevant entries before the concat operation.\n",
      "  predictions = pd.concat([predictions, temp_df], ignore_index=True)\n",
      "/var/folders/x8/v7bmckc139v2dqcm04jgfjlr0000gn/T/ipykernel_3636/2637449371.py:65: FutureWarning: The behavior of DataFrame concatenation with empty or all-NA entries is deprecated. In a future version, this will no longer exclude empty or all-NA columns when determining the result dtypes. To retain the old behavior, exclude the relevant entries before the concat operation.\n",
      "  all_forecasts = pd.concat([all_forecasts, forecasted_temp])\n",
      "/var/folders/x8/v7bmckc139v2dqcm04jgfjlr0000gn/T/ipykernel_3636/3196941531.py:23: FutureWarning: The behavior of DataFrame concatenation with empty or all-NA entries is deprecated. In a future version, this will no longer exclude empty or all-NA columns when determining the result dtypes. To retain the old behavior, exclude the relevant entries before the concat operation.\n",
      "  predictions = pd.concat([predictions, temp_df], ignore_index=True)\n",
      "/var/folders/x8/v7bmckc139v2dqcm04jgfjlr0000gn/T/ipykernel_3636/3196941531.py:23: FutureWarning: The behavior of DataFrame concatenation with empty or all-NA entries is deprecated. In a future version, this will no longer exclude empty or all-NA columns when determining the result dtypes. To retain the old behavior, exclude the relevant entries before the concat operation.\n",
      "  predictions = pd.concat([predictions, temp_df], ignore_index=True)\n",
      "/var/folders/x8/v7bmckc139v2dqcm04jgfjlr0000gn/T/ipykernel_3636/3196941531.py:23: FutureWarning: The behavior of DataFrame concatenation with empty or all-NA entries is deprecated. In a future version, this will no longer exclude empty or all-NA columns when determining the result dtypes. To retain the old behavior, exclude the relevant entries before the concat operation.\n",
      "  predictions = pd.concat([predictions, temp_df], ignore_index=True)\n",
      "/var/folders/x8/v7bmckc139v2dqcm04jgfjlr0000gn/T/ipykernel_3636/3196941531.py:23: FutureWarning: The behavior of DataFrame concatenation with empty or all-NA entries is deprecated. In a future version, this will no longer exclude empty or all-NA columns when determining the result dtypes. To retain the old behavior, exclude the relevant entries before the concat operation.\n",
      "  predictions = pd.concat([predictions, temp_df], ignore_index=True)\n",
      "/var/folders/x8/v7bmckc139v2dqcm04jgfjlr0000gn/T/ipykernel_3636/3196941531.py:23: FutureWarning: The behavior of DataFrame concatenation with empty or all-NA entries is deprecated. In a future version, this will no longer exclude empty or all-NA columns when determining the result dtypes. To retain the old behavior, exclude the relevant entries before the concat operation.\n",
      "  predictions = pd.concat([predictions, temp_df], ignore_index=True)\n",
      "/var/folders/x8/v7bmckc139v2dqcm04jgfjlr0000gn/T/ipykernel_3636/3196941531.py:23: FutureWarning: The behavior of DataFrame concatenation with empty or all-NA entries is deprecated. In a future version, this will no longer exclude empty or all-NA columns when determining the result dtypes. To retain the old behavior, exclude the relevant entries before the concat operation.\n",
      "  predictions = pd.concat([predictions, temp_df], ignore_index=True)\n",
      "/var/folders/x8/v7bmckc139v2dqcm04jgfjlr0000gn/T/ipykernel_3636/3196941531.py:11: FutureWarning: The behavior of DataFrame concatenation with empty or all-NA entries is deprecated. In a future version, this will no longer exclude empty or all-NA columns when determining the result dtypes. To retain the old behavior, exclude the relevant entries before the concat operation.\n",
      "  predictions = pd.concat([predictions, temp_df], ignore_index=True)\n"
     ]
    },
    {
     "name": "stdout",
     "output_type": "stream",
     "text": [
      "Beginning forecast for 2023-07-19 00:00:00\n"
     ]
    },
    {
     "name": "stderr",
     "output_type": "stream",
     "text": [
      "/var/folders/x8/v7bmckc139v2dqcm04jgfjlr0000gn/T/ipykernel_3636/2637449371.py:65: FutureWarning: The behavior of DataFrame concatenation with empty or all-NA entries is deprecated. In a future version, this will no longer exclude empty or all-NA columns when determining the result dtypes. To retain the old behavior, exclude the relevant entries before the concat operation.\n",
      "  all_forecasts = pd.concat([all_forecasts, forecasted_temp])\n",
      "/var/folders/x8/v7bmckc139v2dqcm04jgfjlr0000gn/T/ipykernel_3636/3196941531.py:23: FutureWarning: The behavior of DataFrame concatenation with empty or all-NA entries is deprecated. In a future version, this will no longer exclude empty or all-NA columns when determining the result dtypes. To retain the old behavior, exclude the relevant entries before the concat operation.\n",
      "  predictions = pd.concat([predictions, temp_df], ignore_index=True)\n",
      "/var/folders/x8/v7bmckc139v2dqcm04jgfjlr0000gn/T/ipykernel_3636/3196941531.py:23: FutureWarning: The behavior of DataFrame concatenation with empty or all-NA entries is deprecated. In a future version, this will no longer exclude empty or all-NA columns when determining the result dtypes. To retain the old behavior, exclude the relevant entries before the concat operation.\n",
      "  predictions = pd.concat([predictions, temp_df], ignore_index=True)\n",
      "/var/folders/x8/v7bmckc139v2dqcm04jgfjlr0000gn/T/ipykernel_3636/3196941531.py:23: FutureWarning: The behavior of DataFrame concatenation with empty or all-NA entries is deprecated. In a future version, this will no longer exclude empty or all-NA columns when determining the result dtypes. To retain the old behavior, exclude the relevant entries before the concat operation.\n",
      "  predictions = pd.concat([predictions, temp_df], ignore_index=True)\n",
      "/var/folders/x8/v7bmckc139v2dqcm04jgfjlr0000gn/T/ipykernel_3636/3196941531.py:23: FutureWarning: The behavior of DataFrame concatenation with empty or all-NA entries is deprecated. In a future version, this will no longer exclude empty or all-NA columns when determining the result dtypes. To retain the old behavior, exclude the relevant entries before the concat operation.\n",
      "  predictions = pd.concat([predictions, temp_df], ignore_index=True)\n",
      "/var/folders/x8/v7bmckc139v2dqcm04jgfjlr0000gn/T/ipykernel_3636/3196941531.py:23: FutureWarning: The behavior of DataFrame concatenation with empty or all-NA entries is deprecated. In a future version, this will no longer exclude empty or all-NA columns when determining the result dtypes. To retain the old behavior, exclude the relevant entries before the concat operation.\n",
      "  predictions = pd.concat([predictions, temp_df], ignore_index=True)\n",
      "/var/folders/x8/v7bmckc139v2dqcm04jgfjlr0000gn/T/ipykernel_3636/3196941531.py:23: FutureWarning: The behavior of DataFrame concatenation with empty or all-NA entries is deprecated. In a future version, this will no longer exclude empty or all-NA columns when determining the result dtypes. To retain the old behavior, exclude the relevant entries before the concat operation.\n",
      "  predictions = pd.concat([predictions, temp_df], ignore_index=True)\n"
     ]
    },
    {
     "name": "stdout",
     "output_type": "stream",
     "text": [
      "Beginning forecast for 2023-07-20 00:00:00\n"
     ]
    },
    {
     "name": "stderr",
     "output_type": "stream",
     "text": [
      "/var/folders/x8/v7bmckc139v2dqcm04jgfjlr0000gn/T/ipykernel_3636/3196941531.py:11: FutureWarning: The behavior of DataFrame concatenation with empty or all-NA entries is deprecated. In a future version, this will no longer exclude empty or all-NA columns when determining the result dtypes. To retain the old behavior, exclude the relevant entries before the concat operation.\n",
      "  predictions = pd.concat([predictions, temp_df], ignore_index=True)\n",
      "/var/folders/x8/v7bmckc139v2dqcm04jgfjlr0000gn/T/ipykernel_3636/2637449371.py:65: FutureWarning: The behavior of DataFrame concatenation with empty or all-NA entries is deprecated. In a future version, this will no longer exclude empty or all-NA columns when determining the result dtypes. To retain the old behavior, exclude the relevant entries before the concat operation.\n",
      "  all_forecasts = pd.concat([all_forecasts, forecasted_temp])\n",
      "/var/folders/x8/v7bmckc139v2dqcm04jgfjlr0000gn/T/ipykernel_3636/3196941531.py:23: FutureWarning: The behavior of DataFrame concatenation with empty or all-NA entries is deprecated. In a future version, this will no longer exclude empty or all-NA columns when determining the result dtypes. To retain the old behavior, exclude the relevant entries before the concat operation.\n",
      "  predictions = pd.concat([predictions, temp_df], ignore_index=True)\n",
      "/var/folders/x8/v7bmckc139v2dqcm04jgfjlr0000gn/T/ipykernel_3636/3196941531.py:23: FutureWarning: The behavior of DataFrame concatenation with empty or all-NA entries is deprecated. In a future version, this will no longer exclude empty or all-NA columns when determining the result dtypes. To retain the old behavior, exclude the relevant entries before the concat operation.\n",
      "  predictions = pd.concat([predictions, temp_df], ignore_index=True)\n",
      "/var/folders/x8/v7bmckc139v2dqcm04jgfjlr0000gn/T/ipykernel_3636/3196941531.py:23: FutureWarning: The behavior of DataFrame concatenation with empty or all-NA entries is deprecated. In a future version, this will no longer exclude empty or all-NA columns when determining the result dtypes. To retain the old behavior, exclude the relevant entries before the concat operation.\n",
      "  predictions = pd.concat([predictions, temp_df], ignore_index=True)\n",
      "/var/folders/x8/v7bmckc139v2dqcm04jgfjlr0000gn/T/ipykernel_3636/3196941531.py:23: FutureWarning: The behavior of DataFrame concatenation with empty or all-NA entries is deprecated. In a future version, this will no longer exclude empty or all-NA columns when determining the result dtypes. To retain the old behavior, exclude the relevant entries before the concat operation.\n",
      "  predictions = pd.concat([predictions, temp_df], ignore_index=True)\n",
      "/var/folders/x8/v7bmckc139v2dqcm04jgfjlr0000gn/T/ipykernel_3636/3196941531.py:23: FutureWarning: The behavior of DataFrame concatenation with empty or all-NA entries is deprecated. In a future version, this will no longer exclude empty or all-NA columns when determining the result dtypes. To retain the old behavior, exclude the relevant entries before the concat operation.\n",
      "  predictions = pd.concat([predictions, temp_df], ignore_index=True)\n",
      "/var/folders/x8/v7bmckc139v2dqcm04jgfjlr0000gn/T/ipykernel_3636/3196941531.py:23: FutureWarning: The behavior of DataFrame concatenation with empty or all-NA entries is deprecated. In a future version, this will no longer exclude empty or all-NA columns when determining the result dtypes. To retain the old behavior, exclude the relevant entries before the concat operation.\n",
      "  predictions = pd.concat([predictions, temp_df], ignore_index=True)\n",
      "/var/folders/x8/v7bmckc139v2dqcm04jgfjlr0000gn/T/ipykernel_3636/3196941531.py:11: FutureWarning: The behavior of DataFrame concatenation with empty or all-NA entries is deprecated. In a future version, this will no longer exclude empty or all-NA columns when determining the result dtypes. To retain the old behavior, exclude the relevant entries before the concat operation.\n",
      "  predictions = pd.concat([predictions, temp_df], ignore_index=True)\n"
     ]
    },
    {
     "name": "stdout",
     "output_type": "stream",
     "text": [
      "Beginning forecast for 2023-07-21 00:00:00\n"
     ]
    },
    {
     "name": "stderr",
     "output_type": "stream",
     "text": [
      "/var/folders/x8/v7bmckc139v2dqcm04jgfjlr0000gn/T/ipykernel_3636/2637449371.py:65: FutureWarning: The behavior of DataFrame concatenation with empty or all-NA entries is deprecated. In a future version, this will no longer exclude empty or all-NA columns when determining the result dtypes. To retain the old behavior, exclude the relevant entries before the concat operation.\n",
      "  all_forecasts = pd.concat([all_forecasts, forecasted_temp])\n",
      "/var/folders/x8/v7bmckc139v2dqcm04jgfjlr0000gn/T/ipykernel_3636/3196941531.py:23: FutureWarning: The behavior of DataFrame concatenation with empty or all-NA entries is deprecated. In a future version, this will no longer exclude empty or all-NA columns when determining the result dtypes. To retain the old behavior, exclude the relevant entries before the concat operation.\n",
      "  predictions = pd.concat([predictions, temp_df], ignore_index=True)\n",
      "/var/folders/x8/v7bmckc139v2dqcm04jgfjlr0000gn/T/ipykernel_3636/3196941531.py:23: FutureWarning: The behavior of DataFrame concatenation with empty or all-NA entries is deprecated. In a future version, this will no longer exclude empty or all-NA columns when determining the result dtypes. To retain the old behavior, exclude the relevant entries before the concat operation.\n",
      "  predictions = pd.concat([predictions, temp_df], ignore_index=True)\n",
      "/var/folders/x8/v7bmckc139v2dqcm04jgfjlr0000gn/T/ipykernel_3636/3196941531.py:23: FutureWarning: The behavior of DataFrame concatenation with empty or all-NA entries is deprecated. In a future version, this will no longer exclude empty or all-NA columns when determining the result dtypes. To retain the old behavior, exclude the relevant entries before the concat operation.\n",
      "  predictions = pd.concat([predictions, temp_df], ignore_index=True)\n",
      "/var/folders/x8/v7bmckc139v2dqcm04jgfjlr0000gn/T/ipykernel_3636/3196941531.py:23: FutureWarning: The behavior of DataFrame concatenation with empty or all-NA entries is deprecated. In a future version, this will no longer exclude empty or all-NA columns when determining the result dtypes. To retain the old behavior, exclude the relevant entries before the concat operation.\n",
      "  predictions = pd.concat([predictions, temp_df], ignore_index=True)\n",
      "/var/folders/x8/v7bmckc139v2dqcm04jgfjlr0000gn/T/ipykernel_3636/3196941531.py:23: FutureWarning: The behavior of DataFrame concatenation with empty or all-NA entries is deprecated. In a future version, this will no longer exclude empty or all-NA columns when determining the result dtypes. To retain the old behavior, exclude the relevant entries before the concat operation.\n",
      "  predictions = pd.concat([predictions, temp_df], ignore_index=True)\n",
      "/var/folders/x8/v7bmckc139v2dqcm04jgfjlr0000gn/T/ipykernel_3636/3196941531.py:23: FutureWarning: The behavior of DataFrame concatenation with empty or all-NA entries is deprecated. In a future version, this will no longer exclude empty or all-NA columns when determining the result dtypes. To retain the old behavior, exclude the relevant entries before the concat operation.\n",
      "  predictions = pd.concat([predictions, temp_df], ignore_index=True)\n",
      "/var/folders/x8/v7bmckc139v2dqcm04jgfjlr0000gn/T/ipykernel_3636/3196941531.py:11: FutureWarning: The behavior of DataFrame concatenation with empty or all-NA entries is deprecated. In a future version, this will no longer exclude empty or all-NA columns when determining the result dtypes. To retain the old behavior, exclude the relevant entries before the concat operation.\n",
      "  predictions = pd.concat([predictions, temp_df], ignore_index=True)\n"
     ]
    },
    {
     "name": "stdout",
     "output_type": "stream",
     "text": [
      "Beginning forecast for 2023-07-22 00:00:00\n"
     ]
    },
    {
     "name": "stderr",
     "output_type": "stream",
     "text": [
      "/var/folders/x8/v7bmckc139v2dqcm04jgfjlr0000gn/T/ipykernel_3636/2637449371.py:65: FutureWarning: The behavior of DataFrame concatenation with empty or all-NA entries is deprecated. In a future version, this will no longer exclude empty or all-NA columns when determining the result dtypes. To retain the old behavior, exclude the relevant entries before the concat operation.\n",
      "  all_forecasts = pd.concat([all_forecasts, forecasted_temp])\n",
      "/var/folders/x8/v7bmckc139v2dqcm04jgfjlr0000gn/T/ipykernel_3636/3196941531.py:23: FutureWarning: The behavior of DataFrame concatenation with empty or all-NA entries is deprecated. In a future version, this will no longer exclude empty or all-NA columns when determining the result dtypes. To retain the old behavior, exclude the relevant entries before the concat operation.\n",
      "  predictions = pd.concat([predictions, temp_df], ignore_index=True)\n",
      "/var/folders/x8/v7bmckc139v2dqcm04jgfjlr0000gn/T/ipykernel_3636/3196941531.py:23: FutureWarning: The behavior of DataFrame concatenation with empty or all-NA entries is deprecated. In a future version, this will no longer exclude empty or all-NA columns when determining the result dtypes. To retain the old behavior, exclude the relevant entries before the concat operation.\n",
      "  predictions = pd.concat([predictions, temp_df], ignore_index=True)\n",
      "/var/folders/x8/v7bmckc139v2dqcm04jgfjlr0000gn/T/ipykernel_3636/3196941531.py:23: FutureWarning: The behavior of DataFrame concatenation with empty or all-NA entries is deprecated. In a future version, this will no longer exclude empty or all-NA columns when determining the result dtypes. To retain the old behavior, exclude the relevant entries before the concat operation.\n",
      "  predictions = pd.concat([predictions, temp_df], ignore_index=True)\n",
      "/var/folders/x8/v7bmckc139v2dqcm04jgfjlr0000gn/T/ipykernel_3636/3196941531.py:23: FutureWarning: The behavior of DataFrame concatenation with empty or all-NA entries is deprecated. In a future version, this will no longer exclude empty or all-NA columns when determining the result dtypes. To retain the old behavior, exclude the relevant entries before the concat operation.\n",
      "  predictions = pd.concat([predictions, temp_df], ignore_index=True)\n",
      "/var/folders/x8/v7bmckc139v2dqcm04jgfjlr0000gn/T/ipykernel_3636/3196941531.py:23: FutureWarning: The behavior of DataFrame concatenation with empty or all-NA entries is deprecated. In a future version, this will no longer exclude empty or all-NA columns when determining the result dtypes. To retain the old behavior, exclude the relevant entries before the concat operation.\n",
      "  predictions = pd.concat([predictions, temp_df], ignore_index=True)\n",
      "/var/folders/x8/v7bmckc139v2dqcm04jgfjlr0000gn/T/ipykernel_3636/3196941531.py:23: FutureWarning: The behavior of DataFrame concatenation with empty or all-NA entries is deprecated. In a future version, this will no longer exclude empty or all-NA columns when determining the result dtypes. To retain the old behavior, exclude the relevant entries before the concat operation.\n",
      "  predictions = pd.concat([predictions, temp_df], ignore_index=True)\n"
     ]
    },
    {
     "name": "stdout",
     "output_type": "stream",
     "text": [
      "Beginning forecast for 2023-07-23 00:00:00\n"
     ]
    },
    {
     "name": "stderr",
     "output_type": "stream",
     "text": [
      "/var/folders/x8/v7bmckc139v2dqcm04jgfjlr0000gn/T/ipykernel_3636/3196941531.py:11: FutureWarning: The behavior of DataFrame concatenation with empty or all-NA entries is deprecated. In a future version, this will no longer exclude empty or all-NA columns when determining the result dtypes. To retain the old behavior, exclude the relevant entries before the concat operation.\n",
      "  predictions = pd.concat([predictions, temp_df], ignore_index=True)\n",
      "/var/folders/x8/v7bmckc139v2dqcm04jgfjlr0000gn/T/ipykernel_3636/2637449371.py:65: FutureWarning: The behavior of DataFrame concatenation with empty or all-NA entries is deprecated. In a future version, this will no longer exclude empty or all-NA columns when determining the result dtypes. To retain the old behavior, exclude the relevant entries before the concat operation.\n",
      "  all_forecasts = pd.concat([all_forecasts, forecasted_temp])\n",
      "/var/folders/x8/v7bmckc139v2dqcm04jgfjlr0000gn/T/ipykernel_3636/3196941531.py:23: FutureWarning: The behavior of DataFrame concatenation with empty or all-NA entries is deprecated. In a future version, this will no longer exclude empty or all-NA columns when determining the result dtypes. To retain the old behavior, exclude the relevant entries before the concat operation.\n",
      "  predictions = pd.concat([predictions, temp_df], ignore_index=True)\n",
      "/var/folders/x8/v7bmckc139v2dqcm04jgfjlr0000gn/T/ipykernel_3636/3196941531.py:23: FutureWarning: The behavior of DataFrame concatenation with empty or all-NA entries is deprecated. In a future version, this will no longer exclude empty or all-NA columns when determining the result dtypes. To retain the old behavior, exclude the relevant entries before the concat operation.\n",
      "  predictions = pd.concat([predictions, temp_df], ignore_index=True)\n",
      "/var/folders/x8/v7bmckc139v2dqcm04jgfjlr0000gn/T/ipykernel_3636/3196941531.py:23: FutureWarning: The behavior of DataFrame concatenation with empty or all-NA entries is deprecated. In a future version, this will no longer exclude empty or all-NA columns when determining the result dtypes. To retain the old behavior, exclude the relevant entries before the concat operation.\n",
      "  predictions = pd.concat([predictions, temp_df], ignore_index=True)\n",
      "/var/folders/x8/v7bmckc139v2dqcm04jgfjlr0000gn/T/ipykernel_3636/3196941531.py:23: FutureWarning: The behavior of DataFrame concatenation with empty or all-NA entries is deprecated. In a future version, this will no longer exclude empty or all-NA columns when determining the result dtypes. To retain the old behavior, exclude the relevant entries before the concat operation.\n",
      "  predictions = pd.concat([predictions, temp_df], ignore_index=True)\n",
      "/var/folders/x8/v7bmckc139v2dqcm04jgfjlr0000gn/T/ipykernel_3636/3196941531.py:23: FutureWarning: The behavior of DataFrame concatenation with empty or all-NA entries is deprecated. In a future version, this will no longer exclude empty or all-NA columns when determining the result dtypes. To retain the old behavior, exclude the relevant entries before the concat operation.\n",
      "  predictions = pd.concat([predictions, temp_df], ignore_index=True)\n",
      "/var/folders/x8/v7bmckc139v2dqcm04jgfjlr0000gn/T/ipykernel_3636/3196941531.py:23: FutureWarning: The behavior of DataFrame concatenation with empty or all-NA entries is deprecated. In a future version, this will no longer exclude empty or all-NA columns when determining the result dtypes. To retain the old behavior, exclude the relevant entries before the concat operation.\n",
      "  predictions = pd.concat([predictions, temp_df], ignore_index=True)\n",
      "/var/folders/x8/v7bmckc139v2dqcm04jgfjlr0000gn/T/ipykernel_3636/3196941531.py:11: FutureWarning: The behavior of DataFrame concatenation with empty or all-NA entries is deprecated. In a future version, this will no longer exclude empty or all-NA columns when determining the result dtypes. To retain the old behavior, exclude the relevant entries before the concat operation.\n",
      "  predictions = pd.concat([predictions, temp_df], ignore_index=True)\n"
     ]
    },
    {
     "name": "stdout",
     "output_type": "stream",
     "text": [
      "Beginning forecast for 2023-07-24 00:00:00\n"
     ]
    },
    {
     "name": "stderr",
     "output_type": "stream",
     "text": [
      "/var/folders/x8/v7bmckc139v2dqcm04jgfjlr0000gn/T/ipykernel_3636/2637449371.py:65: FutureWarning: The behavior of DataFrame concatenation with empty or all-NA entries is deprecated. In a future version, this will no longer exclude empty or all-NA columns when determining the result dtypes. To retain the old behavior, exclude the relevant entries before the concat operation.\n",
      "  all_forecasts = pd.concat([all_forecasts, forecasted_temp])\n",
      "/var/folders/x8/v7bmckc139v2dqcm04jgfjlr0000gn/T/ipykernel_3636/3196941531.py:23: FutureWarning: The behavior of DataFrame concatenation with empty or all-NA entries is deprecated. In a future version, this will no longer exclude empty or all-NA columns when determining the result dtypes. To retain the old behavior, exclude the relevant entries before the concat operation.\n",
      "  predictions = pd.concat([predictions, temp_df], ignore_index=True)\n",
      "/var/folders/x8/v7bmckc139v2dqcm04jgfjlr0000gn/T/ipykernel_3636/3196941531.py:23: FutureWarning: The behavior of DataFrame concatenation with empty or all-NA entries is deprecated. In a future version, this will no longer exclude empty or all-NA columns when determining the result dtypes. To retain the old behavior, exclude the relevant entries before the concat operation.\n",
      "  predictions = pd.concat([predictions, temp_df], ignore_index=True)\n",
      "/var/folders/x8/v7bmckc139v2dqcm04jgfjlr0000gn/T/ipykernel_3636/3196941531.py:23: FutureWarning: The behavior of DataFrame concatenation with empty or all-NA entries is deprecated. In a future version, this will no longer exclude empty or all-NA columns when determining the result dtypes. To retain the old behavior, exclude the relevant entries before the concat operation.\n",
      "  predictions = pd.concat([predictions, temp_df], ignore_index=True)\n",
      "/var/folders/x8/v7bmckc139v2dqcm04jgfjlr0000gn/T/ipykernel_3636/3196941531.py:23: FutureWarning: The behavior of DataFrame concatenation with empty or all-NA entries is deprecated. In a future version, this will no longer exclude empty or all-NA columns when determining the result dtypes. To retain the old behavior, exclude the relevant entries before the concat operation.\n",
      "  predictions = pd.concat([predictions, temp_df], ignore_index=True)\n",
      "/var/folders/x8/v7bmckc139v2dqcm04jgfjlr0000gn/T/ipykernel_3636/3196941531.py:23: FutureWarning: The behavior of DataFrame concatenation with empty or all-NA entries is deprecated. In a future version, this will no longer exclude empty or all-NA columns when determining the result dtypes. To retain the old behavior, exclude the relevant entries before the concat operation.\n",
      "  predictions = pd.concat([predictions, temp_df], ignore_index=True)\n",
      "/var/folders/x8/v7bmckc139v2dqcm04jgfjlr0000gn/T/ipykernel_3636/3196941531.py:23: FutureWarning: The behavior of DataFrame concatenation with empty or all-NA entries is deprecated. In a future version, this will no longer exclude empty or all-NA columns when determining the result dtypes. To retain the old behavior, exclude the relevant entries before the concat operation.\n",
      "  predictions = pd.concat([predictions, temp_df], ignore_index=True)\n",
      "/var/folders/x8/v7bmckc139v2dqcm04jgfjlr0000gn/T/ipykernel_3636/3196941531.py:11: FutureWarning: The behavior of DataFrame concatenation with empty or all-NA entries is deprecated. In a future version, this will no longer exclude empty or all-NA columns when determining the result dtypes. To retain the old behavior, exclude the relevant entries before the concat operation.\n",
      "  predictions = pd.concat([predictions, temp_df], ignore_index=True)\n"
     ]
    },
    {
     "name": "stdout",
     "output_type": "stream",
     "text": [
      "Beginning forecast for 2023-07-25 00:00:00\n"
     ]
    },
    {
     "name": "stderr",
     "output_type": "stream",
     "text": [
      "/var/folders/x8/v7bmckc139v2dqcm04jgfjlr0000gn/T/ipykernel_3636/2637449371.py:65: FutureWarning: The behavior of DataFrame concatenation with empty or all-NA entries is deprecated. In a future version, this will no longer exclude empty or all-NA columns when determining the result dtypes. To retain the old behavior, exclude the relevant entries before the concat operation.\n",
      "  all_forecasts = pd.concat([all_forecasts, forecasted_temp])\n",
      "/var/folders/x8/v7bmckc139v2dqcm04jgfjlr0000gn/T/ipykernel_3636/3196941531.py:23: FutureWarning: The behavior of DataFrame concatenation with empty or all-NA entries is deprecated. In a future version, this will no longer exclude empty or all-NA columns when determining the result dtypes. To retain the old behavior, exclude the relevant entries before the concat operation.\n",
      "  predictions = pd.concat([predictions, temp_df], ignore_index=True)\n",
      "/var/folders/x8/v7bmckc139v2dqcm04jgfjlr0000gn/T/ipykernel_3636/3196941531.py:23: FutureWarning: The behavior of DataFrame concatenation with empty or all-NA entries is deprecated. In a future version, this will no longer exclude empty or all-NA columns when determining the result dtypes. To retain the old behavior, exclude the relevant entries before the concat operation.\n",
      "  predictions = pd.concat([predictions, temp_df], ignore_index=True)\n",
      "/var/folders/x8/v7bmckc139v2dqcm04jgfjlr0000gn/T/ipykernel_3636/3196941531.py:23: FutureWarning: The behavior of DataFrame concatenation with empty or all-NA entries is deprecated. In a future version, this will no longer exclude empty or all-NA columns when determining the result dtypes. To retain the old behavior, exclude the relevant entries before the concat operation.\n",
      "  predictions = pd.concat([predictions, temp_df], ignore_index=True)\n",
      "/var/folders/x8/v7bmckc139v2dqcm04jgfjlr0000gn/T/ipykernel_3636/3196941531.py:23: FutureWarning: The behavior of DataFrame concatenation with empty or all-NA entries is deprecated. In a future version, this will no longer exclude empty or all-NA columns when determining the result dtypes. To retain the old behavior, exclude the relevant entries before the concat operation.\n",
      "  predictions = pd.concat([predictions, temp_df], ignore_index=True)\n",
      "/var/folders/x8/v7bmckc139v2dqcm04jgfjlr0000gn/T/ipykernel_3636/3196941531.py:23: FutureWarning: The behavior of DataFrame concatenation with empty or all-NA entries is deprecated. In a future version, this will no longer exclude empty or all-NA columns when determining the result dtypes. To retain the old behavior, exclude the relevant entries before the concat operation.\n",
      "  predictions = pd.concat([predictions, temp_df], ignore_index=True)\n",
      "/var/folders/x8/v7bmckc139v2dqcm04jgfjlr0000gn/T/ipykernel_3636/3196941531.py:23: FutureWarning: The behavior of DataFrame concatenation with empty or all-NA entries is deprecated. In a future version, this will no longer exclude empty or all-NA columns when determining the result dtypes. To retain the old behavior, exclude the relevant entries before the concat operation.\n",
      "  predictions = pd.concat([predictions, temp_df], ignore_index=True)\n"
     ]
    },
    {
     "name": "stdout",
     "output_type": "stream",
     "text": [
      "Beginning forecast for 2023-07-26 00:00:00\n"
     ]
    },
    {
     "name": "stderr",
     "output_type": "stream",
     "text": [
      "/var/folders/x8/v7bmckc139v2dqcm04jgfjlr0000gn/T/ipykernel_3636/3196941531.py:11: FutureWarning: The behavior of DataFrame concatenation with empty or all-NA entries is deprecated. In a future version, this will no longer exclude empty or all-NA columns when determining the result dtypes. To retain the old behavior, exclude the relevant entries before the concat operation.\n",
      "  predictions = pd.concat([predictions, temp_df], ignore_index=True)\n",
      "/var/folders/x8/v7bmckc139v2dqcm04jgfjlr0000gn/T/ipykernel_3636/2637449371.py:65: FutureWarning: The behavior of DataFrame concatenation with empty or all-NA entries is deprecated. In a future version, this will no longer exclude empty or all-NA columns when determining the result dtypes. To retain the old behavior, exclude the relevant entries before the concat operation.\n",
      "  all_forecasts = pd.concat([all_forecasts, forecasted_temp])\n",
      "/var/folders/x8/v7bmckc139v2dqcm04jgfjlr0000gn/T/ipykernel_3636/3196941531.py:23: FutureWarning: The behavior of DataFrame concatenation with empty or all-NA entries is deprecated. In a future version, this will no longer exclude empty or all-NA columns when determining the result dtypes. To retain the old behavior, exclude the relevant entries before the concat operation.\n",
      "  predictions = pd.concat([predictions, temp_df], ignore_index=True)\n",
      "/var/folders/x8/v7bmckc139v2dqcm04jgfjlr0000gn/T/ipykernel_3636/3196941531.py:23: FutureWarning: The behavior of DataFrame concatenation with empty or all-NA entries is deprecated. In a future version, this will no longer exclude empty or all-NA columns when determining the result dtypes. To retain the old behavior, exclude the relevant entries before the concat operation.\n",
      "  predictions = pd.concat([predictions, temp_df], ignore_index=True)\n",
      "/var/folders/x8/v7bmckc139v2dqcm04jgfjlr0000gn/T/ipykernel_3636/3196941531.py:23: FutureWarning: The behavior of DataFrame concatenation with empty or all-NA entries is deprecated. In a future version, this will no longer exclude empty or all-NA columns when determining the result dtypes. To retain the old behavior, exclude the relevant entries before the concat operation.\n",
      "  predictions = pd.concat([predictions, temp_df], ignore_index=True)\n",
      "/var/folders/x8/v7bmckc139v2dqcm04jgfjlr0000gn/T/ipykernel_3636/3196941531.py:23: FutureWarning: The behavior of DataFrame concatenation with empty or all-NA entries is deprecated. In a future version, this will no longer exclude empty or all-NA columns when determining the result dtypes. To retain the old behavior, exclude the relevant entries before the concat operation.\n",
      "  predictions = pd.concat([predictions, temp_df], ignore_index=True)\n",
      "/var/folders/x8/v7bmckc139v2dqcm04jgfjlr0000gn/T/ipykernel_3636/3196941531.py:23: FutureWarning: The behavior of DataFrame concatenation with empty or all-NA entries is deprecated. In a future version, this will no longer exclude empty or all-NA columns when determining the result dtypes. To retain the old behavior, exclude the relevant entries before the concat operation.\n",
      "  predictions = pd.concat([predictions, temp_df], ignore_index=True)\n",
      "/var/folders/x8/v7bmckc139v2dqcm04jgfjlr0000gn/T/ipykernel_3636/3196941531.py:23: FutureWarning: The behavior of DataFrame concatenation with empty or all-NA entries is deprecated. In a future version, this will no longer exclude empty or all-NA columns when determining the result dtypes. To retain the old behavior, exclude the relevant entries before the concat operation.\n",
      "  predictions = pd.concat([predictions, temp_df], ignore_index=True)\n",
      "/var/folders/x8/v7bmckc139v2dqcm04jgfjlr0000gn/T/ipykernel_3636/3196941531.py:11: FutureWarning: The behavior of DataFrame concatenation with empty or all-NA entries is deprecated. In a future version, this will no longer exclude empty or all-NA columns when determining the result dtypes. To retain the old behavior, exclude the relevant entries before the concat operation.\n",
      "  predictions = pd.concat([predictions, temp_df], ignore_index=True)\n"
     ]
    },
    {
     "name": "stdout",
     "output_type": "stream",
     "text": [
      "Beginning forecast for 2023-07-27 00:00:00\n"
     ]
    },
    {
     "name": "stderr",
     "output_type": "stream",
     "text": [
      "/var/folders/x8/v7bmckc139v2dqcm04jgfjlr0000gn/T/ipykernel_3636/2637449371.py:65: FutureWarning: The behavior of DataFrame concatenation with empty or all-NA entries is deprecated. In a future version, this will no longer exclude empty or all-NA columns when determining the result dtypes. To retain the old behavior, exclude the relevant entries before the concat operation.\n",
      "  all_forecasts = pd.concat([all_forecasts, forecasted_temp])\n",
      "/var/folders/x8/v7bmckc139v2dqcm04jgfjlr0000gn/T/ipykernel_3636/3196941531.py:23: FutureWarning: The behavior of DataFrame concatenation with empty or all-NA entries is deprecated. In a future version, this will no longer exclude empty or all-NA columns when determining the result dtypes. To retain the old behavior, exclude the relevant entries before the concat operation.\n",
      "  predictions = pd.concat([predictions, temp_df], ignore_index=True)\n",
      "/var/folders/x8/v7bmckc139v2dqcm04jgfjlr0000gn/T/ipykernel_3636/3196941531.py:23: FutureWarning: The behavior of DataFrame concatenation with empty or all-NA entries is deprecated. In a future version, this will no longer exclude empty or all-NA columns when determining the result dtypes. To retain the old behavior, exclude the relevant entries before the concat operation.\n",
      "  predictions = pd.concat([predictions, temp_df], ignore_index=True)\n",
      "/var/folders/x8/v7bmckc139v2dqcm04jgfjlr0000gn/T/ipykernel_3636/3196941531.py:23: FutureWarning: The behavior of DataFrame concatenation with empty or all-NA entries is deprecated. In a future version, this will no longer exclude empty or all-NA columns when determining the result dtypes. To retain the old behavior, exclude the relevant entries before the concat operation.\n",
      "  predictions = pd.concat([predictions, temp_df], ignore_index=True)\n",
      "/var/folders/x8/v7bmckc139v2dqcm04jgfjlr0000gn/T/ipykernel_3636/3196941531.py:23: FutureWarning: The behavior of DataFrame concatenation with empty or all-NA entries is deprecated. In a future version, this will no longer exclude empty or all-NA columns when determining the result dtypes. To retain the old behavior, exclude the relevant entries before the concat operation.\n",
      "  predictions = pd.concat([predictions, temp_df], ignore_index=True)\n",
      "/var/folders/x8/v7bmckc139v2dqcm04jgfjlr0000gn/T/ipykernel_3636/3196941531.py:23: FutureWarning: The behavior of DataFrame concatenation with empty or all-NA entries is deprecated. In a future version, this will no longer exclude empty or all-NA columns when determining the result dtypes. To retain the old behavior, exclude the relevant entries before the concat operation.\n",
      "  predictions = pd.concat([predictions, temp_df], ignore_index=True)\n",
      "/var/folders/x8/v7bmckc139v2dqcm04jgfjlr0000gn/T/ipykernel_3636/3196941531.py:23: FutureWarning: The behavior of DataFrame concatenation with empty or all-NA entries is deprecated. In a future version, this will no longer exclude empty or all-NA columns when determining the result dtypes. To retain the old behavior, exclude the relevant entries before the concat operation.\n",
      "  predictions = pd.concat([predictions, temp_df], ignore_index=True)\n"
     ]
    },
    {
     "name": "stdout",
     "output_type": "stream",
     "text": [
      "Beginning forecast for 2023-07-28 00:00:00\n"
     ]
    },
    {
     "name": "stderr",
     "output_type": "stream",
     "text": [
      "/var/folders/x8/v7bmckc139v2dqcm04jgfjlr0000gn/T/ipykernel_3636/3196941531.py:11: FutureWarning: The behavior of DataFrame concatenation with empty or all-NA entries is deprecated. In a future version, this will no longer exclude empty or all-NA columns when determining the result dtypes. To retain the old behavior, exclude the relevant entries before the concat operation.\n",
      "  predictions = pd.concat([predictions, temp_df], ignore_index=True)\n",
      "/var/folders/x8/v7bmckc139v2dqcm04jgfjlr0000gn/T/ipykernel_3636/2637449371.py:65: FutureWarning: The behavior of DataFrame concatenation with empty or all-NA entries is deprecated. In a future version, this will no longer exclude empty or all-NA columns when determining the result dtypes. To retain the old behavior, exclude the relevant entries before the concat operation.\n",
      "  all_forecasts = pd.concat([all_forecasts, forecasted_temp])\n",
      "/var/folders/x8/v7bmckc139v2dqcm04jgfjlr0000gn/T/ipykernel_3636/3196941531.py:23: FutureWarning: The behavior of DataFrame concatenation with empty or all-NA entries is deprecated. In a future version, this will no longer exclude empty or all-NA columns when determining the result dtypes. To retain the old behavior, exclude the relevant entries before the concat operation.\n",
      "  predictions = pd.concat([predictions, temp_df], ignore_index=True)\n",
      "/var/folders/x8/v7bmckc139v2dqcm04jgfjlr0000gn/T/ipykernel_3636/3196941531.py:23: FutureWarning: The behavior of DataFrame concatenation with empty or all-NA entries is deprecated. In a future version, this will no longer exclude empty or all-NA columns when determining the result dtypes. To retain the old behavior, exclude the relevant entries before the concat operation.\n",
      "  predictions = pd.concat([predictions, temp_df], ignore_index=True)\n",
      "/var/folders/x8/v7bmckc139v2dqcm04jgfjlr0000gn/T/ipykernel_3636/3196941531.py:23: FutureWarning: The behavior of DataFrame concatenation with empty or all-NA entries is deprecated. In a future version, this will no longer exclude empty or all-NA columns when determining the result dtypes. To retain the old behavior, exclude the relevant entries before the concat operation.\n",
      "  predictions = pd.concat([predictions, temp_df], ignore_index=True)\n",
      "/var/folders/x8/v7bmckc139v2dqcm04jgfjlr0000gn/T/ipykernel_3636/3196941531.py:23: FutureWarning: The behavior of DataFrame concatenation with empty or all-NA entries is deprecated. In a future version, this will no longer exclude empty or all-NA columns when determining the result dtypes. To retain the old behavior, exclude the relevant entries before the concat operation.\n",
      "  predictions = pd.concat([predictions, temp_df], ignore_index=True)\n",
      "/var/folders/x8/v7bmckc139v2dqcm04jgfjlr0000gn/T/ipykernel_3636/3196941531.py:23: FutureWarning: The behavior of DataFrame concatenation with empty or all-NA entries is deprecated. In a future version, this will no longer exclude empty or all-NA columns when determining the result dtypes. To retain the old behavior, exclude the relevant entries before the concat operation.\n",
      "  predictions = pd.concat([predictions, temp_df], ignore_index=True)\n",
      "/var/folders/x8/v7bmckc139v2dqcm04jgfjlr0000gn/T/ipykernel_3636/3196941531.py:23: FutureWarning: The behavior of DataFrame concatenation with empty or all-NA entries is deprecated. In a future version, this will no longer exclude empty or all-NA columns when determining the result dtypes. To retain the old behavior, exclude the relevant entries before the concat operation.\n",
      "  predictions = pd.concat([predictions, temp_df], ignore_index=True)\n",
      "/var/folders/x8/v7bmckc139v2dqcm04jgfjlr0000gn/T/ipykernel_3636/3196941531.py:11: FutureWarning: The behavior of DataFrame concatenation with empty or all-NA entries is deprecated. In a future version, this will no longer exclude empty or all-NA columns when determining the result dtypes. To retain the old behavior, exclude the relevant entries before the concat operation.\n",
      "  predictions = pd.concat([predictions, temp_df], ignore_index=True)\n"
     ]
    },
    {
     "name": "stdout",
     "output_type": "stream",
     "text": [
      "Beginning forecast for 2023-07-29 00:00:00\n"
     ]
    },
    {
     "name": "stderr",
     "output_type": "stream",
     "text": [
      "/var/folders/x8/v7bmckc139v2dqcm04jgfjlr0000gn/T/ipykernel_3636/2637449371.py:65: FutureWarning: The behavior of DataFrame concatenation with empty or all-NA entries is deprecated. In a future version, this will no longer exclude empty or all-NA columns when determining the result dtypes. To retain the old behavior, exclude the relevant entries before the concat operation.\n",
      "  all_forecasts = pd.concat([all_forecasts, forecasted_temp])\n",
      "/var/folders/x8/v7bmckc139v2dqcm04jgfjlr0000gn/T/ipykernel_3636/3196941531.py:23: FutureWarning: The behavior of DataFrame concatenation with empty or all-NA entries is deprecated. In a future version, this will no longer exclude empty or all-NA columns when determining the result dtypes. To retain the old behavior, exclude the relevant entries before the concat operation.\n",
      "  predictions = pd.concat([predictions, temp_df], ignore_index=True)\n",
      "/var/folders/x8/v7bmckc139v2dqcm04jgfjlr0000gn/T/ipykernel_3636/3196941531.py:23: FutureWarning: The behavior of DataFrame concatenation with empty or all-NA entries is deprecated. In a future version, this will no longer exclude empty or all-NA columns when determining the result dtypes. To retain the old behavior, exclude the relevant entries before the concat operation.\n",
      "  predictions = pd.concat([predictions, temp_df], ignore_index=True)\n",
      "/var/folders/x8/v7bmckc139v2dqcm04jgfjlr0000gn/T/ipykernel_3636/3196941531.py:23: FutureWarning: The behavior of DataFrame concatenation with empty or all-NA entries is deprecated. In a future version, this will no longer exclude empty or all-NA columns when determining the result dtypes. To retain the old behavior, exclude the relevant entries before the concat operation.\n",
      "  predictions = pd.concat([predictions, temp_df], ignore_index=True)\n",
      "/var/folders/x8/v7bmckc139v2dqcm04jgfjlr0000gn/T/ipykernel_3636/3196941531.py:23: FutureWarning: The behavior of DataFrame concatenation with empty or all-NA entries is deprecated. In a future version, this will no longer exclude empty or all-NA columns when determining the result dtypes. To retain the old behavior, exclude the relevant entries before the concat operation.\n",
      "  predictions = pd.concat([predictions, temp_df], ignore_index=True)\n",
      "/var/folders/x8/v7bmckc139v2dqcm04jgfjlr0000gn/T/ipykernel_3636/3196941531.py:23: FutureWarning: The behavior of DataFrame concatenation with empty or all-NA entries is deprecated. In a future version, this will no longer exclude empty or all-NA columns when determining the result dtypes. To retain the old behavior, exclude the relevant entries before the concat operation.\n",
      "  predictions = pd.concat([predictions, temp_df], ignore_index=True)\n",
      "/var/folders/x8/v7bmckc139v2dqcm04jgfjlr0000gn/T/ipykernel_3636/3196941531.py:23: FutureWarning: The behavior of DataFrame concatenation with empty or all-NA entries is deprecated. In a future version, this will no longer exclude empty or all-NA columns when determining the result dtypes. To retain the old behavior, exclude the relevant entries before the concat operation.\n",
      "  predictions = pd.concat([predictions, temp_df], ignore_index=True)\n"
     ]
    },
    {
     "name": "stdout",
     "output_type": "stream",
     "text": [
      "Beginning forecast for 2023-07-30 00:00:00\n"
     ]
    },
    {
     "name": "stderr",
     "output_type": "stream",
     "text": [
      "/var/folders/x8/v7bmckc139v2dqcm04jgfjlr0000gn/T/ipykernel_3636/3196941531.py:11: FutureWarning: The behavior of DataFrame concatenation with empty or all-NA entries is deprecated. In a future version, this will no longer exclude empty or all-NA columns when determining the result dtypes. To retain the old behavior, exclude the relevant entries before the concat operation.\n",
      "  predictions = pd.concat([predictions, temp_df], ignore_index=True)\n",
      "/var/folders/x8/v7bmckc139v2dqcm04jgfjlr0000gn/T/ipykernel_3636/2637449371.py:65: FutureWarning: The behavior of DataFrame concatenation with empty or all-NA entries is deprecated. In a future version, this will no longer exclude empty or all-NA columns when determining the result dtypes. To retain the old behavior, exclude the relevant entries before the concat operation.\n",
      "  all_forecasts = pd.concat([all_forecasts, forecasted_temp])\n",
      "/var/folders/x8/v7bmckc139v2dqcm04jgfjlr0000gn/T/ipykernel_3636/3196941531.py:23: FutureWarning: The behavior of DataFrame concatenation with empty or all-NA entries is deprecated. In a future version, this will no longer exclude empty or all-NA columns when determining the result dtypes. To retain the old behavior, exclude the relevant entries before the concat operation.\n",
      "  predictions = pd.concat([predictions, temp_df], ignore_index=True)\n",
      "/var/folders/x8/v7bmckc139v2dqcm04jgfjlr0000gn/T/ipykernel_3636/3196941531.py:23: FutureWarning: The behavior of DataFrame concatenation with empty or all-NA entries is deprecated. In a future version, this will no longer exclude empty or all-NA columns when determining the result dtypes. To retain the old behavior, exclude the relevant entries before the concat operation.\n",
      "  predictions = pd.concat([predictions, temp_df], ignore_index=True)\n",
      "/var/folders/x8/v7bmckc139v2dqcm04jgfjlr0000gn/T/ipykernel_3636/3196941531.py:23: FutureWarning: The behavior of DataFrame concatenation with empty or all-NA entries is deprecated. In a future version, this will no longer exclude empty or all-NA columns when determining the result dtypes. To retain the old behavior, exclude the relevant entries before the concat operation.\n",
      "  predictions = pd.concat([predictions, temp_df], ignore_index=True)\n",
      "/var/folders/x8/v7bmckc139v2dqcm04jgfjlr0000gn/T/ipykernel_3636/3196941531.py:23: FutureWarning: The behavior of DataFrame concatenation with empty or all-NA entries is deprecated. In a future version, this will no longer exclude empty or all-NA columns when determining the result dtypes. To retain the old behavior, exclude the relevant entries before the concat operation.\n",
      "  predictions = pd.concat([predictions, temp_df], ignore_index=True)\n",
      "/var/folders/x8/v7bmckc139v2dqcm04jgfjlr0000gn/T/ipykernel_3636/3196941531.py:23: FutureWarning: The behavior of DataFrame concatenation with empty or all-NA entries is deprecated. In a future version, this will no longer exclude empty or all-NA columns when determining the result dtypes. To retain the old behavior, exclude the relevant entries before the concat operation.\n",
      "  predictions = pd.concat([predictions, temp_df], ignore_index=True)\n",
      "/var/folders/x8/v7bmckc139v2dqcm04jgfjlr0000gn/T/ipykernel_3636/3196941531.py:23: FutureWarning: The behavior of DataFrame concatenation with empty or all-NA entries is deprecated. In a future version, this will no longer exclude empty or all-NA columns when determining the result dtypes. To retain the old behavior, exclude the relevant entries before the concat operation.\n",
      "  predictions = pd.concat([predictions, temp_df], ignore_index=True)\n",
      "/var/folders/x8/v7bmckc139v2dqcm04jgfjlr0000gn/T/ipykernel_3636/3196941531.py:11: FutureWarning: The behavior of DataFrame concatenation with empty or all-NA entries is deprecated. In a future version, this will no longer exclude empty or all-NA columns when determining the result dtypes. To retain the old behavior, exclude the relevant entries before the concat operation.\n",
      "  predictions = pd.concat([predictions, temp_df], ignore_index=True)\n"
     ]
    },
    {
     "name": "stdout",
     "output_type": "stream",
     "text": [
      "Beginning forecast for 2023-07-31 00:00:00\n"
     ]
    },
    {
     "name": "stderr",
     "output_type": "stream",
     "text": [
      "/var/folders/x8/v7bmckc139v2dqcm04jgfjlr0000gn/T/ipykernel_3636/2637449371.py:65: FutureWarning: The behavior of DataFrame concatenation with empty or all-NA entries is deprecated. In a future version, this will no longer exclude empty or all-NA columns when determining the result dtypes. To retain the old behavior, exclude the relevant entries before the concat operation.\n",
      "  all_forecasts = pd.concat([all_forecasts, forecasted_temp])\n",
      "/var/folders/x8/v7bmckc139v2dqcm04jgfjlr0000gn/T/ipykernel_3636/3196941531.py:23: FutureWarning: The behavior of DataFrame concatenation with empty or all-NA entries is deprecated. In a future version, this will no longer exclude empty or all-NA columns when determining the result dtypes. To retain the old behavior, exclude the relevant entries before the concat operation.\n",
      "  predictions = pd.concat([predictions, temp_df], ignore_index=True)\n",
      "/var/folders/x8/v7bmckc139v2dqcm04jgfjlr0000gn/T/ipykernel_3636/3196941531.py:23: FutureWarning: The behavior of DataFrame concatenation with empty or all-NA entries is deprecated. In a future version, this will no longer exclude empty or all-NA columns when determining the result dtypes. To retain the old behavior, exclude the relevant entries before the concat operation.\n",
      "  predictions = pd.concat([predictions, temp_df], ignore_index=True)\n",
      "/var/folders/x8/v7bmckc139v2dqcm04jgfjlr0000gn/T/ipykernel_3636/3196941531.py:23: FutureWarning: The behavior of DataFrame concatenation with empty or all-NA entries is deprecated. In a future version, this will no longer exclude empty or all-NA columns when determining the result dtypes. To retain the old behavior, exclude the relevant entries before the concat operation.\n",
      "  predictions = pd.concat([predictions, temp_df], ignore_index=True)\n",
      "/var/folders/x8/v7bmckc139v2dqcm04jgfjlr0000gn/T/ipykernel_3636/3196941531.py:23: FutureWarning: The behavior of DataFrame concatenation with empty or all-NA entries is deprecated. In a future version, this will no longer exclude empty or all-NA columns when determining the result dtypes. To retain the old behavior, exclude the relevant entries before the concat operation.\n",
      "  predictions = pd.concat([predictions, temp_df], ignore_index=True)\n",
      "/var/folders/x8/v7bmckc139v2dqcm04jgfjlr0000gn/T/ipykernel_3636/3196941531.py:23: FutureWarning: The behavior of DataFrame concatenation with empty or all-NA entries is deprecated. In a future version, this will no longer exclude empty or all-NA columns when determining the result dtypes. To retain the old behavior, exclude the relevant entries before the concat operation.\n",
      "  predictions = pd.concat([predictions, temp_df], ignore_index=True)\n",
      "/var/folders/x8/v7bmckc139v2dqcm04jgfjlr0000gn/T/ipykernel_3636/3196941531.py:23: FutureWarning: The behavior of DataFrame concatenation with empty or all-NA entries is deprecated. In a future version, this will no longer exclude empty or all-NA columns when determining the result dtypes. To retain the old behavior, exclude the relevant entries before the concat operation.\n",
      "  predictions = pd.concat([predictions, temp_df], ignore_index=True)\n"
     ]
    },
    {
     "name": "stdout",
     "output_type": "stream",
     "text": [
      "Beginning forecast for 2023-08-01 00:00:00\n"
     ]
    },
    {
     "name": "stderr",
     "output_type": "stream",
     "text": [
      "/var/folders/x8/v7bmckc139v2dqcm04jgfjlr0000gn/T/ipykernel_3636/3196941531.py:11: FutureWarning: The behavior of DataFrame concatenation with empty or all-NA entries is deprecated. In a future version, this will no longer exclude empty or all-NA columns when determining the result dtypes. To retain the old behavior, exclude the relevant entries before the concat operation.\n",
      "  predictions = pd.concat([predictions, temp_df], ignore_index=True)\n",
      "/var/folders/x8/v7bmckc139v2dqcm04jgfjlr0000gn/T/ipykernel_3636/2637449371.py:65: FutureWarning: The behavior of DataFrame concatenation with empty or all-NA entries is deprecated. In a future version, this will no longer exclude empty or all-NA columns when determining the result dtypes. To retain the old behavior, exclude the relevant entries before the concat operation.\n",
      "  all_forecasts = pd.concat([all_forecasts, forecasted_temp])\n",
      "/var/folders/x8/v7bmckc139v2dqcm04jgfjlr0000gn/T/ipykernel_3636/3196941531.py:23: FutureWarning: The behavior of DataFrame concatenation with empty or all-NA entries is deprecated. In a future version, this will no longer exclude empty or all-NA columns when determining the result dtypes. To retain the old behavior, exclude the relevant entries before the concat operation.\n",
      "  predictions = pd.concat([predictions, temp_df], ignore_index=True)\n",
      "/var/folders/x8/v7bmckc139v2dqcm04jgfjlr0000gn/T/ipykernel_3636/3196941531.py:23: FutureWarning: The behavior of DataFrame concatenation with empty or all-NA entries is deprecated. In a future version, this will no longer exclude empty or all-NA columns when determining the result dtypes. To retain the old behavior, exclude the relevant entries before the concat operation.\n",
      "  predictions = pd.concat([predictions, temp_df], ignore_index=True)\n",
      "/var/folders/x8/v7bmckc139v2dqcm04jgfjlr0000gn/T/ipykernel_3636/3196941531.py:23: FutureWarning: The behavior of DataFrame concatenation with empty or all-NA entries is deprecated. In a future version, this will no longer exclude empty or all-NA columns when determining the result dtypes. To retain the old behavior, exclude the relevant entries before the concat operation.\n",
      "  predictions = pd.concat([predictions, temp_df], ignore_index=True)\n",
      "/var/folders/x8/v7bmckc139v2dqcm04jgfjlr0000gn/T/ipykernel_3636/3196941531.py:23: FutureWarning: The behavior of DataFrame concatenation with empty or all-NA entries is deprecated. In a future version, this will no longer exclude empty or all-NA columns when determining the result dtypes. To retain the old behavior, exclude the relevant entries before the concat operation.\n",
      "  predictions = pd.concat([predictions, temp_df], ignore_index=True)\n",
      "/var/folders/x8/v7bmckc139v2dqcm04jgfjlr0000gn/T/ipykernel_3636/3196941531.py:23: FutureWarning: The behavior of DataFrame concatenation with empty or all-NA entries is deprecated. In a future version, this will no longer exclude empty or all-NA columns when determining the result dtypes. To retain the old behavior, exclude the relevant entries before the concat operation.\n",
      "  predictions = pd.concat([predictions, temp_df], ignore_index=True)\n",
      "/var/folders/x8/v7bmckc139v2dqcm04jgfjlr0000gn/T/ipykernel_3636/3196941531.py:23: FutureWarning: The behavior of DataFrame concatenation with empty or all-NA entries is deprecated. In a future version, this will no longer exclude empty or all-NA columns when determining the result dtypes. To retain the old behavior, exclude the relevant entries before the concat operation.\n",
      "  predictions = pd.concat([predictions, temp_df], ignore_index=True)\n",
      "/var/folders/x8/v7bmckc139v2dqcm04jgfjlr0000gn/T/ipykernel_3636/3196941531.py:11: FutureWarning: The behavior of DataFrame concatenation with empty or all-NA entries is deprecated. In a future version, this will no longer exclude empty or all-NA columns when determining the result dtypes. To retain the old behavior, exclude the relevant entries before the concat operation.\n",
      "  predictions = pd.concat([predictions, temp_df], ignore_index=True)\n"
     ]
    },
    {
     "name": "stdout",
     "output_type": "stream",
     "text": [
      "Beginning forecast for 2023-08-02 00:00:00\n"
     ]
    },
    {
     "name": "stderr",
     "output_type": "stream",
     "text": [
      "/var/folders/x8/v7bmckc139v2dqcm04jgfjlr0000gn/T/ipykernel_3636/2637449371.py:65: FutureWarning: The behavior of DataFrame concatenation with empty or all-NA entries is deprecated. In a future version, this will no longer exclude empty or all-NA columns when determining the result dtypes. To retain the old behavior, exclude the relevant entries before the concat operation.\n",
      "  all_forecasts = pd.concat([all_forecasts, forecasted_temp])\n",
      "/var/folders/x8/v7bmckc139v2dqcm04jgfjlr0000gn/T/ipykernel_3636/3196941531.py:23: FutureWarning: The behavior of DataFrame concatenation with empty or all-NA entries is deprecated. In a future version, this will no longer exclude empty or all-NA columns when determining the result dtypes. To retain the old behavior, exclude the relevant entries before the concat operation.\n",
      "  predictions = pd.concat([predictions, temp_df], ignore_index=True)\n",
      "/var/folders/x8/v7bmckc139v2dqcm04jgfjlr0000gn/T/ipykernel_3636/3196941531.py:23: FutureWarning: The behavior of DataFrame concatenation with empty or all-NA entries is deprecated. In a future version, this will no longer exclude empty or all-NA columns when determining the result dtypes. To retain the old behavior, exclude the relevant entries before the concat operation.\n",
      "  predictions = pd.concat([predictions, temp_df], ignore_index=True)\n",
      "/var/folders/x8/v7bmckc139v2dqcm04jgfjlr0000gn/T/ipykernel_3636/3196941531.py:23: FutureWarning: The behavior of DataFrame concatenation with empty or all-NA entries is deprecated. In a future version, this will no longer exclude empty or all-NA columns when determining the result dtypes. To retain the old behavior, exclude the relevant entries before the concat operation.\n",
      "  predictions = pd.concat([predictions, temp_df], ignore_index=True)\n",
      "/var/folders/x8/v7bmckc139v2dqcm04jgfjlr0000gn/T/ipykernel_3636/3196941531.py:23: FutureWarning: The behavior of DataFrame concatenation with empty or all-NA entries is deprecated. In a future version, this will no longer exclude empty or all-NA columns when determining the result dtypes. To retain the old behavior, exclude the relevant entries before the concat operation.\n",
      "  predictions = pd.concat([predictions, temp_df], ignore_index=True)\n",
      "/var/folders/x8/v7bmckc139v2dqcm04jgfjlr0000gn/T/ipykernel_3636/3196941531.py:23: FutureWarning: The behavior of DataFrame concatenation with empty or all-NA entries is deprecated. In a future version, this will no longer exclude empty or all-NA columns when determining the result dtypes. To retain the old behavior, exclude the relevant entries before the concat operation.\n",
      "  predictions = pd.concat([predictions, temp_df], ignore_index=True)\n",
      "/var/folders/x8/v7bmckc139v2dqcm04jgfjlr0000gn/T/ipykernel_3636/3196941531.py:23: FutureWarning: The behavior of DataFrame concatenation with empty or all-NA entries is deprecated. In a future version, this will no longer exclude empty or all-NA columns when determining the result dtypes. To retain the old behavior, exclude the relevant entries before the concat operation.\n",
      "  predictions = pd.concat([predictions, temp_df], ignore_index=True)\n"
     ]
    },
    {
     "name": "stdout",
     "output_type": "stream",
     "text": [
      "Beginning forecast for 2023-08-03 00:00:00\n"
     ]
    },
    {
     "name": "stderr",
     "output_type": "stream",
     "text": [
      "/var/folders/x8/v7bmckc139v2dqcm04jgfjlr0000gn/T/ipykernel_3636/3196941531.py:11: FutureWarning: The behavior of DataFrame concatenation with empty or all-NA entries is deprecated. In a future version, this will no longer exclude empty or all-NA columns when determining the result dtypes. To retain the old behavior, exclude the relevant entries before the concat operation.\n",
      "  predictions = pd.concat([predictions, temp_df], ignore_index=True)\n",
      "/var/folders/x8/v7bmckc139v2dqcm04jgfjlr0000gn/T/ipykernel_3636/2637449371.py:65: FutureWarning: The behavior of DataFrame concatenation with empty or all-NA entries is deprecated. In a future version, this will no longer exclude empty or all-NA columns when determining the result dtypes. To retain the old behavior, exclude the relevant entries before the concat operation.\n",
      "  all_forecasts = pd.concat([all_forecasts, forecasted_temp])\n",
      "/var/folders/x8/v7bmckc139v2dqcm04jgfjlr0000gn/T/ipykernel_3636/3196941531.py:23: FutureWarning: The behavior of DataFrame concatenation with empty or all-NA entries is deprecated. In a future version, this will no longer exclude empty or all-NA columns when determining the result dtypes. To retain the old behavior, exclude the relevant entries before the concat operation.\n",
      "  predictions = pd.concat([predictions, temp_df], ignore_index=True)\n",
      "/var/folders/x8/v7bmckc139v2dqcm04jgfjlr0000gn/T/ipykernel_3636/3196941531.py:23: FutureWarning: The behavior of DataFrame concatenation with empty or all-NA entries is deprecated. In a future version, this will no longer exclude empty or all-NA columns when determining the result dtypes. To retain the old behavior, exclude the relevant entries before the concat operation.\n",
      "  predictions = pd.concat([predictions, temp_df], ignore_index=True)\n",
      "/var/folders/x8/v7bmckc139v2dqcm04jgfjlr0000gn/T/ipykernel_3636/3196941531.py:23: FutureWarning: The behavior of DataFrame concatenation with empty or all-NA entries is deprecated. In a future version, this will no longer exclude empty or all-NA columns when determining the result dtypes. To retain the old behavior, exclude the relevant entries before the concat operation.\n",
      "  predictions = pd.concat([predictions, temp_df], ignore_index=True)\n",
      "/var/folders/x8/v7bmckc139v2dqcm04jgfjlr0000gn/T/ipykernel_3636/3196941531.py:23: FutureWarning: The behavior of DataFrame concatenation with empty or all-NA entries is deprecated. In a future version, this will no longer exclude empty or all-NA columns when determining the result dtypes. To retain the old behavior, exclude the relevant entries before the concat operation.\n",
      "  predictions = pd.concat([predictions, temp_df], ignore_index=True)\n",
      "/var/folders/x8/v7bmckc139v2dqcm04jgfjlr0000gn/T/ipykernel_3636/3196941531.py:23: FutureWarning: The behavior of DataFrame concatenation with empty or all-NA entries is deprecated. In a future version, this will no longer exclude empty or all-NA columns when determining the result dtypes. To retain the old behavior, exclude the relevant entries before the concat operation.\n",
      "  predictions = pd.concat([predictions, temp_df], ignore_index=True)\n",
      "/var/folders/x8/v7bmckc139v2dqcm04jgfjlr0000gn/T/ipykernel_3636/3196941531.py:23: FutureWarning: The behavior of DataFrame concatenation with empty or all-NA entries is deprecated. In a future version, this will no longer exclude empty or all-NA columns when determining the result dtypes. To retain the old behavior, exclude the relevant entries before the concat operation.\n",
      "  predictions = pd.concat([predictions, temp_df], ignore_index=True)\n",
      "/var/folders/x8/v7bmckc139v2dqcm04jgfjlr0000gn/T/ipykernel_3636/3196941531.py:11: FutureWarning: The behavior of DataFrame concatenation with empty or all-NA entries is deprecated. In a future version, this will no longer exclude empty or all-NA columns when determining the result dtypes. To retain the old behavior, exclude the relevant entries before the concat operation.\n",
      "  predictions = pd.concat([predictions, temp_df], ignore_index=True)\n"
     ]
    },
    {
     "name": "stdout",
     "output_type": "stream",
     "text": [
      "Beginning forecast for 2023-08-04 00:00:00\n"
     ]
    },
    {
     "name": "stderr",
     "output_type": "stream",
     "text": [
      "/var/folders/x8/v7bmckc139v2dqcm04jgfjlr0000gn/T/ipykernel_3636/2637449371.py:65: FutureWarning: The behavior of DataFrame concatenation with empty or all-NA entries is deprecated. In a future version, this will no longer exclude empty or all-NA columns when determining the result dtypes. To retain the old behavior, exclude the relevant entries before the concat operation.\n",
      "  all_forecasts = pd.concat([all_forecasts, forecasted_temp])\n",
      "/var/folders/x8/v7bmckc139v2dqcm04jgfjlr0000gn/T/ipykernel_3636/3196941531.py:23: FutureWarning: The behavior of DataFrame concatenation with empty or all-NA entries is deprecated. In a future version, this will no longer exclude empty or all-NA columns when determining the result dtypes. To retain the old behavior, exclude the relevant entries before the concat operation.\n",
      "  predictions = pd.concat([predictions, temp_df], ignore_index=True)\n",
      "/var/folders/x8/v7bmckc139v2dqcm04jgfjlr0000gn/T/ipykernel_3636/3196941531.py:23: FutureWarning: The behavior of DataFrame concatenation with empty or all-NA entries is deprecated. In a future version, this will no longer exclude empty or all-NA columns when determining the result dtypes. To retain the old behavior, exclude the relevant entries before the concat operation.\n",
      "  predictions = pd.concat([predictions, temp_df], ignore_index=True)\n",
      "/var/folders/x8/v7bmckc139v2dqcm04jgfjlr0000gn/T/ipykernel_3636/3196941531.py:23: FutureWarning: The behavior of DataFrame concatenation with empty or all-NA entries is deprecated. In a future version, this will no longer exclude empty or all-NA columns when determining the result dtypes. To retain the old behavior, exclude the relevant entries before the concat operation.\n",
      "  predictions = pd.concat([predictions, temp_df], ignore_index=True)\n",
      "/var/folders/x8/v7bmckc139v2dqcm04jgfjlr0000gn/T/ipykernel_3636/3196941531.py:23: FutureWarning: The behavior of DataFrame concatenation with empty or all-NA entries is deprecated. In a future version, this will no longer exclude empty or all-NA columns when determining the result dtypes. To retain the old behavior, exclude the relevant entries before the concat operation.\n",
      "  predictions = pd.concat([predictions, temp_df], ignore_index=True)\n",
      "/var/folders/x8/v7bmckc139v2dqcm04jgfjlr0000gn/T/ipykernel_3636/3196941531.py:23: FutureWarning: The behavior of DataFrame concatenation with empty or all-NA entries is deprecated. In a future version, this will no longer exclude empty or all-NA columns when determining the result dtypes. To retain the old behavior, exclude the relevant entries before the concat operation.\n",
      "  predictions = pd.concat([predictions, temp_df], ignore_index=True)\n",
      "/var/folders/x8/v7bmckc139v2dqcm04jgfjlr0000gn/T/ipykernel_3636/3196941531.py:23: FutureWarning: The behavior of DataFrame concatenation with empty or all-NA entries is deprecated. In a future version, this will no longer exclude empty or all-NA columns when determining the result dtypes. To retain the old behavior, exclude the relevant entries before the concat operation.\n",
      "  predictions = pd.concat([predictions, temp_df], ignore_index=True)\n"
     ]
    },
    {
     "name": "stdout",
     "output_type": "stream",
     "text": [
      "Beginning forecast for 2023-08-05 00:00:00\n"
     ]
    },
    {
     "name": "stderr",
     "output_type": "stream",
     "text": [
      "/var/folders/x8/v7bmckc139v2dqcm04jgfjlr0000gn/T/ipykernel_3636/3196941531.py:11: FutureWarning: The behavior of DataFrame concatenation with empty or all-NA entries is deprecated. In a future version, this will no longer exclude empty or all-NA columns when determining the result dtypes. To retain the old behavior, exclude the relevant entries before the concat operation.\n",
      "  predictions = pd.concat([predictions, temp_df], ignore_index=True)\n",
      "/var/folders/x8/v7bmckc139v2dqcm04jgfjlr0000gn/T/ipykernel_3636/2637449371.py:65: FutureWarning: The behavior of DataFrame concatenation with empty or all-NA entries is deprecated. In a future version, this will no longer exclude empty or all-NA columns when determining the result dtypes. To retain the old behavior, exclude the relevant entries before the concat operation.\n",
      "  all_forecasts = pd.concat([all_forecasts, forecasted_temp])\n",
      "/var/folders/x8/v7bmckc139v2dqcm04jgfjlr0000gn/T/ipykernel_3636/3196941531.py:23: FutureWarning: The behavior of DataFrame concatenation with empty or all-NA entries is deprecated. In a future version, this will no longer exclude empty or all-NA columns when determining the result dtypes. To retain the old behavior, exclude the relevant entries before the concat operation.\n",
      "  predictions = pd.concat([predictions, temp_df], ignore_index=True)\n",
      "/var/folders/x8/v7bmckc139v2dqcm04jgfjlr0000gn/T/ipykernel_3636/3196941531.py:23: FutureWarning: The behavior of DataFrame concatenation with empty or all-NA entries is deprecated. In a future version, this will no longer exclude empty or all-NA columns when determining the result dtypes. To retain the old behavior, exclude the relevant entries before the concat operation.\n",
      "  predictions = pd.concat([predictions, temp_df], ignore_index=True)\n",
      "/var/folders/x8/v7bmckc139v2dqcm04jgfjlr0000gn/T/ipykernel_3636/3196941531.py:23: FutureWarning: The behavior of DataFrame concatenation with empty or all-NA entries is deprecated. In a future version, this will no longer exclude empty or all-NA columns when determining the result dtypes. To retain the old behavior, exclude the relevant entries before the concat operation.\n",
      "  predictions = pd.concat([predictions, temp_df], ignore_index=True)\n",
      "/var/folders/x8/v7bmckc139v2dqcm04jgfjlr0000gn/T/ipykernel_3636/3196941531.py:23: FutureWarning: The behavior of DataFrame concatenation with empty or all-NA entries is deprecated. In a future version, this will no longer exclude empty or all-NA columns when determining the result dtypes. To retain the old behavior, exclude the relevant entries before the concat operation.\n",
      "  predictions = pd.concat([predictions, temp_df], ignore_index=True)\n",
      "/var/folders/x8/v7bmckc139v2dqcm04jgfjlr0000gn/T/ipykernel_3636/3196941531.py:23: FutureWarning: The behavior of DataFrame concatenation with empty or all-NA entries is deprecated. In a future version, this will no longer exclude empty or all-NA columns when determining the result dtypes. To retain the old behavior, exclude the relevant entries before the concat operation.\n",
      "  predictions = pd.concat([predictions, temp_df], ignore_index=True)\n",
      "/var/folders/x8/v7bmckc139v2dqcm04jgfjlr0000gn/T/ipykernel_3636/3196941531.py:23: FutureWarning: The behavior of DataFrame concatenation with empty or all-NA entries is deprecated. In a future version, this will no longer exclude empty or all-NA columns when determining the result dtypes. To retain the old behavior, exclude the relevant entries before the concat operation.\n",
      "  predictions = pd.concat([predictions, temp_df], ignore_index=True)\n",
      "/var/folders/x8/v7bmckc139v2dqcm04jgfjlr0000gn/T/ipykernel_3636/3196941531.py:11: FutureWarning: The behavior of DataFrame concatenation with empty or all-NA entries is deprecated. In a future version, this will no longer exclude empty or all-NA columns when determining the result dtypes. To retain the old behavior, exclude the relevant entries before the concat operation.\n",
      "  predictions = pd.concat([predictions, temp_df], ignore_index=True)\n"
     ]
    },
    {
     "name": "stdout",
     "output_type": "stream",
     "text": [
      "Beginning forecast for 2023-08-06 00:00:00\n"
     ]
    },
    {
     "name": "stderr",
     "output_type": "stream",
     "text": [
      "/var/folders/x8/v7bmckc139v2dqcm04jgfjlr0000gn/T/ipykernel_3636/2637449371.py:65: FutureWarning: The behavior of DataFrame concatenation with empty or all-NA entries is deprecated. In a future version, this will no longer exclude empty or all-NA columns when determining the result dtypes. To retain the old behavior, exclude the relevant entries before the concat operation.\n",
      "  all_forecasts = pd.concat([all_forecasts, forecasted_temp])\n",
      "/var/folders/x8/v7bmckc139v2dqcm04jgfjlr0000gn/T/ipykernel_3636/3196941531.py:23: FutureWarning: The behavior of DataFrame concatenation with empty or all-NA entries is deprecated. In a future version, this will no longer exclude empty or all-NA columns when determining the result dtypes. To retain the old behavior, exclude the relevant entries before the concat operation.\n",
      "  predictions = pd.concat([predictions, temp_df], ignore_index=True)\n",
      "/var/folders/x8/v7bmckc139v2dqcm04jgfjlr0000gn/T/ipykernel_3636/3196941531.py:23: FutureWarning: The behavior of DataFrame concatenation with empty or all-NA entries is deprecated. In a future version, this will no longer exclude empty or all-NA columns when determining the result dtypes. To retain the old behavior, exclude the relevant entries before the concat operation.\n",
      "  predictions = pd.concat([predictions, temp_df], ignore_index=True)\n",
      "/var/folders/x8/v7bmckc139v2dqcm04jgfjlr0000gn/T/ipykernel_3636/3196941531.py:23: FutureWarning: The behavior of DataFrame concatenation with empty or all-NA entries is deprecated. In a future version, this will no longer exclude empty or all-NA columns when determining the result dtypes. To retain the old behavior, exclude the relevant entries before the concat operation.\n",
      "  predictions = pd.concat([predictions, temp_df], ignore_index=True)\n",
      "/var/folders/x8/v7bmckc139v2dqcm04jgfjlr0000gn/T/ipykernel_3636/3196941531.py:23: FutureWarning: The behavior of DataFrame concatenation with empty or all-NA entries is deprecated. In a future version, this will no longer exclude empty or all-NA columns when determining the result dtypes. To retain the old behavior, exclude the relevant entries before the concat operation.\n",
      "  predictions = pd.concat([predictions, temp_df], ignore_index=True)\n",
      "/var/folders/x8/v7bmckc139v2dqcm04jgfjlr0000gn/T/ipykernel_3636/3196941531.py:23: FutureWarning: The behavior of DataFrame concatenation with empty or all-NA entries is deprecated. In a future version, this will no longer exclude empty or all-NA columns when determining the result dtypes. To retain the old behavior, exclude the relevant entries before the concat operation.\n",
      "  predictions = pd.concat([predictions, temp_df], ignore_index=True)\n",
      "/var/folders/x8/v7bmckc139v2dqcm04jgfjlr0000gn/T/ipykernel_3636/3196941531.py:23: FutureWarning: The behavior of DataFrame concatenation with empty or all-NA entries is deprecated. In a future version, this will no longer exclude empty or all-NA columns when determining the result dtypes. To retain the old behavior, exclude the relevant entries before the concat operation.\n",
      "  predictions = pd.concat([predictions, temp_df], ignore_index=True)\n"
     ]
    },
    {
     "name": "stdout",
     "output_type": "stream",
     "text": [
      "Beginning forecast for 2023-08-07 00:00:00\n"
     ]
    },
    {
     "name": "stderr",
     "output_type": "stream",
     "text": [
      "/var/folders/x8/v7bmckc139v2dqcm04jgfjlr0000gn/T/ipykernel_3636/3196941531.py:11: FutureWarning: The behavior of DataFrame concatenation with empty or all-NA entries is deprecated. In a future version, this will no longer exclude empty or all-NA columns when determining the result dtypes. To retain the old behavior, exclude the relevant entries before the concat operation.\n",
      "  predictions = pd.concat([predictions, temp_df], ignore_index=True)\n",
      "/var/folders/x8/v7bmckc139v2dqcm04jgfjlr0000gn/T/ipykernel_3636/2637449371.py:65: FutureWarning: The behavior of DataFrame concatenation with empty or all-NA entries is deprecated. In a future version, this will no longer exclude empty or all-NA columns when determining the result dtypes. To retain the old behavior, exclude the relevant entries before the concat operation.\n",
      "  all_forecasts = pd.concat([all_forecasts, forecasted_temp])\n",
      "/var/folders/x8/v7bmckc139v2dqcm04jgfjlr0000gn/T/ipykernel_3636/3196941531.py:23: FutureWarning: The behavior of DataFrame concatenation with empty or all-NA entries is deprecated. In a future version, this will no longer exclude empty or all-NA columns when determining the result dtypes. To retain the old behavior, exclude the relevant entries before the concat operation.\n",
      "  predictions = pd.concat([predictions, temp_df], ignore_index=True)\n",
      "/var/folders/x8/v7bmckc139v2dqcm04jgfjlr0000gn/T/ipykernel_3636/3196941531.py:23: FutureWarning: The behavior of DataFrame concatenation with empty or all-NA entries is deprecated. In a future version, this will no longer exclude empty or all-NA columns when determining the result dtypes. To retain the old behavior, exclude the relevant entries before the concat operation.\n",
      "  predictions = pd.concat([predictions, temp_df], ignore_index=True)\n",
      "/var/folders/x8/v7bmckc139v2dqcm04jgfjlr0000gn/T/ipykernel_3636/3196941531.py:23: FutureWarning: The behavior of DataFrame concatenation with empty or all-NA entries is deprecated. In a future version, this will no longer exclude empty or all-NA columns when determining the result dtypes. To retain the old behavior, exclude the relevant entries before the concat operation.\n",
      "  predictions = pd.concat([predictions, temp_df], ignore_index=True)\n",
      "/var/folders/x8/v7bmckc139v2dqcm04jgfjlr0000gn/T/ipykernel_3636/3196941531.py:23: FutureWarning: The behavior of DataFrame concatenation with empty or all-NA entries is deprecated. In a future version, this will no longer exclude empty or all-NA columns when determining the result dtypes. To retain the old behavior, exclude the relevant entries before the concat operation.\n",
      "  predictions = pd.concat([predictions, temp_df], ignore_index=True)\n",
      "/var/folders/x8/v7bmckc139v2dqcm04jgfjlr0000gn/T/ipykernel_3636/3196941531.py:23: FutureWarning: The behavior of DataFrame concatenation with empty or all-NA entries is deprecated. In a future version, this will no longer exclude empty or all-NA columns when determining the result dtypes. To retain the old behavior, exclude the relevant entries before the concat operation.\n",
      "  predictions = pd.concat([predictions, temp_df], ignore_index=True)\n",
      "/var/folders/x8/v7bmckc139v2dqcm04jgfjlr0000gn/T/ipykernel_3636/3196941531.py:23: FutureWarning: The behavior of DataFrame concatenation with empty or all-NA entries is deprecated. In a future version, this will no longer exclude empty or all-NA columns when determining the result dtypes. To retain the old behavior, exclude the relevant entries before the concat operation.\n",
      "  predictions = pd.concat([predictions, temp_df], ignore_index=True)\n",
      "/var/folders/x8/v7bmckc139v2dqcm04jgfjlr0000gn/T/ipykernel_3636/3196941531.py:11: FutureWarning: The behavior of DataFrame concatenation with empty or all-NA entries is deprecated. In a future version, this will no longer exclude empty or all-NA columns when determining the result dtypes. To retain the old behavior, exclude the relevant entries before the concat operation.\n",
      "  predictions = pd.concat([predictions, temp_df], ignore_index=True)\n"
     ]
    },
    {
     "name": "stdout",
     "output_type": "stream",
     "text": [
      "Beginning forecast for 2023-08-08 00:00:00\n"
     ]
    },
    {
     "name": "stderr",
     "output_type": "stream",
     "text": [
      "/var/folders/x8/v7bmckc139v2dqcm04jgfjlr0000gn/T/ipykernel_3636/2637449371.py:65: FutureWarning: The behavior of DataFrame concatenation with empty or all-NA entries is deprecated. In a future version, this will no longer exclude empty or all-NA columns when determining the result dtypes. To retain the old behavior, exclude the relevant entries before the concat operation.\n",
      "  all_forecasts = pd.concat([all_forecasts, forecasted_temp])\n",
      "/var/folders/x8/v7bmckc139v2dqcm04jgfjlr0000gn/T/ipykernel_3636/3196941531.py:23: FutureWarning: The behavior of DataFrame concatenation with empty or all-NA entries is deprecated. In a future version, this will no longer exclude empty or all-NA columns when determining the result dtypes. To retain the old behavior, exclude the relevant entries before the concat operation.\n",
      "  predictions = pd.concat([predictions, temp_df], ignore_index=True)\n",
      "/var/folders/x8/v7bmckc139v2dqcm04jgfjlr0000gn/T/ipykernel_3636/3196941531.py:23: FutureWarning: The behavior of DataFrame concatenation with empty or all-NA entries is deprecated. In a future version, this will no longer exclude empty or all-NA columns when determining the result dtypes. To retain the old behavior, exclude the relevant entries before the concat operation.\n",
      "  predictions = pd.concat([predictions, temp_df], ignore_index=True)\n",
      "/var/folders/x8/v7bmckc139v2dqcm04jgfjlr0000gn/T/ipykernel_3636/3196941531.py:23: FutureWarning: The behavior of DataFrame concatenation with empty or all-NA entries is deprecated. In a future version, this will no longer exclude empty or all-NA columns when determining the result dtypes. To retain the old behavior, exclude the relevant entries before the concat operation.\n",
      "  predictions = pd.concat([predictions, temp_df], ignore_index=True)\n",
      "/var/folders/x8/v7bmckc139v2dqcm04jgfjlr0000gn/T/ipykernel_3636/3196941531.py:23: FutureWarning: The behavior of DataFrame concatenation with empty or all-NA entries is deprecated. In a future version, this will no longer exclude empty or all-NA columns when determining the result dtypes. To retain the old behavior, exclude the relevant entries before the concat operation.\n",
      "  predictions = pd.concat([predictions, temp_df], ignore_index=True)\n",
      "/var/folders/x8/v7bmckc139v2dqcm04jgfjlr0000gn/T/ipykernel_3636/3196941531.py:23: FutureWarning: The behavior of DataFrame concatenation with empty or all-NA entries is deprecated. In a future version, this will no longer exclude empty or all-NA columns when determining the result dtypes. To retain the old behavior, exclude the relevant entries before the concat operation.\n",
      "  predictions = pd.concat([predictions, temp_df], ignore_index=True)\n",
      "/var/folders/x8/v7bmckc139v2dqcm04jgfjlr0000gn/T/ipykernel_3636/3196941531.py:23: FutureWarning: The behavior of DataFrame concatenation with empty or all-NA entries is deprecated. In a future version, this will no longer exclude empty or all-NA columns when determining the result dtypes. To retain the old behavior, exclude the relevant entries before the concat operation.\n",
      "  predictions = pd.concat([predictions, temp_df], ignore_index=True)\n"
     ]
    },
    {
     "name": "stdout",
     "output_type": "stream",
     "text": [
      "Beginning forecast for 2023-08-09 00:00:00\n"
     ]
    },
    {
     "name": "stderr",
     "output_type": "stream",
     "text": [
      "/var/folders/x8/v7bmckc139v2dqcm04jgfjlr0000gn/T/ipykernel_3636/3196941531.py:11: FutureWarning: The behavior of DataFrame concatenation with empty or all-NA entries is deprecated. In a future version, this will no longer exclude empty or all-NA columns when determining the result dtypes. To retain the old behavior, exclude the relevant entries before the concat operation.\n",
      "  predictions = pd.concat([predictions, temp_df], ignore_index=True)\n",
      "/var/folders/x8/v7bmckc139v2dqcm04jgfjlr0000gn/T/ipykernel_3636/2637449371.py:65: FutureWarning: The behavior of DataFrame concatenation with empty or all-NA entries is deprecated. In a future version, this will no longer exclude empty or all-NA columns when determining the result dtypes. To retain the old behavior, exclude the relevant entries before the concat operation.\n",
      "  all_forecasts = pd.concat([all_forecasts, forecasted_temp])\n",
      "/var/folders/x8/v7bmckc139v2dqcm04jgfjlr0000gn/T/ipykernel_3636/3196941531.py:23: FutureWarning: The behavior of DataFrame concatenation with empty or all-NA entries is deprecated. In a future version, this will no longer exclude empty or all-NA columns when determining the result dtypes. To retain the old behavior, exclude the relevant entries before the concat operation.\n",
      "  predictions = pd.concat([predictions, temp_df], ignore_index=True)\n",
      "/var/folders/x8/v7bmckc139v2dqcm04jgfjlr0000gn/T/ipykernel_3636/3196941531.py:23: FutureWarning: The behavior of DataFrame concatenation with empty or all-NA entries is deprecated. In a future version, this will no longer exclude empty or all-NA columns when determining the result dtypes. To retain the old behavior, exclude the relevant entries before the concat operation.\n",
      "  predictions = pd.concat([predictions, temp_df], ignore_index=True)\n",
      "/var/folders/x8/v7bmckc139v2dqcm04jgfjlr0000gn/T/ipykernel_3636/3196941531.py:23: FutureWarning: The behavior of DataFrame concatenation with empty or all-NA entries is deprecated. In a future version, this will no longer exclude empty or all-NA columns when determining the result dtypes. To retain the old behavior, exclude the relevant entries before the concat operation.\n",
      "  predictions = pd.concat([predictions, temp_df], ignore_index=True)\n",
      "/var/folders/x8/v7bmckc139v2dqcm04jgfjlr0000gn/T/ipykernel_3636/3196941531.py:23: FutureWarning: The behavior of DataFrame concatenation with empty or all-NA entries is deprecated. In a future version, this will no longer exclude empty or all-NA columns when determining the result dtypes. To retain the old behavior, exclude the relevant entries before the concat operation.\n",
      "  predictions = pd.concat([predictions, temp_df], ignore_index=True)\n",
      "/var/folders/x8/v7bmckc139v2dqcm04jgfjlr0000gn/T/ipykernel_3636/3196941531.py:23: FutureWarning: The behavior of DataFrame concatenation with empty or all-NA entries is deprecated. In a future version, this will no longer exclude empty or all-NA columns when determining the result dtypes. To retain the old behavior, exclude the relevant entries before the concat operation.\n",
      "  predictions = pd.concat([predictions, temp_df], ignore_index=True)\n",
      "/var/folders/x8/v7bmckc139v2dqcm04jgfjlr0000gn/T/ipykernel_3636/3196941531.py:23: FutureWarning: The behavior of DataFrame concatenation with empty or all-NA entries is deprecated. In a future version, this will no longer exclude empty or all-NA columns when determining the result dtypes. To retain the old behavior, exclude the relevant entries before the concat operation.\n",
      "  predictions = pd.concat([predictions, temp_df], ignore_index=True)\n",
      "/var/folders/x8/v7bmckc139v2dqcm04jgfjlr0000gn/T/ipykernel_3636/3196941531.py:11: FutureWarning: The behavior of DataFrame concatenation with empty or all-NA entries is deprecated. In a future version, this will no longer exclude empty or all-NA columns when determining the result dtypes. To retain the old behavior, exclude the relevant entries before the concat operation.\n",
      "  predictions = pd.concat([predictions, temp_df], ignore_index=True)\n"
     ]
    },
    {
     "name": "stdout",
     "output_type": "stream",
     "text": [
      "Beginning forecast for 2023-08-10 00:00:00\n"
     ]
    },
    {
     "name": "stderr",
     "output_type": "stream",
     "text": [
      "/var/folders/x8/v7bmckc139v2dqcm04jgfjlr0000gn/T/ipykernel_3636/2637449371.py:65: FutureWarning: The behavior of DataFrame concatenation with empty or all-NA entries is deprecated. In a future version, this will no longer exclude empty or all-NA columns when determining the result dtypes. To retain the old behavior, exclude the relevant entries before the concat operation.\n",
      "  all_forecasts = pd.concat([all_forecasts, forecasted_temp])\n",
      "/var/folders/x8/v7bmckc139v2dqcm04jgfjlr0000gn/T/ipykernel_3636/3196941531.py:23: FutureWarning: The behavior of DataFrame concatenation with empty or all-NA entries is deprecated. In a future version, this will no longer exclude empty or all-NA columns when determining the result dtypes. To retain the old behavior, exclude the relevant entries before the concat operation.\n",
      "  predictions = pd.concat([predictions, temp_df], ignore_index=True)\n",
      "/var/folders/x8/v7bmckc139v2dqcm04jgfjlr0000gn/T/ipykernel_3636/3196941531.py:23: FutureWarning: The behavior of DataFrame concatenation with empty or all-NA entries is deprecated. In a future version, this will no longer exclude empty or all-NA columns when determining the result dtypes. To retain the old behavior, exclude the relevant entries before the concat operation.\n",
      "  predictions = pd.concat([predictions, temp_df], ignore_index=True)\n",
      "/var/folders/x8/v7bmckc139v2dqcm04jgfjlr0000gn/T/ipykernel_3636/3196941531.py:23: FutureWarning: The behavior of DataFrame concatenation with empty or all-NA entries is deprecated. In a future version, this will no longer exclude empty or all-NA columns when determining the result dtypes. To retain the old behavior, exclude the relevant entries before the concat operation.\n",
      "  predictions = pd.concat([predictions, temp_df], ignore_index=True)\n",
      "/var/folders/x8/v7bmckc139v2dqcm04jgfjlr0000gn/T/ipykernel_3636/3196941531.py:23: FutureWarning: The behavior of DataFrame concatenation with empty or all-NA entries is deprecated. In a future version, this will no longer exclude empty or all-NA columns when determining the result dtypes. To retain the old behavior, exclude the relevant entries before the concat operation.\n",
      "  predictions = pd.concat([predictions, temp_df], ignore_index=True)\n",
      "/var/folders/x8/v7bmckc139v2dqcm04jgfjlr0000gn/T/ipykernel_3636/3196941531.py:23: FutureWarning: The behavior of DataFrame concatenation with empty or all-NA entries is deprecated. In a future version, this will no longer exclude empty or all-NA columns when determining the result dtypes. To retain the old behavior, exclude the relevant entries before the concat operation.\n",
      "  predictions = pd.concat([predictions, temp_df], ignore_index=True)\n",
      "/var/folders/x8/v7bmckc139v2dqcm04jgfjlr0000gn/T/ipykernel_3636/3196941531.py:23: FutureWarning: The behavior of DataFrame concatenation with empty or all-NA entries is deprecated. In a future version, this will no longer exclude empty or all-NA columns when determining the result dtypes. To retain the old behavior, exclude the relevant entries before the concat operation.\n",
      "  predictions = pd.concat([predictions, temp_df], ignore_index=True)\n"
     ]
    },
    {
     "name": "stdout",
     "output_type": "stream",
     "text": [
      "Beginning forecast for 2023-08-11 00:00:00\n"
     ]
    },
    {
     "name": "stderr",
     "output_type": "stream",
     "text": [
      "/var/folders/x8/v7bmckc139v2dqcm04jgfjlr0000gn/T/ipykernel_3636/3196941531.py:11: FutureWarning: The behavior of DataFrame concatenation with empty or all-NA entries is deprecated. In a future version, this will no longer exclude empty or all-NA columns when determining the result dtypes. To retain the old behavior, exclude the relevant entries before the concat operation.\n",
      "  predictions = pd.concat([predictions, temp_df], ignore_index=True)\n",
      "/var/folders/x8/v7bmckc139v2dqcm04jgfjlr0000gn/T/ipykernel_3636/2637449371.py:65: FutureWarning: The behavior of DataFrame concatenation with empty or all-NA entries is deprecated. In a future version, this will no longer exclude empty or all-NA columns when determining the result dtypes. To retain the old behavior, exclude the relevant entries before the concat operation.\n",
      "  all_forecasts = pd.concat([all_forecasts, forecasted_temp])\n",
      "/var/folders/x8/v7bmckc139v2dqcm04jgfjlr0000gn/T/ipykernel_3636/3196941531.py:23: FutureWarning: The behavior of DataFrame concatenation with empty or all-NA entries is deprecated. In a future version, this will no longer exclude empty or all-NA columns when determining the result dtypes. To retain the old behavior, exclude the relevant entries before the concat operation.\n",
      "  predictions = pd.concat([predictions, temp_df], ignore_index=True)\n",
      "/var/folders/x8/v7bmckc139v2dqcm04jgfjlr0000gn/T/ipykernel_3636/3196941531.py:23: FutureWarning: The behavior of DataFrame concatenation with empty or all-NA entries is deprecated. In a future version, this will no longer exclude empty or all-NA columns when determining the result dtypes. To retain the old behavior, exclude the relevant entries before the concat operation.\n",
      "  predictions = pd.concat([predictions, temp_df], ignore_index=True)\n",
      "/var/folders/x8/v7bmckc139v2dqcm04jgfjlr0000gn/T/ipykernel_3636/3196941531.py:23: FutureWarning: The behavior of DataFrame concatenation with empty or all-NA entries is deprecated. In a future version, this will no longer exclude empty or all-NA columns when determining the result dtypes. To retain the old behavior, exclude the relevant entries before the concat operation.\n",
      "  predictions = pd.concat([predictions, temp_df], ignore_index=True)\n",
      "/var/folders/x8/v7bmckc139v2dqcm04jgfjlr0000gn/T/ipykernel_3636/3196941531.py:23: FutureWarning: The behavior of DataFrame concatenation with empty or all-NA entries is deprecated. In a future version, this will no longer exclude empty or all-NA columns when determining the result dtypes. To retain the old behavior, exclude the relevant entries before the concat operation.\n",
      "  predictions = pd.concat([predictions, temp_df], ignore_index=True)\n",
      "/var/folders/x8/v7bmckc139v2dqcm04jgfjlr0000gn/T/ipykernel_3636/3196941531.py:23: FutureWarning: The behavior of DataFrame concatenation with empty or all-NA entries is deprecated. In a future version, this will no longer exclude empty or all-NA columns when determining the result dtypes. To retain the old behavior, exclude the relevant entries before the concat operation.\n",
      "  predictions = pd.concat([predictions, temp_df], ignore_index=True)\n",
      "/var/folders/x8/v7bmckc139v2dqcm04jgfjlr0000gn/T/ipykernel_3636/3196941531.py:23: FutureWarning: The behavior of DataFrame concatenation with empty or all-NA entries is deprecated. In a future version, this will no longer exclude empty or all-NA columns when determining the result dtypes. To retain the old behavior, exclude the relevant entries before the concat operation.\n",
      "  predictions = pd.concat([predictions, temp_df], ignore_index=True)\n",
      "/var/folders/x8/v7bmckc139v2dqcm04jgfjlr0000gn/T/ipykernel_3636/3196941531.py:11: FutureWarning: The behavior of DataFrame concatenation with empty or all-NA entries is deprecated. In a future version, this will no longer exclude empty or all-NA columns when determining the result dtypes. To retain the old behavior, exclude the relevant entries before the concat operation.\n",
      "  predictions = pd.concat([predictions, temp_df], ignore_index=True)\n"
     ]
    },
    {
     "name": "stdout",
     "output_type": "stream",
     "text": [
      "Beginning forecast for 2023-08-12 00:00:00\n"
     ]
    },
    {
     "name": "stderr",
     "output_type": "stream",
     "text": [
      "/var/folders/x8/v7bmckc139v2dqcm04jgfjlr0000gn/T/ipykernel_3636/2637449371.py:65: FutureWarning: The behavior of DataFrame concatenation with empty or all-NA entries is deprecated. In a future version, this will no longer exclude empty or all-NA columns when determining the result dtypes. To retain the old behavior, exclude the relevant entries before the concat operation.\n",
      "  all_forecasts = pd.concat([all_forecasts, forecasted_temp])\n",
      "/var/folders/x8/v7bmckc139v2dqcm04jgfjlr0000gn/T/ipykernel_3636/3196941531.py:23: FutureWarning: The behavior of DataFrame concatenation with empty or all-NA entries is deprecated. In a future version, this will no longer exclude empty or all-NA columns when determining the result dtypes. To retain the old behavior, exclude the relevant entries before the concat operation.\n",
      "  predictions = pd.concat([predictions, temp_df], ignore_index=True)\n",
      "/var/folders/x8/v7bmckc139v2dqcm04jgfjlr0000gn/T/ipykernel_3636/3196941531.py:23: FutureWarning: The behavior of DataFrame concatenation with empty or all-NA entries is deprecated. In a future version, this will no longer exclude empty or all-NA columns when determining the result dtypes. To retain the old behavior, exclude the relevant entries before the concat operation.\n",
      "  predictions = pd.concat([predictions, temp_df], ignore_index=True)\n",
      "/var/folders/x8/v7bmckc139v2dqcm04jgfjlr0000gn/T/ipykernel_3636/3196941531.py:23: FutureWarning: The behavior of DataFrame concatenation with empty or all-NA entries is deprecated. In a future version, this will no longer exclude empty or all-NA columns when determining the result dtypes. To retain the old behavior, exclude the relevant entries before the concat operation.\n",
      "  predictions = pd.concat([predictions, temp_df], ignore_index=True)\n",
      "/var/folders/x8/v7bmckc139v2dqcm04jgfjlr0000gn/T/ipykernel_3636/3196941531.py:23: FutureWarning: The behavior of DataFrame concatenation with empty or all-NA entries is deprecated. In a future version, this will no longer exclude empty or all-NA columns when determining the result dtypes. To retain the old behavior, exclude the relevant entries before the concat operation.\n",
      "  predictions = pd.concat([predictions, temp_df], ignore_index=True)\n",
      "/var/folders/x8/v7bmckc139v2dqcm04jgfjlr0000gn/T/ipykernel_3636/3196941531.py:23: FutureWarning: The behavior of DataFrame concatenation with empty or all-NA entries is deprecated. In a future version, this will no longer exclude empty or all-NA columns when determining the result dtypes. To retain the old behavior, exclude the relevant entries before the concat operation.\n",
      "  predictions = pd.concat([predictions, temp_df], ignore_index=True)\n",
      "/var/folders/x8/v7bmckc139v2dqcm04jgfjlr0000gn/T/ipykernel_3636/3196941531.py:23: FutureWarning: The behavior of DataFrame concatenation with empty or all-NA entries is deprecated. In a future version, this will no longer exclude empty or all-NA columns when determining the result dtypes. To retain the old behavior, exclude the relevant entries before the concat operation.\n",
      "  predictions = pd.concat([predictions, temp_df], ignore_index=True)\n"
     ]
    },
    {
     "name": "stdout",
     "output_type": "stream",
     "text": [
      "Beginning forecast for 2023-08-13 00:00:00\n"
     ]
    },
    {
     "name": "stderr",
     "output_type": "stream",
     "text": [
      "/var/folders/x8/v7bmckc139v2dqcm04jgfjlr0000gn/T/ipykernel_3636/3196941531.py:11: FutureWarning: The behavior of DataFrame concatenation with empty or all-NA entries is deprecated. In a future version, this will no longer exclude empty or all-NA columns when determining the result dtypes. To retain the old behavior, exclude the relevant entries before the concat operation.\n",
      "  predictions = pd.concat([predictions, temp_df], ignore_index=True)\n",
      "/var/folders/x8/v7bmckc139v2dqcm04jgfjlr0000gn/T/ipykernel_3636/2637449371.py:65: FutureWarning: The behavior of DataFrame concatenation with empty or all-NA entries is deprecated. In a future version, this will no longer exclude empty or all-NA columns when determining the result dtypes. To retain the old behavior, exclude the relevant entries before the concat operation.\n",
      "  all_forecasts = pd.concat([all_forecasts, forecasted_temp])\n",
      "/var/folders/x8/v7bmckc139v2dqcm04jgfjlr0000gn/T/ipykernel_3636/3196941531.py:23: FutureWarning: The behavior of DataFrame concatenation with empty or all-NA entries is deprecated. In a future version, this will no longer exclude empty or all-NA columns when determining the result dtypes. To retain the old behavior, exclude the relevant entries before the concat operation.\n",
      "  predictions = pd.concat([predictions, temp_df], ignore_index=True)\n",
      "/var/folders/x8/v7bmckc139v2dqcm04jgfjlr0000gn/T/ipykernel_3636/3196941531.py:23: FutureWarning: The behavior of DataFrame concatenation with empty or all-NA entries is deprecated. In a future version, this will no longer exclude empty or all-NA columns when determining the result dtypes. To retain the old behavior, exclude the relevant entries before the concat operation.\n",
      "  predictions = pd.concat([predictions, temp_df], ignore_index=True)\n",
      "/var/folders/x8/v7bmckc139v2dqcm04jgfjlr0000gn/T/ipykernel_3636/3196941531.py:23: FutureWarning: The behavior of DataFrame concatenation with empty or all-NA entries is deprecated. In a future version, this will no longer exclude empty or all-NA columns when determining the result dtypes. To retain the old behavior, exclude the relevant entries before the concat operation.\n",
      "  predictions = pd.concat([predictions, temp_df], ignore_index=True)\n",
      "/var/folders/x8/v7bmckc139v2dqcm04jgfjlr0000gn/T/ipykernel_3636/3196941531.py:23: FutureWarning: The behavior of DataFrame concatenation with empty or all-NA entries is deprecated. In a future version, this will no longer exclude empty or all-NA columns when determining the result dtypes. To retain the old behavior, exclude the relevant entries before the concat operation.\n",
      "  predictions = pd.concat([predictions, temp_df], ignore_index=True)\n",
      "/var/folders/x8/v7bmckc139v2dqcm04jgfjlr0000gn/T/ipykernel_3636/3196941531.py:23: FutureWarning: The behavior of DataFrame concatenation with empty or all-NA entries is deprecated. In a future version, this will no longer exclude empty or all-NA columns when determining the result dtypes. To retain the old behavior, exclude the relevant entries before the concat operation.\n",
      "  predictions = pd.concat([predictions, temp_df], ignore_index=True)\n",
      "/var/folders/x8/v7bmckc139v2dqcm04jgfjlr0000gn/T/ipykernel_3636/3196941531.py:23: FutureWarning: The behavior of DataFrame concatenation with empty or all-NA entries is deprecated. In a future version, this will no longer exclude empty or all-NA columns when determining the result dtypes. To retain the old behavior, exclude the relevant entries before the concat operation.\n",
      "  predictions = pd.concat([predictions, temp_df], ignore_index=True)\n",
      "/var/folders/x8/v7bmckc139v2dqcm04jgfjlr0000gn/T/ipykernel_3636/3196941531.py:11: FutureWarning: The behavior of DataFrame concatenation with empty or all-NA entries is deprecated. In a future version, this will no longer exclude empty or all-NA columns when determining the result dtypes. To retain the old behavior, exclude the relevant entries before the concat operation.\n",
      "  predictions = pd.concat([predictions, temp_df], ignore_index=True)\n"
     ]
    },
    {
     "name": "stdout",
     "output_type": "stream",
     "text": [
      "Beginning forecast for 2023-08-14 00:00:00\n"
     ]
    },
    {
     "name": "stderr",
     "output_type": "stream",
     "text": [
      "/var/folders/x8/v7bmckc139v2dqcm04jgfjlr0000gn/T/ipykernel_3636/2637449371.py:65: FutureWarning: The behavior of DataFrame concatenation with empty or all-NA entries is deprecated. In a future version, this will no longer exclude empty or all-NA columns when determining the result dtypes. To retain the old behavior, exclude the relevant entries before the concat operation.\n",
      "  all_forecasts = pd.concat([all_forecasts, forecasted_temp])\n",
      "/var/folders/x8/v7bmckc139v2dqcm04jgfjlr0000gn/T/ipykernel_3636/3196941531.py:23: FutureWarning: The behavior of DataFrame concatenation with empty or all-NA entries is deprecated. In a future version, this will no longer exclude empty or all-NA columns when determining the result dtypes. To retain the old behavior, exclude the relevant entries before the concat operation.\n",
      "  predictions = pd.concat([predictions, temp_df], ignore_index=True)\n",
      "/var/folders/x8/v7bmckc139v2dqcm04jgfjlr0000gn/T/ipykernel_3636/3196941531.py:23: FutureWarning: The behavior of DataFrame concatenation with empty or all-NA entries is deprecated. In a future version, this will no longer exclude empty or all-NA columns when determining the result dtypes. To retain the old behavior, exclude the relevant entries before the concat operation.\n",
      "  predictions = pd.concat([predictions, temp_df], ignore_index=True)\n",
      "/var/folders/x8/v7bmckc139v2dqcm04jgfjlr0000gn/T/ipykernel_3636/3196941531.py:23: FutureWarning: The behavior of DataFrame concatenation with empty or all-NA entries is deprecated. In a future version, this will no longer exclude empty or all-NA columns when determining the result dtypes. To retain the old behavior, exclude the relevant entries before the concat operation.\n",
      "  predictions = pd.concat([predictions, temp_df], ignore_index=True)\n",
      "/var/folders/x8/v7bmckc139v2dqcm04jgfjlr0000gn/T/ipykernel_3636/3196941531.py:23: FutureWarning: The behavior of DataFrame concatenation with empty or all-NA entries is deprecated. In a future version, this will no longer exclude empty or all-NA columns when determining the result dtypes. To retain the old behavior, exclude the relevant entries before the concat operation.\n",
      "  predictions = pd.concat([predictions, temp_df], ignore_index=True)\n",
      "/var/folders/x8/v7bmckc139v2dqcm04jgfjlr0000gn/T/ipykernel_3636/3196941531.py:23: FutureWarning: The behavior of DataFrame concatenation with empty or all-NA entries is deprecated. In a future version, this will no longer exclude empty or all-NA columns when determining the result dtypes. To retain the old behavior, exclude the relevant entries before the concat operation.\n",
      "  predictions = pd.concat([predictions, temp_df], ignore_index=True)\n",
      "/var/folders/x8/v7bmckc139v2dqcm04jgfjlr0000gn/T/ipykernel_3636/3196941531.py:23: FutureWarning: The behavior of DataFrame concatenation with empty or all-NA entries is deprecated. In a future version, this will no longer exclude empty or all-NA columns when determining the result dtypes. To retain the old behavior, exclude the relevant entries before the concat operation.\n",
      "  predictions = pd.concat([predictions, temp_df], ignore_index=True)\n"
     ]
    },
    {
     "name": "stdout",
     "output_type": "stream",
     "text": [
      "Beginning forecast for 2023-08-15 00:00:00\n"
     ]
    },
    {
     "name": "stderr",
     "output_type": "stream",
     "text": [
      "/var/folders/x8/v7bmckc139v2dqcm04jgfjlr0000gn/T/ipykernel_3636/3196941531.py:11: FutureWarning: The behavior of DataFrame concatenation with empty or all-NA entries is deprecated. In a future version, this will no longer exclude empty or all-NA columns when determining the result dtypes. To retain the old behavior, exclude the relevant entries before the concat operation.\n",
      "  predictions = pd.concat([predictions, temp_df], ignore_index=True)\n",
      "/var/folders/x8/v7bmckc139v2dqcm04jgfjlr0000gn/T/ipykernel_3636/2637449371.py:65: FutureWarning: The behavior of DataFrame concatenation with empty or all-NA entries is deprecated. In a future version, this will no longer exclude empty or all-NA columns when determining the result dtypes. To retain the old behavior, exclude the relevant entries before the concat operation.\n",
      "  all_forecasts = pd.concat([all_forecasts, forecasted_temp])\n",
      "/var/folders/x8/v7bmckc139v2dqcm04jgfjlr0000gn/T/ipykernel_3636/3196941531.py:23: FutureWarning: The behavior of DataFrame concatenation with empty or all-NA entries is deprecated. In a future version, this will no longer exclude empty or all-NA columns when determining the result dtypes. To retain the old behavior, exclude the relevant entries before the concat operation.\n",
      "  predictions = pd.concat([predictions, temp_df], ignore_index=True)\n",
      "/var/folders/x8/v7bmckc139v2dqcm04jgfjlr0000gn/T/ipykernel_3636/3196941531.py:23: FutureWarning: The behavior of DataFrame concatenation with empty or all-NA entries is deprecated. In a future version, this will no longer exclude empty or all-NA columns when determining the result dtypes. To retain the old behavior, exclude the relevant entries before the concat operation.\n",
      "  predictions = pd.concat([predictions, temp_df], ignore_index=True)\n",
      "/var/folders/x8/v7bmckc139v2dqcm04jgfjlr0000gn/T/ipykernel_3636/3196941531.py:23: FutureWarning: The behavior of DataFrame concatenation with empty or all-NA entries is deprecated. In a future version, this will no longer exclude empty or all-NA columns when determining the result dtypes. To retain the old behavior, exclude the relevant entries before the concat operation.\n",
      "  predictions = pd.concat([predictions, temp_df], ignore_index=True)\n",
      "/var/folders/x8/v7bmckc139v2dqcm04jgfjlr0000gn/T/ipykernel_3636/3196941531.py:23: FutureWarning: The behavior of DataFrame concatenation with empty or all-NA entries is deprecated. In a future version, this will no longer exclude empty or all-NA columns when determining the result dtypes. To retain the old behavior, exclude the relevant entries before the concat operation.\n",
      "  predictions = pd.concat([predictions, temp_df], ignore_index=True)\n",
      "/var/folders/x8/v7bmckc139v2dqcm04jgfjlr0000gn/T/ipykernel_3636/3196941531.py:23: FutureWarning: The behavior of DataFrame concatenation with empty or all-NA entries is deprecated. In a future version, this will no longer exclude empty or all-NA columns when determining the result dtypes. To retain the old behavior, exclude the relevant entries before the concat operation.\n",
      "  predictions = pd.concat([predictions, temp_df], ignore_index=True)\n",
      "/var/folders/x8/v7bmckc139v2dqcm04jgfjlr0000gn/T/ipykernel_3636/3196941531.py:23: FutureWarning: The behavior of DataFrame concatenation with empty or all-NA entries is deprecated. In a future version, this will no longer exclude empty or all-NA columns when determining the result dtypes. To retain the old behavior, exclude the relevant entries before the concat operation.\n",
      "  predictions = pd.concat([predictions, temp_df], ignore_index=True)\n",
      "/var/folders/x8/v7bmckc139v2dqcm04jgfjlr0000gn/T/ipykernel_3636/3196941531.py:11: FutureWarning: The behavior of DataFrame concatenation with empty or all-NA entries is deprecated. In a future version, this will no longer exclude empty or all-NA columns when determining the result dtypes. To retain the old behavior, exclude the relevant entries before the concat operation.\n",
      "  predictions = pd.concat([predictions, temp_df], ignore_index=True)\n"
     ]
    },
    {
     "name": "stdout",
     "output_type": "stream",
     "text": [
      "Beginning forecast for 2023-08-16 00:00:00\n"
     ]
    },
    {
     "name": "stderr",
     "output_type": "stream",
     "text": [
      "/var/folders/x8/v7bmckc139v2dqcm04jgfjlr0000gn/T/ipykernel_3636/2637449371.py:65: FutureWarning: The behavior of DataFrame concatenation with empty or all-NA entries is deprecated. In a future version, this will no longer exclude empty or all-NA columns when determining the result dtypes. To retain the old behavior, exclude the relevant entries before the concat operation.\n",
      "  all_forecasts = pd.concat([all_forecasts, forecasted_temp])\n",
      "/var/folders/x8/v7bmckc139v2dqcm04jgfjlr0000gn/T/ipykernel_3636/3196941531.py:23: FutureWarning: The behavior of DataFrame concatenation with empty or all-NA entries is deprecated. In a future version, this will no longer exclude empty or all-NA columns when determining the result dtypes. To retain the old behavior, exclude the relevant entries before the concat operation.\n",
      "  predictions = pd.concat([predictions, temp_df], ignore_index=True)\n",
      "/var/folders/x8/v7bmckc139v2dqcm04jgfjlr0000gn/T/ipykernel_3636/3196941531.py:23: FutureWarning: The behavior of DataFrame concatenation with empty or all-NA entries is deprecated. In a future version, this will no longer exclude empty or all-NA columns when determining the result dtypes. To retain the old behavior, exclude the relevant entries before the concat operation.\n",
      "  predictions = pd.concat([predictions, temp_df], ignore_index=True)\n",
      "/var/folders/x8/v7bmckc139v2dqcm04jgfjlr0000gn/T/ipykernel_3636/3196941531.py:23: FutureWarning: The behavior of DataFrame concatenation with empty or all-NA entries is deprecated. In a future version, this will no longer exclude empty or all-NA columns when determining the result dtypes. To retain the old behavior, exclude the relevant entries before the concat operation.\n",
      "  predictions = pd.concat([predictions, temp_df], ignore_index=True)\n",
      "/var/folders/x8/v7bmckc139v2dqcm04jgfjlr0000gn/T/ipykernel_3636/3196941531.py:23: FutureWarning: The behavior of DataFrame concatenation with empty or all-NA entries is deprecated. In a future version, this will no longer exclude empty or all-NA columns when determining the result dtypes. To retain the old behavior, exclude the relevant entries before the concat operation.\n",
      "  predictions = pd.concat([predictions, temp_df], ignore_index=True)\n",
      "/var/folders/x8/v7bmckc139v2dqcm04jgfjlr0000gn/T/ipykernel_3636/3196941531.py:23: FutureWarning: The behavior of DataFrame concatenation with empty or all-NA entries is deprecated. In a future version, this will no longer exclude empty or all-NA columns when determining the result dtypes. To retain the old behavior, exclude the relevant entries before the concat operation.\n",
      "  predictions = pd.concat([predictions, temp_df], ignore_index=True)\n",
      "/var/folders/x8/v7bmckc139v2dqcm04jgfjlr0000gn/T/ipykernel_3636/3196941531.py:23: FutureWarning: The behavior of DataFrame concatenation with empty or all-NA entries is deprecated. In a future version, this will no longer exclude empty or all-NA columns when determining the result dtypes. To retain the old behavior, exclude the relevant entries before the concat operation.\n",
      "  predictions = pd.concat([predictions, temp_df], ignore_index=True)\n",
      "/var/folders/x8/v7bmckc139v2dqcm04jgfjlr0000gn/T/ipykernel_3636/3196941531.py:11: FutureWarning: The behavior of DataFrame concatenation with empty or all-NA entries is deprecated. In a future version, this will no longer exclude empty or all-NA columns when determining the result dtypes. To retain the old behavior, exclude the relevant entries before the concat operation.\n",
      "  predictions = pd.concat([predictions, temp_df], ignore_index=True)\n"
     ]
    },
    {
     "name": "stdout",
     "output_type": "stream",
     "text": [
      "Beginning forecast for 2023-08-17 00:00:00\n"
     ]
    },
    {
     "name": "stderr",
     "output_type": "stream",
     "text": [
      "/var/folders/x8/v7bmckc139v2dqcm04jgfjlr0000gn/T/ipykernel_3636/2637449371.py:65: FutureWarning: The behavior of DataFrame concatenation with empty or all-NA entries is deprecated. In a future version, this will no longer exclude empty or all-NA columns when determining the result dtypes. To retain the old behavior, exclude the relevant entries before the concat operation.\n",
      "  all_forecasts = pd.concat([all_forecasts, forecasted_temp])\n",
      "/var/folders/x8/v7bmckc139v2dqcm04jgfjlr0000gn/T/ipykernel_3636/3196941531.py:23: FutureWarning: The behavior of DataFrame concatenation with empty or all-NA entries is deprecated. In a future version, this will no longer exclude empty or all-NA columns when determining the result dtypes. To retain the old behavior, exclude the relevant entries before the concat operation.\n",
      "  predictions = pd.concat([predictions, temp_df], ignore_index=True)\n",
      "/var/folders/x8/v7bmckc139v2dqcm04jgfjlr0000gn/T/ipykernel_3636/3196941531.py:23: FutureWarning: The behavior of DataFrame concatenation with empty or all-NA entries is deprecated. In a future version, this will no longer exclude empty or all-NA columns when determining the result dtypes. To retain the old behavior, exclude the relevant entries before the concat operation.\n",
      "  predictions = pd.concat([predictions, temp_df], ignore_index=True)\n",
      "/var/folders/x8/v7bmckc139v2dqcm04jgfjlr0000gn/T/ipykernel_3636/3196941531.py:23: FutureWarning: The behavior of DataFrame concatenation with empty or all-NA entries is deprecated. In a future version, this will no longer exclude empty or all-NA columns when determining the result dtypes. To retain the old behavior, exclude the relevant entries before the concat operation.\n",
      "  predictions = pd.concat([predictions, temp_df], ignore_index=True)\n",
      "/var/folders/x8/v7bmckc139v2dqcm04jgfjlr0000gn/T/ipykernel_3636/3196941531.py:23: FutureWarning: The behavior of DataFrame concatenation with empty or all-NA entries is deprecated. In a future version, this will no longer exclude empty or all-NA columns when determining the result dtypes. To retain the old behavior, exclude the relevant entries before the concat operation.\n",
      "  predictions = pd.concat([predictions, temp_df], ignore_index=True)\n",
      "/var/folders/x8/v7bmckc139v2dqcm04jgfjlr0000gn/T/ipykernel_3636/3196941531.py:23: FutureWarning: The behavior of DataFrame concatenation with empty or all-NA entries is deprecated. In a future version, this will no longer exclude empty or all-NA columns when determining the result dtypes. To retain the old behavior, exclude the relevant entries before the concat operation.\n",
      "  predictions = pd.concat([predictions, temp_df], ignore_index=True)\n",
      "/var/folders/x8/v7bmckc139v2dqcm04jgfjlr0000gn/T/ipykernel_3636/3196941531.py:23: FutureWarning: The behavior of DataFrame concatenation with empty or all-NA entries is deprecated. In a future version, this will no longer exclude empty or all-NA columns when determining the result dtypes. To retain the old behavior, exclude the relevant entries before the concat operation.\n",
      "  predictions = pd.concat([predictions, temp_df], ignore_index=True)\n"
     ]
    },
    {
     "name": "stdout",
     "output_type": "stream",
     "text": [
      "Beginning forecast for 2023-08-18 00:00:00\n"
     ]
    },
    {
     "name": "stderr",
     "output_type": "stream",
     "text": [
      "/var/folders/x8/v7bmckc139v2dqcm04jgfjlr0000gn/T/ipykernel_3636/3196941531.py:11: FutureWarning: The behavior of DataFrame concatenation with empty or all-NA entries is deprecated. In a future version, this will no longer exclude empty or all-NA columns when determining the result dtypes. To retain the old behavior, exclude the relevant entries before the concat operation.\n",
      "  predictions = pd.concat([predictions, temp_df], ignore_index=True)\n",
      "/var/folders/x8/v7bmckc139v2dqcm04jgfjlr0000gn/T/ipykernel_3636/2637449371.py:65: FutureWarning: The behavior of DataFrame concatenation with empty or all-NA entries is deprecated. In a future version, this will no longer exclude empty or all-NA columns when determining the result dtypes. To retain the old behavior, exclude the relevant entries before the concat operation.\n",
      "  all_forecasts = pd.concat([all_forecasts, forecasted_temp])\n",
      "/var/folders/x8/v7bmckc139v2dqcm04jgfjlr0000gn/T/ipykernel_3636/3196941531.py:23: FutureWarning: The behavior of DataFrame concatenation with empty or all-NA entries is deprecated. In a future version, this will no longer exclude empty or all-NA columns when determining the result dtypes. To retain the old behavior, exclude the relevant entries before the concat operation.\n",
      "  predictions = pd.concat([predictions, temp_df], ignore_index=True)\n",
      "/var/folders/x8/v7bmckc139v2dqcm04jgfjlr0000gn/T/ipykernel_3636/3196941531.py:23: FutureWarning: The behavior of DataFrame concatenation with empty or all-NA entries is deprecated. In a future version, this will no longer exclude empty or all-NA columns when determining the result dtypes. To retain the old behavior, exclude the relevant entries before the concat operation.\n",
      "  predictions = pd.concat([predictions, temp_df], ignore_index=True)\n",
      "/var/folders/x8/v7bmckc139v2dqcm04jgfjlr0000gn/T/ipykernel_3636/3196941531.py:23: FutureWarning: The behavior of DataFrame concatenation with empty or all-NA entries is deprecated. In a future version, this will no longer exclude empty or all-NA columns when determining the result dtypes. To retain the old behavior, exclude the relevant entries before the concat operation.\n",
      "  predictions = pd.concat([predictions, temp_df], ignore_index=True)\n",
      "/var/folders/x8/v7bmckc139v2dqcm04jgfjlr0000gn/T/ipykernel_3636/3196941531.py:23: FutureWarning: The behavior of DataFrame concatenation with empty or all-NA entries is deprecated. In a future version, this will no longer exclude empty or all-NA columns when determining the result dtypes. To retain the old behavior, exclude the relevant entries before the concat operation.\n",
      "  predictions = pd.concat([predictions, temp_df], ignore_index=True)\n",
      "/var/folders/x8/v7bmckc139v2dqcm04jgfjlr0000gn/T/ipykernel_3636/3196941531.py:23: FutureWarning: The behavior of DataFrame concatenation with empty or all-NA entries is deprecated. In a future version, this will no longer exclude empty or all-NA columns when determining the result dtypes. To retain the old behavior, exclude the relevant entries before the concat operation.\n",
      "  predictions = pd.concat([predictions, temp_df], ignore_index=True)\n",
      "/var/folders/x8/v7bmckc139v2dqcm04jgfjlr0000gn/T/ipykernel_3636/3196941531.py:23: FutureWarning: The behavior of DataFrame concatenation with empty or all-NA entries is deprecated. In a future version, this will no longer exclude empty or all-NA columns when determining the result dtypes. To retain the old behavior, exclude the relevant entries before the concat operation.\n",
      "  predictions = pd.concat([predictions, temp_df], ignore_index=True)\n",
      "/var/folders/x8/v7bmckc139v2dqcm04jgfjlr0000gn/T/ipykernel_3636/3196941531.py:11: FutureWarning: The behavior of DataFrame concatenation with empty or all-NA entries is deprecated. In a future version, this will no longer exclude empty or all-NA columns when determining the result dtypes. To retain the old behavior, exclude the relevant entries before the concat operation.\n",
      "  predictions = pd.concat([predictions, temp_df], ignore_index=True)\n"
     ]
    },
    {
     "name": "stdout",
     "output_type": "stream",
     "text": [
      "Beginning forecast for 2023-08-19 00:00:00\n"
     ]
    },
    {
     "name": "stderr",
     "output_type": "stream",
     "text": [
      "/var/folders/x8/v7bmckc139v2dqcm04jgfjlr0000gn/T/ipykernel_3636/2637449371.py:65: FutureWarning: The behavior of DataFrame concatenation with empty or all-NA entries is deprecated. In a future version, this will no longer exclude empty or all-NA columns when determining the result dtypes. To retain the old behavior, exclude the relevant entries before the concat operation.\n",
      "  all_forecasts = pd.concat([all_forecasts, forecasted_temp])\n",
      "/var/folders/x8/v7bmckc139v2dqcm04jgfjlr0000gn/T/ipykernel_3636/3196941531.py:23: FutureWarning: The behavior of DataFrame concatenation with empty or all-NA entries is deprecated. In a future version, this will no longer exclude empty or all-NA columns when determining the result dtypes. To retain the old behavior, exclude the relevant entries before the concat operation.\n",
      "  predictions = pd.concat([predictions, temp_df], ignore_index=True)\n",
      "/var/folders/x8/v7bmckc139v2dqcm04jgfjlr0000gn/T/ipykernel_3636/3196941531.py:23: FutureWarning: The behavior of DataFrame concatenation with empty or all-NA entries is deprecated. In a future version, this will no longer exclude empty or all-NA columns when determining the result dtypes. To retain the old behavior, exclude the relevant entries before the concat operation.\n",
      "  predictions = pd.concat([predictions, temp_df], ignore_index=True)\n",
      "/var/folders/x8/v7bmckc139v2dqcm04jgfjlr0000gn/T/ipykernel_3636/3196941531.py:23: FutureWarning: The behavior of DataFrame concatenation with empty or all-NA entries is deprecated. In a future version, this will no longer exclude empty or all-NA columns when determining the result dtypes. To retain the old behavior, exclude the relevant entries before the concat operation.\n",
      "  predictions = pd.concat([predictions, temp_df], ignore_index=True)\n",
      "/var/folders/x8/v7bmckc139v2dqcm04jgfjlr0000gn/T/ipykernel_3636/3196941531.py:23: FutureWarning: The behavior of DataFrame concatenation with empty or all-NA entries is deprecated. In a future version, this will no longer exclude empty or all-NA columns when determining the result dtypes. To retain the old behavior, exclude the relevant entries before the concat operation.\n",
      "  predictions = pd.concat([predictions, temp_df], ignore_index=True)\n",
      "/var/folders/x8/v7bmckc139v2dqcm04jgfjlr0000gn/T/ipykernel_3636/3196941531.py:23: FutureWarning: The behavior of DataFrame concatenation with empty or all-NA entries is deprecated. In a future version, this will no longer exclude empty or all-NA columns when determining the result dtypes. To retain the old behavior, exclude the relevant entries before the concat operation.\n",
      "  predictions = pd.concat([predictions, temp_df], ignore_index=True)\n",
      "/var/folders/x8/v7bmckc139v2dqcm04jgfjlr0000gn/T/ipykernel_3636/3196941531.py:23: FutureWarning: The behavior of DataFrame concatenation with empty or all-NA entries is deprecated. In a future version, this will no longer exclude empty or all-NA columns when determining the result dtypes. To retain the old behavior, exclude the relevant entries before the concat operation.\n",
      "  predictions = pd.concat([predictions, temp_df], ignore_index=True)\n"
     ]
    },
    {
     "name": "stdout",
     "output_type": "stream",
     "text": [
      "Beginning forecast for 2023-08-20 00:00:00\n"
     ]
    },
    {
     "name": "stderr",
     "output_type": "stream",
     "text": [
      "/var/folders/x8/v7bmckc139v2dqcm04jgfjlr0000gn/T/ipykernel_3636/3196941531.py:11: FutureWarning: The behavior of DataFrame concatenation with empty or all-NA entries is deprecated. In a future version, this will no longer exclude empty or all-NA columns when determining the result dtypes. To retain the old behavior, exclude the relevant entries before the concat operation.\n",
      "  predictions = pd.concat([predictions, temp_df], ignore_index=True)\n",
      "/var/folders/x8/v7bmckc139v2dqcm04jgfjlr0000gn/T/ipykernel_3636/2637449371.py:65: FutureWarning: The behavior of DataFrame concatenation with empty or all-NA entries is deprecated. In a future version, this will no longer exclude empty or all-NA columns when determining the result dtypes. To retain the old behavior, exclude the relevant entries before the concat operation.\n",
      "  all_forecasts = pd.concat([all_forecasts, forecasted_temp])\n",
      "/var/folders/x8/v7bmckc139v2dqcm04jgfjlr0000gn/T/ipykernel_3636/3196941531.py:23: FutureWarning: The behavior of DataFrame concatenation with empty or all-NA entries is deprecated. In a future version, this will no longer exclude empty or all-NA columns when determining the result dtypes. To retain the old behavior, exclude the relevant entries before the concat operation.\n",
      "  predictions = pd.concat([predictions, temp_df], ignore_index=True)\n",
      "/var/folders/x8/v7bmckc139v2dqcm04jgfjlr0000gn/T/ipykernel_3636/3196941531.py:23: FutureWarning: The behavior of DataFrame concatenation with empty or all-NA entries is deprecated. In a future version, this will no longer exclude empty or all-NA columns when determining the result dtypes. To retain the old behavior, exclude the relevant entries before the concat operation.\n",
      "  predictions = pd.concat([predictions, temp_df], ignore_index=True)\n",
      "/var/folders/x8/v7bmckc139v2dqcm04jgfjlr0000gn/T/ipykernel_3636/3196941531.py:23: FutureWarning: The behavior of DataFrame concatenation with empty or all-NA entries is deprecated. In a future version, this will no longer exclude empty or all-NA columns when determining the result dtypes. To retain the old behavior, exclude the relevant entries before the concat operation.\n",
      "  predictions = pd.concat([predictions, temp_df], ignore_index=True)\n",
      "/var/folders/x8/v7bmckc139v2dqcm04jgfjlr0000gn/T/ipykernel_3636/3196941531.py:23: FutureWarning: The behavior of DataFrame concatenation with empty or all-NA entries is deprecated. In a future version, this will no longer exclude empty or all-NA columns when determining the result dtypes. To retain the old behavior, exclude the relevant entries before the concat operation.\n",
      "  predictions = pd.concat([predictions, temp_df], ignore_index=True)\n",
      "/var/folders/x8/v7bmckc139v2dqcm04jgfjlr0000gn/T/ipykernel_3636/3196941531.py:23: FutureWarning: The behavior of DataFrame concatenation with empty or all-NA entries is deprecated. In a future version, this will no longer exclude empty or all-NA columns when determining the result dtypes. To retain the old behavior, exclude the relevant entries before the concat operation.\n",
      "  predictions = pd.concat([predictions, temp_df], ignore_index=True)\n",
      "/var/folders/x8/v7bmckc139v2dqcm04jgfjlr0000gn/T/ipykernel_3636/3196941531.py:23: FutureWarning: The behavior of DataFrame concatenation with empty or all-NA entries is deprecated. In a future version, this will no longer exclude empty or all-NA columns when determining the result dtypes. To retain the old behavior, exclude the relevant entries before the concat operation.\n",
      "  predictions = pd.concat([predictions, temp_df], ignore_index=True)\n",
      "/var/folders/x8/v7bmckc139v2dqcm04jgfjlr0000gn/T/ipykernel_3636/3196941531.py:11: FutureWarning: The behavior of DataFrame concatenation with empty or all-NA entries is deprecated. In a future version, this will no longer exclude empty or all-NA columns when determining the result dtypes. To retain the old behavior, exclude the relevant entries before the concat operation.\n",
      "  predictions = pd.concat([predictions, temp_df], ignore_index=True)\n"
     ]
    },
    {
     "name": "stdout",
     "output_type": "stream",
     "text": [
      "Beginning forecast for 2023-08-21 00:00:00\n"
     ]
    },
    {
     "name": "stderr",
     "output_type": "stream",
     "text": [
      "/var/folders/x8/v7bmckc139v2dqcm04jgfjlr0000gn/T/ipykernel_3636/2637449371.py:65: FutureWarning: The behavior of DataFrame concatenation with empty or all-NA entries is deprecated. In a future version, this will no longer exclude empty or all-NA columns when determining the result dtypes. To retain the old behavior, exclude the relevant entries before the concat operation.\n",
      "  all_forecasts = pd.concat([all_forecasts, forecasted_temp])\n",
      "/var/folders/x8/v7bmckc139v2dqcm04jgfjlr0000gn/T/ipykernel_3636/3196941531.py:23: FutureWarning: The behavior of DataFrame concatenation with empty or all-NA entries is deprecated. In a future version, this will no longer exclude empty or all-NA columns when determining the result dtypes. To retain the old behavior, exclude the relevant entries before the concat operation.\n",
      "  predictions = pd.concat([predictions, temp_df], ignore_index=True)\n",
      "/var/folders/x8/v7bmckc139v2dqcm04jgfjlr0000gn/T/ipykernel_3636/3196941531.py:23: FutureWarning: The behavior of DataFrame concatenation with empty or all-NA entries is deprecated. In a future version, this will no longer exclude empty or all-NA columns when determining the result dtypes. To retain the old behavior, exclude the relevant entries before the concat operation.\n",
      "  predictions = pd.concat([predictions, temp_df], ignore_index=True)\n",
      "/var/folders/x8/v7bmckc139v2dqcm04jgfjlr0000gn/T/ipykernel_3636/3196941531.py:23: FutureWarning: The behavior of DataFrame concatenation with empty or all-NA entries is deprecated. In a future version, this will no longer exclude empty or all-NA columns when determining the result dtypes. To retain the old behavior, exclude the relevant entries before the concat operation.\n",
      "  predictions = pd.concat([predictions, temp_df], ignore_index=True)\n",
      "/var/folders/x8/v7bmckc139v2dqcm04jgfjlr0000gn/T/ipykernel_3636/3196941531.py:23: FutureWarning: The behavior of DataFrame concatenation with empty or all-NA entries is deprecated. In a future version, this will no longer exclude empty or all-NA columns when determining the result dtypes. To retain the old behavior, exclude the relevant entries before the concat operation.\n",
      "  predictions = pd.concat([predictions, temp_df], ignore_index=True)\n",
      "/var/folders/x8/v7bmckc139v2dqcm04jgfjlr0000gn/T/ipykernel_3636/3196941531.py:23: FutureWarning: The behavior of DataFrame concatenation with empty or all-NA entries is deprecated. In a future version, this will no longer exclude empty or all-NA columns when determining the result dtypes. To retain the old behavior, exclude the relevant entries before the concat operation.\n",
      "  predictions = pd.concat([predictions, temp_df], ignore_index=True)\n",
      "/var/folders/x8/v7bmckc139v2dqcm04jgfjlr0000gn/T/ipykernel_3636/3196941531.py:23: FutureWarning: The behavior of DataFrame concatenation with empty or all-NA entries is deprecated. In a future version, this will no longer exclude empty or all-NA columns when determining the result dtypes. To retain the old behavior, exclude the relevant entries before the concat operation.\n",
      "  predictions = pd.concat([predictions, temp_df], ignore_index=True)\n"
     ]
    },
    {
     "name": "stdout",
     "output_type": "stream",
     "text": [
      "Beginning forecast for 2023-08-22 00:00:00\n"
     ]
    },
    {
     "name": "stderr",
     "output_type": "stream",
     "text": [
      "/var/folders/x8/v7bmckc139v2dqcm04jgfjlr0000gn/T/ipykernel_3636/3196941531.py:11: FutureWarning: The behavior of DataFrame concatenation with empty or all-NA entries is deprecated. In a future version, this will no longer exclude empty or all-NA columns when determining the result dtypes. To retain the old behavior, exclude the relevant entries before the concat operation.\n",
      "  predictions = pd.concat([predictions, temp_df], ignore_index=True)\n",
      "/var/folders/x8/v7bmckc139v2dqcm04jgfjlr0000gn/T/ipykernel_3636/2637449371.py:65: FutureWarning: The behavior of DataFrame concatenation with empty or all-NA entries is deprecated. In a future version, this will no longer exclude empty or all-NA columns when determining the result dtypes. To retain the old behavior, exclude the relevant entries before the concat operation.\n",
      "  all_forecasts = pd.concat([all_forecasts, forecasted_temp])\n",
      "/var/folders/x8/v7bmckc139v2dqcm04jgfjlr0000gn/T/ipykernel_3636/3196941531.py:23: FutureWarning: The behavior of DataFrame concatenation with empty or all-NA entries is deprecated. In a future version, this will no longer exclude empty or all-NA columns when determining the result dtypes. To retain the old behavior, exclude the relevant entries before the concat operation.\n",
      "  predictions = pd.concat([predictions, temp_df], ignore_index=True)\n",
      "/var/folders/x8/v7bmckc139v2dqcm04jgfjlr0000gn/T/ipykernel_3636/3196941531.py:23: FutureWarning: The behavior of DataFrame concatenation with empty or all-NA entries is deprecated. In a future version, this will no longer exclude empty or all-NA columns when determining the result dtypes. To retain the old behavior, exclude the relevant entries before the concat operation.\n",
      "  predictions = pd.concat([predictions, temp_df], ignore_index=True)\n",
      "/var/folders/x8/v7bmckc139v2dqcm04jgfjlr0000gn/T/ipykernel_3636/3196941531.py:23: FutureWarning: The behavior of DataFrame concatenation with empty or all-NA entries is deprecated. In a future version, this will no longer exclude empty or all-NA columns when determining the result dtypes. To retain the old behavior, exclude the relevant entries before the concat operation.\n",
      "  predictions = pd.concat([predictions, temp_df], ignore_index=True)\n",
      "/var/folders/x8/v7bmckc139v2dqcm04jgfjlr0000gn/T/ipykernel_3636/3196941531.py:23: FutureWarning: The behavior of DataFrame concatenation with empty or all-NA entries is deprecated. In a future version, this will no longer exclude empty or all-NA columns when determining the result dtypes. To retain the old behavior, exclude the relevant entries before the concat operation.\n",
      "  predictions = pd.concat([predictions, temp_df], ignore_index=True)\n",
      "/var/folders/x8/v7bmckc139v2dqcm04jgfjlr0000gn/T/ipykernel_3636/3196941531.py:23: FutureWarning: The behavior of DataFrame concatenation with empty or all-NA entries is deprecated. In a future version, this will no longer exclude empty or all-NA columns when determining the result dtypes. To retain the old behavior, exclude the relevant entries before the concat operation.\n",
      "  predictions = pd.concat([predictions, temp_df], ignore_index=True)\n",
      "/var/folders/x8/v7bmckc139v2dqcm04jgfjlr0000gn/T/ipykernel_3636/3196941531.py:23: FutureWarning: The behavior of DataFrame concatenation with empty or all-NA entries is deprecated. In a future version, this will no longer exclude empty or all-NA columns when determining the result dtypes. To retain the old behavior, exclude the relevant entries before the concat operation.\n",
      "  predictions = pd.concat([predictions, temp_df], ignore_index=True)\n",
      "/var/folders/x8/v7bmckc139v2dqcm04jgfjlr0000gn/T/ipykernel_3636/3196941531.py:11: FutureWarning: The behavior of DataFrame concatenation with empty or all-NA entries is deprecated. In a future version, this will no longer exclude empty or all-NA columns when determining the result dtypes. To retain the old behavior, exclude the relevant entries before the concat operation.\n",
      "  predictions = pd.concat([predictions, temp_df], ignore_index=True)\n"
     ]
    },
    {
     "name": "stdout",
     "output_type": "stream",
     "text": [
      "Beginning forecast for 2023-08-23 00:00:00\n"
     ]
    },
    {
     "name": "stderr",
     "output_type": "stream",
     "text": [
      "/var/folders/x8/v7bmckc139v2dqcm04jgfjlr0000gn/T/ipykernel_3636/2637449371.py:65: FutureWarning: The behavior of DataFrame concatenation with empty or all-NA entries is deprecated. In a future version, this will no longer exclude empty or all-NA columns when determining the result dtypes. To retain the old behavior, exclude the relevant entries before the concat operation.\n",
      "  all_forecasts = pd.concat([all_forecasts, forecasted_temp])\n",
      "/var/folders/x8/v7bmckc139v2dqcm04jgfjlr0000gn/T/ipykernel_3636/3196941531.py:23: FutureWarning: The behavior of DataFrame concatenation with empty or all-NA entries is deprecated. In a future version, this will no longer exclude empty or all-NA columns when determining the result dtypes. To retain the old behavior, exclude the relevant entries before the concat operation.\n",
      "  predictions = pd.concat([predictions, temp_df], ignore_index=True)\n",
      "/var/folders/x8/v7bmckc139v2dqcm04jgfjlr0000gn/T/ipykernel_3636/3196941531.py:23: FutureWarning: The behavior of DataFrame concatenation with empty or all-NA entries is deprecated. In a future version, this will no longer exclude empty or all-NA columns when determining the result dtypes. To retain the old behavior, exclude the relevant entries before the concat operation.\n",
      "  predictions = pd.concat([predictions, temp_df], ignore_index=True)\n",
      "/var/folders/x8/v7bmckc139v2dqcm04jgfjlr0000gn/T/ipykernel_3636/3196941531.py:23: FutureWarning: The behavior of DataFrame concatenation with empty or all-NA entries is deprecated. In a future version, this will no longer exclude empty or all-NA columns when determining the result dtypes. To retain the old behavior, exclude the relevant entries before the concat operation.\n",
      "  predictions = pd.concat([predictions, temp_df], ignore_index=True)\n",
      "/var/folders/x8/v7bmckc139v2dqcm04jgfjlr0000gn/T/ipykernel_3636/3196941531.py:23: FutureWarning: The behavior of DataFrame concatenation with empty or all-NA entries is deprecated. In a future version, this will no longer exclude empty or all-NA columns when determining the result dtypes. To retain the old behavior, exclude the relevant entries before the concat operation.\n",
      "  predictions = pd.concat([predictions, temp_df], ignore_index=True)\n",
      "/var/folders/x8/v7bmckc139v2dqcm04jgfjlr0000gn/T/ipykernel_3636/3196941531.py:23: FutureWarning: The behavior of DataFrame concatenation with empty or all-NA entries is deprecated. In a future version, this will no longer exclude empty or all-NA columns when determining the result dtypes. To retain the old behavior, exclude the relevant entries before the concat operation.\n",
      "  predictions = pd.concat([predictions, temp_df], ignore_index=True)\n",
      "/var/folders/x8/v7bmckc139v2dqcm04jgfjlr0000gn/T/ipykernel_3636/3196941531.py:23: FutureWarning: The behavior of DataFrame concatenation with empty or all-NA entries is deprecated. In a future version, this will no longer exclude empty or all-NA columns when determining the result dtypes. To retain the old behavior, exclude the relevant entries before the concat operation.\n",
      "  predictions = pd.concat([predictions, temp_df], ignore_index=True)\n"
     ]
    },
    {
     "name": "stdout",
     "output_type": "stream",
     "text": [
      "Beginning forecast for 2023-08-24 00:00:00\n"
     ]
    },
    {
     "name": "stderr",
     "output_type": "stream",
     "text": [
      "/var/folders/x8/v7bmckc139v2dqcm04jgfjlr0000gn/T/ipykernel_3636/3196941531.py:11: FutureWarning: The behavior of DataFrame concatenation with empty or all-NA entries is deprecated. In a future version, this will no longer exclude empty or all-NA columns when determining the result dtypes. To retain the old behavior, exclude the relevant entries before the concat operation.\n",
      "  predictions = pd.concat([predictions, temp_df], ignore_index=True)\n",
      "/var/folders/x8/v7bmckc139v2dqcm04jgfjlr0000gn/T/ipykernel_3636/2637449371.py:65: FutureWarning: The behavior of DataFrame concatenation with empty or all-NA entries is deprecated. In a future version, this will no longer exclude empty or all-NA columns when determining the result dtypes. To retain the old behavior, exclude the relevant entries before the concat operation.\n",
      "  all_forecasts = pd.concat([all_forecasts, forecasted_temp])\n",
      "/var/folders/x8/v7bmckc139v2dqcm04jgfjlr0000gn/T/ipykernel_3636/3196941531.py:23: FutureWarning: The behavior of DataFrame concatenation with empty or all-NA entries is deprecated. In a future version, this will no longer exclude empty or all-NA columns when determining the result dtypes. To retain the old behavior, exclude the relevant entries before the concat operation.\n",
      "  predictions = pd.concat([predictions, temp_df], ignore_index=True)\n",
      "/var/folders/x8/v7bmckc139v2dqcm04jgfjlr0000gn/T/ipykernel_3636/3196941531.py:23: FutureWarning: The behavior of DataFrame concatenation with empty or all-NA entries is deprecated. In a future version, this will no longer exclude empty or all-NA columns when determining the result dtypes. To retain the old behavior, exclude the relevant entries before the concat operation.\n",
      "  predictions = pd.concat([predictions, temp_df], ignore_index=True)\n",
      "/var/folders/x8/v7bmckc139v2dqcm04jgfjlr0000gn/T/ipykernel_3636/3196941531.py:23: FutureWarning: The behavior of DataFrame concatenation with empty or all-NA entries is deprecated. In a future version, this will no longer exclude empty or all-NA columns when determining the result dtypes. To retain the old behavior, exclude the relevant entries before the concat operation.\n",
      "  predictions = pd.concat([predictions, temp_df], ignore_index=True)\n",
      "/var/folders/x8/v7bmckc139v2dqcm04jgfjlr0000gn/T/ipykernel_3636/3196941531.py:23: FutureWarning: The behavior of DataFrame concatenation with empty or all-NA entries is deprecated. In a future version, this will no longer exclude empty or all-NA columns when determining the result dtypes. To retain the old behavior, exclude the relevant entries before the concat operation.\n",
      "  predictions = pd.concat([predictions, temp_df], ignore_index=True)\n",
      "/var/folders/x8/v7bmckc139v2dqcm04jgfjlr0000gn/T/ipykernel_3636/3196941531.py:23: FutureWarning: The behavior of DataFrame concatenation with empty or all-NA entries is deprecated. In a future version, this will no longer exclude empty or all-NA columns when determining the result dtypes. To retain the old behavior, exclude the relevant entries before the concat operation.\n",
      "  predictions = pd.concat([predictions, temp_df], ignore_index=True)\n",
      "/var/folders/x8/v7bmckc139v2dqcm04jgfjlr0000gn/T/ipykernel_3636/3196941531.py:23: FutureWarning: The behavior of DataFrame concatenation with empty or all-NA entries is deprecated. In a future version, this will no longer exclude empty or all-NA columns when determining the result dtypes. To retain the old behavior, exclude the relevant entries before the concat operation.\n",
      "  predictions = pd.concat([predictions, temp_df], ignore_index=True)\n",
      "/var/folders/x8/v7bmckc139v2dqcm04jgfjlr0000gn/T/ipykernel_3636/3196941531.py:11: FutureWarning: The behavior of DataFrame concatenation with empty or all-NA entries is deprecated. In a future version, this will no longer exclude empty or all-NA columns when determining the result dtypes. To retain the old behavior, exclude the relevant entries before the concat operation.\n",
      "  predictions = pd.concat([predictions, temp_df], ignore_index=True)\n"
     ]
    },
    {
     "name": "stdout",
     "output_type": "stream",
     "text": [
      "Beginning forecast for 2023-08-25 00:00:00\n"
     ]
    },
    {
     "name": "stderr",
     "output_type": "stream",
     "text": [
      "/var/folders/x8/v7bmckc139v2dqcm04jgfjlr0000gn/T/ipykernel_3636/2637449371.py:65: FutureWarning: The behavior of DataFrame concatenation with empty or all-NA entries is deprecated. In a future version, this will no longer exclude empty or all-NA columns when determining the result dtypes. To retain the old behavior, exclude the relevant entries before the concat operation.\n",
      "  all_forecasts = pd.concat([all_forecasts, forecasted_temp])\n",
      "/var/folders/x8/v7bmckc139v2dqcm04jgfjlr0000gn/T/ipykernel_3636/3196941531.py:23: FutureWarning: The behavior of DataFrame concatenation with empty or all-NA entries is deprecated. In a future version, this will no longer exclude empty or all-NA columns when determining the result dtypes. To retain the old behavior, exclude the relevant entries before the concat operation.\n",
      "  predictions = pd.concat([predictions, temp_df], ignore_index=True)\n",
      "/var/folders/x8/v7bmckc139v2dqcm04jgfjlr0000gn/T/ipykernel_3636/3196941531.py:23: FutureWarning: The behavior of DataFrame concatenation with empty or all-NA entries is deprecated. In a future version, this will no longer exclude empty or all-NA columns when determining the result dtypes. To retain the old behavior, exclude the relevant entries before the concat operation.\n",
      "  predictions = pd.concat([predictions, temp_df], ignore_index=True)\n",
      "/var/folders/x8/v7bmckc139v2dqcm04jgfjlr0000gn/T/ipykernel_3636/3196941531.py:23: FutureWarning: The behavior of DataFrame concatenation with empty or all-NA entries is deprecated. In a future version, this will no longer exclude empty or all-NA columns when determining the result dtypes. To retain the old behavior, exclude the relevant entries before the concat operation.\n",
      "  predictions = pd.concat([predictions, temp_df], ignore_index=True)\n",
      "/var/folders/x8/v7bmckc139v2dqcm04jgfjlr0000gn/T/ipykernel_3636/3196941531.py:23: FutureWarning: The behavior of DataFrame concatenation with empty or all-NA entries is deprecated. In a future version, this will no longer exclude empty or all-NA columns when determining the result dtypes. To retain the old behavior, exclude the relevant entries before the concat operation.\n",
      "  predictions = pd.concat([predictions, temp_df], ignore_index=True)\n",
      "/var/folders/x8/v7bmckc139v2dqcm04jgfjlr0000gn/T/ipykernel_3636/3196941531.py:23: FutureWarning: The behavior of DataFrame concatenation with empty or all-NA entries is deprecated. In a future version, this will no longer exclude empty or all-NA columns when determining the result dtypes. To retain the old behavior, exclude the relevant entries before the concat operation.\n",
      "  predictions = pd.concat([predictions, temp_df], ignore_index=True)\n",
      "/var/folders/x8/v7bmckc139v2dqcm04jgfjlr0000gn/T/ipykernel_3636/3196941531.py:23: FutureWarning: The behavior of DataFrame concatenation with empty or all-NA entries is deprecated. In a future version, this will no longer exclude empty or all-NA columns when determining the result dtypes. To retain the old behavior, exclude the relevant entries before the concat operation.\n",
      "  predictions = pd.concat([predictions, temp_df], ignore_index=True)\n"
     ]
    },
    {
     "name": "stdout",
     "output_type": "stream",
     "text": [
      "Beginning forecast for 2023-08-26 00:00:00\n"
     ]
    },
    {
     "name": "stderr",
     "output_type": "stream",
     "text": [
      "/var/folders/x8/v7bmckc139v2dqcm04jgfjlr0000gn/T/ipykernel_3636/3196941531.py:11: FutureWarning: The behavior of DataFrame concatenation with empty or all-NA entries is deprecated. In a future version, this will no longer exclude empty or all-NA columns when determining the result dtypes. To retain the old behavior, exclude the relevant entries before the concat operation.\n",
      "  predictions = pd.concat([predictions, temp_df], ignore_index=True)\n",
      "/var/folders/x8/v7bmckc139v2dqcm04jgfjlr0000gn/T/ipykernel_3636/2637449371.py:65: FutureWarning: The behavior of DataFrame concatenation with empty or all-NA entries is deprecated. In a future version, this will no longer exclude empty or all-NA columns when determining the result dtypes. To retain the old behavior, exclude the relevant entries before the concat operation.\n",
      "  all_forecasts = pd.concat([all_forecasts, forecasted_temp])\n",
      "/var/folders/x8/v7bmckc139v2dqcm04jgfjlr0000gn/T/ipykernel_3636/3196941531.py:23: FutureWarning: The behavior of DataFrame concatenation with empty or all-NA entries is deprecated. In a future version, this will no longer exclude empty or all-NA columns when determining the result dtypes. To retain the old behavior, exclude the relevant entries before the concat operation.\n",
      "  predictions = pd.concat([predictions, temp_df], ignore_index=True)\n",
      "/var/folders/x8/v7bmckc139v2dqcm04jgfjlr0000gn/T/ipykernel_3636/3196941531.py:23: FutureWarning: The behavior of DataFrame concatenation with empty or all-NA entries is deprecated. In a future version, this will no longer exclude empty or all-NA columns when determining the result dtypes. To retain the old behavior, exclude the relevant entries before the concat operation.\n",
      "  predictions = pd.concat([predictions, temp_df], ignore_index=True)\n",
      "/var/folders/x8/v7bmckc139v2dqcm04jgfjlr0000gn/T/ipykernel_3636/3196941531.py:23: FutureWarning: The behavior of DataFrame concatenation with empty or all-NA entries is deprecated. In a future version, this will no longer exclude empty or all-NA columns when determining the result dtypes. To retain the old behavior, exclude the relevant entries before the concat operation.\n",
      "  predictions = pd.concat([predictions, temp_df], ignore_index=True)\n",
      "/var/folders/x8/v7bmckc139v2dqcm04jgfjlr0000gn/T/ipykernel_3636/3196941531.py:23: FutureWarning: The behavior of DataFrame concatenation with empty or all-NA entries is deprecated. In a future version, this will no longer exclude empty or all-NA columns when determining the result dtypes. To retain the old behavior, exclude the relevant entries before the concat operation.\n",
      "  predictions = pd.concat([predictions, temp_df], ignore_index=True)\n",
      "/var/folders/x8/v7bmckc139v2dqcm04jgfjlr0000gn/T/ipykernel_3636/3196941531.py:23: FutureWarning: The behavior of DataFrame concatenation with empty or all-NA entries is deprecated. In a future version, this will no longer exclude empty or all-NA columns when determining the result dtypes. To retain the old behavior, exclude the relevant entries before the concat operation.\n",
      "  predictions = pd.concat([predictions, temp_df], ignore_index=True)\n"
     ]
    },
    {
     "ename": "IndexError",
     "evalue": "positional indexers are out-of-bounds",
     "output_type": "error",
     "traceback": [
      "\u001b[0;31m---------------------------------------------------------------------------\u001b[0m",
      "\u001b[0;31mIndexError\u001b[0m                                Traceback (most recent call last)",
      "File \u001b[0;32m~/miniconda3/envs/env_NW/lib/python3.10/site-packages/pandas/core/indexing.py:1714\u001b[0m, in \u001b[0;36m_iLocIndexer._get_list_axis\u001b[0;34m(self, key, axis)\u001b[0m\n\u001b[1;32m   1713\u001b[0m \u001b[38;5;28;01mtry\u001b[39;00m:\n\u001b[0;32m-> 1714\u001b[0m     \u001b[38;5;28;01mreturn\u001b[39;00m \u001b[38;5;28;43mself\u001b[39;49m\u001b[38;5;241;43m.\u001b[39;49m\u001b[43mobj\u001b[49m\u001b[38;5;241;43m.\u001b[39;49m\u001b[43m_take_with_is_copy\u001b[49m\u001b[43m(\u001b[49m\u001b[43mkey\u001b[49m\u001b[43m,\u001b[49m\u001b[43m \u001b[49m\u001b[43maxis\u001b[49m\u001b[38;5;241;43m=\u001b[39;49m\u001b[43maxis\u001b[49m\u001b[43m)\u001b[49m\n\u001b[1;32m   1715\u001b[0m \u001b[38;5;28;01mexcept\u001b[39;00m \u001b[38;5;167;01mIndexError\u001b[39;00m \u001b[38;5;28;01mas\u001b[39;00m err:\n\u001b[1;32m   1716\u001b[0m     \u001b[38;5;66;03m# re-raise with different error message, e.g. test_getitem_ndarray_3d\u001b[39;00m\n",
      "File \u001b[0;32m~/miniconda3/envs/env_NW/lib/python3.10/site-packages/pandas/core/generic.py:4150\u001b[0m, in \u001b[0;36mNDFrame._take_with_is_copy\u001b[0;34m(self, indices, axis)\u001b[0m\n\u001b[1;32m   4141\u001b[0m \u001b[38;5;250m\u001b[39m\u001b[38;5;124;03m\"\"\"\u001b[39;00m\n\u001b[1;32m   4142\u001b[0m \u001b[38;5;124;03mInternal version of the `take` method that sets the `_is_copy`\u001b[39;00m\n\u001b[1;32m   4143\u001b[0m \u001b[38;5;124;03mattribute to keep track of the parent dataframe (using in indexing\u001b[39;00m\n\u001b[0;32m   (...)\u001b[0m\n\u001b[1;32m   4148\u001b[0m \u001b[38;5;124;03mSee the docstring of `take` for full explanation of the parameters.\u001b[39;00m\n\u001b[1;32m   4149\u001b[0m \u001b[38;5;124;03m\"\"\"\u001b[39;00m\n\u001b[0;32m-> 4150\u001b[0m result \u001b[38;5;241m=\u001b[39m \u001b[38;5;28;43mself\u001b[39;49m\u001b[38;5;241;43m.\u001b[39;49m\u001b[43mtake\u001b[49m\u001b[43m(\u001b[49m\u001b[43mindices\u001b[49m\u001b[38;5;241;43m=\u001b[39;49m\u001b[43mindices\u001b[49m\u001b[43m,\u001b[49m\u001b[43m \u001b[49m\u001b[43maxis\u001b[49m\u001b[38;5;241;43m=\u001b[39;49m\u001b[43maxis\u001b[49m\u001b[43m)\u001b[49m\n\u001b[1;32m   4151\u001b[0m \u001b[38;5;66;03m# Maybe set copy if we didn't actually change the index.\u001b[39;00m\n",
      "File \u001b[0;32m~/miniconda3/envs/env_NW/lib/python3.10/site-packages/pandas/core/generic.py:4130\u001b[0m, in \u001b[0;36mNDFrame.take\u001b[0;34m(self, indices, axis, **kwargs)\u001b[0m\n\u001b[1;32m   4126\u001b[0m     indices \u001b[38;5;241m=\u001b[39m np\u001b[38;5;241m.\u001b[39marange(\n\u001b[1;32m   4127\u001b[0m         indices\u001b[38;5;241m.\u001b[39mstart, indices\u001b[38;5;241m.\u001b[39mstop, indices\u001b[38;5;241m.\u001b[39mstep, dtype\u001b[38;5;241m=\u001b[39mnp\u001b[38;5;241m.\u001b[39mintp\n\u001b[1;32m   4128\u001b[0m     )\n\u001b[0;32m-> 4130\u001b[0m new_data \u001b[38;5;241m=\u001b[39m \u001b[38;5;28;43mself\u001b[39;49m\u001b[38;5;241;43m.\u001b[39;49m\u001b[43m_mgr\u001b[49m\u001b[38;5;241;43m.\u001b[39;49m\u001b[43mtake\u001b[49m\u001b[43m(\u001b[49m\n\u001b[1;32m   4131\u001b[0m \u001b[43m    \u001b[49m\u001b[43mindices\u001b[49m\u001b[43m,\u001b[49m\n\u001b[1;32m   4132\u001b[0m \u001b[43m    \u001b[49m\u001b[43maxis\u001b[49m\u001b[38;5;241;43m=\u001b[39;49m\u001b[38;5;28;43mself\u001b[39;49m\u001b[38;5;241;43m.\u001b[39;49m\u001b[43m_get_block_manager_axis\u001b[49m\u001b[43m(\u001b[49m\u001b[43maxis\u001b[49m\u001b[43m)\u001b[49m\u001b[43m,\u001b[49m\n\u001b[1;32m   4133\u001b[0m \u001b[43m    \u001b[49m\u001b[43mverify\u001b[49m\u001b[38;5;241;43m=\u001b[39;49m\u001b[38;5;28;43;01mTrue\u001b[39;49;00m\u001b[43m,\u001b[49m\n\u001b[1;32m   4134\u001b[0m \u001b[43m\u001b[49m\u001b[43m)\u001b[49m\n\u001b[1;32m   4135\u001b[0m \u001b[38;5;28;01mreturn\u001b[39;00m \u001b[38;5;28mself\u001b[39m\u001b[38;5;241m.\u001b[39m_constructor_from_mgr(new_data, axes\u001b[38;5;241m=\u001b[39mnew_data\u001b[38;5;241m.\u001b[39maxes)\u001b[38;5;241m.\u001b[39m__finalize__(\n\u001b[1;32m   4136\u001b[0m     \u001b[38;5;28mself\u001b[39m, method\u001b[38;5;241m=\u001b[39m\u001b[38;5;124m\"\u001b[39m\u001b[38;5;124mtake\u001b[39m\u001b[38;5;124m\"\u001b[39m\n\u001b[1;32m   4137\u001b[0m )\n",
      "File \u001b[0;32m~/miniconda3/envs/env_NW/lib/python3.10/site-packages/pandas/core/internals/managers.py:891\u001b[0m, in \u001b[0;36mBaseBlockManager.take\u001b[0;34m(self, indexer, axis, verify)\u001b[0m\n\u001b[1;32m    890\u001b[0m n \u001b[38;5;241m=\u001b[39m \u001b[38;5;28mself\u001b[39m\u001b[38;5;241m.\u001b[39mshape[axis]\n\u001b[0;32m--> 891\u001b[0m indexer \u001b[38;5;241m=\u001b[39m \u001b[43mmaybe_convert_indices\u001b[49m\u001b[43m(\u001b[49m\u001b[43mindexer\u001b[49m\u001b[43m,\u001b[49m\u001b[43m \u001b[49m\u001b[43mn\u001b[49m\u001b[43m,\u001b[49m\u001b[43m \u001b[49m\u001b[43mverify\u001b[49m\u001b[38;5;241;43m=\u001b[39;49m\u001b[43mverify\u001b[49m\u001b[43m)\u001b[49m\n\u001b[1;32m    893\u001b[0m new_labels \u001b[38;5;241m=\u001b[39m \u001b[38;5;28mself\u001b[39m\u001b[38;5;241m.\u001b[39maxes[axis]\u001b[38;5;241m.\u001b[39mtake(indexer)\n",
      "File \u001b[0;32m~/miniconda3/envs/env_NW/lib/python3.10/site-packages/pandas/core/indexers/utils.py:282\u001b[0m, in \u001b[0;36mmaybe_convert_indices\u001b[0;34m(indices, n, verify)\u001b[0m\n\u001b[1;32m    281\u001b[0m     \u001b[38;5;28;01mif\u001b[39;00m mask\u001b[38;5;241m.\u001b[39many():\n\u001b[0;32m--> 282\u001b[0m         \u001b[38;5;28;01mraise\u001b[39;00m \u001b[38;5;167;01mIndexError\u001b[39;00m(\u001b[38;5;124m\"\u001b[39m\u001b[38;5;124mindices are out-of-bounds\u001b[39m\u001b[38;5;124m\"\u001b[39m)\n\u001b[1;32m    283\u001b[0m \u001b[38;5;28;01mreturn\u001b[39;00m indices\n",
      "\u001b[0;31mIndexError\u001b[0m: indices are out-of-bounds",
      "\nThe above exception was the direct cause of the following exception:\n",
      "\u001b[0;31mIndexError\u001b[0m                                Traceback (most recent call last)",
      "Cell \u001b[0;32mIn[8], line 8\u001b[0m\n\u001b[1;32m      6\u001b[0m date \u001b[38;5;241m=\u001b[39m d\u001b[38;5;241m.\u001b[39mstrftime(\u001b[38;5;124m\"\u001b[39m\u001b[38;5;124m%\u001b[39m\u001b[38;5;124mY-\u001b[39m\u001b[38;5;124m%\u001b[39m\u001b[38;5;124mm-\u001b[39m\u001b[38;5;132;01m%d\u001b[39;00m\u001b[38;5;124m\"\u001b[39m)\n\u001b[1;32m      7\u001b[0m \u001b[38;5;66;03m# make the forecast\u001b[39;00m\n\u001b[0;32m----> 8\u001b[0m forecast \u001b[38;5;241m=\u001b[39m \u001b[43mmake_seven_day_forecast_control\u001b[49m\u001b[43m(\u001b[49m\u001b[43md\u001b[49m\u001b[43m)\u001b[49m\n\u001b[1;32m      9\u001b[0m \u001b[38;5;66;03m# calculate the values back from the transformed values\u001b[39;00m\n\u001b[1;32m     10\u001b[0m one_meter_transformed \u001b[38;5;241m=\u001b[39m calculate_vals(forecast[\u001b[38;5;124m\"\u001b[39m\u001b[38;5;124mmean_1m_temp_degC\u001b[39m\u001b[38;5;124m\"\u001b[39m], mean_std\u001b[38;5;241m.\u001b[39mloc[\u001b[38;5;124m\"\u001b[39m\u001b[38;5;124mmean_1m_temp_degC\u001b[39m\u001b[38;5;124m\"\u001b[39m, \u001b[38;5;124m\"\u001b[39m\u001b[38;5;124mmean\u001b[39m\u001b[38;5;124m\"\u001b[39m], mean_std\u001b[38;5;241m.\u001b[39mloc[\u001b[38;5;124m\"\u001b[39m\u001b[38;5;124mmean_1m_temp_degC\u001b[39m\u001b[38;5;124m\"\u001b[39m, \u001b[38;5;124m\"\u001b[39m\u001b[38;5;124mstd\u001b[39m\u001b[38;5;124m\"\u001b[39m])\n",
      "Cell \u001b[0;32mIn[7], line 60\u001b[0m, in \u001b[0;36mmake_seven_day_forecast_control\u001b[0;34m(date)\u001b[0m\n\u001b[1;32m     57\u001b[0m     to_forecast \u001b[38;5;241m=\u001b[39m to_forecast[forecast_cols_less]\n\u001b[1;32m     59\u001b[0m     \u001b[38;5;66;03m# and now forecast on that data\u001b[39;00m\n\u001b[0;32m---> 60\u001b[0m     forecasted_temp \u001b[38;5;241m=\u001b[39m (\u001b[43mmake_forecast_by_model\u001b[49m\u001b[43m(\u001b[49m\u001b[43mto_forecast\u001b[49m\u001b[43m,\u001b[49m\u001b[43m \u001b[49m\n\u001b[1;32m     61\u001b[0m \u001b[43m                                             \u001b[49m\u001b[43m[\u001b[49m\u001b[43mmodel_1\u001b[49m\u001b[43m,\u001b[49m\u001b[43m \u001b[49m\u001b[43mmodel_2\u001b[49m\u001b[43m,\u001b[49m\u001b[43m \u001b[49m\u001b[43mmodel_3\u001b[49m\u001b[43m,\u001b[49m\u001b[43m \u001b[49m\u001b[43mmodel_4\u001b[49m\u001b[43m,\u001b[49m\u001b[43m \u001b[49m\u001b[43mmodel_5\u001b[49m\u001b[43m,\u001b[49m\u001b[43m \u001b[49m\u001b[43mmodel_6\u001b[49m\u001b[43m,\u001b[49m\u001b[43m \u001b[49m\u001b[43mmodel_7\u001b[49m\u001b[43m,\u001b[49m\u001b[43m \u001b[49m\u001b[43mmodel_8\u001b[49m\u001b[43m,\u001b[49m\u001b[43m \u001b[49m\u001b[43mmodel_9\u001b[49m\u001b[43m]\u001b[49m\u001b[43m,\u001b[49m\u001b[43m \u001b[49m\n\u001b[1;32m     62\u001b[0m \u001b[43m                                             \u001b[49m\u001b[43mvalid_date\u001b[49m\u001b[43m)\u001b[49m)\n\u001b[1;32m     64\u001b[0m \u001b[38;5;66;03m# append the forecasted data to the all_forecasts dataframe\u001b[39;00m\n\u001b[1;32m     65\u001b[0m all_forecasts \u001b[38;5;241m=\u001b[39m pd\u001b[38;5;241m.\u001b[39mconcat([all_forecasts, forecasted_temp])\n",
      "Cell \u001b[0;32mIn[6], line 18\u001b[0m, in \u001b[0;36mmake_forecast_by_model\u001b[0;34m(features, models, valid_date)\u001b[0m\n\u001b[1;32m     16\u001b[0m \u001b[38;5;28;01mfor\u001b[39;00m i, model \u001b[38;5;129;01min\u001b[39;00m \u001b[38;5;28menumerate\u001b[39m(models, start\u001b[38;5;241m=\u001b[39m\u001b[38;5;241m1\u001b[39m):\n\u001b[1;32m     17\u001b[0m     preds \u001b[38;5;241m=\u001b[39m {}\n\u001b[0;32m---> 18\u001b[0m     model_features \u001b[38;5;241m=\u001b[39m \u001b[43mfeatures\u001b[49m\u001b[38;5;241;43m.\u001b[39;49m\u001b[43miloc\u001b[49m\u001b[43m[\u001b[49m\u001b[43m[\u001b[49m\u001b[43mi\u001b[49m\u001b[38;5;241;43m-\u001b[39;49m\u001b[38;5;241;43m1\u001b[39;49m\u001b[43m]\u001b[49m\u001b[43m]\u001b[49m\n\u001b[1;32m     19\u001b[0m     preds \u001b[38;5;241m=\u001b[39m model\u001b[38;5;241m.\u001b[39mpredict(model_features)\n\u001b[1;32m     20\u001b[0m     temp_df \u001b[38;5;241m=\u001b[39m pd\u001b[38;5;241m.\u001b[39mDataFrame(preds, columns\u001b[38;5;241m=\u001b[39m[\u001b[38;5;124m'\u001b[39m\u001b[38;5;124mmean_1m_temp_degC\u001b[39m\u001b[38;5;124m'\u001b[39m, \u001b[38;5;124m'\u001b[39m\u001b[38;5;124mmean_0_5m_temp_degC\u001b[39m\u001b[38;5;124m'\u001b[39m])\n",
      "File \u001b[0;32m~/miniconda3/envs/env_NW/lib/python3.10/site-packages/pandas/core/indexing.py:1191\u001b[0m, in \u001b[0;36m_LocationIndexer.__getitem__\u001b[0;34m(self, key)\u001b[0m\n\u001b[1;32m   1189\u001b[0m maybe_callable \u001b[38;5;241m=\u001b[39m com\u001b[38;5;241m.\u001b[39mapply_if_callable(key, \u001b[38;5;28mself\u001b[39m\u001b[38;5;241m.\u001b[39mobj)\n\u001b[1;32m   1190\u001b[0m maybe_callable \u001b[38;5;241m=\u001b[39m \u001b[38;5;28mself\u001b[39m\u001b[38;5;241m.\u001b[39m_check_deprecated_callable_usage(key, maybe_callable)\n\u001b[0;32m-> 1191\u001b[0m \u001b[38;5;28;01mreturn\u001b[39;00m \u001b[38;5;28;43mself\u001b[39;49m\u001b[38;5;241;43m.\u001b[39;49m\u001b[43m_getitem_axis\u001b[49m\u001b[43m(\u001b[49m\u001b[43mmaybe_callable\u001b[49m\u001b[43m,\u001b[49m\u001b[43m \u001b[49m\u001b[43maxis\u001b[49m\u001b[38;5;241;43m=\u001b[39;49m\u001b[43maxis\u001b[49m\u001b[43m)\u001b[49m\n",
      "File \u001b[0;32m~/miniconda3/envs/env_NW/lib/python3.10/site-packages/pandas/core/indexing.py:1743\u001b[0m, in \u001b[0;36m_iLocIndexer._getitem_axis\u001b[0;34m(self, key, axis)\u001b[0m\n\u001b[1;32m   1741\u001b[0m \u001b[38;5;66;03m# a list of integers\u001b[39;00m\n\u001b[1;32m   1742\u001b[0m \u001b[38;5;28;01melif\u001b[39;00m is_list_like_indexer(key):\n\u001b[0;32m-> 1743\u001b[0m     \u001b[38;5;28;01mreturn\u001b[39;00m \u001b[38;5;28;43mself\u001b[39;49m\u001b[38;5;241;43m.\u001b[39;49m\u001b[43m_get_list_axis\u001b[49m\u001b[43m(\u001b[49m\u001b[43mkey\u001b[49m\u001b[43m,\u001b[49m\u001b[43m \u001b[49m\u001b[43maxis\u001b[49m\u001b[38;5;241;43m=\u001b[39;49m\u001b[43maxis\u001b[49m\u001b[43m)\u001b[49m\n\u001b[1;32m   1745\u001b[0m \u001b[38;5;66;03m# a single integer\u001b[39;00m\n\u001b[1;32m   1746\u001b[0m \u001b[38;5;28;01melse\u001b[39;00m:\n\u001b[1;32m   1747\u001b[0m     key \u001b[38;5;241m=\u001b[39m item_from_zerodim(key)\n",
      "File \u001b[0;32m~/miniconda3/envs/env_NW/lib/python3.10/site-packages/pandas/core/indexing.py:1717\u001b[0m, in \u001b[0;36m_iLocIndexer._get_list_axis\u001b[0;34m(self, key, axis)\u001b[0m\n\u001b[1;32m   1714\u001b[0m     \u001b[38;5;28;01mreturn\u001b[39;00m \u001b[38;5;28mself\u001b[39m\u001b[38;5;241m.\u001b[39mobj\u001b[38;5;241m.\u001b[39m_take_with_is_copy(key, axis\u001b[38;5;241m=\u001b[39maxis)\n\u001b[1;32m   1715\u001b[0m \u001b[38;5;28;01mexcept\u001b[39;00m \u001b[38;5;167;01mIndexError\u001b[39;00m \u001b[38;5;28;01mas\u001b[39;00m err:\n\u001b[1;32m   1716\u001b[0m     \u001b[38;5;66;03m# re-raise with different error message, e.g. test_getitem_ndarray_3d\u001b[39;00m\n\u001b[0;32m-> 1717\u001b[0m     \u001b[38;5;28;01mraise\u001b[39;00m \u001b[38;5;167;01mIndexError\u001b[39;00m(\u001b[38;5;124m\"\u001b[39m\u001b[38;5;124mpositional indexers are out-of-bounds\u001b[39m\u001b[38;5;124m\"\u001b[39m) \u001b[38;5;28;01mfrom\u001b[39;00m \u001b[38;5;21;01merr\u001b[39;00m\n",
      "\u001b[0;31mIndexError\u001b[0m: positional indexers are out-of-bounds"
     ]
    }
   ],
   "source": [
    "datesequence = pd.date_range(start=\"2023-06-01\", end=\"2023-09-01\", freq=\"1D\")\n",
    "mean_std = pd.read_csv(os.path.join(data_dir, \"mean_std_train_val_summary_t2023_v2024-11-29.csv\"))\n",
    "mean_std = mean_std.set_index(\"Unnamed: 0\")\n",
    "\n",
    "for d in datesequence:\n",
    "    date = d.strftime(\"%Y-%m-%d\")\n",
    "    # make the forecast\n",
    "    forecast = make_seven_day_forecast_control(d)\n",
    "    # calculate the values back from the transformed values\n",
    "    one_meter_transformed = calculate_vals(forecast[\"mean_1m_temp_degC\"], mean_std.loc[\"mean_1m_temp_degC\", \"mean\"], mean_std.loc[\"mean_1m_temp_degC\", \"std\"])\n",
    "    forecast[\"mean_1m_temp_degC\"] = np.sqrt(one_meter_transformed)\n",
    "    forecast[\"mean_0_5m_temp_degC\"] = calculate_vals(forecast[\"mean_0_5m_temp_degC\"], mean_std.loc[\"mean_0_5m_temp_degC\", \"mean\"], mean_std.loc[\"mean_0_5m_temp_degC\", \"std\"])\n",
    "    # save the forecast\n",
    "    forecast.to_csv(f\"~/Documents/GitHub/ats-data-driven-forecasting/run-operational/output/control/{date}_seven_day_control.csv\", index=False)\n",
    "    "
   ]
  },
  {
   "cell_type": "code",
   "execution_count": 10,
   "metadata": {},
   "outputs": [
    {
     "name": "stdout",
     "output_type": "stream",
     "text": [
      "Beginning forecast for 2023-09-06 00:00:00\n"
     ]
    },
    {
     "name": "stderr",
     "output_type": "stream",
     "text": [
      "/var/folders/x8/v7bmckc139v2dqcm04jgfjlr0000gn/T/ipykernel_3636/3196941531.py:11: FutureWarning: The behavior of DataFrame concatenation with empty or all-NA entries is deprecated. In a future version, this will no longer exclude empty or all-NA columns when determining the result dtypes. To retain the old behavior, exclude the relevant entries before the concat operation.\n",
      "  predictions = pd.concat([predictions, temp_df], ignore_index=True)\n",
      "/var/folders/x8/v7bmckc139v2dqcm04jgfjlr0000gn/T/ipykernel_3636/2637449371.py:65: FutureWarning: The behavior of DataFrame concatenation with empty or all-NA entries is deprecated. In a future version, this will no longer exclude empty or all-NA columns when determining the result dtypes. To retain the old behavior, exclude the relevant entries before the concat operation.\n",
      "  all_forecasts = pd.concat([all_forecasts, forecasted_temp])\n",
      "/var/folders/x8/v7bmckc139v2dqcm04jgfjlr0000gn/T/ipykernel_3636/3196941531.py:23: FutureWarning: The behavior of DataFrame concatenation with empty or all-NA entries is deprecated. In a future version, this will no longer exclude empty or all-NA columns when determining the result dtypes. To retain the old behavior, exclude the relevant entries before the concat operation.\n",
      "  predictions = pd.concat([predictions, temp_df], ignore_index=True)\n",
      "/var/folders/x8/v7bmckc139v2dqcm04jgfjlr0000gn/T/ipykernel_3636/3196941531.py:23: FutureWarning: The behavior of DataFrame concatenation with empty or all-NA entries is deprecated. In a future version, this will no longer exclude empty or all-NA columns when determining the result dtypes. To retain the old behavior, exclude the relevant entries before the concat operation.\n",
      "  predictions = pd.concat([predictions, temp_df], ignore_index=True)\n",
      "/var/folders/x8/v7bmckc139v2dqcm04jgfjlr0000gn/T/ipykernel_3636/3196941531.py:23: FutureWarning: The behavior of DataFrame concatenation with empty or all-NA entries is deprecated. In a future version, this will no longer exclude empty or all-NA columns when determining the result dtypes. To retain the old behavior, exclude the relevant entries before the concat operation.\n",
      "  predictions = pd.concat([predictions, temp_df], ignore_index=True)\n",
      "/var/folders/x8/v7bmckc139v2dqcm04jgfjlr0000gn/T/ipykernel_3636/3196941531.py:23: FutureWarning: The behavior of DataFrame concatenation with empty or all-NA entries is deprecated. In a future version, this will no longer exclude empty or all-NA columns when determining the result dtypes. To retain the old behavior, exclude the relevant entries before the concat operation.\n",
      "  predictions = pd.concat([predictions, temp_df], ignore_index=True)\n",
      "/var/folders/x8/v7bmckc139v2dqcm04jgfjlr0000gn/T/ipykernel_3636/3196941531.py:23: FutureWarning: The behavior of DataFrame concatenation with empty or all-NA entries is deprecated. In a future version, this will no longer exclude empty or all-NA columns when determining the result dtypes. To retain the old behavior, exclude the relevant entries before the concat operation.\n",
      "  predictions = pd.concat([predictions, temp_df], ignore_index=True)\n",
      "/var/folders/x8/v7bmckc139v2dqcm04jgfjlr0000gn/T/ipykernel_3636/3196941531.py:23: FutureWarning: The behavior of DataFrame concatenation with empty or all-NA entries is deprecated. In a future version, this will no longer exclude empty or all-NA columns when determining the result dtypes. To retain the old behavior, exclude the relevant entries before the concat operation.\n",
      "  predictions = pd.concat([predictions, temp_df], ignore_index=True)\n",
      "/var/folders/x8/v7bmckc139v2dqcm04jgfjlr0000gn/T/ipykernel_3636/3196941531.py:11: FutureWarning: The behavior of DataFrame concatenation with empty or all-NA entries is deprecated. In a future version, this will no longer exclude empty or all-NA columns when determining the result dtypes. To retain the old behavior, exclude the relevant entries before the concat operation.\n",
      "  predictions = pd.concat([predictions, temp_df], ignore_index=True)\n"
     ]
    },
    {
     "name": "stdout",
     "output_type": "stream",
     "text": [
      "Beginning forecast for 2023-09-07 00:00:00\n"
     ]
    },
    {
     "name": "stderr",
     "output_type": "stream",
     "text": [
      "/var/folders/x8/v7bmckc139v2dqcm04jgfjlr0000gn/T/ipykernel_3636/2637449371.py:65: FutureWarning: The behavior of DataFrame concatenation with empty or all-NA entries is deprecated. In a future version, this will no longer exclude empty or all-NA columns when determining the result dtypes. To retain the old behavior, exclude the relevant entries before the concat operation.\n",
      "  all_forecasts = pd.concat([all_forecasts, forecasted_temp])\n",
      "/var/folders/x8/v7bmckc139v2dqcm04jgfjlr0000gn/T/ipykernel_3636/3196941531.py:23: FutureWarning: The behavior of DataFrame concatenation with empty or all-NA entries is deprecated. In a future version, this will no longer exclude empty or all-NA columns when determining the result dtypes. To retain the old behavior, exclude the relevant entries before the concat operation.\n",
      "  predictions = pd.concat([predictions, temp_df], ignore_index=True)\n",
      "/var/folders/x8/v7bmckc139v2dqcm04jgfjlr0000gn/T/ipykernel_3636/3196941531.py:23: FutureWarning: The behavior of DataFrame concatenation with empty or all-NA entries is deprecated. In a future version, this will no longer exclude empty or all-NA columns when determining the result dtypes. To retain the old behavior, exclude the relevant entries before the concat operation.\n",
      "  predictions = pd.concat([predictions, temp_df], ignore_index=True)\n",
      "/var/folders/x8/v7bmckc139v2dqcm04jgfjlr0000gn/T/ipykernel_3636/3196941531.py:23: FutureWarning: The behavior of DataFrame concatenation with empty or all-NA entries is deprecated. In a future version, this will no longer exclude empty or all-NA columns when determining the result dtypes. To retain the old behavior, exclude the relevant entries before the concat operation.\n",
      "  predictions = pd.concat([predictions, temp_df], ignore_index=True)\n",
      "/var/folders/x8/v7bmckc139v2dqcm04jgfjlr0000gn/T/ipykernel_3636/3196941531.py:23: FutureWarning: The behavior of DataFrame concatenation with empty or all-NA entries is deprecated. In a future version, this will no longer exclude empty or all-NA columns when determining the result dtypes. To retain the old behavior, exclude the relevant entries before the concat operation.\n",
      "  predictions = pd.concat([predictions, temp_df], ignore_index=True)\n",
      "/var/folders/x8/v7bmckc139v2dqcm04jgfjlr0000gn/T/ipykernel_3636/3196941531.py:23: FutureWarning: The behavior of DataFrame concatenation with empty or all-NA entries is deprecated. In a future version, this will no longer exclude empty or all-NA columns when determining the result dtypes. To retain the old behavior, exclude the relevant entries before the concat operation.\n",
      "  predictions = pd.concat([predictions, temp_df], ignore_index=True)\n",
      "/var/folders/x8/v7bmckc139v2dqcm04jgfjlr0000gn/T/ipykernel_3636/3196941531.py:23: FutureWarning: The behavior of DataFrame concatenation with empty or all-NA entries is deprecated. In a future version, this will no longer exclude empty or all-NA columns when determining the result dtypes. To retain the old behavior, exclude the relevant entries before the concat operation.\n",
      "  predictions = pd.concat([predictions, temp_df], ignore_index=True)\n"
     ]
    },
    {
     "name": "stdout",
     "output_type": "stream",
     "text": [
      "Beginning forecast for 2023-09-08 00:00:00\n"
     ]
    },
    {
     "name": "stderr",
     "output_type": "stream",
     "text": [
      "/var/folders/x8/v7bmckc139v2dqcm04jgfjlr0000gn/T/ipykernel_3636/3196941531.py:11: FutureWarning: The behavior of DataFrame concatenation with empty or all-NA entries is deprecated. In a future version, this will no longer exclude empty or all-NA columns when determining the result dtypes. To retain the old behavior, exclude the relevant entries before the concat operation.\n",
      "  predictions = pd.concat([predictions, temp_df], ignore_index=True)\n",
      "/var/folders/x8/v7bmckc139v2dqcm04jgfjlr0000gn/T/ipykernel_3636/2637449371.py:65: FutureWarning: The behavior of DataFrame concatenation with empty or all-NA entries is deprecated. In a future version, this will no longer exclude empty or all-NA columns when determining the result dtypes. To retain the old behavior, exclude the relevant entries before the concat operation.\n",
      "  all_forecasts = pd.concat([all_forecasts, forecasted_temp])\n",
      "/var/folders/x8/v7bmckc139v2dqcm04jgfjlr0000gn/T/ipykernel_3636/3196941531.py:23: FutureWarning: The behavior of DataFrame concatenation with empty or all-NA entries is deprecated. In a future version, this will no longer exclude empty or all-NA columns when determining the result dtypes. To retain the old behavior, exclude the relevant entries before the concat operation.\n",
      "  predictions = pd.concat([predictions, temp_df], ignore_index=True)\n",
      "/var/folders/x8/v7bmckc139v2dqcm04jgfjlr0000gn/T/ipykernel_3636/3196941531.py:23: FutureWarning: The behavior of DataFrame concatenation with empty or all-NA entries is deprecated. In a future version, this will no longer exclude empty or all-NA columns when determining the result dtypes. To retain the old behavior, exclude the relevant entries before the concat operation.\n",
      "  predictions = pd.concat([predictions, temp_df], ignore_index=True)\n",
      "/var/folders/x8/v7bmckc139v2dqcm04jgfjlr0000gn/T/ipykernel_3636/3196941531.py:23: FutureWarning: The behavior of DataFrame concatenation with empty or all-NA entries is deprecated. In a future version, this will no longer exclude empty or all-NA columns when determining the result dtypes. To retain the old behavior, exclude the relevant entries before the concat operation.\n",
      "  predictions = pd.concat([predictions, temp_df], ignore_index=True)\n",
      "/var/folders/x8/v7bmckc139v2dqcm04jgfjlr0000gn/T/ipykernel_3636/3196941531.py:23: FutureWarning: The behavior of DataFrame concatenation with empty or all-NA entries is deprecated. In a future version, this will no longer exclude empty or all-NA columns when determining the result dtypes. To retain the old behavior, exclude the relevant entries before the concat operation.\n",
      "  predictions = pd.concat([predictions, temp_df], ignore_index=True)\n",
      "/var/folders/x8/v7bmckc139v2dqcm04jgfjlr0000gn/T/ipykernel_3636/3196941531.py:23: FutureWarning: The behavior of DataFrame concatenation with empty or all-NA entries is deprecated. In a future version, this will no longer exclude empty or all-NA columns when determining the result dtypes. To retain the old behavior, exclude the relevant entries before the concat operation.\n",
      "  predictions = pd.concat([predictions, temp_df], ignore_index=True)\n",
      "/var/folders/x8/v7bmckc139v2dqcm04jgfjlr0000gn/T/ipykernel_3636/3196941531.py:23: FutureWarning: The behavior of DataFrame concatenation with empty or all-NA entries is deprecated. In a future version, this will no longer exclude empty or all-NA columns when determining the result dtypes. To retain the old behavior, exclude the relevant entries before the concat operation.\n",
      "  predictions = pd.concat([predictions, temp_df], ignore_index=True)\n",
      "/var/folders/x8/v7bmckc139v2dqcm04jgfjlr0000gn/T/ipykernel_3636/3196941531.py:11: FutureWarning: The behavior of DataFrame concatenation with empty or all-NA entries is deprecated. In a future version, this will no longer exclude empty or all-NA columns when determining the result dtypes. To retain the old behavior, exclude the relevant entries before the concat operation.\n",
      "  predictions = pd.concat([predictions, temp_df], ignore_index=True)\n"
     ]
    },
    {
     "name": "stdout",
     "output_type": "stream",
     "text": [
      "Beginning forecast for 2023-09-09 00:00:00\n"
     ]
    },
    {
     "name": "stderr",
     "output_type": "stream",
     "text": [
      "/var/folders/x8/v7bmckc139v2dqcm04jgfjlr0000gn/T/ipykernel_3636/2637449371.py:65: FutureWarning: The behavior of DataFrame concatenation with empty or all-NA entries is deprecated. In a future version, this will no longer exclude empty or all-NA columns when determining the result dtypes. To retain the old behavior, exclude the relevant entries before the concat operation.\n",
      "  all_forecasts = pd.concat([all_forecasts, forecasted_temp])\n",
      "/var/folders/x8/v7bmckc139v2dqcm04jgfjlr0000gn/T/ipykernel_3636/3196941531.py:23: FutureWarning: The behavior of DataFrame concatenation with empty or all-NA entries is deprecated. In a future version, this will no longer exclude empty or all-NA columns when determining the result dtypes. To retain the old behavior, exclude the relevant entries before the concat operation.\n",
      "  predictions = pd.concat([predictions, temp_df], ignore_index=True)\n",
      "/var/folders/x8/v7bmckc139v2dqcm04jgfjlr0000gn/T/ipykernel_3636/3196941531.py:23: FutureWarning: The behavior of DataFrame concatenation with empty or all-NA entries is deprecated. In a future version, this will no longer exclude empty or all-NA columns when determining the result dtypes. To retain the old behavior, exclude the relevant entries before the concat operation.\n",
      "  predictions = pd.concat([predictions, temp_df], ignore_index=True)\n",
      "/var/folders/x8/v7bmckc139v2dqcm04jgfjlr0000gn/T/ipykernel_3636/3196941531.py:23: FutureWarning: The behavior of DataFrame concatenation with empty or all-NA entries is deprecated. In a future version, this will no longer exclude empty or all-NA columns when determining the result dtypes. To retain the old behavior, exclude the relevant entries before the concat operation.\n",
      "  predictions = pd.concat([predictions, temp_df], ignore_index=True)\n",
      "/var/folders/x8/v7bmckc139v2dqcm04jgfjlr0000gn/T/ipykernel_3636/3196941531.py:23: FutureWarning: The behavior of DataFrame concatenation with empty or all-NA entries is deprecated. In a future version, this will no longer exclude empty or all-NA columns when determining the result dtypes. To retain the old behavior, exclude the relevant entries before the concat operation.\n",
      "  predictions = pd.concat([predictions, temp_df], ignore_index=True)\n",
      "/var/folders/x8/v7bmckc139v2dqcm04jgfjlr0000gn/T/ipykernel_3636/3196941531.py:23: FutureWarning: The behavior of DataFrame concatenation with empty or all-NA entries is deprecated. In a future version, this will no longer exclude empty or all-NA columns when determining the result dtypes. To retain the old behavior, exclude the relevant entries before the concat operation.\n",
      "  predictions = pd.concat([predictions, temp_df], ignore_index=True)\n",
      "/var/folders/x8/v7bmckc139v2dqcm04jgfjlr0000gn/T/ipykernel_3636/3196941531.py:23: FutureWarning: The behavior of DataFrame concatenation with empty or all-NA entries is deprecated. In a future version, this will no longer exclude empty or all-NA columns when determining the result dtypes. To retain the old behavior, exclude the relevant entries before the concat operation.\n",
      "  predictions = pd.concat([predictions, temp_df], ignore_index=True)\n",
      "/var/folders/x8/v7bmckc139v2dqcm04jgfjlr0000gn/T/ipykernel_3636/3196941531.py:11: FutureWarning: The behavior of DataFrame concatenation with empty or all-NA entries is deprecated. In a future version, this will no longer exclude empty or all-NA columns when determining the result dtypes. To retain the old behavior, exclude the relevant entries before the concat operation.\n",
      "  predictions = pd.concat([predictions, temp_df], ignore_index=True)\n"
     ]
    },
    {
     "name": "stdout",
     "output_type": "stream",
     "text": [
      "Beginning forecast for 2023-09-10 00:00:00\n"
     ]
    },
    {
     "name": "stderr",
     "output_type": "stream",
     "text": [
      "/var/folders/x8/v7bmckc139v2dqcm04jgfjlr0000gn/T/ipykernel_3636/2637449371.py:65: FutureWarning: The behavior of DataFrame concatenation with empty or all-NA entries is deprecated. In a future version, this will no longer exclude empty or all-NA columns when determining the result dtypes. To retain the old behavior, exclude the relevant entries before the concat operation.\n",
      "  all_forecasts = pd.concat([all_forecasts, forecasted_temp])\n",
      "/var/folders/x8/v7bmckc139v2dqcm04jgfjlr0000gn/T/ipykernel_3636/3196941531.py:23: FutureWarning: The behavior of DataFrame concatenation with empty or all-NA entries is deprecated. In a future version, this will no longer exclude empty or all-NA columns when determining the result dtypes. To retain the old behavior, exclude the relevant entries before the concat operation.\n",
      "  predictions = pd.concat([predictions, temp_df], ignore_index=True)\n",
      "/var/folders/x8/v7bmckc139v2dqcm04jgfjlr0000gn/T/ipykernel_3636/3196941531.py:23: FutureWarning: The behavior of DataFrame concatenation with empty or all-NA entries is deprecated. In a future version, this will no longer exclude empty or all-NA columns when determining the result dtypes. To retain the old behavior, exclude the relevant entries before the concat operation.\n",
      "  predictions = pd.concat([predictions, temp_df], ignore_index=True)\n",
      "/var/folders/x8/v7bmckc139v2dqcm04jgfjlr0000gn/T/ipykernel_3636/3196941531.py:23: FutureWarning: The behavior of DataFrame concatenation with empty or all-NA entries is deprecated. In a future version, this will no longer exclude empty or all-NA columns when determining the result dtypes. To retain the old behavior, exclude the relevant entries before the concat operation.\n",
      "  predictions = pd.concat([predictions, temp_df], ignore_index=True)\n",
      "/var/folders/x8/v7bmckc139v2dqcm04jgfjlr0000gn/T/ipykernel_3636/3196941531.py:23: FutureWarning: The behavior of DataFrame concatenation with empty or all-NA entries is deprecated. In a future version, this will no longer exclude empty or all-NA columns when determining the result dtypes. To retain the old behavior, exclude the relevant entries before the concat operation.\n",
      "  predictions = pd.concat([predictions, temp_df], ignore_index=True)\n",
      "/var/folders/x8/v7bmckc139v2dqcm04jgfjlr0000gn/T/ipykernel_3636/3196941531.py:23: FutureWarning: The behavior of DataFrame concatenation with empty or all-NA entries is deprecated. In a future version, this will no longer exclude empty or all-NA columns when determining the result dtypes. To retain the old behavior, exclude the relevant entries before the concat operation.\n",
      "  predictions = pd.concat([predictions, temp_df], ignore_index=True)\n",
      "/var/folders/x8/v7bmckc139v2dqcm04jgfjlr0000gn/T/ipykernel_3636/3196941531.py:23: FutureWarning: The behavior of DataFrame concatenation with empty or all-NA entries is deprecated. In a future version, this will no longer exclude empty or all-NA columns when determining the result dtypes. To retain the old behavior, exclude the relevant entries before the concat operation.\n",
      "  predictions = pd.concat([predictions, temp_df], ignore_index=True)\n",
      "/var/folders/x8/v7bmckc139v2dqcm04jgfjlr0000gn/T/ipykernel_3636/3196941531.py:11: FutureWarning: The behavior of DataFrame concatenation with empty or all-NA entries is deprecated. In a future version, this will no longer exclude empty or all-NA columns when determining the result dtypes. To retain the old behavior, exclude the relevant entries before the concat operation.\n",
      "  predictions = pd.concat([predictions, temp_df], ignore_index=True)\n"
     ]
    },
    {
     "name": "stdout",
     "output_type": "stream",
     "text": [
      "Beginning forecast for 2023-09-11 00:00:00\n"
     ]
    },
    {
     "name": "stderr",
     "output_type": "stream",
     "text": [
      "/var/folders/x8/v7bmckc139v2dqcm04jgfjlr0000gn/T/ipykernel_3636/2637449371.py:65: FutureWarning: The behavior of DataFrame concatenation with empty or all-NA entries is deprecated. In a future version, this will no longer exclude empty or all-NA columns when determining the result dtypes. To retain the old behavior, exclude the relevant entries before the concat operation.\n",
      "  all_forecasts = pd.concat([all_forecasts, forecasted_temp])\n",
      "/var/folders/x8/v7bmckc139v2dqcm04jgfjlr0000gn/T/ipykernel_3636/3196941531.py:23: FutureWarning: The behavior of DataFrame concatenation with empty or all-NA entries is deprecated. In a future version, this will no longer exclude empty or all-NA columns when determining the result dtypes. To retain the old behavior, exclude the relevant entries before the concat operation.\n",
      "  predictions = pd.concat([predictions, temp_df], ignore_index=True)\n",
      "/var/folders/x8/v7bmckc139v2dqcm04jgfjlr0000gn/T/ipykernel_3636/3196941531.py:23: FutureWarning: The behavior of DataFrame concatenation with empty or all-NA entries is deprecated. In a future version, this will no longer exclude empty or all-NA columns when determining the result dtypes. To retain the old behavior, exclude the relevant entries before the concat operation.\n",
      "  predictions = pd.concat([predictions, temp_df], ignore_index=True)\n",
      "/var/folders/x8/v7bmckc139v2dqcm04jgfjlr0000gn/T/ipykernel_3636/3196941531.py:23: FutureWarning: The behavior of DataFrame concatenation with empty or all-NA entries is deprecated. In a future version, this will no longer exclude empty or all-NA columns when determining the result dtypes. To retain the old behavior, exclude the relevant entries before the concat operation.\n",
      "  predictions = pd.concat([predictions, temp_df], ignore_index=True)\n",
      "/var/folders/x8/v7bmckc139v2dqcm04jgfjlr0000gn/T/ipykernel_3636/3196941531.py:23: FutureWarning: The behavior of DataFrame concatenation with empty or all-NA entries is deprecated. In a future version, this will no longer exclude empty or all-NA columns when determining the result dtypes. To retain the old behavior, exclude the relevant entries before the concat operation.\n",
      "  predictions = pd.concat([predictions, temp_df], ignore_index=True)\n",
      "/var/folders/x8/v7bmckc139v2dqcm04jgfjlr0000gn/T/ipykernel_3636/3196941531.py:23: FutureWarning: The behavior of DataFrame concatenation with empty or all-NA entries is deprecated. In a future version, this will no longer exclude empty or all-NA columns when determining the result dtypes. To retain the old behavior, exclude the relevant entries before the concat operation.\n",
      "  predictions = pd.concat([predictions, temp_df], ignore_index=True)\n",
      "/var/folders/x8/v7bmckc139v2dqcm04jgfjlr0000gn/T/ipykernel_3636/3196941531.py:23: FutureWarning: The behavior of DataFrame concatenation with empty or all-NA entries is deprecated. In a future version, this will no longer exclude empty or all-NA columns when determining the result dtypes. To retain the old behavior, exclude the relevant entries before the concat operation.\n",
      "  predictions = pd.concat([predictions, temp_df], ignore_index=True)\n"
     ]
    },
    {
     "name": "stdout",
     "output_type": "stream",
     "text": [
      "Beginning forecast for 2023-09-12 00:00:00\n"
     ]
    },
    {
     "name": "stderr",
     "output_type": "stream",
     "text": [
      "/var/folders/x8/v7bmckc139v2dqcm04jgfjlr0000gn/T/ipykernel_3636/3196941531.py:11: FutureWarning: The behavior of DataFrame concatenation with empty or all-NA entries is deprecated. In a future version, this will no longer exclude empty or all-NA columns when determining the result dtypes. To retain the old behavior, exclude the relevant entries before the concat operation.\n",
      "  predictions = pd.concat([predictions, temp_df], ignore_index=True)\n",
      "/var/folders/x8/v7bmckc139v2dqcm04jgfjlr0000gn/T/ipykernel_3636/2637449371.py:65: FutureWarning: The behavior of DataFrame concatenation with empty or all-NA entries is deprecated. In a future version, this will no longer exclude empty or all-NA columns when determining the result dtypes. To retain the old behavior, exclude the relevant entries before the concat operation.\n",
      "  all_forecasts = pd.concat([all_forecasts, forecasted_temp])\n",
      "/var/folders/x8/v7bmckc139v2dqcm04jgfjlr0000gn/T/ipykernel_3636/3196941531.py:23: FutureWarning: The behavior of DataFrame concatenation with empty or all-NA entries is deprecated. In a future version, this will no longer exclude empty or all-NA columns when determining the result dtypes. To retain the old behavior, exclude the relevant entries before the concat operation.\n",
      "  predictions = pd.concat([predictions, temp_df], ignore_index=True)\n",
      "/var/folders/x8/v7bmckc139v2dqcm04jgfjlr0000gn/T/ipykernel_3636/3196941531.py:23: FutureWarning: The behavior of DataFrame concatenation with empty or all-NA entries is deprecated. In a future version, this will no longer exclude empty or all-NA columns when determining the result dtypes. To retain the old behavior, exclude the relevant entries before the concat operation.\n",
      "  predictions = pd.concat([predictions, temp_df], ignore_index=True)\n",
      "/var/folders/x8/v7bmckc139v2dqcm04jgfjlr0000gn/T/ipykernel_3636/3196941531.py:23: FutureWarning: The behavior of DataFrame concatenation with empty or all-NA entries is deprecated. In a future version, this will no longer exclude empty or all-NA columns when determining the result dtypes. To retain the old behavior, exclude the relevant entries before the concat operation.\n",
      "  predictions = pd.concat([predictions, temp_df], ignore_index=True)\n",
      "/var/folders/x8/v7bmckc139v2dqcm04jgfjlr0000gn/T/ipykernel_3636/3196941531.py:23: FutureWarning: The behavior of DataFrame concatenation with empty or all-NA entries is deprecated. In a future version, this will no longer exclude empty or all-NA columns when determining the result dtypes. To retain the old behavior, exclude the relevant entries before the concat operation.\n",
      "  predictions = pd.concat([predictions, temp_df], ignore_index=True)\n",
      "/var/folders/x8/v7bmckc139v2dqcm04jgfjlr0000gn/T/ipykernel_3636/3196941531.py:23: FutureWarning: The behavior of DataFrame concatenation with empty or all-NA entries is deprecated. In a future version, this will no longer exclude empty or all-NA columns when determining the result dtypes. To retain the old behavior, exclude the relevant entries before the concat operation.\n",
      "  predictions = pd.concat([predictions, temp_df], ignore_index=True)\n",
      "/var/folders/x8/v7bmckc139v2dqcm04jgfjlr0000gn/T/ipykernel_3636/3196941531.py:23: FutureWarning: The behavior of DataFrame concatenation with empty or all-NA entries is deprecated. In a future version, this will no longer exclude empty or all-NA columns when determining the result dtypes. To retain the old behavior, exclude the relevant entries before the concat operation.\n",
      "  predictions = pd.concat([predictions, temp_df], ignore_index=True)\n",
      "/var/folders/x8/v7bmckc139v2dqcm04jgfjlr0000gn/T/ipykernel_3636/3196941531.py:11: FutureWarning: The behavior of DataFrame concatenation with empty or all-NA entries is deprecated. In a future version, this will no longer exclude empty or all-NA columns when determining the result dtypes. To retain the old behavior, exclude the relevant entries before the concat operation.\n",
      "  predictions = pd.concat([predictions, temp_df], ignore_index=True)\n"
     ]
    },
    {
     "name": "stdout",
     "output_type": "stream",
     "text": [
      "Beginning forecast for 2023-09-13 00:00:00\n"
     ]
    },
    {
     "name": "stderr",
     "output_type": "stream",
     "text": [
      "/var/folders/x8/v7bmckc139v2dqcm04jgfjlr0000gn/T/ipykernel_3636/2637449371.py:65: FutureWarning: The behavior of DataFrame concatenation with empty or all-NA entries is deprecated. In a future version, this will no longer exclude empty or all-NA columns when determining the result dtypes. To retain the old behavior, exclude the relevant entries before the concat operation.\n",
      "  all_forecasts = pd.concat([all_forecasts, forecasted_temp])\n",
      "/var/folders/x8/v7bmckc139v2dqcm04jgfjlr0000gn/T/ipykernel_3636/3196941531.py:23: FutureWarning: The behavior of DataFrame concatenation with empty or all-NA entries is deprecated. In a future version, this will no longer exclude empty or all-NA columns when determining the result dtypes. To retain the old behavior, exclude the relevant entries before the concat operation.\n",
      "  predictions = pd.concat([predictions, temp_df], ignore_index=True)\n",
      "/var/folders/x8/v7bmckc139v2dqcm04jgfjlr0000gn/T/ipykernel_3636/3196941531.py:23: FutureWarning: The behavior of DataFrame concatenation with empty or all-NA entries is deprecated. In a future version, this will no longer exclude empty or all-NA columns when determining the result dtypes. To retain the old behavior, exclude the relevant entries before the concat operation.\n",
      "  predictions = pd.concat([predictions, temp_df], ignore_index=True)\n",
      "/var/folders/x8/v7bmckc139v2dqcm04jgfjlr0000gn/T/ipykernel_3636/3196941531.py:23: FutureWarning: The behavior of DataFrame concatenation with empty or all-NA entries is deprecated. In a future version, this will no longer exclude empty or all-NA columns when determining the result dtypes. To retain the old behavior, exclude the relevant entries before the concat operation.\n",
      "  predictions = pd.concat([predictions, temp_df], ignore_index=True)\n",
      "/var/folders/x8/v7bmckc139v2dqcm04jgfjlr0000gn/T/ipykernel_3636/3196941531.py:23: FutureWarning: The behavior of DataFrame concatenation with empty or all-NA entries is deprecated. In a future version, this will no longer exclude empty or all-NA columns when determining the result dtypes. To retain the old behavior, exclude the relevant entries before the concat operation.\n",
      "  predictions = pd.concat([predictions, temp_df], ignore_index=True)\n",
      "/var/folders/x8/v7bmckc139v2dqcm04jgfjlr0000gn/T/ipykernel_3636/3196941531.py:23: FutureWarning: The behavior of DataFrame concatenation with empty or all-NA entries is deprecated. In a future version, this will no longer exclude empty or all-NA columns when determining the result dtypes. To retain the old behavior, exclude the relevant entries before the concat operation.\n",
      "  predictions = pd.concat([predictions, temp_df], ignore_index=True)\n",
      "/var/folders/x8/v7bmckc139v2dqcm04jgfjlr0000gn/T/ipykernel_3636/3196941531.py:23: FutureWarning: The behavior of DataFrame concatenation with empty or all-NA entries is deprecated. In a future version, this will no longer exclude empty or all-NA columns when determining the result dtypes. To retain the old behavior, exclude the relevant entries before the concat operation.\n",
      "  predictions = pd.concat([predictions, temp_df], ignore_index=True)\n"
     ]
    },
    {
     "name": "stdout",
     "output_type": "stream",
     "text": [
      "Beginning forecast for 2023-09-14 00:00:00\n"
     ]
    },
    {
     "name": "stderr",
     "output_type": "stream",
     "text": [
      "/var/folders/x8/v7bmckc139v2dqcm04jgfjlr0000gn/T/ipykernel_3636/3196941531.py:11: FutureWarning: The behavior of DataFrame concatenation with empty or all-NA entries is deprecated. In a future version, this will no longer exclude empty or all-NA columns when determining the result dtypes. To retain the old behavior, exclude the relevant entries before the concat operation.\n",
      "  predictions = pd.concat([predictions, temp_df], ignore_index=True)\n",
      "/var/folders/x8/v7bmckc139v2dqcm04jgfjlr0000gn/T/ipykernel_3636/2637449371.py:65: FutureWarning: The behavior of DataFrame concatenation with empty or all-NA entries is deprecated. In a future version, this will no longer exclude empty or all-NA columns when determining the result dtypes. To retain the old behavior, exclude the relevant entries before the concat operation.\n",
      "  all_forecasts = pd.concat([all_forecasts, forecasted_temp])\n",
      "/var/folders/x8/v7bmckc139v2dqcm04jgfjlr0000gn/T/ipykernel_3636/3196941531.py:23: FutureWarning: The behavior of DataFrame concatenation with empty or all-NA entries is deprecated. In a future version, this will no longer exclude empty or all-NA columns when determining the result dtypes. To retain the old behavior, exclude the relevant entries before the concat operation.\n",
      "  predictions = pd.concat([predictions, temp_df], ignore_index=True)\n",
      "/var/folders/x8/v7bmckc139v2dqcm04jgfjlr0000gn/T/ipykernel_3636/3196941531.py:23: FutureWarning: The behavior of DataFrame concatenation with empty or all-NA entries is deprecated. In a future version, this will no longer exclude empty or all-NA columns when determining the result dtypes. To retain the old behavior, exclude the relevant entries before the concat operation.\n",
      "  predictions = pd.concat([predictions, temp_df], ignore_index=True)\n",
      "/var/folders/x8/v7bmckc139v2dqcm04jgfjlr0000gn/T/ipykernel_3636/3196941531.py:23: FutureWarning: The behavior of DataFrame concatenation with empty or all-NA entries is deprecated. In a future version, this will no longer exclude empty or all-NA columns when determining the result dtypes. To retain the old behavior, exclude the relevant entries before the concat operation.\n",
      "  predictions = pd.concat([predictions, temp_df], ignore_index=True)\n",
      "/var/folders/x8/v7bmckc139v2dqcm04jgfjlr0000gn/T/ipykernel_3636/3196941531.py:23: FutureWarning: The behavior of DataFrame concatenation with empty or all-NA entries is deprecated. In a future version, this will no longer exclude empty or all-NA columns when determining the result dtypes. To retain the old behavior, exclude the relevant entries before the concat operation.\n",
      "  predictions = pd.concat([predictions, temp_df], ignore_index=True)\n",
      "/var/folders/x8/v7bmckc139v2dqcm04jgfjlr0000gn/T/ipykernel_3636/3196941531.py:23: FutureWarning: The behavior of DataFrame concatenation with empty or all-NA entries is deprecated. In a future version, this will no longer exclude empty or all-NA columns when determining the result dtypes. To retain the old behavior, exclude the relevant entries before the concat operation.\n",
      "  predictions = pd.concat([predictions, temp_df], ignore_index=True)\n",
      "/var/folders/x8/v7bmckc139v2dqcm04jgfjlr0000gn/T/ipykernel_3636/3196941531.py:23: FutureWarning: The behavior of DataFrame concatenation with empty or all-NA entries is deprecated. In a future version, this will no longer exclude empty or all-NA columns when determining the result dtypes. To retain the old behavior, exclude the relevant entries before the concat operation.\n",
      "  predictions = pd.concat([predictions, temp_df], ignore_index=True)\n",
      "/var/folders/x8/v7bmckc139v2dqcm04jgfjlr0000gn/T/ipykernel_3636/3196941531.py:11: FutureWarning: The behavior of DataFrame concatenation with empty or all-NA entries is deprecated. In a future version, this will no longer exclude empty or all-NA columns when determining the result dtypes. To retain the old behavior, exclude the relevant entries before the concat operation.\n",
      "  predictions = pd.concat([predictions, temp_df], ignore_index=True)\n"
     ]
    },
    {
     "name": "stdout",
     "output_type": "stream",
     "text": [
      "Beginning forecast for 2023-09-15 00:00:00\n"
     ]
    },
    {
     "name": "stderr",
     "output_type": "stream",
     "text": [
      "/var/folders/x8/v7bmckc139v2dqcm04jgfjlr0000gn/T/ipykernel_3636/2637449371.py:65: FutureWarning: The behavior of DataFrame concatenation with empty or all-NA entries is deprecated. In a future version, this will no longer exclude empty or all-NA columns when determining the result dtypes. To retain the old behavior, exclude the relevant entries before the concat operation.\n",
      "  all_forecasts = pd.concat([all_forecasts, forecasted_temp])\n",
      "/var/folders/x8/v7bmckc139v2dqcm04jgfjlr0000gn/T/ipykernel_3636/3196941531.py:23: FutureWarning: The behavior of DataFrame concatenation with empty or all-NA entries is deprecated. In a future version, this will no longer exclude empty or all-NA columns when determining the result dtypes. To retain the old behavior, exclude the relevant entries before the concat operation.\n",
      "  predictions = pd.concat([predictions, temp_df], ignore_index=True)\n",
      "/var/folders/x8/v7bmckc139v2dqcm04jgfjlr0000gn/T/ipykernel_3636/3196941531.py:23: FutureWarning: The behavior of DataFrame concatenation with empty or all-NA entries is deprecated. In a future version, this will no longer exclude empty or all-NA columns when determining the result dtypes. To retain the old behavior, exclude the relevant entries before the concat operation.\n",
      "  predictions = pd.concat([predictions, temp_df], ignore_index=True)\n",
      "/var/folders/x8/v7bmckc139v2dqcm04jgfjlr0000gn/T/ipykernel_3636/3196941531.py:23: FutureWarning: The behavior of DataFrame concatenation with empty or all-NA entries is deprecated. In a future version, this will no longer exclude empty or all-NA columns when determining the result dtypes. To retain the old behavior, exclude the relevant entries before the concat operation.\n",
      "  predictions = pd.concat([predictions, temp_df], ignore_index=True)\n",
      "/var/folders/x8/v7bmckc139v2dqcm04jgfjlr0000gn/T/ipykernel_3636/3196941531.py:23: FutureWarning: The behavior of DataFrame concatenation with empty or all-NA entries is deprecated. In a future version, this will no longer exclude empty or all-NA columns when determining the result dtypes. To retain the old behavior, exclude the relevant entries before the concat operation.\n",
      "  predictions = pd.concat([predictions, temp_df], ignore_index=True)\n",
      "/var/folders/x8/v7bmckc139v2dqcm04jgfjlr0000gn/T/ipykernel_3636/3196941531.py:23: FutureWarning: The behavior of DataFrame concatenation with empty or all-NA entries is deprecated. In a future version, this will no longer exclude empty or all-NA columns when determining the result dtypes. To retain the old behavior, exclude the relevant entries before the concat operation.\n",
      "  predictions = pd.concat([predictions, temp_df], ignore_index=True)\n",
      "/var/folders/x8/v7bmckc139v2dqcm04jgfjlr0000gn/T/ipykernel_3636/3196941531.py:23: FutureWarning: The behavior of DataFrame concatenation with empty or all-NA entries is deprecated. In a future version, this will no longer exclude empty or all-NA columns when determining the result dtypes. To retain the old behavior, exclude the relevant entries before the concat operation.\n",
      "  predictions = pd.concat([predictions, temp_df], ignore_index=True)\n",
      "/var/folders/x8/v7bmckc139v2dqcm04jgfjlr0000gn/T/ipykernel_3636/3196941531.py:11: FutureWarning: The behavior of DataFrame concatenation with empty or all-NA entries is deprecated. In a future version, this will no longer exclude empty or all-NA columns when determining the result dtypes. To retain the old behavior, exclude the relevant entries before the concat operation.\n",
      "  predictions = pd.concat([predictions, temp_df], ignore_index=True)\n"
     ]
    },
    {
     "name": "stdout",
     "output_type": "stream",
     "text": [
      "Beginning forecast for 2023-09-16 00:00:00\n"
     ]
    },
    {
     "name": "stderr",
     "output_type": "stream",
     "text": [
      "/var/folders/x8/v7bmckc139v2dqcm04jgfjlr0000gn/T/ipykernel_3636/2637449371.py:65: FutureWarning: The behavior of DataFrame concatenation with empty or all-NA entries is deprecated. In a future version, this will no longer exclude empty or all-NA columns when determining the result dtypes. To retain the old behavior, exclude the relevant entries before the concat operation.\n",
      "  all_forecasts = pd.concat([all_forecasts, forecasted_temp])\n",
      "/var/folders/x8/v7bmckc139v2dqcm04jgfjlr0000gn/T/ipykernel_3636/3196941531.py:23: FutureWarning: The behavior of DataFrame concatenation with empty or all-NA entries is deprecated. In a future version, this will no longer exclude empty or all-NA columns when determining the result dtypes. To retain the old behavior, exclude the relevant entries before the concat operation.\n",
      "  predictions = pd.concat([predictions, temp_df], ignore_index=True)\n",
      "/var/folders/x8/v7bmckc139v2dqcm04jgfjlr0000gn/T/ipykernel_3636/3196941531.py:23: FutureWarning: The behavior of DataFrame concatenation with empty or all-NA entries is deprecated. In a future version, this will no longer exclude empty or all-NA columns when determining the result dtypes. To retain the old behavior, exclude the relevant entries before the concat operation.\n",
      "  predictions = pd.concat([predictions, temp_df], ignore_index=True)\n",
      "/var/folders/x8/v7bmckc139v2dqcm04jgfjlr0000gn/T/ipykernel_3636/3196941531.py:23: FutureWarning: The behavior of DataFrame concatenation with empty or all-NA entries is deprecated. In a future version, this will no longer exclude empty or all-NA columns when determining the result dtypes. To retain the old behavior, exclude the relevant entries before the concat operation.\n",
      "  predictions = pd.concat([predictions, temp_df], ignore_index=True)\n",
      "/var/folders/x8/v7bmckc139v2dqcm04jgfjlr0000gn/T/ipykernel_3636/3196941531.py:23: FutureWarning: The behavior of DataFrame concatenation with empty or all-NA entries is deprecated. In a future version, this will no longer exclude empty or all-NA columns when determining the result dtypes. To retain the old behavior, exclude the relevant entries before the concat operation.\n",
      "  predictions = pd.concat([predictions, temp_df], ignore_index=True)\n",
      "/var/folders/x8/v7bmckc139v2dqcm04jgfjlr0000gn/T/ipykernel_3636/3196941531.py:23: FutureWarning: The behavior of DataFrame concatenation with empty or all-NA entries is deprecated. In a future version, this will no longer exclude empty or all-NA columns when determining the result dtypes. To retain the old behavior, exclude the relevant entries before the concat operation.\n",
      "  predictions = pd.concat([predictions, temp_df], ignore_index=True)\n",
      "/var/folders/x8/v7bmckc139v2dqcm04jgfjlr0000gn/T/ipykernel_3636/3196941531.py:23: FutureWarning: The behavior of DataFrame concatenation with empty or all-NA entries is deprecated. In a future version, this will no longer exclude empty or all-NA columns when determining the result dtypes. To retain the old behavior, exclude the relevant entries before the concat operation.\n",
      "  predictions = pd.concat([predictions, temp_df], ignore_index=True)\n"
     ]
    },
    {
     "name": "stdout",
     "output_type": "stream",
     "text": [
      "Beginning forecast for 2023-09-17 00:00:00\n"
     ]
    },
    {
     "name": "stderr",
     "output_type": "stream",
     "text": [
      "/var/folders/x8/v7bmckc139v2dqcm04jgfjlr0000gn/T/ipykernel_3636/3196941531.py:11: FutureWarning: The behavior of DataFrame concatenation with empty or all-NA entries is deprecated. In a future version, this will no longer exclude empty or all-NA columns when determining the result dtypes. To retain the old behavior, exclude the relevant entries before the concat operation.\n",
      "  predictions = pd.concat([predictions, temp_df], ignore_index=True)\n",
      "/var/folders/x8/v7bmckc139v2dqcm04jgfjlr0000gn/T/ipykernel_3636/2637449371.py:65: FutureWarning: The behavior of DataFrame concatenation with empty or all-NA entries is deprecated. In a future version, this will no longer exclude empty or all-NA columns when determining the result dtypes. To retain the old behavior, exclude the relevant entries before the concat operation.\n",
      "  all_forecasts = pd.concat([all_forecasts, forecasted_temp])\n",
      "/var/folders/x8/v7bmckc139v2dqcm04jgfjlr0000gn/T/ipykernel_3636/3196941531.py:23: FutureWarning: The behavior of DataFrame concatenation with empty or all-NA entries is deprecated. In a future version, this will no longer exclude empty or all-NA columns when determining the result dtypes. To retain the old behavior, exclude the relevant entries before the concat operation.\n",
      "  predictions = pd.concat([predictions, temp_df], ignore_index=True)\n",
      "/var/folders/x8/v7bmckc139v2dqcm04jgfjlr0000gn/T/ipykernel_3636/3196941531.py:23: FutureWarning: The behavior of DataFrame concatenation with empty or all-NA entries is deprecated. In a future version, this will no longer exclude empty or all-NA columns when determining the result dtypes. To retain the old behavior, exclude the relevant entries before the concat operation.\n",
      "  predictions = pd.concat([predictions, temp_df], ignore_index=True)\n",
      "/var/folders/x8/v7bmckc139v2dqcm04jgfjlr0000gn/T/ipykernel_3636/3196941531.py:23: FutureWarning: The behavior of DataFrame concatenation with empty or all-NA entries is deprecated. In a future version, this will no longer exclude empty or all-NA columns when determining the result dtypes. To retain the old behavior, exclude the relevant entries before the concat operation.\n",
      "  predictions = pd.concat([predictions, temp_df], ignore_index=True)\n",
      "/var/folders/x8/v7bmckc139v2dqcm04jgfjlr0000gn/T/ipykernel_3636/3196941531.py:23: FutureWarning: The behavior of DataFrame concatenation with empty or all-NA entries is deprecated. In a future version, this will no longer exclude empty or all-NA columns when determining the result dtypes. To retain the old behavior, exclude the relevant entries before the concat operation.\n",
      "  predictions = pd.concat([predictions, temp_df], ignore_index=True)\n",
      "/var/folders/x8/v7bmckc139v2dqcm04jgfjlr0000gn/T/ipykernel_3636/3196941531.py:23: FutureWarning: The behavior of DataFrame concatenation with empty or all-NA entries is deprecated. In a future version, this will no longer exclude empty or all-NA columns when determining the result dtypes. To retain the old behavior, exclude the relevant entries before the concat operation.\n",
      "  predictions = pd.concat([predictions, temp_df], ignore_index=True)\n",
      "/var/folders/x8/v7bmckc139v2dqcm04jgfjlr0000gn/T/ipykernel_3636/3196941531.py:23: FutureWarning: The behavior of DataFrame concatenation with empty or all-NA entries is deprecated. In a future version, this will no longer exclude empty or all-NA columns when determining the result dtypes. To retain the old behavior, exclude the relevant entries before the concat operation.\n",
      "  predictions = pd.concat([predictions, temp_df], ignore_index=True)\n",
      "/var/folders/x8/v7bmckc139v2dqcm04jgfjlr0000gn/T/ipykernel_3636/3196941531.py:11: FutureWarning: The behavior of DataFrame concatenation with empty or all-NA entries is deprecated. In a future version, this will no longer exclude empty or all-NA columns when determining the result dtypes. To retain the old behavior, exclude the relevant entries before the concat operation.\n",
      "  predictions = pd.concat([predictions, temp_df], ignore_index=True)\n"
     ]
    },
    {
     "name": "stdout",
     "output_type": "stream",
     "text": [
      "Beginning forecast for 2023-09-18 00:00:00\n"
     ]
    },
    {
     "name": "stderr",
     "output_type": "stream",
     "text": [
      "/var/folders/x8/v7bmckc139v2dqcm04jgfjlr0000gn/T/ipykernel_3636/2637449371.py:65: FutureWarning: The behavior of DataFrame concatenation with empty or all-NA entries is deprecated. In a future version, this will no longer exclude empty or all-NA columns when determining the result dtypes. To retain the old behavior, exclude the relevant entries before the concat operation.\n",
      "  all_forecasts = pd.concat([all_forecasts, forecasted_temp])\n",
      "/var/folders/x8/v7bmckc139v2dqcm04jgfjlr0000gn/T/ipykernel_3636/3196941531.py:23: FutureWarning: The behavior of DataFrame concatenation with empty or all-NA entries is deprecated. In a future version, this will no longer exclude empty or all-NA columns when determining the result dtypes. To retain the old behavior, exclude the relevant entries before the concat operation.\n",
      "  predictions = pd.concat([predictions, temp_df], ignore_index=True)\n",
      "/var/folders/x8/v7bmckc139v2dqcm04jgfjlr0000gn/T/ipykernel_3636/3196941531.py:23: FutureWarning: The behavior of DataFrame concatenation with empty or all-NA entries is deprecated. In a future version, this will no longer exclude empty or all-NA columns when determining the result dtypes. To retain the old behavior, exclude the relevant entries before the concat operation.\n",
      "  predictions = pd.concat([predictions, temp_df], ignore_index=True)\n",
      "/var/folders/x8/v7bmckc139v2dqcm04jgfjlr0000gn/T/ipykernel_3636/3196941531.py:23: FutureWarning: The behavior of DataFrame concatenation with empty or all-NA entries is deprecated. In a future version, this will no longer exclude empty or all-NA columns when determining the result dtypes. To retain the old behavior, exclude the relevant entries before the concat operation.\n",
      "  predictions = pd.concat([predictions, temp_df], ignore_index=True)\n",
      "/var/folders/x8/v7bmckc139v2dqcm04jgfjlr0000gn/T/ipykernel_3636/3196941531.py:23: FutureWarning: The behavior of DataFrame concatenation with empty or all-NA entries is deprecated. In a future version, this will no longer exclude empty or all-NA columns when determining the result dtypes. To retain the old behavior, exclude the relevant entries before the concat operation.\n",
      "  predictions = pd.concat([predictions, temp_df], ignore_index=True)\n",
      "/var/folders/x8/v7bmckc139v2dqcm04jgfjlr0000gn/T/ipykernel_3636/3196941531.py:23: FutureWarning: The behavior of DataFrame concatenation with empty or all-NA entries is deprecated. In a future version, this will no longer exclude empty or all-NA columns when determining the result dtypes. To retain the old behavior, exclude the relevant entries before the concat operation.\n",
      "  predictions = pd.concat([predictions, temp_df], ignore_index=True)\n",
      "/var/folders/x8/v7bmckc139v2dqcm04jgfjlr0000gn/T/ipykernel_3636/3196941531.py:23: FutureWarning: The behavior of DataFrame concatenation with empty or all-NA entries is deprecated. In a future version, this will no longer exclude empty or all-NA columns when determining the result dtypes. To retain the old behavior, exclude the relevant entries before the concat operation.\n",
      "  predictions = pd.concat([predictions, temp_df], ignore_index=True)\n"
     ]
    },
    {
     "name": "stdout",
     "output_type": "stream",
     "text": [
      "Beginning forecast for 2023-09-19 00:00:00\n"
     ]
    },
    {
     "name": "stderr",
     "output_type": "stream",
     "text": [
      "/var/folders/x8/v7bmckc139v2dqcm04jgfjlr0000gn/T/ipykernel_3636/3196941531.py:11: FutureWarning: The behavior of DataFrame concatenation with empty or all-NA entries is deprecated. In a future version, this will no longer exclude empty or all-NA columns when determining the result dtypes. To retain the old behavior, exclude the relevant entries before the concat operation.\n",
      "  predictions = pd.concat([predictions, temp_df], ignore_index=True)\n",
      "/var/folders/x8/v7bmckc139v2dqcm04jgfjlr0000gn/T/ipykernel_3636/2637449371.py:65: FutureWarning: The behavior of DataFrame concatenation with empty or all-NA entries is deprecated. In a future version, this will no longer exclude empty or all-NA columns when determining the result dtypes. To retain the old behavior, exclude the relevant entries before the concat operation.\n",
      "  all_forecasts = pd.concat([all_forecasts, forecasted_temp])\n",
      "/var/folders/x8/v7bmckc139v2dqcm04jgfjlr0000gn/T/ipykernel_3636/3196941531.py:23: FutureWarning: The behavior of DataFrame concatenation with empty or all-NA entries is deprecated. In a future version, this will no longer exclude empty or all-NA columns when determining the result dtypes. To retain the old behavior, exclude the relevant entries before the concat operation.\n",
      "  predictions = pd.concat([predictions, temp_df], ignore_index=True)\n",
      "/var/folders/x8/v7bmckc139v2dqcm04jgfjlr0000gn/T/ipykernel_3636/3196941531.py:23: FutureWarning: The behavior of DataFrame concatenation with empty or all-NA entries is deprecated. In a future version, this will no longer exclude empty or all-NA columns when determining the result dtypes. To retain the old behavior, exclude the relevant entries before the concat operation.\n",
      "  predictions = pd.concat([predictions, temp_df], ignore_index=True)\n",
      "/var/folders/x8/v7bmckc139v2dqcm04jgfjlr0000gn/T/ipykernel_3636/3196941531.py:23: FutureWarning: The behavior of DataFrame concatenation with empty or all-NA entries is deprecated. In a future version, this will no longer exclude empty or all-NA columns when determining the result dtypes. To retain the old behavior, exclude the relevant entries before the concat operation.\n",
      "  predictions = pd.concat([predictions, temp_df], ignore_index=True)\n",
      "/var/folders/x8/v7bmckc139v2dqcm04jgfjlr0000gn/T/ipykernel_3636/3196941531.py:23: FutureWarning: The behavior of DataFrame concatenation with empty or all-NA entries is deprecated. In a future version, this will no longer exclude empty or all-NA columns when determining the result dtypes. To retain the old behavior, exclude the relevant entries before the concat operation.\n",
      "  predictions = pd.concat([predictions, temp_df], ignore_index=True)\n",
      "/var/folders/x8/v7bmckc139v2dqcm04jgfjlr0000gn/T/ipykernel_3636/3196941531.py:23: FutureWarning: The behavior of DataFrame concatenation with empty or all-NA entries is deprecated. In a future version, this will no longer exclude empty or all-NA columns when determining the result dtypes. To retain the old behavior, exclude the relevant entries before the concat operation.\n",
      "  predictions = pd.concat([predictions, temp_df], ignore_index=True)\n",
      "/var/folders/x8/v7bmckc139v2dqcm04jgfjlr0000gn/T/ipykernel_3636/3196941531.py:23: FutureWarning: The behavior of DataFrame concatenation with empty or all-NA entries is deprecated. In a future version, this will no longer exclude empty or all-NA columns when determining the result dtypes. To retain the old behavior, exclude the relevant entries before the concat operation.\n",
      "  predictions = pd.concat([predictions, temp_df], ignore_index=True)\n",
      "/var/folders/x8/v7bmckc139v2dqcm04jgfjlr0000gn/T/ipykernel_3636/3196941531.py:11: FutureWarning: The behavior of DataFrame concatenation with empty or all-NA entries is deprecated. In a future version, this will no longer exclude empty or all-NA columns when determining the result dtypes. To retain the old behavior, exclude the relevant entries before the concat operation.\n",
      "  predictions = pd.concat([predictions, temp_df], ignore_index=True)\n"
     ]
    },
    {
     "name": "stdout",
     "output_type": "stream",
     "text": [
      "Beginning forecast for 2023-09-20 00:00:00\n"
     ]
    },
    {
     "name": "stderr",
     "output_type": "stream",
     "text": [
      "/var/folders/x8/v7bmckc139v2dqcm04jgfjlr0000gn/T/ipykernel_3636/2637449371.py:65: FutureWarning: The behavior of DataFrame concatenation with empty or all-NA entries is deprecated. In a future version, this will no longer exclude empty or all-NA columns when determining the result dtypes. To retain the old behavior, exclude the relevant entries before the concat operation.\n",
      "  all_forecasts = pd.concat([all_forecasts, forecasted_temp])\n",
      "/var/folders/x8/v7bmckc139v2dqcm04jgfjlr0000gn/T/ipykernel_3636/3196941531.py:23: FutureWarning: The behavior of DataFrame concatenation with empty or all-NA entries is deprecated. In a future version, this will no longer exclude empty or all-NA columns when determining the result dtypes. To retain the old behavior, exclude the relevant entries before the concat operation.\n",
      "  predictions = pd.concat([predictions, temp_df], ignore_index=True)\n",
      "/var/folders/x8/v7bmckc139v2dqcm04jgfjlr0000gn/T/ipykernel_3636/3196941531.py:23: FutureWarning: The behavior of DataFrame concatenation with empty or all-NA entries is deprecated. In a future version, this will no longer exclude empty or all-NA columns when determining the result dtypes. To retain the old behavior, exclude the relevant entries before the concat operation.\n",
      "  predictions = pd.concat([predictions, temp_df], ignore_index=True)\n",
      "/var/folders/x8/v7bmckc139v2dqcm04jgfjlr0000gn/T/ipykernel_3636/3196941531.py:23: FutureWarning: The behavior of DataFrame concatenation with empty or all-NA entries is deprecated. In a future version, this will no longer exclude empty or all-NA columns when determining the result dtypes. To retain the old behavior, exclude the relevant entries before the concat operation.\n",
      "  predictions = pd.concat([predictions, temp_df], ignore_index=True)\n",
      "/var/folders/x8/v7bmckc139v2dqcm04jgfjlr0000gn/T/ipykernel_3636/3196941531.py:23: FutureWarning: The behavior of DataFrame concatenation with empty or all-NA entries is deprecated. In a future version, this will no longer exclude empty or all-NA columns when determining the result dtypes. To retain the old behavior, exclude the relevant entries before the concat operation.\n",
      "  predictions = pd.concat([predictions, temp_df], ignore_index=True)\n",
      "/var/folders/x8/v7bmckc139v2dqcm04jgfjlr0000gn/T/ipykernel_3636/3196941531.py:23: FutureWarning: The behavior of DataFrame concatenation with empty or all-NA entries is deprecated. In a future version, this will no longer exclude empty or all-NA columns when determining the result dtypes. To retain the old behavior, exclude the relevant entries before the concat operation.\n",
      "  predictions = pd.concat([predictions, temp_df], ignore_index=True)\n",
      "/var/folders/x8/v7bmckc139v2dqcm04jgfjlr0000gn/T/ipykernel_3636/3196941531.py:23: FutureWarning: The behavior of DataFrame concatenation with empty or all-NA entries is deprecated. In a future version, this will no longer exclude empty or all-NA columns when determining the result dtypes. To retain the old behavior, exclude the relevant entries before the concat operation.\n",
      "  predictions = pd.concat([predictions, temp_df], ignore_index=True)\n"
     ]
    },
    {
     "name": "stdout",
     "output_type": "stream",
     "text": [
      "Beginning forecast for 2023-09-21 00:00:00\n"
     ]
    },
    {
     "name": "stderr",
     "output_type": "stream",
     "text": [
      "/var/folders/x8/v7bmckc139v2dqcm04jgfjlr0000gn/T/ipykernel_3636/3196941531.py:11: FutureWarning: The behavior of DataFrame concatenation with empty or all-NA entries is deprecated. In a future version, this will no longer exclude empty or all-NA columns when determining the result dtypes. To retain the old behavior, exclude the relevant entries before the concat operation.\n",
      "  predictions = pd.concat([predictions, temp_df], ignore_index=True)\n",
      "/var/folders/x8/v7bmckc139v2dqcm04jgfjlr0000gn/T/ipykernel_3636/2637449371.py:65: FutureWarning: The behavior of DataFrame concatenation with empty or all-NA entries is deprecated. In a future version, this will no longer exclude empty or all-NA columns when determining the result dtypes. To retain the old behavior, exclude the relevant entries before the concat operation.\n",
      "  all_forecasts = pd.concat([all_forecasts, forecasted_temp])\n",
      "/var/folders/x8/v7bmckc139v2dqcm04jgfjlr0000gn/T/ipykernel_3636/3196941531.py:23: FutureWarning: The behavior of DataFrame concatenation with empty or all-NA entries is deprecated. In a future version, this will no longer exclude empty or all-NA columns when determining the result dtypes. To retain the old behavior, exclude the relevant entries before the concat operation.\n",
      "  predictions = pd.concat([predictions, temp_df], ignore_index=True)\n",
      "/var/folders/x8/v7bmckc139v2dqcm04jgfjlr0000gn/T/ipykernel_3636/3196941531.py:23: FutureWarning: The behavior of DataFrame concatenation with empty or all-NA entries is deprecated. In a future version, this will no longer exclude empty or all-NA columns when determining the result dtypes. To retain the old behavior, exclude the relevant entries before the concat operation.\n",
      "  predictions = pd.concat([predictions, temp_df], ignore_index=True)\n",
      "/var/folders/x8/v7bmckc139v2dqcm04jgfjlr0000gn/T/ipykernel_3636/3196941531.py:23: FutureWarning: The behavior of DataFrame concatenation with empty or all-NA entries is deprecated. In a future version, this will no longer exclude empty or all-NA columns when determining the result dtypes. To retain the old behavior, exclude the relevant entries before the concat operation.\n",
      "  predictions = pd.concat([predictions, temp_df], ignore_index=True)\n",
      "/var/folders/x8/v7bmckc139v2dqcm04jgfjlr0000gn/T/ipykernel_3636/3196941531.py:23: FutureWarning: The behavior of DataFrame concatenation with empty or all-NA entries is deprecated. In a future version, this will no longer exclude empty or all-NA columns when determining the result dtypes. To retain the old behavior, exclude the relevant entries before the concat operation.\n",
      "  predictions = pd.concat([predictions, temp_df], ignore_index=True)\n",
      "/var/folders/x8/v7bmckc139v2dqcm04jgfjlr0000gn/T/ipykernel_3636/3196941531.py:23: FutureWarning: The behavior of DataFrame concatenation with empty or all-NA entries is deprecated. In a future version, this will no longer exclude empty or all-NA columns when determining the result dtypes. To retain the old behavior, exclude the relevant entries before the concat operation.\n",
      "  predictions = pd.concat([predictions, temp_df], ignore_index=True)\n",
      "/var/folders/x8/v7bmckc139v2dqcm04jgfjlr0000gn/T/ipykernel_3636/3196941531.py:23: FutureWarning: The behavior of DataFrame concatenation with empty or all-NA entries is deprecated. In a future version, this will no longer exclude empty or all-NA columns when determining the result dtypes. To retain the old behavior, exclude the relevant entries before the concat operation.\n",
      "  predictions = pd.concat([predictions, temp_df], ignore_index=True)\n",
      "/var/folders/x8/v7bmckc139v2dqcm04jgfjlr0000gn/T/ipykernel_3636/3196941531.py:11: FutureWarning: The behavior of DataFrame concatenation with empty or all-NA entries is deprecated. In a future version, this will no longer exclude empty or all-NA columns when determining the result dtypes. To retain the old behavior, exclude the relevant entries before the concat operation.\n",
      "  predictions = pd.concat([predictions, temp_df], ignore_index=True)\n"
     ]
    },
    {
     "name": "stdout",
     "output_type": "stream",
     "text": [
      "Beginning forecast for 2023-09-22 00:00:00\n"
     ]
    },
    {
     "name": "stderr",
     "output_type": "stream",
     "text": [
      "/var/folders/x8/v7bmckc139v2dqcm04jgfjlr0000gn/T/ipykernel_3636/2637449371.py:65: FutureWarning: The behavior of DataFrame concatenation with empty or all-NA entries is deprecated. In a future version, this will no longer exclude empty or all-NA columns when determining the result dtypes. To retain the old behavior, exclude the relevant entries before the concat operation.\n",
      "  all_forecasts = pd.concat([all_forecasts, forecasted_temp])\n",
      "/var/folders/x8/v7bmckc139v2dqcm04jgfjlr0000gn/T/ipykernel_3636/3196941531.py:23: FutureWarning: The behavior of DataFrame concatenation with empty or all-NA entries is deprecated. In a future version, this will no longer exclude empty or all-NA columns when determining the result dtypes. To retain the old behavior, exclude the relevant entries before the concat operation.\n",
      "  predictions = pd.concat([predictions, temp_df], ignore_index=True)\n",
      "/var/folders/x8/v7bmckc139v2dqcm04jgfjlr0000gn/T/ipykernel_3636/3196941531.py:23: FutureWarning: The behavior of DataFrame concatenation with empty or all-NA entries is deprecated. In a future version, this will no longer exclude empty or all-NA columns when determining the result dtypes. To retain the old behavior, exclude the relevant entries before the concat operation.\n",
      "  predictions = pd.concat([predictions, temp_df], ignore_index=True)\n",
      "/var/folders/x8/v7bmckc139v2dqcm04jgfjlr0000gn/T/ipykernel_3636/3196941531.py:23: FutureWarning: The behavior of DataFrame concatenation with empty or all-NA entries is deprecated. In a future version, this will no longer exclude empty or all-NA columns when determining the result dtypes. To retain the old behavior, exclude the relevant entries before the concat operation.\n",
      "  predictions = pd.concat([predictions, temp_df], ignore_index=True)\n",
      "/var/folders/x8/v7bmckc139v2dqcm04jgfjlr0000gn/T/ipykernel_3636/3196941531.py:23: FutureWarning: The behavior of DataFrame concatenation with empty or all-NA entries is deprecated. In a future version, this will no longer exclude empty or all-NA columns when determining the result dtypes. To retain the old behavior, exclude the relevant entries before the concat operation.\n",
      "  predictions = pd.concat([predictions, temp_df], ignore_index=True)\n",
      "/var/folders/x8/v7bmckc139v2dqcm04jgfjlr0000gn/T/ipykernel_3636/3196941531.py:23: FutureWarning: The behavior of DataFrame concatenation with empty or all-NA entries is deprecated. In a future version, this will no longer exclude empty or all-NA columns when determining the result dtypes. To retain the old behavior, exclude the relevant entries before the concat operation.\n",
      "  predictions = pd.concat([predictions, temp_df], ignore_index=True)\n",
      "/var/folders/x8/v7bmckc139v2dqcm04jgfjlr0000gn/T/ipykernel_3636/3196941531.py:23: FutureWarning: The behavior of DataFrame concatenation with empty or all-NA entries is deprecated. In a future version, this will no longer exclude empty or all-NA columns when determining the result dtypes. To retain the old behavior, exclude the relevant entries before the concat operation.\n",
      "  predictions = pd.concat([predictions, temp_df], ignore_index=True)\n"
     ]
    },
    {
     "name": "stdout",
     "output_type": "stream",
     "text": [
      "Beginning forecast for 2023-09-23 00:00:00\n"
     ]
    },
    {
     "name": "stderr",
     "output_type": "stream",
     "text": [
      "/var/folders/x8/v7bmckc139v2dqcm04jgfjlr0000gn/T/ipykernel_3636/3196941531.py:11: FutureWarning: The behavior of DataFrame concatenation with empty or all-NA entries is deprecated. In a future version, this will no longer exclude empty or all-NA columns when determining the result dtypes. To retain the old behavior, exclude the relevant entries before the concat operation.\n",
      "  predictions = pd.concat([predictions, temp_df], ignore_index=True)\n",
      "/var/folders/x8/v7bmckc139v2dqcm04jgfjlr0000gn/T/ipykernel_3636/2637449371.py:65: FutureWarning: The behavior of DataFrame concatenation with empty or all-NA entries is deprecated. In a future version, this will no longer exclude empty or all-NA columns when determining the result dtypes. To retain the old behavior, exclude the relevant entries before the concat operation.\n",
      "  all_forecasts = pd.concat([all_forecasts, forecasted_temp])\n",
      "/var/folders/x8/v7bmckc139v2dqcm04jgfjlr0000gn/T/ipykernel_3636/3196941531.py:23: FutureWarning: The behavior of DataFrame concatenation with empty or all-NA entries is deprecated. In a future version, this will no longer exclude empty or all-NA columns when determining the result dtypes. To retain the old behavior, exclude the relevant entries before the concat operation.\n",
      "  predictions = pd.concat([predictions, temp_df], ignore_index=True)\n",
      "/var/folders/x8/v7bmckc139v2dqcm04jgfjlr0000gn/T/ipykernel_3636/3196941531.py:23: FutureWarning: The behavior of DataFrame concatenation with empty or all-NA entries is deprecated. In a future version, this will no longer exclude empty or all-NA columns when determining the result dtypes. To retain the old behavior, exclude the relevant entries before the concat operation.\n",
      "  predictions = pd.concat([predictions, temp_df], ignore_index=True)\n",
      "/var/folders/x8/v7bmckc139v2dqcm04jgfjlr0000gn/T/ipykernel_3636/3196941531.py:23: FutureWarning: The behavior of DataFrame concatenation with empty or all-NA entries is deprecated. In a future version, this will no longer exclude empty or all-NA columns when determining the result dtypes. To retain the old behavior, exclude the relevant entries before the concat operation.\n",
      "  predictions = pd.concat([predictions, temp_df], ignore_index=True)\n",
      "/var/folders/x8/v7bmckc139v2dqcm04jgfjlr0000gn/T/ipykernel_3636/3196941531.py:23: FutureWarning: The behavior of DataFrame concatenation with empty or all-NA entries is deprecated. In a future version, this will no longer exclude empty or all-NA columns when determining the result dtypes. To retain the old behavior, exclude the relevant entries before the concat operation.\n",
      "  predictions = pd.concat([predictions, temp_df], ignore_index=True)\n",
      "/var/folders/x8/v7bmckc139v2dqcm04jgfjlr0000gn/T/ipykernel_3636/3196941531.py:23: FutureWarning: The behavior of DataFrame concatenation with empty or all-NA entries is deprecated. In a future version, this will no longer exclude empty or all-NA columns when determining the result dtypes. To retain the old behavior, exclude the relevant entries before the concat operation.\n",
      "  predictions = pd.concat([predictions, temp_df], ignore_index=True)\n",
      "/var/folders/x8/v7bmckc139v2dqcm04jgfjlr0000gn/T/ipykernel_3636/3196941531.py:23: FutureWarning: The behavior of DataFrame concatenation with empty or all-NA entries is deprecated. In a future version, this will no longer exclude empty or all-NA columns when determining the result dtypes. To retain the old behavior, exclude the relevant entries before the concat operation.\n",
      "  predictions = pd.concat([predictions, temp_df], ignore_index=True)\n",
      "/var/folders/x8/v7bmckc139v2dqcm04jgfjlr0000gn/T/ipykernel_3636/3196941531.py:11: FutureWarning: The behavior of DataFrame concatenation with empty or all-NA entries is deprecated. In a future version, this will no longer exclude empty or all-NA columns when determining the result dtypes. To retain the old behavior, exclude the relevant entries before the concat operation.\n",
      "  predictions = pd.concat([predictions, temp_df], ignore_index=True)\n"
     ]
    },
    {
     "name": "stdout",
     "output_type": "stream",
     "text": [
      "Beginning forecast for 2023-09-24 00:00:00\n"
     ]
    },
    {
     "name": "stderr",
     "output_type": "stream",
     "text": [
      "/var/folders/x8/v7bmckc139v2dqcm04jgfjlr0000gn/T/ipykernel_3636/2637449371.py:65: FutureWarning: The behavior of DataFrame concatenation with empty or all-NA entries is deprecated. In a future version, this will no longer exclude empty or all-NA columns when determining the result dtypes. To retain the old behavior, exclude the relevant entries before the concat operation.\n",
      "  all_forecasts = pd.concat([all_forecasts, forecasted_temp])\n",
      "/var/folders/x8/v7bmckc139v2dqcm04jgfjlr0000gn/T/ipykernel_3636/3196941531.py:23: FutureWarning: The behavior of DataFrame concatenation with empty or all-NA entries is deprecated. In a future version, this will no longer exclude empty or all-NA columns when determining the result dtypes. To retain the old behavior, exclude the relevant entries before the concat operation.\n",
      "  predictions = pd.concat([predictions, temp_df], ignore_index=True)\n",
      "/var/folders/x8/v7bmckc139v2dqcm04jgfjlr0000gn/T/ipykernel_3636/3196941531.py:23: FutureWarning: The behavior of DataFrame concatenation with empty or all-NA entries is deprecated. In a future version, this will no longer exclude empty or all-NA columns when determining the result dtypes. To retain the old behavior, exclude the relevant entries before the concat operation.\n",
      "  predictions = pd.concat([predictions, temp_df], ignore_index=True)\n",
      "/var/folders/x8/v7bmckc139v2dqcm04jgfjlr0000gn/T/ipykernel_3636/3196941531.py:23: FutureWarning: The behavior of DataFrame concatenation with empty or all-NA entries is deprecated. In a future version, this will no longer exclude empty or all-NA columns when determining the result dtypes. To retain the old behavior, exclude the relevant entries before the concat operation.\n",
      "  predictions = pd.concat([predictions, temp_df], ignore_index=True)\n",
      "/var/folders/x8/v7bmckc139v2dqcm04jgfjlr0000gn/T/ipykernel_3636/3196941531.py:23: FutureWarning: The behavior of DataFrame concatenation with empty or all-NA entries is deprecated. In a future version, this will no longer exclude empty or all-NA columns when determining the result dtypes. To retain the old behavior, exclude the relevant entries before the concat operation.\n",
      "  predictions = pd.concat([predictions, temp_df], ignore_index=True)\n",
      "/var/folders/x8/v7bmckc139v2dqcm04jgfjlr0000gn/T/ipykernel_3636/3196941531.py:23: FutureWarning: The behavior of DataFrame concatenation with empty or all-NA entries is deprecated. In a future version, this will no longer exclude empty or all-NA columns when determining the result dtypes. To retain the old behavior, exclude the relevant entries before the concat operation.\n",
      "  predictions = pd.concat([predictions, temp_df], ignore_index=True)\n",
      "/var/folders/x8/v7bmckc139v2dqcm04jgfjlr0000gn/T/ipykernel_3636/3196941531.py:23: FutureWarning: The behavior of DataFrame concatenation with empty or all-NA entries is deprecated. In a future version, this will no longer exclude empty or all-NA columns when determining the result dtypes. To retain the old behavior, exclude the relevant entries before the concat operation.\n",
      "  predictions = pd.concat([predictions, temp_df], ignore_index=True)\n"
     ]
    },
    {
     "name": "stdout",
     "output_type": "stream",
     "text": [
      "Beginning forecast for 2023-09-25 00:00:00\n"
     ]
    },
    {
     "name": "stderr",
     "output_type": "stream",
     "text": [
      "/var/folders/x8/v7bmckc139v2dqcm04jgfjlr0000gn/T/ipykernel_3636/3196941531.py:11: FutureWarning: The behavior of DataFrame concatenation with empty or all-NA entries is deprecated. In a future version, this will no longer exclude empty or all-NA columns when determining the result dtypes. To retain the old behavior, exclude the relevant entries before the concat operation.\n",
      "  predictions = pd.concat([predictions, temp_df], ignore_index=True)\n",
      "/var/folders/x8/v7bmckc139v2dqcm04jgfjlr0000gn/T/ipykernel_3636/2637449371.py:65: FutureWarning: The behavior of DataFrame concatenation with empty or all-NA entries is deprecated. In a future version, this will no longer exclude empty or all-NA columns when determining the result dtypes. To retain the old behavior, exclude the relevant entries before the concat operation.\n",
      "  all_forecasts = pd.concat([all_forecasts, forecasted_temp])\n",
      "/var/folders/x8/v7bmckc139v2dqcm04jgfjlr0000gn/T/ipykernel_3636/3196941531.py:23: FutureWarning: The behavior of DataFrame concatenation with empty or all-NA entries is deprecated. In a future version, this will no longer exclude empty or all-NA columns when determining the result dtypes. To retain the old behavior, exclude the relevant entries before the concat operation.\n",
      "  predictions = pd.concat([predictions, temp_df], ignore_index=True)\n",
      "/var/folders/x8/v7bmckc139v2dqcm04jgfjlr0000gn/T/ipykernel_3636/3196941531.py:23: FutureWarning: The behavior of DataFrame concatenation with empty or all-NA entries is deprecated. In a future version, this will no longer exclude empty or all-NA columns when determining the result dtypes. To retain the old behavior, exclude the relevant entries before the concat operation.\n",
      "  predictions = pd.concat([predictions, temp_df], ignore_index=True)\n",
      "/var/folders/x8/v7bmckc139v2dqcm04jgfjlr0000gn/T/ipykernel_3636/3196941531.py:23: FutureWarning: The behavior of DataFrame concatenation with empty or all-NA entries is deprecated. In a future version, this will no longer exclude empty or all-NA columns when determining the result dtypes. To retain the old behavior, exclude the relevant entries before the concat operation.\n",
      "  predictions = pd.concat([predictions, temp_df], ignore_index=True)\n",
      "/var/folders/x8/v7bmckc139v2dqcm04jgfjlr0000gn/T/ipykernel_3636/3196941531.py:23: FutureWarning: The behavior of DataFrame concatenation with empty or all-NA entries is deprecated. In a future version, this will no longer exclude empty or all-NA columns when determining the result dtypes. To retain the old behavior, exclude the relevant entries before the concat operation.\n",
      "  predictions = pd.concat([predictions, temp_df], ignore_index=True)\n",
      "/var/folders/x8/v7bmckc139v2dqcm04jgfjlr0000gn/T/ipykernel_3636/3196941531.py:23: FutureWarning: The behavior of DataFrame concatenation with empty or all-NA entries is deprecated. In a future version, this will no longer exclude empty or all-NA columns when determining the result dtypes. To retain the old behavior, exclude the relevant entries before the concat operation.\n",
      "  predictions = pd.concat([predictions, temp_df], ignore_index=True)\n",
      "/var/folders/x8/v7bmckc139v2dqcm04jgfjlr0000gn/T/ipykernel_3636/3196941531.py:23: FutureWarning: The behavior of DataFrame concatenation with empty or all-NA entries is deprecated. In a future version, this will no longer exclude empty or all-NA columns when determining the result dtypes. To retain the old behavior, exclude the relevant entries before the concat operation.\n",
      "  predictions = pd.concat([predictions, temp_df], ignore_index=True)\n",
      "/var/folders/x8/v7bmckc139v2dqcm04jgfjlr0000gn/T/ipykernel_3636/3196941531.py:11: FutureWarning: The behavior of DataFrame concatenation with empty or all-NA entries is deprecated. In a future version, this will no longer exclude empty or all-NA columns when determining the result dtypes. To retain the old behavior, exclude the relevant entries before the concat operation.\n",
      "  predictions = pd.concat([predictions, temp_df], ignore_index=True)\n"
     ]
    },
    {
     "name": "stdout",
     "output_type": "stream",
     "text": [
      "Beginning forecast for 2023-09-26 00:00:00\n"
     ]
    },
    {
     "name": "stderr",
     "output_type": "stream",
     "text": [
      "/var/folders/x8/v7bmckc139v2dqcm04jgfjlr0000gn/T/ipykernel_3636/2637449371.py:65: FutureWarning: The behavior of DataFrame concatenation with empty or all-NA entries is deprecated. In a future version, this will no longer exclude empty or all-NA columns when determining the result dtypes. To retain the old behavior, exclude the relevant entries before the concat operation.\n",
      "  all_forecasts = pd.concat([all_forecasts, forecasted_temp])\n",
      "/var/folders/x8/v7bmckc139v2dqcm04jgfjlr0000gn/T/ipykernel_3636/3196941531.py:23: FutureWarning: The behavior of DataFrame concatenation with empty or all-NA entries is deprecated. In a future version, this will no longer exclude empty or all-NA columns when determining the result dtypes. To retain the old behavior, exclude the relevant entries before the concat operation.\n",
      "  predictions = pd.concat([predictions, temp_df], ignore_index=True)\n",
      "/var/folders/x8/v7bmckc139v2dqcm04jgfjlr0000gn/T/ipykernel_3636/3196941531.py:23: FutureWarning: The behavior of DataFrame concatenation with empty or all-NA entries is deprecated. In a future version, this will no longer exclude empty or all-NA columns when determining the result dtypes. To retain the old behavior, exclude the relevant entries before the concat operation.\n",
      "  predictions = pd.concat([predictions, temp_df], ignore_index=True)\n",
      "/var/folders/x8/v7bmckc139v2dqcm04jgfjlr0000gn/T/ipykernel_3636/3196941531.py:23: FutureWarning: The behavior of DataFrame concatenation with empty or all-NA entries is deprecated. In a future version, this will no longer exclude empty or all-NA columns when determining the result dtypes. To retain the old behavior, exclude the relevant entries before the concat operation.\n",
      "  predictions = pd.concat([predictions, temp_df], ignore_index=True)\n",
      "/var/folders/x8/v7bmckc139v2dqcm04jgfjlr0000gn/T/ipykernel_3636/3196941531.py:23: FutureWarning: The behavior of DataFrame concatenation with empty or all-NA entries is deprecated. In a future version, this will no longer exclude empty or all-NA columns when determining the result dtypes. To retain the old behavior, exclude the relevant entries before the concat operation.\n",
      "  predictions = pd.concat([predictions, temp_df], ignore_index=True)\n",
      "/var/folders/x8/v7bmckc139v2dqcm04jgfjlr0000gn/T/ipykernel_3636/3196941531.py:23: FutureWarning: The behavior of DataFrame concatenation with empty or all-NA entries is deprecated. In a future version, this will no longer exclude empty or all-NA columns when determining the result dtypes. To retain the old behavior, exclude the relevant entries before the concat operation.\n",
      "  predictions = pd.concat([predictions, temp_df], ignore_index=True)\n"
     ]
    },
    {
     "ename": "IndexError",
     "evalue": "positional indexers are out-of-bounds",
     "output_type": "error",
     "traceback": [
      "\u001b[0;31m---------------------------------------------------------------------------\u001b[0m",
      "\u001b[0;31mIndexError\u001b[0m                                Traceback (most recent call last)",
      "File \u001b[0;32m~/miniconda3/envs/env_NW/lib/python3.10/site-packages/pandas/core/indexing.py:1714\u001b[0m, in \u001b[0;36m_iLocIndexer._get_list_axis\u001b[0;34m(self, key, axis)\u001b[0m\n\u001b[1;32m   1713\u001b[0m \u001b[38;5;28;01mtry\u001b[39;00m:\n\u001b[0;32m-> 1714\u001b[0m     \u001b[38;5;28;01mreturn\u001b[39;00m \u001b[38;5;28;43mself\u001b[39;49m\u001b[38;5;241;43m.\u001b[39;49m\u001b[43mobj\u001b[49m\u001b[38;5;241;43m.\u001b[39;49m\u001b[43m_take_with_is_copy\u001b[49m\u001b[43m(\u001b[49m\u001b[43mkey\u001b[49m\u001b[43m,\u001b[49m\u001b[43m \u001b[49m\u001b[43maxis\u001b[49m\u001b[38;5;241;43m=\u001b[39;49m\u001b[43maxis\u001b[49m\u001b[43m)\u001b[49m\n\u001b[1;32m   1715\u001b[0m \u001b[38;5;28;01mexcept\u001b[39;00m \u001b[38;5;167;01mIndexError\u001b[39;00m \u001b[38;5;28;01mas\u001b[39;00m err:\n\u001b[1;32m   1716\u001b[0m     \u001b[38;5;66;03m# re-raise with different error message, e.g. test_getitem_ndarray_3d\u001b[39;00m\n",
      "File \u001b[0;32m~/miniconda3/envs/env_NW/lib/python3.10/site-packages/pandas/core/generic.py:4150\u001b[0m, in \u001b[0;36mNDFrame._take_with_is_copy\u001b[0;34m(self, indices, axis)\u001b[0m\n\u001b[1;32m   4141\u001b[0m \u001b[38;5;250m\u001b[39m\u001b[38;5;124;03m\"\"\"\u001b[39;00m\n\u001b[1;32m   4142\u001b[0m \u001b[38;5;124;03mInternal version of the `take` method that sets the `_is_copy`\u001b[39;00m\n\u001b[1;32m   4143\u001b[0m \u001b[38;5;124;03mattribute to keep track of the parent dataframe (using in indexing\u001b[39;00m\n\u001b[0;32m   (...)\u001b[0m\n\u001b[1;32m   4148\u001b[0m \u001b[38;5;124;03mSee the docstring of `take` for full explanation of the parameters.\u001b[39;00m\n\u001b[1;32m   4149\u001b[0m \u001b[38;5;124;03m\"\"\"\u001b[39;00m\n\u001b[0;32m-> 4150\u001b[0m result \u001b[38;5;241m=\u001b[39m \u001b[38;5;28;43mself\u001b[39;49m\u001b[38;5;241;43m.\u001b[39;49m\u001b[43mtake\u001b[49m\u001b[43m(\u001b[49m\u001b[43mindices\u001b[49m\u001b[38;5;241;43m=\u001b[39;49m\u001b[43mindices\u001b[49m\u001b[43m,\u001b[49m\u001b[43m \u001b[49m\u001b[43maxis\u001b[49m\u001b[38;5;241;43m=\u001b[39;49m\u001b[43maxis\u001b[49m\u001b[43m)\u001b[49m\n\u001b[1;32m   4151\u001b[0m \u001b[38;5;66;03m# Maybe set copy if we didn't actually change the index.\u001b[39;00m\n",
      "File \u001b[0;32m~/miniconda3/envs/env_NW/lib/python3.10/site-packages/pandas/core/generic.py:4130\u001b[0m, in \u001b[0;36mNDFrame.take\u001b[0;34m(self, indices, axis, **kwargs)\u001b[0m\n\u001b[1;32m   4126\u001b[0m     indices \u001b[38;5;241m=\u001b[39m np\u001b[38;5;241m.\u001b[39marange(\n\u001b[1;32m   4127\u001b[0m         indices\u001b[38;5;241m.\u001b[39mstart, indices\u001b[38;5;241m.\u001b[39mstop, indices\u001b[38;5;241m.\u001b[39mstep, dtype\u001b[38;5;241m=\u001b[39mnp\u001b[38;5;241m.\u001b[39mintp\n\u001b[1;32m   4128\u001b[0m     )\n\u001b[0;32m-> 4130\u001b[0m new_data \u001b[38;5;241m=\u001b[39m \u001b[38;5;28;43mself\u001b[39;49m\u001b[38;5;241;43m.\u001b[39;49m\u001b[43m_mgr\u001b[49m\u001b[38;5;241;43m.\u001b[39;49m\u001b[43mtake\u001b[49m\u001b[43m(\u001b[49m\n\u001b[1;32m   4131\u001b[0m \u001b[43m    \u001b[49m\u001b[43mindices\u001b[49m\u001b[43m,\u001b[49m\n\u001b[1;32m   4132\u001b[0m \u001b[43m    \u001b[49m\u001b[43maxis\u001b[49m\u001b[38;5;241;43m=\u001b[39;49m\u001b[38;5;28;43mself\u001b[39;49m\u001b[38;5;241;43m.\u001b[39;49m\u001b[43m_get_block_manager_axis\u001b[49m\u001b[43m(\u001b[49m\u001b[43maxis\u001b[49m\u001b[43m)\u001b[49m\u001b[43m,\u001b[49m\n\u001b[1;32m   4133\u001b[0m \u001b[43m    \u001b[49m\u001b[43mverify\u001b[49m\u001b[38;5;241;43m=\u001b[39;49m\u001b[38;5;28;43;01mTrue\u001b[39;49;00m\u001b[43m,\u001b[49m\n\u001b[1;32m   4134\u001b[0m \u001b[43m\u001b[49m\u001b[43m)\u001b[49m\n\u001b[1;32m   4135\u001b[0m \u001b[38;5;28;01mreturn\u001b[39;00m \u001b[38;5;28mself\u001b[39m\u001b[38;5;241m.\u001b[39m_constructor_from_mgr(new_data, axes\u001b[38;5;241m=\u001b[39mnew_data\u001b[38;5;241m.\u001b[39maxes)\u001b[38;5;241m.\u001b[39m__finalize__(\n\u001b[1;32m   4136\u001b[0m     \u001b[38;5;28mself\u001b[39m, method\u001b[38;5;241m=\u001b[39m\u001b[38;5;124m\"\u001b[39m\u001b[38;5;124mtake\u001b[39m\u001b[38;5;124m\"\u001b[39m\n\u001b[1;32m   4137\u001b[0m )\n",
      "File \u001b[0;32m~/miniconda3/envs/env_NW/lib/python3.10/site-packages/pandas/core/internals/managers.py:891\u001b[0m, in \u001b[0;36mBaseBlockManager.take\u001b[0;34m(self, indexer, axis, verify)\u001b[0m\n\u001b[1;32m    890\u001b[0m n \u001b[38;5;241m=\u001b[39m \u001b[38;5;28mself\u001b[39m\u001b[38;5;241m.\u001b[39mshape[axis]\n\u001b[0;32m--> 891\u001b[0m indexer \u001b[38;5;241m=\u001b[39m \u001b[43mmaybe_convert_indices\u001b[49m\u001b[43m(\u001b[49m\u001b[43mindexer\u001b[49m\u001b[43m,\u001b[49m\u001b[43m \u001b[49m\u001b[43mn\u001b[49m\u001b[43m,\u001b[49m\u001b[43m \u001b[49m\u001b[43mverify\u001b[49m\u001b[38;5;241;43m=\u001b[39;49m\u001b[43mverify\u001b[49m\u001b[43m)\u001b[49m\n\u001b[1;32m    893\u001b[0m new_labels \u001b[38;5;241m=\u001b[39m \u001b[38;5;28mself\u001b[39m\u001b[38;5;241m.\u001b[39maxes[axis]\u001b[38;5;241m.\u001b[39mtake(indexer)\n",
      "File \u001b[0;32m~/miniconda3/envs/env_NW/lib/python3.10/site-packages/pandas/core/indexers/utils.py:282\u001b[0m, in \u001b[0;36mmaybe_convert_indices\u001b[0;34m(indices, n, verify)\u001b[0m\n\u001b[1;32m    281\u001b[0m     \u001b[38;5;28;01mif\u001b[39;00m mask\u001b[38;5;241m.\u001b[39many():\n\u001b[0;32m--> 282\u001b[0m         \u001b[38;5;28;01mraise\u001b[39;00m \u001b[38;5;167;01mIndexError\u001b[39;00m(\u001b[38;5;124m\"\u001b[39m\u001b[38;5;124mindices are out-of-bounds\u001b[39m\u001b[38;5;124m\"\u001b[39m)\n\u001b[1;32m    283\u001b[0m \u001b[38;5;28;01mreturn\u001b[39;00m indices\n",
      "\u001b[0;31mIndexError\u001b[0m: indices are out-of-bounds",
      "\nThe above exception was the direct cause of the following exception:\n",
      "\u001b[0;31mIndexError\u001b[0m                                Traceback (most recent call last)",
      "Cell \u001b[0;32mIn[10], line 8\u001b[0m\n\u001b[1;32m      6\u001b[0m date \u001b[38;5;241m=\u001b[39m d\u001b[38;5;241m.\u001b[39mstrftime(\u001b[38;5;124m\"\u001b[39m\u001b[38;5;124m%\u001b[39m\u001b[38;5;124mY-\u001b[39m\u001b[38;5;124m%\u001b[39m\u001b[38;5;124mm-\u001b[39m\u001b[38;5;132;01m%d\u001b[39;00m\u001b[38;5;124m\"\u001b[39m)\n\u001b[1;32m      7\u001b[0m \u001b[38;5;66;03m# make the forecast\u001b[39;00m\n\u001b[0;32m----> 8\u001b[0m forecast \u001b[38;5;241m=\u001b[39m \u001b[43mmake_seven_day_forecast_control\u001b[49m\u001b[43m(\u001b[49m\u001b[43md\u001b[49m\u001b[43m)\u001b[49m\n\u001b[1;32m      9\u001b[0m \u001b[38;5;66;03m# calculate the values back from the transformed values\u001b[39;00m\n\u001b[1;32m     10\u001b[0m one_meter_transformed \u001b[38;5;241m=\u001b[39m calculate_vals(forecast[\u001b[38;5;124m\"\u001b[39m\u001b[38;5;124mmean_1m_temp_degC\u001b[39m\u001b[38;5;124m\"\u001b[39m], mean_std\u001b[38;5;241m.\u001b[39mloc[\u001b[38;5;124m\"\u001b[39m\u001b[38;5;124mmean_1m_temp_degC\u001b[39m\u001b[38;5;124m\"\u001b[39m, \u001b[38;5;124m\"\u001b[39m\u001b[38;5;124mmean\u001b[39m\u001b[38;5;124m\"\u001b[39m], mean_std\u001b[38;5;241m.\u001b[39mloc[\u001b[38;5;124m\"\u001b[39m\u001b[38;5;124mmean_1m_temp_degC\u001b[39m\u001b[38;5;124m\"\u001b[39m, \u001b[38;5;124m\"\u001b[39m\u001b[38;5;124mstd\u001b[39m\u001b[38;5;124m\"\u001b[39m])\n",
      "Cell \u001b[0;32mIn[7], line 60\u001b[0m, in \u001b[0;36mmake_seven_day_forecast_control\u001b[0;34m(date)\u001b[0m\n\u001b[1;32m     57\u001b[0m     to_forecast \u001b[38;5;241m=\u001b[39m to_forecast[forecast_cols_less]\n\u001b[1;32m     59\u001b[0m     \u001b[38;5;66;03m# and now forecast on that data\u001b[39;00m\n\u001b[0;32m---> 60\u001b[0m     forecasted_temp \u001b[38;5;241m=\u001b[39m (\u001b[43mmake_forecast_by_model\u001b[49m\u001b[43m(\u001b[49m\u001b[43mto_forecast\u001b[49m\u001b[43m,\u001b[49m\u001b[43m \u001b[49m\n\u001b[1;32m     61\u001b[0m \u001b[43m                                             \u001b[49m\u001b[43m[\u001b[49m\u001b[43mmodel_1\u001b[49m\u001b[43m,\u001b[49m\u001b[43m \u001b[49m\u001b[43mmodel_2\u001b[49m\u001b[43m,\u001b[49m\u001b[43m \u001b[49m\u001b[43mmodel_3\u001b[49m\u001b[43m,\u001b[49m\u001b[43m \u001b[49m\u001b[43mmodel_4\u001b[49m\u001b[43m,\u001b[49m\u001b[43m \u001b[49m\u001b[43mmodel_5\u001b[49m\u001b[43m,\u001b[49m\u001b[43m \u001b[49m\u001b[43mmodel_6\u001b[49m\u001b[43m,\u001b[49m\u001b[43m \u001b[49m\u001b[43mmodel_7\u001b[49m\u001b[43m,\u001b[49m\u001b[43m \u001b[49m\u001b[43mmodel_8\u001b[49m\u001b[43m,\u001b[49m\u001b[43m \u001b[49m\u001b[43mmodel_9\u001b[49m\u001b[43m]\u001b[49m\u001b[43m,\u001b[49m\u001b[43m \u001b[49m\n\u001b[1;32m     62\u001b[0m \u001b[43m                                             \u001b[49m\u001b[43mvalid_date\u001b[49m\u001b[43m)\u001b[49m)\n\u001b[1;32m     64\u001b[0m \u001b[38;5;66;03m# append the forecasted data to the all_forecasts dataframe\u001b[39;00m\n\u001b[1;32m     65\u001b[0m all_forecasts \u001b[38;5;241m=\u001b[39m pd\u001b[38;5;241m.\u001b[39mconcat([all_forecasts, forecasted_temp])\n",
      "Cell \u001b[0;32mIn[6], line 18\u001b[0m, in \u001b[0;36mmake_forecast_by_model\u001b[0;34m(features, models, valid_date)\u001b[0m\n\u001b[1;32m     16\u001b[0m \u001b[38;5;28;01mfor\u001b[39;00m i, model \u001b[38;5;129;01min\u001b[39;00m \u001b[38;5;28menumerate\u001b[39m(models, start\u001b[38;5;241m=\u001b[39m\u001b[38;5;241m1\u001b[39m):\n\u001b[1;32m     17\u001b[0m     preds \u001b[38;5;241m=\u001b[39m {}\n\u001b[0;32m---> 18\u001b[0m     model_features \u001b[38;5;241m=\u001b[39m \u001b[43mfeatures\u001b[49m\u001b[38;5;241;43m.\u001b[39;49m\u001b[43miloc\u001b[49m\u001b[43m[\u001b[49m\u001b[43m[\u001b[49m\u001b[43mi\u001b[49m\u001b[38;5;241;43m-\u001b[39;49m\u001b[38;5;241;43m1\u001b[39;49m\u001b[43m]\u001b[49m\u001b[43m]\u001b[49m\n\u001b[1;32m     19\u001b[0m     preds \u001b[38;5;241m=\u001b[39m model\u001b[38;5;241m.\u001b[39mpredict(model_features)\n\u001b[1;32m     20\u001b[0m     temp_df \u001b[38;5;241m=\u001b[39m pd\u001b[38;5;241m.\u001b[39mDataFrame(preds, columns\u001b[38;5;241m=\u001b[39m[\u001b[38;5;124m'\u001b[39m\u001b[38;5;124mmean_1m_temp_degC\u001b[39m\u001b[38;5;124m'\u001b[39m, \u001b[38;5;124m'\u001b[39m\u001b[38;5;124mmean_0_5m_temp_degC\u001b[39m\u001b[38;5;124m'\u001b[39m])\n",
      "File \u001b[0;32m~/miniconda3/envs/env_NW/lib/python3.10/site-packages/pandas/core/indexing.py:1191\u001b[0m, in \u001b[0;36m_LocationIndexer.__getitem__\u001b[0;34m(self, key)\u001b[0m\n\u001b[1;32m   1189\u001b[0m maybe_callable \u001b[38;5;241m=\u001b[39m com\u001b[38;5;241m.\u001b[39mapply_if_callable(key, \u001b[38;5;28mself\u001b[39m\u001b[38;5;241m.\u001b[39mobj)\n\u001b[1;32m   1190\u001b[0m maybe_callable \u001b[38;5;241m=\u001b[39m \u001b[38;5;28mself\u001b[39m\u001b[38;5;241m.\u001b[39m_check_deprecated_callable_usage(key, maybe_callable)\n\u001b[0;32m-> 1191\u001b[0m \u001b[38;5;28;01mreturn\u001b[39;00m \u001b[38;5;28;43mself\u001b[39;49m\u001b[38;5;241;43m.\u001b[39;49m\u001b[43m_getitem_axis\u001b[49m\u001b[43m(\u001b[49m\u001b[43mmaybe_callable\u001b[49m\u001b[43m,\u001b[49m\u001b[43m \u001b[49m\u001b[43maxis\u001b[49m\u001b[38;5;241;43m=\u001b[39;49m\u001b[43maxis\u001b[49m\u001b[43m)\u001b[49m\n",
      "File \u001b[0;32m~/miniconda3/envs/env_NW/lib/python3.10/site-packages/pandas/core/indexing.py:1743\u001b[0m, in \u001b[0;36m_iLocIndexer._getitem_axis\u001b[0;34m(self, key, axis)\u001b[0m\n\u001b[1;32m   1741\u001b[0m \u001b[38;5;66;03m# a list of integers\u001b[39;00m\n\u001b[1;32m   1742\u001b[0m \u001b[38;5;28;01melif\u001b[39;00m is_list_like_indexer(key):\n\u001b[0;32m-> 1743\u001b[0m     \u001b[38;5;28;01mreturn\u001b[39;00m \u001b[38;5;28;43mself\u001b[39;49m\u001b[38;5;241;43m.\u001b[39;49m\u001b[43m_get_list_axis\u001b[49m\u001b[43m(\u001b[49m\u001b[43mkey\u001b[49m\u001b[43m,\u001b[49m\u001b[43m \u001b[49m\u001b[43maxis\u001b[49m\u001b[38;5;241;43m=\u001b[39;49m\u001b[43maxis\u001b[49m\u001b[43m)\u001b[49m\n\u001b[1;32m   1745\u001b[0m \u001b[38;5;66;03m# a single integer\u001b[39;00m\n\u001b[1;32m   1746\u001b[0m \u001b[38;5;28;01melse\u001b[39;00m:\n\u001b[1;32m   1747\u001b[0m     key \u001b[38;5;241m=\u001b[39m item_from_zerodim(key)\n",
      "File \u001b[0;32m~/miniconda3/envs/env_NW/lib/python3.10/site-packages/pandas/core/indexing.py:1717\u001b[0m, in \u001b[0;36m_iLocIndexer._get_list_axis\u001b[0;34m(self, key, axis)\u001b[0m\n\u001b[1;32m   1714\u001b[0m     \u001b[38;5;28;01mreturn\u001b[39;00m \u001b[38;5;28mself\u001b[39m\u001b[38;5;241m.\u001b[39mobj\u001b[38;5;241m.\u001b[39m_take_with_is_copy(key, axis\u001b[38;5;241m=\u001b[39maxis)\n\u001b[1;32m   1715\u001b[0m \u001b[38;5;28;01mexcept\u001b[39;00m \u001b[38;5;167;01mIndexError\u001b[39;00m \u001b[38;5;28;01mas\u001b[39;00m err:\n\u001b[1;32m   1716\u001b[0m     \u001b[38;5;66;03m# re-raise with different error message, e.g. test_getitem_ndarray_3d\u001b[39;00m\n\u001b[0;32m-> 1717\u001b[0m     \u001b[38;5;28;01mraise\u001b[39;00m \u001b[38;5;167;01mIndexError\u001b[39;00m(\u001b[38;5;124m\"\u001b[39m\u001b[38;5;124mpositional indexers are out-of-bounds\u001b[39m\u001b[38;5;124m\"\u001b[39m) \u001b[38;5;28;01mfrom\u001b[39;00m \u001b[38;5;21;01merr\u001b[39;00m\n",
      "\u001b[0;31mIndexError\u001b[0m: positional indexers are out-of-bounds"
     ]
    }
   ],
   "source": [
    "datesequence = pd.date_range(start=\"2023-09-06\", end=\"2023-10-15\", freq=\"1D\")\n",
    "mean_std = pd.read_csv(os.path.join(data_dir, \"mean_std_train_val_summary_t2023_v2024-11-29.csv\"))\n",
    "mean_std = mean_std.set_index(\"Unnamed: 0\")\n",
    "\n",
    "for d in datesequence:\n",
    "    date = d.strftime(\"%Y-%m-%d\")\n",
    "    # make the forecast\n",
    "    forecast = make_seven_day_forecast_control(d)\n",
    "    # calculate the values back from the transformed values\n",
    "    one_meter_transformed = calculate_vals(forecast[\"mean_1m_temp_degC\"], mean_std.loc[\"mean_1m_temp_degC\", \"mean\"], mean_std.loc[\"mean_1m_temp_degC\", \"std\"])\n",
    "    forecast[\"mean_1m_temp_degC\"] = np.sqrt(one_meter_transformed)\n",
    "    forecast[\"mean_0_5m_temp_degC\"] = calculate_vals(forecast[\"mean_0_5m_temp_degC\"], mean_std.loc[\"mean_0_5m_temp_degC\", \"mean\"], mean_std.loc[\"mean_0_5m_temp_degC\", \"std\"])\n",
    "    # save the forecast\n",
    "    forecast.to_csv(f\"~/Documents/GitHub/ats-data-driven-forecasting/run-operational/output/control/{date}_seven_day_control.csv\", index=False)\n",
    "    "
   ]
  }
 ],
 "metadata": {
  "kernelspec": {
   "display_name": "env_NW",
   "language": "python",
   "name": "python3"
  },
  "language_info": {
   "codemirror_mode": {
    "name": "ipython",
    "version": 3
   },
   "file_extension": ".py",
   "mimetype": "text/x-python",
   "name": "python",
   "nbconvert_exporter": "python",
   "pygments_lexer": "ipython3",
   "version": "3.10.8"
  }
 },
 "nbformat": 4,
 "nbformat_minor": 2
}
