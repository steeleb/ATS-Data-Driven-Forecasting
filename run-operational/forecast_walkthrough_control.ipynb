{
 "cells": [
  {
   "cell_type": "markdown",
   "metadata": {},
   "source": [
    "This script walks through a forecast for SMR using the NN-operational model developed in the NASA-NW repo. "
   ]
  },
  {
   "cell_type": "markdown",
   "metadata": {},
   "source": [
    "# Import Modules"
   ]
  },
  {
   "cell_type": "code",
   "execution_count": 1,
   "metadata": {},
   "outputs": [
    {
     "name": "stderr",
     "output_type": "stream",
     "text": [
      "/var/folders/x8/v7bmckc139v2dqcm04jgfjlr0000gn/T/ipykernel_76899/3126687933.py:3: DeprecationWarning: the imp module is deprecated in favour of importlib and slated for removal in Python 3.12; see the module's documentation for alternative uses\n",
      "  import imp\n"
     ]
    }
   ],
   "source": [
    "#high level modules\n",
    "import os\n",
    "import imp\n",
    "import numpy as np\n",
    "import pandas as pd\n",
    "import matplotlib.pyplot as plt"
   ]
  },
  {
   "cell_type": "code",
   "execution_count": 2,
   "metadata": {},
   "outputs": [],
   "source": [
    "# custom modules\n",
    "this_dir = \"/Users/steeleb/Documents/GitHub/ats-data-driven-forecasting/NN-operational/arNN/\"\n",
    "\n",
    "imp.load_source(\"universals\", os.path.join(this_dir, \"universal_functions.py\"))\n",
    "from universals import load_pickle_file, calculate_vals\n"
   ]
  },
  {
   "cell_type": "markdown",
   "metadata": {},
   "source": [
    "# Import models"
   ]
  },
  {
   "cell_type": "code",
   "execution_count": 3,
   "metadata": {},
   "outputs": [],
   "source": [
    "model_dir = \"/Users/steeleb/Documents/GitHub/ats-data-driven-forecasting/data/NN_train_val_test/SMR_forecast/models/leaky_basic_5/\"\n",
    "\n",
    "model_1 = load_pickle_file(\"model_1.pkl\", model_dir)\n",
    "model_2 = load_pickle_file(\"model_2.pkl\", model_dir)\n",
    "model_3 = load_pickle_file(\"model_3.pkl\", model_dir)\n",
    "model_4 = load_pickle_file(\"model_4.pkl\", model_dir)\n",
    "model_5 = load_pickle_file(\"model_5.pkl\", model_dir)\n",
    "model_6 = load_pickle_file(\"model_6.pkl\", model_dir)\n",
    "model_7 = load_pickle_file(\"model_7.pkl\", model_dir)\n",
    "model_8 = load_pickle_file(\"model_8.pkl\", model_dir)\n"
   ]
  },
  {
   "cell_type": "markdown",
   "metadata": {},
   "source": [
    "# Import data"
   ]
  },
  {
   "cell_type": "code",
   "execution_count": 5,
   "metadata": {},
   "outputs": [],
   "source": [
    "data_dir = \"/Users/steeleb/Documents/GitHub/ats-data-driven-forecasting/data/NN_train_val_test/SMR_forecast/\"\n",
    "\n",
    "test = pd.read_csv(os.path.join(data_dir, \"t2022_standardized_v2024-11-25.csv\"))\n",
    "forecast = pd.read_csv(os.path.join(data_dir, \"t2022_forecast_std_v2024-10-28.csv\"))\n",
    "\n",
    "test[\"date\"] = pd.to_datetime(test[\"date\"])\n",
    "forecast[\"date\"] = pd.to_datetime(forecast[\"date\"])\n",
    "forecast[\"forecast_date\"] = pd.to_datetime(forecast[\"forecast_date\"])\n",
    "\n",
    "# we need the test columns to be the same as the forecast columns at the end of this, so grab the names for now\n",
    "forecast_cols = test.columns\n",
    "\n",
    "# and let's drop the observed temp data from the forecast columns, too\n",
    "forecast_cols_less = forecast_cols.drop([\"mean_1m_temp_degC\", \"mean_0_5m_temp_degC\", \"date\"])"
   ]
  },
  {
   "cell_type": "markdown",
   "metadata": {},
   "source": [
    "# Create function to roll out forecast\n",
    "\n",
    "This implementation just checks to see if, with observed data, we have any accuracy on a 7-day rollout."
   ]
  },
  {
   "cell_type": "code",
   "execution_count": 9,
   "metadata": {},
   "outputs": [],
   "source": [
    "def make_forecast(features, models, valid_date):\n",
    "    predictions = pd.DataFrame(columns=['mean_1m_temp_degC', 'mean_0_5m_temp_degC', 'model', 'valid_date'])\n",
    "    for i, model in enumerate(models, start=1):\n",
    "        preds = {}\n",
    "        preds = model.predict(features)\n",
    "        temp_df = pd.DataFrame(preds, columns=['mean_1m_temp_degC', 'mean_0_5m_temp_degC'])\n",
    "        for col in temp_df.columns:\n",
    "            temp_df[col] = np.sqrt(temp_df[col])\n",
    "        temp_df['model'] = i\n",
    "        temp_df['valid_date'] = valid_date\n",
    "        predictions = pd.concat([predictions, temp_df])\n",
    "    return predictions\n",
    "\n",
    "def make_forecast_by_model(features, models, valid_date):\n",
    "    predictions = pd.DataFrame(columns=['mean_1m_temp_degC', 'mean_0_5m_temp_degC', 'model', 'valid_date'])\n",
    "    for i, model in enumerate(models, start=1):\n",
    "        preds = {}\n",
    "        model_features = features.iloc[[i-1]]\n",
    "        preds = model.predict(model_features)\n",
    "        temp_df = pd.DataFrame(preds, columns=['mean_1m_temp_degC', 'mean_0_5m_temp_degC'])\n",
    "        temp_df['model'] = i\n",
    "        temp_df['valid_date'] = valid_date\n",
    "        predictions = pd.concat([predictions, temp_df])\n",
    "    return predictions"
   ]
  },
  {
   "cell_type": "code",
   "execution_count": 10,
   "metadata": {},
   "outputs": [],
   "source": [
    "\n",
    "def make_seven_day_forecast_control(date):\n",
    "    \n",
    "    print(f\"Beginning forecast for {date}\")\n",
    "    date = pd.to_datetime(date)\n",
    "    \n",
    "    # create a dataframe to store the forecasted data\n",
    "    all_forecasts = pd.DataFrame(columns=['valid_date', 'model', 'mean_1m_temp_degC', 'mean_0_5m_temp_degC'])\n",
    "\n",
    "    # we'll run a forecast for each day, since the following day's forecast will be based on the previous day's forecast\n",
    "    for d in range(0, 7):\n",
    "        \n",
    "        # Setup for the iteration\n",
    "        print(\"Forecasting day: \", d+1)\n",
    "        \n",
    "        # set the forecast date\n",
    "        valid_date = pd.to_datetime(date) + pd.DateOffset(days=d)\n",
    "        obs = test[test[\"date\"] == valid_date].copy()\n",
    "        \n",
    "        # the first day will be a bit different from subsequent days\n",
    "        if d == 0:\n",
    "\n",
    "            # preprocess the data into labels and features\n",
    "            features = obs.drop(columns = [\"date\", \"mean_1m_temp_degC\", \"mean_0_5m_temp_degC\"])\n",
    "            \n",
    "            forecasted_temp = make_forecast(features, [model_1, model_2, model_3, model_4, model_5, model_6, model_7, model_8], valid_date)\n",
    "            \n",
    "        elif d == 1:\n",
    "            # remove the labels and observed temperature data from yesterday and today (we'll replaced these with forecasted data)\n",
    "            obs_less = obs.drop(columns=[\"mean_1m_temp_degC\", \"mean_0_5m_temp_degC\", \n",
    "                                         \"mean_1m_temp_degC_m1\", \"mean_0_5m_temp_degC_m1\"])\n",
    "            # this should be one row of data\n",
    "            \n",
    "            # join the observed data with the forecasted data from the previous day by date\n",
    "            yesterday = all_forecasts.copy()\n",
    "            # get yesterday's forecasted data (valid date minus 1 day)\n",
    "            yesterday = yesterday[yesterday[\"valid_date\"] == valid_date - pd.DateOffset(days=1)]\n",
    "            # relabel yesterday's forecasted data as today's m1 data\n",
    "            yesterday = yesterday.rename(columns={\"valid_date\": \"date\",\n",
    "                                                  \"mean_1m_temp_degC\": \"mean_1m_temp_degC_m1\", \n",
    "                                                  \"mean_0_5m_temp_degC\": \"mean_0_5m_temp_degC_m1\"})\n",
    "            # now, set the date to today to join\n",
    "            yesterday[\"date\"] = pd.to_datetime(yesterday[\"date\"]) + pd.DateOffset(days=1)\n",
    "            yesterday = yesterday.set_index([\"date\"])\n",
    "            \n",
    "            # join the observed data with the forecasted data from the previous day by date\n",
    "            to_forecast = obs_less.join(yesterday, on=[\"date\"])\n",
    "            \n",
    "            # now we need to reorganize the columns to match the input columns, plus the model and peturbation colums\n",
    "            to_forecast = to_forecast.reset_index()\n",
    "            # now change model and date to the index\n",
    "            to_forecast = to_forecast.set_index([\"date\", \"model\"])\n",
    "            # and now reorganize the columns to match the input columns\n",
    "            to_forecast = to_forecast[forecast_cols_less]\n",
    "\n",
    "            # and now forecast on that data\n",
    "            forecasted_temp = make_forecast_by_model(to_forecast, [model_1, model_2, model_3, model_4, model_5, model_6, model_7, model_8], valid_date)\n",
    "\n",
    "        elif d == 2:\n",
    "            # remove the labels and observed temperature through m2 (we'll replaced these with forecasted data)\n",
    "            obs_less = obs.drop(columns=[\"mean_1m_temp_degC\", \"mean_0_5m_temp_degC\", \n",
    "                                         \"mean_1m_temp_degC_m1\", \"mean_0_5m_temp_degC_m1\",\n",
    "                                         \"mean_1m_temp_degC_m2\", \"mean_0_5m_temp_degC_m2\"])\n",
    "            # this should be one row of data\n",
    "            \n",
    "            # join the observed data with the forecasted data from the previous day by date\n",
    "            yesterday = all_forecasts.copy()\n",
    "            # get yesterday's forecasted data (valid date minus 1 day)\n",
    "            yesterday = yesterday[yesterday[\"valid_date\"] == valid_date - pd.DateOffset(days=1)]\n",
    "            # relabel yesterday's forecasted data as today's m1 data\n",
    "            yesterday = yesterday.rename(columns={\"valid_date\": \"date\",\n",
    "                                                  \"mean_1m_temp_degC\": \"mean_1m_temp_degC_m1\", \n",
    "                                                  \"mean_0_5m_temp_degC\": \"mean_0_5m_temp_degC_m1\"})\n",
    "            # now, set the date to today to join\n",
    "            yesterday[\"date\"] = pd.to_datetime(yesterday[\"date\"]) + pd.DateOffset(days=1)\n",
    "            yesterday = yesterday.set_index([\"date\"])\n",
    "\n",
    "            # and from the day before\n",
    "            m2 = all_forecasts.copy()\n",
    "            m2 = m2[m2[\"valid_date\"] == valid_date - pd.DateOffset(days=2)]\n",
    "            m2 = m2.rename(columns={\"valid_date\": \"date\",\n",
    "                                    \"mean_1m_temp_degC\": \"mean_1m_temp_degC_m2\", \n",
    "                                    \"mean_0_5m_temp_degC\": \"mean_0_5m_temp_degC_m2\"})\n",
    "            m2[\"date\"] = pd.to_datetime(m2[\"date\"]) + pd.DateOffset(days=2)\n",
    "            m2 = m2.set_index([\"date\", \"model\"])\n",
    "                        \n",
    "            # join the observed data with the forecasted data from the previous day by date\n",
    "            to_forecast = obs_less.join(yesterday, on=[\"date\"])\n",
    "            to_forecast = to_forecast.join(m2, on=[\"date\", \"model\"])\n",
    "            \n",
    "            # now we need to reorganize the columns to match the input columns, plus the model and peturbation colums\n",
    "            to_forecast = to_forecast.reset_index()\n",
    "            # now change model and date to the index\n",
    "            to_forecast = to_forecast.set_index([\"date\", \"model\"])\n",
    "            # and now reorganize the columns to match the input columns\n",
    "            to_forecast = to_forecast[forecast_cols_less]\n",
    "\n",
    "            # and now forecast on that data\n",
    "            forecasted_temp = make_forecast_by_model(to_forecast, [model_1, model_2, model_3, model_4, model_5, model_6, model_7, model_8], valid_date)\n",
    "        \n",
    "        elif d >= 3:\n",
    "            # remove the labels and observed temperature through m3 (we'll replaced these with forecasted data)\n",
    "            obs_less = obs.drop(columns=[\"mean_1m_temp_degC\", \"mean_0_5m_temp_degC\", \n",
    "                                         \"mean_1m_temp_degC_m1\", \"mean_0_5m_temp_degC_m1\",\n",
    "                                         \"mean_1m_temp_degC_m2\", \"mean_0_5m_temp_degC_m2\",\n",
    "                                         \"mean_1m_temp_degC_m3\", \"mean_0_5m_temp_degC_m3\"])\n",
    "            # this should be one row of data\n",
    "            \n",
    "            # join the observed data with the forecasted data from the previous day by date\n",
    "            yesterday = all_forecasts.copy()\n",
    "            # get yesterday's forecasted data (valid date minus 1 day)\n",
    "            yesterday = yesterday[yesterday[\"valid_date\"] == valid_date - pd.DateOffset(days=1)]\n",
    "            # relabel yesterday's forecasted data as today's m1 data\n",
    "            yesterday = yesterday.rename(columns={\"valid_date\": \"date\",\n",
    "                                                  \"mean_1m_temp_degC\": \"mean_1m_temp_degC_m1\", \n",
    "                                                  \"mean_0_5m_temp_degC\": \"mean_0_5m_temp_degC_m1\"})\n",
    "            # now, set the date to today to join\n",
    "            yesterday[\"date\"] = pd.to_datetime(yesterday[\"date\"]) + pd.DateOffset(days=1)\n",
    "            yesterday = yesterday.set_index([\"date\"])\n",
    "\n",
    "            # and from the day before\n",
    "            m2 = all_forecasts.copy()\n",
    "            m2 = m2[m2[\"valid_date\"] == valid_date - pd.DateOffset(days=2)]\n",
    "            m2 = m2.rename(columns={\"valid_date\": \"date\",\n",
    "                                    \"mean_1m_temp_degC\": \"mean_1m_temp_degC_m2\", \n",
    "                                    \"mean_0_5m_temp_degC\": \"mean_0_5m_temp_degC_m2\"})\n",
    "            m2[\"date\"] = pd.to_datetime(m2[\"date\"]) + pd.DateOffset(days=2)\n",
    "            m2 = m2.set_index([\"date\", \"model\"])\n",
    "\n",
    "            # and from the day before\n",
    "            m3 = all_forecasts.copy()\n",
    "            m3 = m3[m3[\"valid_date\"] == valid_date - pd.DateOffset(days=3)]\n",
    "            m3 = m3.rename(columns={\"valid_date\": \"date\",\n",
    "                                    \"mean_1m_temp_degC\": \"mean_1m_temp_degC_m3\", \n",
    "                                    \"mean_0_5m_temp_degC\": \"mean_0_5m_temp_degC_m3\"})\n",
    "            m3[\"date\"] = pd.to_datetime(m3[\"date\"]) + pd.DateOffset(days=3)\n",
    "            m3 = m3.set_index([\"date\", \"model\"])\n",
    "                                    \n",
    "            # join the observed data with the forecasted data from the previous day by date\n",
    "            to_forecast = obs_less.join(yesterday, on=[\"date\"])\n",
    "            to_forecast = to_forecast.join(m2, on=[\"date\", \"model\"])\n",
    "            to_forecast = to_forecast.join(m3, on=[\"date\", \"model\"])\n",
    "            \n",
    "            # now we need to reorganize the columns to match the input columns, plus the model and peturbation colums\n",
    "            to_forecast = to_forecast.reset_index()\n",
    "            # now change model and date to the index\n",
    "            to_forecast = to_forecast.set_index([\"date\", \"model\"])\n",
    "            # and now reorganize the columns to match the input columns\n",
    "            to_forecast = to_forecast[forecast_cols_less]\n",
    "\n",
    "            # and now forecast on that data\n",
    "            forecasted_temp = make_forecast_by_model(to_forecast, [model_1, model_2, model_3, model_4, model_5, model_6, model_7, model_8], valid_date)\n",
    "\n",
    "        # append the forecasted data to the all_forecasts dataframe\n",
    "        all_forecasts = pd.concat([all_forecasts, forecasted_temp])\n",
    "        \n",
    "    return all_forecasts\n"
   ]
  },
  {
   "cell_type": "markdown",
   "metadata": {},
   "source": [
    "# Make forecasts"
   ]
  },
  {
   "cell_type": "code",
   "execution_count": 11,
   "metadata": {},
   "outputs": [
    {
     "name": "stdout",
     "output_type": "stream",
     "text": [
      "Beginning forecast for 2022-06-01 00:00:00\n",
      "Forecasting day:  1\n"
     ]
    },
    {
     "ename": "ValueError",
     "evalue": "Unexpected result of `predict_function` (Empty batch_outputs). Please use `Model.compile(..., run_eagerly=True)`, or `tf.config.run_functions_eagerly(True)` for more information of where went wrong, or file a issue/bug to `tf.keras`.",
     "output_type": "error",
     "traceback": [
      "\u001b[0;31m---------------------------------------------------------------------------\u001b[0m",
      "\u001b[0;31mValueError\u001b[0m                                Traceback (most recent call last)",
      "Cell \u001b[0;32mIn[11], line 8\u001b[0m\n\u001b[1;32m      6\u001b[0m date \u001b[38;5;241m=\u001b[39m d\u001b[38;5;241m.\u001b[39mstrftime(\u001b[38;5;124m\"\u001b[39m\u001b[38;5;124m%\u001b[39m\u001b[38;5;124mY-\u001b[39m\u001b[38;5;124m%\u001b[39m\u001b[38;5;124mm-\u001b[39m\u001b[38;5;132;01m%d\u001b[39;00m\u001b[38;5;124m\"\u001b[39m)\n\u001b[1;32m      7\u001b[0m \u001b[38;5;66;03m# make the forecast\u001b[39;00m\n\u001b[0;32m----> 8\u001b[0m forecast \u001b[38;5;241m=\u001b[39m \u001b[43mmake_seven_day_forecast_control\u001b[49m\u001b[43m(\u001b[49m\u001b[43md\u001b[49m\u001b[43m)\u001b[49m\n\u001b[1;32m      9\u001b[0m \u001b[38;5;66;03m# calculate the values back from the transformed values\u001b[39;00m\n\u001b[1;32m     10\u001b[0m forecast[\u001b[38;5;124m\"\u001b[39m\u001b[38;5;124mmean_1m_temp_degC\u001b[39m\u001b[38;5;124m\"\u001b[39m] \u001b[38;5;241m=\u001b[39m calculate_vals(forecast[\u001b[38;5;124m\"\u001b[39m\u001b[38;5;124mmean_1m_temp_degC\u001b[39m\u001b[38;5;124m\"\u001b[39m], mean_std\u001b[38;5;241m.\u001b[39mloc[\u001b[38;5;124m\"\u001b[39m\u001b[38;5;124mmean_1m_temp_degC\u001b[39m\u001b[38;5;124m\"\u001b[39m, \u001b[38;5;124m\"\u001b[39m\u001b[38;5;124mmean\u001b[39m\u001b[38;5;124m\"\u001b[39m], mean_std\u001b[38;5;241m.\u001b[39mloc[\u001b[38;5;124m\"\u001b[39m\u001b[38;5;124mmean_1m_temp_degC\u001b[39m\u001b[38;5;124m\"\u001b[39m, \u001b[38;5;124m\"\u001b[39m\u001b[38;5;124mstd\u001b[39m\u001b[38;5;124m\"\u001b[39m])\n",
      "Cell \u001b[0;32mIn[10], line 25\u001b[0m, in \u001b[0;36mmake_seven_day_forecast_control\u001b[0;34m(date)\u001b[0m\n\u001b[1;32m     20\u001b[0m \u001b[38;5;28;01mif\u001b[39;00m d \u001b[38;5;241m==\u001b[39m \u001b[38;5;241m0\u001b[39m:\n\u001b[1;32m     21\u001b[0m \n\u001b[1;32m     22\u001b[0m     \u001b[38;5;66;03m# preprocess the data into labels and features\u001b[39;00m\n\u001b[1;32m     23\u001b[0m     features \u001b[38;5;241m=\u001b[39m obs\u001b[38;5;241m.\u001b[39mdrop(columns \u001b[38;5;241m=\u001b[39m [\u001b[38;5;124m\"\u001b[39m\u001b[38;5;124mdate\u001b[39m\u001b[38;5;124m\"\u001b[39m, \u001b[38;5;124m\"\u001b[39m\u001b[38;5;124mmean_1m_temp_degC\u001b[39m\u001b[38;5;124m\"\u001b[39m, \u001b[38;5;124m\"\u001b[39m\u001b[38;5;124mmean_0_5m_temp_degC\u001b[39m\u001b[38;5;124m\"\u001b[39m])\n\u001b[0;32m---> 25\u001b[0m     forecasted_temp \u001b[38;5;241m=\u001b[39m \u001b[43mmake_forecast\u001b[49m\u001b[43m(\u001b[49m\u001b[43mfeatures\u001b[49m\u001b[43m,\u001b[49m\u001b[43m \u001b[49m\u001b[43m[\u001b[49m\u001b[43mmodel_1\u001b[49m\u001b[43m,\u001b[49m\u001b[43m \u001b[49m\u001b[43mmodel_2\u001b[49m\u001b[43m,\u001b[49m\u001b[43m \u001b[49m\u001b[43mmodel_3\u001b[49m\u001b[43m,\u001b[49m\u001b[43m \u001b[49m\u001b[43mmodel_4\u001b[49m\u001b[43m,\u001b[49m\u001b[43m \u001b[49m\u001b[43mmodel_5\u001b[49m\u001b[43m,\u001b[49m\u001b[43m \u001b[49m\u001b[43mmodel_6\u001b[49m\u001b[43m,\u001b[49m\u001b[43m \u001b[49m\u001b[43mmodel_7\u001b[49m\u001b[43m,\u001b[49m\u001b[43m \u001b[49m\u001b[43mmodel_8\u001b[49m\u001b[43m]\u001b[49m\u001b[43m,\u001b[49m\u001b[43m \u001b[49m\u001b[43mvalid_date\u001b[49m\u001b[43m)\u001b[49m\n\u001b[1;32m     27\u001b[0m \u001b[38;5;28;01melif\u001b[39;00m d \u001b[38;5;241m==\u001b[39m \u001b[38;5;241m1\u001b[39m:\n\u001b[1;32m     28\u001b[0m     \u001b[38;5;66;03m# remove the labels and observed temperature data from yesterday and today (we'll replaced these with forecasted data)\u001b[39;00m\n\u001b[1;32m     29\u001b[0m     obs_less \u001b[38;5;241m=\u001b[39m obs\u001b[38;5;241m.\u001b[39mdrop(columns\u001b[38;5;241m=\u001b[39m[\u001b[38;5;124m\"\u001b[39m\u001b[38;5;124mmean_1m_temp_degC\u001b[39m\u001b[38;5;124m\"\u001b[39m, \u001b[38;5;124m\"\u001b[39m\u001b[38;5;124mmean_0_5m_temp_degC\u001b[39m\u001b[38;5;124m\"\u001b[39m, \n\u001b[1;32m     30\u001b[0m                                  \u001b[38;5;124m\"\u001b[39m\u001b[38;5;124mmean_1m_temp_degC_m1\u001b[39m\u001b[38;5;124m\"\u001b[39m, \u001b[38;5;124m\"\u001b[39m\u001b[38;5;124mmean_0_5m_temp_degC_m1\u001b[39m\u001b[38;5;124m\"\u001b[39m])\n",
      "Cell \u001b[0;32mIn[9], line 5\u001b[0m, in \u001b[0;36mmake_forecast\u001b[0;34m(features, models, valid_date)\u001b[0m\n\u001b[1;32m      3\u001b[0m \u001b[38;5;28;01mfor\u001b[39;00m i, model \u001b[38;5;129;01min\u001b[39;00m \u001b[38;5;28menumerate\u001b[39m(models, start\u001b[38;5;241m=\u001b[39m\u001b[38;5;241m1\u001b[39m):\n\u001b[1;32m      4\u001b[0m     preds \u001b[38;5;241m=\u001b[39m {}\n\u001b[0;32m----> 5\u001b[0m     preds \u001b[38;5;241m=\u001b[39m \u001b[43mmodel\u001b[49m\u001b[38;5;241;43m.\u001b[39;49m\u001b[43mpredict\u001b[49m\u001b[43m(\u001b[49m\u001b[43mfeatures\u001b[49m\u001b[43m)\u001b[49m\n\u001b[1;32m      6\u001b[0m     temp_df \u001b[38;5;241m=\u001b[39m pd\u001b[38;5;241m.\u001b[39mDataFrame(preds, columns\u001b[38;5;241m=\u001b[39m[\u001b[38;5;124m'\u001b[39m\u001b[38;5;124mmean_1m_temp_degC\u001b[39m\u001b[38;5;124m'\u001b[39m, \u001b[38;5;124m'\u001b[39m\u001b[38;5;124mmean_0_5m_temp_degC\u001b[39m\u001b[38;5;124m'\u001b[39m])\n\u001b[1;32m      7\u001b[0m     \u001b[38;5;28;01mfor\u001b[39;00m col \u001b[38;5;129;01min\u001b[39;00m temp_df\u001b[38;5;241m.\u001b[39mcolumns:\n",
      "File \u001b[0;32m~/miniconda3/envs/env_NW/lib/python3.10/site-packages/keras/utils/traceback_utils.py:67\u001b[0m, in \u001b[0;36mfilter_traceback.<locals>.error_handler\u001b[0;34m(*args, **kwargs)\u001b[0m\n\u001b[1;32m     65\u001b[0m \u001b[38;5;28;01mexcept\u001b[39;00m \u001b[38;5;167;01mException\u001b[39;00m \u001b[38;5;28;01mas\u001b[39;00m e:  \u001b[38;5;66;03m# pylint: disable=broad-except\u001b[39;00m\n\u001b[1;32m     66\u001b[0m   filtered_tb \u001b[38;5;241m=\u001b[39m _process_traceback_frames(e\u001b[38;5;241m.\u001b[39m__traceback__)\n\u001b[0;32m---> 67\u001b[0m   \u001b[38;5;28;01mraise\u001b[39;00m e\u001b[38;5;241m.\u001b[39mwith_traceback(filtered_tb) \u001b[38;5;28;01mfrom\u001b[39;00m \u001b[38;5;28;01mNone\u001b[39;00m\n\u001b[1;32m     68\u001b[0m \u001b[38;5;28;01mfinally\u001b[39;00m:\n\u001b[1;32m     69\u001b[0m   \u001b[38;5;28;01mdel\u001b[39;00m filtered_tb\n",
      "File \u001b[0;32m~/miniconda3/envs/env_NW/lib/python3.10/site-packages/keras/engine/training.py:1997\u001b[0m, in \u001b[0;36mModel.predict\u001b[0;34m(self, x, batch_size, verbose, steps, callbacks, max_queue_size, workers, use_multiprocessing)\u001b[0m\n\u001b[1;32m   1995\u001b[0m         callbacks\u001b[38;5;241m.\u001b[39mon_predict_batch_end(end_step, {\u001b[38;5;124m'\u001b[39m\u001b[38;5;124moutputs\u001b[39m\u001b[38;5;124m'\u001b[39m: batch_outputs})\n\u001b[1;32m   1996\u001b[0m   \u001b[38;5;28;01mif\u001b[39;00m batch_outputs \u001b[38;5;129;01mis\u001b[39;00m \u001b[38;5;28;01mNone\u001b[39;00m:\n\u001b[0;32m-> 1997\u001b[0m     \u001b[38;5;28;01mraise\u001b[39;00m \u001b[38;5;167;01mValueError\u001b[39;00m(\u001b[38;5;124m'\u001b[39m\u001b[38;5;124mUnexpected result of `predict_function` \u001b[39m\u001b[38;5;124m'\u001b[39m\n\u001b[1;32m   1998\u001b[0m                      \u001b[38;5;124m'\u001b[39m\u001b[38;5;124m(Empty batch_outputs). Please use \u001b[39m\u001b[38;5;124m'\u001b[39m\n\u001b[1;32m   1999\u001b[0m                      \u001b[38;5;124m'\u001b[39m\u001b[38;5;124m`Model.compile(..., run_eagerly=True)`, or \u001b[39m\u001b[38;5;124m'\u001b[39m\n\u001b[1;32m   2000\u001b[0m                      \u001b[38;5;124m'\u001b[39m\u001b[38;5;124m`tf.config.run_functions_eagerly(True)` for more \u001b[39m\u001b[38;5;124m'\u001b[39m\n\u001b[1;32m   2001\u001b[0m                      \u001b[38;5;124m'\u001b[39m\u001b[38;5;124minformation of where went wrong, or file a \u001b[39m\u001b[38;5;124m'\u001b[39m\n\u001b[1;32m   2002\u001b[0m                      \u001b[38;5;124m'\u001b[39m\u001b[38;5;124missue/bug to `tf.keras`.\u001b[39m\u001b[38;5;124m'\u001b[39m)\n\u001b[1;32m   2003\u001b[0m   callbacks\u001b[38;5;241m.\u001b[39mon_predict_end()\n\u001b[1;32m   2004\u001b[0m all_outputs \u001b[38;5;241m=\u001b[39m tf\u001b[38;5;241m.\u001b[39m__internal__\u001b[38;5;241m.\u001b[39mnest\u001b[38;5;241m.\u001b[39mmap_structure_up_to(batch_outputs, concat, outputs)\n",
      "\u001b[0;31mValueError\u001b[0m: Unexpected result of `predict_function` (Empty batch_outputs). Please use `Model.compile(..., run_eagerly=True)`, or `tf.config.run_functions_eagerly(True)` for more information of where went wrong, or file a issue/bug to `tf.keras`."
     ]
    }
   ],
   "source": [
    "datesequence = pd.date_range(start=\"2022-06-01\", end=\"2022-10-01\", freq=\"1D\")\n",
    "mean_std = pd.read_csv(os.path.join(data_dir, \"mean_std_train_val_t2022_v2024-11-25.csv\"))\n",
    "mean_std = mean_std.set_index(\"Unnamed: 0\")\n",
    "\n",
    "for d in datesequence:\n",
    "    date = d.strftime(\"%Y-%m-%d\")\n",
    "    # make the forecast\n",
    "    forecast = make_seven_day_forecast_control(d)\n",
    "    # calculate the values back from the transformed values\n",
    "    forecast[\"mean_1m_temp_degC\"] = calculate_vals(forecast[\"mean_1m_temp_degC\"], mean_std.loc[\"mean_1m_temp_degC\", \"mean\"], mean_std.loc[\"mean_1m_temp_degC\", \"std\"])\n",
    "    forecast[\"mean_0_5m_temp_degC\"] = calculate_vals(forecast[\"mean_0_5m_temp_degC\"], mean_std.loc[\"mean_0_5m_temp_degC\", \"mean\"], mean_std.loc[\"mean_0_5m_temp_degC\", \"std\"])\n",
    "    # save the forecast\n",
    "    forecast.to_csv(f\"~/Documents/GitHub/ats-data-driven-forecasting/run-operational/output/control/{date}_seven_day_control.csv\", index=False)\n",
    "    "
   ]
  }
 ],
 "metadata": {
  "kernelspec": {
   "display_name": "env_NW",
   "language": "python",
   "name": "python3"
  },
  "language_info": {
   "codemirror_mode": {
    "name": "ipython",
    "version": 3
   },
   "file_extension": ".py",
   "mimetype": "text/x-python",
   "name": "python",
   "nbconvert_exporter": "python",
   "pygments_lexer": "ipython3",
   "version": "3.10.8"
  }
 },
 "nbformat": 4,
 "nbformat_minor": 2
}
