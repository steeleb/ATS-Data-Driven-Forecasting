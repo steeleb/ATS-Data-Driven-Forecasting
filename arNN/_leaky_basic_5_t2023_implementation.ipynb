{
 "cells": [
  {
   "cell_type": "markdown",
   "metadata": {},
   "source": [
    "# Purpose\n",
    "\n",
    "This script is used to apply the 9 timseries cross-validation models to the the test data (for 2023). "
   ]
  },
  {
   "cell_type": "code",
   "execution_count": null,
   "metadata": {},
   "outputs": [],
   "source": [
    "#high level modules\n",
    "import os\n",
    "import imp\n",
    "import numpy as np\n",
    "import pandas as pd\n",
    "import matplotlib.pyplot as plt"
   ]
  },
  {
   "cell_type": "code",
   "execution_count": 2,
   "metadata": {},
   "outputs": [],
   "source": [
    "# custom modules\n",
    "this_dir = \"/Users/steeleb/Documents/GitHub/NASA-NW/modeling/temperature/arNN_fewer2/\"\n",
    "\n",
    "imp.load_source(\"universals\", os.path.join(this_dir, \"universal_functions.py\"))\n",
    "from universals import load_pickle_file, twotemp_labels_features_test, predict_2_values_test, return_test_error_metrics\n",
    "\n",
    "imp.load_source(\"vis\", os.path.join(this_dir, \"vis_functions.py\"))\n",
    "from vis import ts_plot, create_scatter_plot_test"
   ]
  },
  {
   "cell_type": "markdown",
   "metadata": {},
   "source": [
    "We need to read in the transformed test data, apply the models, and save the resictions."
   ]
  },
  {
   "cell_type": "code",
   "execution_count": 3,
   "metadata": {},
   "outputs": [],
   "source": [
    "# import test data\n",
    "file_path = os.path.expanduser(\"/Users/steeleb/Documents/GitHub/NASA-NW/data/NN_train_val_test/SMR_autoNN_reduce_2/\")\n",
    "\n",
    "test_fn = os.path.join(file_path, \"t2023_reduced_standardized_v2024-06-03.csv\")\n",
    "with open(test_fn) as f:\n",
    "    test = pd.read_csv(f, sep=',')"
   ]
  },
  {
   "cell_type": "markdown",
   "metadata": {},
   "source": [
    "And we need to filter this for our target date - Jul 1 through Sept 11."
   ]
  },
  {
   "cell_type": "code",
   "execution_count": 4,
   "metadata": {},
   "outputs": [],
   "source": [
    "# arrange the data by date\n",
    "test['date'] = pd.to_datetime(test['date'])\n",
    "test = test.sort_values(by='date')\n",
    "test = test.loc[test['date'].between('2023-07-01', '2023-09-11')]"
   ]
  },
  {
   "cell_type": "markdown",
   "metadata": {},
   "source": [
    "Now we need to apply the models to the test data, but first we need to format the data for the models"
   ]
  },
  {
   "cell_type": "code",
   "execution_count": null,
   "metadata": {},
   "outputs": [],
   "source": [
    "test_features, test_labels = twotemp_labels_features_test(test)\n",
    "test_features.shape, test_labels.shape"
   ]
  },
  {
   "cell_type": "markdown",
   "metadata": {},
   "source": [
    "Load the models"
   ]
  },
  {
   "cell_type": "code",
   "execution_count": 6,
   "metadata": {},
   "outputs": [],
   "source": [
    "# load the models\n",
    "model_dir = '/Users/steeleb/Documents/GitHub/NASA-NW/data/NN_train_val_test/SMR_autoNN_reduce_2/models/leaky_basic_5_t2023/'\n",
    "\n",
    "models = [f for f in os.listdir(model_dir) if 'history' not in f]\n",
    "\n",
    "model_1 = load_pickle_file(models[0], model_dir)\n",
    "model_2 = load_pickle_file(models[1], model_dir)\n",
    "model_3 = load_pickle_file(models[2], model_dir)\n",
    "model_4 = load_pickle_file(models[3], model_dir)\n",
    "model_5 = load_pickle_file(models[4], model_dir)\n",
    "model_6 = load_pickle_file(models[5], model_dir)\n",
    "model_7 = load_pickle_file(models[6], model_dir)\n",
    "model_8 = load_pickle_file(models[7], model_dir)\n",
    "model_9 = load_pickle_file(models[8], model_dir)\n"
   ]
  },
  {
   "cell_type": "markdown",
   "metadata": {},
   "source": [
    "Now we need to apply the models to the test data and get the resictions, for which we also need the standarization parameters to back calculate."
   ]
  },
  {
   "cell_type": "code",
   "execution_count": null,
   "metadata": {},
   "outputs": [],
   "source": [
    "transform = pd.read_csv(os.path.join(\"/Users/steeleb/Documents/GitHub/NASA-NW/data/NN_train_val_test/SMR_autoNN_reduce_2/\", \"mean_std_train_val_t2023_v2024-05-21.csv\"), sep=',')\n",
    "transform = transform.rename(columns={\"Unnamed: 0\": \"feature\"}).set_index(\"feature\")\n",
    "\n",
    "t_mean_1m = transform['mean'].get('mean_1m_temp_degC')\n",
    "t_std_1m = transform['std'].get('mean_1m_temp_degC')\n",
    "\n",
    "t_mean_05m = transform['mean'].get('mean_0_5m_temp_degC')\n",
    "t_std_05m = transform['std'].get('mean_0_5m_temp_degC')\n",
    "\n",
    "test[\"pred_1m_1\"], test[\"pred_05m_1\"] = predict_2_values_test(model_1, test_features, t_mean_1m, t_mean_05m, t_std_1m, t_std_05m)\n",
    "test[\"pred_1m_2\"], test[\"pred_05m_2\"] = predict_2_values_test(model_2, test_features, t_mean_1m, t_mean_05m, t_std_1m, t_std_05m)\n",
    "test[\"pred_1m_3\"], test[\"pred_05m_3\"] = predict_2_values_test(model_3, test_features, t_mean_1m, t_mean_05m, t_std_1m, t_std_05m)\n",
    "test[\"pred_1m_4\"], test[\"pred_05m_4\"] = predict_2_values_test(model_4, test_features, t_mean_1m, t_mean_05m, t_std_1m, t_std_05m)\n",
    "test[\"pred_1m_5\"], test[\"pred_05m_5\"] = predict_2_values_test(model_5, test_features, t_mean_1m, t_mean_05m, t_std_1m, t_std_05m)\n",
    "test[\"pred_1m_6\"], test[\"pred_05m_6\"] = predict_2_values_test(model_6, test_features, t_mean_1m, t_mean_05m, t_std_1m, t_std_05m)\n",
    "test[\"pred_1m_7\"], test[\"pred_05m_7\"] = predict_2_values_test(model_7, test_features, t_mean_1m, t_mean_05m, t_std_1m, t_std_05m)\n",
    "test[\"pred_1m_8\"], test[\"pred_05m_8\"] = predict_2_values_test(model_8, test_features, t_mean_1m, t_mean_05m, t_std_1m, t_std_05m)\n",
    "test[\"pred_1m_9\"], test[\"pred_05m_9\"] = predict_2_values_test(model_9, test_features, t_mean_1m, t_mean_05m, t_std_1m, t_std_05m)"
   ]
  },
  {
   "cell_type": "markdown",
   "metadata": {},
   "source": [
    "And now, let's make the ensemble prediction to assess the model performance."
   ]
  },
  {
   "cell_type": "code",
   "execution_count": 8,
   "metadata": {},
   "outputs": [],
   "source": [
    "test[\"ts_cv_ensemble_pred_1m\"] = np.mean(test[['pred_1m_1', 'pred_1m_2', 'pred_1m_3', 'pred_1m_4', 'pred_1m_5', 'pred_1m_6', 'pred_1m_7', 'pred_1m_8']], axis=1)\n",
    "test[\"ts_cv_ensemble_pred_05m\"] = np.mean(test[['pred_05m_1', 'pred_05m_2', 'pred_05m_3', 'pred_05m_4', 'pred_05m_5', 'pred_05m_6', 'pred_05m_7', 'pred_05m_8']], axis=1)"
   ]
  },
  {
   "cell_type": "markdown",
   "metadata": {},
   "source": [
    "In order to compare these with the actual values, we need to load the actual values and calculate the performance metrics. To do this, we will back-calculate using the mean and standard deviation."
   ]
  },
  {
   "cell_type": "code",
   "execution_count": 9,
   "metadata": {},
   "outputs": [],
   "source": [
    "test['mean_1m_temp_degC'] = test['mean_1m_temp_degC'] * t_std_1m + t_mean_1m\n",
    "test['mean_0_5m_temp_degC'] = test['mean_0_5m_temp_degC'] * t_std_05m + t_mean_05m"
   ]
  },
  {
   "cell_type": "markdown",
   "metadata": {},
   "source": [
    "Let's look at the data from 1m first:"
   ]
  },
  {
   "cell_type": "code",
   "execution_count": null,
   "metadata": {},
   "outputs": [],
   "source": [
    "return_test_error_metrics(test[\"mean_1m_temp_degC\"], test[\"ts_cv_ensemble_pred_1m\"])"
   ]
  },
  {
   "cell_type": "markdown",
   "metadata": {},
   "source": [
    "And then the data from 0-5m:"
   ]
  },
  {
   "cell_type": "code",
   "execution_count": null,
   "metadata": {},
   "outputs": [],
   "source": [
    "return_test_error_metrics(test[\"mean_0_5m_temp_degC\"], test[\"ts_cv_ensemble_pred_05m\"])"
   ]
  },
  {
   "cell_type": "markdown",
   "metadata": {},
   "source": [
    "Let's look at this in context of the data:"
   ]
  },
  {
   "cell_type": "code",
   "execution_count": null,
   "metadata": {},
   "outputs": [],
   "source": [
    "create_scatter_plot_test(\"1m Temp Ensemble\", test[\"ts_cv_ensemble_pred_1m\"], test[\"mean_1m_temp_degC\"])\n",
    "create_scatter_plot_test(\"0-05m Temp Ensemble\", test[\"ts_cv_ensemble_pred_05m\"], test[\"mean_0_5m_temp_degC\"])"
   ]
  },
  {
   "cell_type": "code",
   "execution_count": null,
   "metadata": {},
   "outputs": [],
   "source": [
    "ts_plot(test[\"mean_1m_temp_degC\"], test[\"ts_cv_ensemble_pred_1m\"], \"1m Temp Ensemble\")\n",
    "ts_plot(test[\"mean_0_5m_temp_degC\"], test[\"ts_cv_ensemble_pred_05m\"], \"0-5m Temp Ensemble\")\n"
   ]
  },
  {
   "cell_type": "code",
   "execution_count": null,
   "metadata": {},
   "outputs": [],
   "source": [
    "plt.figure(figsize=(10,4))\n",
    "plt.plot(test['date'], test[\"pred_1m_1\"], label=\"Individual Models\", color='grey')\n",
    "plt.plot(test['date'], test[\"pred_1m_2\"], color='grey')\n",
    "plt.plot(test['date'], test[\"pred_1m_3\"], color='grey')\n",
    "plt.plot(test['date'], test[\"pred_1m_4\"], color='grey')\n",
    "plt.plot(test['date'], test[\"pred_1m_5\"], color='grey')\n",
    "plt.plot(test['date'], test[\"pred_1m_6\"], color='grey')\n",
    "plt.plot(test['date'], test[\"pred_1m_7\"], color='grey')\n",
    "plt.plot(test['date'], test[\"pred_1m_8\"], color='grey')\n",
    "plt.plot(test['date'], test[\"pred_1m_9\"], color='grey')\n",
    "plt.plot(test['date'], test[\"ts_cv_ensemble_pred_1m\"], label=\"Ensemble Mean\", color='blue')\n",
    "plt.plot(test['date'], test[\"mean_1m_temp_degC\"], label=\"Observed\", color='red')\n",
    "plt.xlabel(\"date\")\n",
    "plt.ylabel(\"Temperature ($^\\circ$C)\")\n",
    "plt.legend()\n",
    "plt.title(\"All models and ensemble mean for 1m temperature\")\n",
    "plt.show()"
   ]
  },
  {
   "cell_type": "code",
   "execution_count": null,
   "metadata": {},
   "outputs": [],
   "source": [
    "plt.figure(figsize=(10,4))\n",
    "plt.plot(test['date'], test[\"pred_05m_1\"], label=\"Individual Models\", color='grey')\n",
    "plt.plot(test['date'], test[\"pred_05m_2\"], color='grey')\n",
    "plt.plot(test['date'], test[\"pred_05m_3\"], color='grey')\n",
    "plt.plot(test['date'], test[\"pred_05m_4\"], color='grey')\n",
    "plt.plot(test['date'], test[\"pred_05m_5\"], color='grey')\n",
    "plt.plot(test['date'], test[\"pred_05m_6\"], color='grey')\n",
    "plt.plot(test['date'], test[\"pred_05m_7\"], color='grey')\n",
    "plt.plot(test['date'], test[\"pred_05m_8\"], color='grey')\n",
    "plt.plot(test['date'], test[\"pred_05m_9\"], color='grey')\n",
    "plt.plot(test['date'], test[\"ts_cv_ensemble_pred_05m\"], label=\"Ensemble Mean\", color='blue')\n",
    "plt.plot(test['date'], test[\"mean_0_5m_temp_degC\"], label=\"Observed\", color='red')\n",
    "plt.xlabel(\"date\")\n",
    "plt.ylabel(\"Temperature ($^\\circ$C)\")\n",
    "plt.legend()\n",
    "plt.title(\"All models and ensemble mean for 0-5m temperature\")\n",
    "plt.show()"
   ]
  },
  {
   "cell_type": "markdown",
   "metadata": {},
   "source": [
    "These actually look quite good. While the model doesn't capture the highest values at 1m, there were zero instances in the training/validation set with values that high, so it's not surprising that the model doesn't capture them. The model does a good job of capturing the general trends in the data and does very well with the high 0-5m values.\n",
    "\n",
    "Let's look at the error metrics for the models:\n",
    "\n",
    "1m results:\n",
    "\n",
    "Mean Squared Error: 0.32\n",
    "\n",
    "Mean Absolute Error: 0.48\n",
    "\n",
    "Root Mean Squared Error: 0.56\n",
    "\n",
    "Mean Absolute Percentage Error: 0.03\n",
    "\n",
    "\n",
    "0-5m results:\n",
    "\n",
    "Mean Squared Error: 0.10\n",
    "\n",
    "Mean Absolute Error: 0.25\n",
    "\n",
    "Root Mean Squared Error: 0.32\n",
    "\n",
    "Mean Absolute Percentage Error: 0.02\n",
    "\n",
    "\n",
    "Baseline:\n",
    "\n",
    "1m baseline\n",
    "\n",
    "Mean Squared Error for 1m baseline : 0.24\n",
    "\n",
    "Mean Absolute Error for 1m baseline : 0.40\n",
    "\n",
    "0-5m baseline:\n",
    "\n",
    "Mean Squared Error for 0-5m baseline : 0.11\n",
    "\n",
    "Mean Absolute Error for 0-5m baseline : 0.28"
   ]
  },
  {
   "cell_type": "markdown",
   "metadata": {},
   "source": [
    "## Create timeseries residual plot\n",
    "\n",
    "Calculate residuals"
   ]
  },
  {
   "cell_type": "code",
   "execution_count": 16,
   "metadata": {},
   "outputs": [],
   "source": [
    "test['res_1m_1'] = test['pred_1m_1'] - test['mean_1m_temp_degC']\n",
    "test['res_1m_2'] = test['pred_1m_2'] - test['mean_1m_temp_degC']\n",
    "test['res_1m_3'] = test['pred_1m_3'] - test['mean_1m_temp_degC']\n",
    "test['res_1m_4'] = test['pred_1m_4'] - test['mean_1m_temp_degC']\n",
    "test['res_1m_5'] = test['pred_1m_5'] - test['mean_1m_temp_degC']\n",
    "test['res_1m_6'] = test['pred_1m_6'] - test['mean_1m_temp_degC']\n",
    "test['res_1m_7'] = test['pred_1m_7'] - test['mean_1m_temp_degC']\n",
    "test['res_1m_8'] = test['pred_1m_8'] - test['mean_1m_temp_degC']\n",
    "test['res_1m_9'] = test['pred_1m_9'] - test['mean_1m_temp_degC']\n",
    "test['res_1m_ensemble'] = test['ts_cv_ensemble_pred_1m'] - test['mean_1m_temp_degC']\n",
    "\n",
    "test['res_05m_1'] = test['pred_05m_1'] - test['mean_0_5m_temp_degC']\n",
    "test['res_05m_2'] = test['pred_05m_2'] - test['mean_0_5m_temp_degC']\n",
    "test['res_05m_3'] = test['pred_05m_3'] - test['mean_0_5m_temp_degC']\n",
    "test['res_05m_4'] = test['pred_05m_4'] - test['mean_0_5m_temp_degC']\n",
    "test['res_05m_5'] = test['pred_05m_5'] - test['mean_0_5m_temp_degC']\n",
    "test['res_05m_6'] = test['pred_05m_6'] - test['mean_0_5m_temp_degC']\n",
    "test['res_05m_7'] = test['pred_05m_7'] - test['mean_0_5m_temp_degC']\n",
    "test['res_05m_8'] = test['pred_05m_8'] - test['mean_0_5m_temp_degC']\n",
    "test['res_05m_9'] = test['pred_05m_9'] - test['mean_0_5m_temp_degC']\n",
    "test['res_05m_ensemble'] = test['ts_cv_ensemble_pred_05m'] - test['mean_0_5m_temp_degC']\n"
   ]
  },
  {
   "cell_type": "code",
   "execution_count": null,
   "metadata": {},
   "outputs": [],
   "source": [
    "yit = test.filter(['mean_0_5m_temp_degC', 'mean_1m_temp_degC'])\n",
    "yit = yit.shift(periods=1).rename(columns={'mean_0_5m_temp_degC': 'yit_mean_0_5m_temp_degC', \n",
    "                                     'mean_1m_temp_degC': 'yit_mean_1m_temp_degC'})\n",
    "print(yit)\n",
    "test = pd.concat([test, yit], axis=1)\n",
    "test['res_yit_0_5m'] = test['yit_mean_0_5m_temp_degC'] - test['mean_0_5m_temp_degC']\n",
    "test['res_yit_1m'] = test['yit_mean_1m_temp_degC'] - test['mean_1m_temp_degC']\n"
   ]
  },
  {
   "cell_type": "code",
   "execution_count": null,
   "metadata": {},
   "outputs": [],
   "source": [
    "plt.figure(figsize=(10,4))\n",
    "plt.axhline(0, color = 'black')\n",
    "plt.plot(test['date'], test[\"res_05m_1\"], label=\"Individual models\", color='grey')\n",
    "plt.plot(test['date'], test[\"res_05m_2\"], color='grey')\n",
    "plt.plot(test['date'], test[\"res_05m_3\"], color='grey')\n",
    "plt.plot(test['date'], test[\"res_05m_4\"], color='grey')\n",
    "plt.plot(test['date'], test[\"res_05m_5\"], color='grey')\n",
    "plt.plot(test['date'], test[\"res_05m_6\"], color='grey')\n",
    "plt.plot(test['date'], test[\"res_05m_7\"], color='grey')\n",
    "plt.plot(test['date'], test[\"res_05m_8\"], color='grey')\n",
    "plt.plot(test['date'], test[\"res_05m_9\"], color='grey')\n",
    "plt.plot(test['date'], test[\"res_05m_ensemble\"], label=\"Ensemble mean\", color='red')\n",
    "#plt.plot(test['date'], test[\"res_yit_0_5m\"], label = \"yesterday-is-today\", color = 'blue')\n",
    "plt.ylabel(\"Model Residual ($^\\circ$C)\")\n",
    "plt.legend(ncols = 3)\n",
    "plt.title(\"Residuals for 0-5m temperature\")\n",
    "plt.show()"
   ]
  },
  {
   "cell_type": "code",
   "execution_count": null,
   "metadata": {},
   "outputs": [],
   "source": [
    "plt.figure(figsize=(10,4))\n",
    "plt.axhline(0, color = 'black')\n",
    "plt.plot(test['date'], test[\"res_1m_1\"], label=\"Individual models\", color='grey')\n",
    "plt.plot(test['date'], test[\"res_1m_2\"], color='grey')\n",
    "plt.plot(test['date'], test[\"res_1m_3\"], color='grey')\n",
    "plt.plot(test['date'], test[\"res_1m_4\"], color='grey')\n",
    "plt.plot(test['date'], test[\"res_1m_5\"], color='grey')\n",
    "plt.plot(test['date'], test[\"res_1m_6\"], color='grey')\n",
    "plt.plot(test['date'], test[\"res_1m_7\"], color='grey')\n",
    "plt.plot(test['date'], test[\"res_1m_8\"], color='grey')\n",
    "plt.plot(test['date'], test[\"res_1m_9\"], color='grey')\n",
    "plt.plot(test['date'], test[\"res_1m_ensemble\"], label=\"Ensemble mean\", color='red')\n",
    "#plt.plot(test['date'], test[\"res_yit_1m\"], label = \"yesterday-is-today\", color = 'blue')\n",
    "plt.ylabel(\"Model Residual ($^\\circ$C)\")\n",
    "plt.legend(ncols = 3)\n",
    "plt.title(\"Residuals for 1m temperature\")\n",
    "plt.show()"
   ]
  }
 ],
 "metadata": {
  "kernelspec": {
   "display_name": "env_NW",
   "language": "python",
   "name": "python3"
  },
  "language_info": {
   "codemirror_mode": {
    "name": "ipython",
    "version": 3
   },
   "file_extension": ".py",
   "mimetype": "text/x-python",
   "name": "python",
   "nbconvert_exporter": "python",
   "pygments_lexer": "ipython3",
   "version": "3.10.8"
  }
 },
 "nbformat": 4,
 "nbformat_minor": 2
}
